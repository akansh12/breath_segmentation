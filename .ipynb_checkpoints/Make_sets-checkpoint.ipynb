{
 "cells": [
  {
   "cell_type": "code",
   "execution_count": 1,
   "metadata": {},
   "outputs": [],
   "source": [
    "import pandas as pd\n",
    "import os\n",
    "import numpy as np"
   ]
  },
  {
   "cell_type": "code",
   "execution_count": 2,
   "metadata": {},
   "outputs": [],
   "source": [
    "import random"
   ]
  },
  {
   "cell_type": "code",
   "execution_count": 4,
   "metadata": {},
   "outputs": [],
   "source": [
    "list_ = pd.read_csv(\"./188_wheeze.txt\", header=None, delimiter=\"\\t\")"
   ]
  },
  {
   "cell_type": "code",
   "execution_count": 19,
   "metadata": {},
   "outputs": [],
   "source": [
    "def train_test_set(Asthmatic_Female, Asthmatic_Male, Healthy_Female, Healthy_Male, before_after):\n",
    "    random.seed(0)\n",
    "    test_set = np.concatenate(((np.random.choice(np.array(Asthmatic_Male), replace=False, size=(7)),\n",
    "                                np.random.choice(np.array(Asthmatic_Female), replace=False, size=(7)),\n",
    "                                np.random.choice(np.array(Healthy_Male), replace=False, size=(7)),\n",
    "                                np.random.choice(np.array(Healthy_Female), replace=False, size=(7)))))\n",
    "    train_set = np.concatenate((np.array(Asthmatic_Male),\n",
    "                                np.array(Asthmatic_Female),\n",
    "                                np.array(Healthy_Male),\n",
    "                                np.array(Healthy_Female)))\n",
    "    train_set = np.setdiff1d(train_set,test_set)\n",
    "#     np.array(before_after).shape\n",
    "    train_set = np.concatenate((train_set, np.array(before_after)))\n",
    "    return train_set, test_set"
   ]
  },
  {
   "cell_type": "code",
   "execution_count": 20,
   "metadata": {},
   "outputs": [],
   "source": [
    "def train_test_txt(sound_dataframe):\n",
    "#     sound_dataframe = list_\n",
    "    Total = np.unique(sound_dataframe.iloc[:,sound_dataframe.shape[1]-1])\n",
    "    name = []\n",
    "    for i in Total:\n",
    "        name.append(i[:4])\n",
    "\n",
    "    unique = []\n",
    "    before_after = []\n",
    "    for i in Total:\n",
    "        if np.sum((np.array(name, dtype = int) == int(i[:4]))) == 1:\n",
    "            unique.append(i)\n",
    "        else:\n",
    "            before_after.append(i) \n",
    "\n",
    "    Asthmatic_Female = []\n",
    "    Asthmatic_Male = []\n",
    "    Healthy_Male = []\n",
    "    Healthy_Female = []\n",
    "    for file in unique:\n",
    "        if file.find('sthma') !=-1:\n",
    "            if file.find(\"_M_\")!=-1:\n",
    "                Asthmatic_Male.append(file)\n",
    "            if file.find(\"_F_\")!=-1:\n",
    "                Asthmatic_Female.append(file)\n",
    "        if file.find(\"_C_\")!=-1:\n",
    "            if file.find(\"_M_\")!=-1:\n",
    "                Healthy_Male.append(file)\n",
    "            if file.find(\"_F_\")!=-1:\n",
    "                Healthy_Female.append(file)\n",
    "\n",
    "\n",
    "\n",
    "    Train, Test = train_test_set(Asthmatic_Female, Asthmatic_Male, Healthy_Female, Healthy_Male, before_after)\n",
    "    \n",
    "    return Train, Test"
   ]
  },
  {
   "cell_type": "code",
   "execution_count": 26,
   "metadata": {},
   "outputs": [],
   "source": [
    "for i in range(0,10):\n",
    "    Train, Test = train_test_txt(list_)\n",
    "    np.savetxt(f\"./Wheeze_sets/Train/Train_{i}.txt\",Train, '%s')\n",
    "    np.savetxt(f\"./Wheeze_sets/Test/Test_{i}.txt\",Test, '%s')"
   ]
  },
  {
   "cell_type": "code",
   "execution_count": null,
   "metadata": {},
   "outputs": [],
   "source": []
  },
  {
   "cell_type": "markdown",
   "metadata": {},
   "source": [
    "### Breath"
   ]
  },
  {
   "cell_type": "code",
   "execution_count": 14,
   "metadata": {},
   "outputs": [],
   "source": [
    "# np.savetxt(\"./all_breath.txt\",pd.read_csv(\"./breath_csv/Breath_0.csv\").iloc[:,73].values, '%s')"
   ]
  },
  {
   "cell_type": "code",
   "execution_count": 16,
   "metadata": {},
   "outputs": [],
   "source": [
    "list_b = pd.read_csv(\"./all_breath(258).txt\", header=None, delimiter=\"\\t\")"
   ]
  },
  {
   "cell_type": "code",
   "execution_count": 21,
   "metadata": {},
   "outputs": [],
   "source": [
    "for i in range(0,10):\n",
    "    Train, Test = train_test_txt(list_b)\n",
    "    np.savetxt(f\"./breath_sets/Train/Train_{i}.txt\",Train, '%s')\n",
    "    np.savetxt(f\"./breath_sets/Test/Test_{i}.txt\",Test, '%s')"
   ]
  },
  {
   "cell_type": "code",
   "execution_count": null,
   "metadata": {},
   "outputs": [],
   "source": []
  },
  {
   "cell_type": "code",
   "execution_count": null,
   "metadata": {},
   "outputs": [],
   "source": []
  }
 ],
 "metadata": {
  "kernelspec": {
   "display_name": "Python 3",
   "language": "python",
   "name": "python3"
  },
  "language_info": {
   "codemirror_mode": {
    "name": "ipython",
    "version": 3
   },
   "file_extension": ".py",
   "mimetype": "text/x-python",
   "name": "python",
   "nbconvert_exporter": "python",
   "pygments_lexer": "ipython3",
   "version": "3.7.3"
  }
 },
 "nbformat": 4,
 "nbformat_minor": 2
}
