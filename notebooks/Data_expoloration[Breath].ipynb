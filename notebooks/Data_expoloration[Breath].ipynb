{
 "cells": [
  {
   "cell_type": "code",
   "execution_count": 2,
   "metadata": {},
   "outputs": [],
   "source": [
    "import pandas as pd\n",
    "import numpy as np\n",
    "import matplotlib.pyplot as plt\n",
    "import torch\n",
    "import os"
   ]
  },
  {
   "cell_type": "code",
   "execution_count": 3,
   "metadata": {},
   "outputs": [],
   "source": [
    "ann_list = [i for i in os.listdir(\"./\") if i.endswith(\".txt\")]"
   ]
  },
  {
   "cell_type": "code",
   "execution_count": 6,
   "metadata": {},
   "outputs": [],
   "source": [
    "from tqdm.auto import tqdm"
   ]
  },
  {
   "cell_type": "code",
   "execution_count": null,
   "metadata": {},
   "outputs": [],
   "source": []
  },
  {
   "cell_type": "code",
   "execution_count": null,
   "metadata": {},
   "outputs": [],
   "source": [
    "waste = []\n",
    "for i in tqdm(ann_list):\n",
    "    A = pd.read_csv(i, sep=\"\\t\", header=None)\n",
    "    B = pd.DataFrame()\n",
    "    try:\n",
    "        labels = A.iloc[:,2]\n",
    "        for j in range(0,len(labels)):\n",
    "            if labels[j].find(\"nhale\") != -1:\n",
    "                if labels[j+1].find(\"xhale\") != -1:\n",
    "                    B = B.append(A.iloc[j])\n",
    "                    B = B.append(A.iloc[j+1])\n",
    "                elif labels[j+1].find(\"heeze\") != -1:\n",
    "                    if labels[j+2].find(\"xhale\") != -1:\n",
    "                        B = B.append(A.iloc[j])\n",
    "                        B = B.append(A.iloc[j+2])\n",
    "        if B.shape[0] != 0:\n",
    "                C = pd.DataFrame(np.zeros((B.shape[0]//2,3)))\n",
    "                C[0] = list(B[0])[::2]\n",
    "                C[1] = list(B[1])[1::2]\n",
    "                C[2] = 'Breath'\n",
    "        else:\n",
    "            waste.append(i)\n",
    "    except:\n",
    "        waste.append(i)"
   ]
  },
  {
   "cell_type": "code",
   "execution_count": 26,
   "metadata": {},
   "outputs": [
    {
     "data": {
      "application/vnd.jupyter.widget-view+json": {
       "model_id": "f25ae2c15a0643cc8460fa6345b3c569",
       "version_major": 2,
       "version_minor": 0
      },
      "text/plain": [
       "  0%|          | 0/285 [00:00<?, ?it/s]"
      ]
     },
     "metadata": {},
     "output_type": "display_data"
    }
   ],
   "source": [
    "number_inhale = 0\n",
    "length_inhale = 0\n",
    "number_exhale = 0\n",
    "length_exhale = 0\n",
    "subjects = 0\n",
    "waste = []\n",
    "for i in tqdm(ann_list):\n",
    "    A = pd.read_csv(i, sep=\"\\t\", header=None)\n",
    "    A.dropna(inplace=True)\n",
    "    A.reset_index(drop=True, inplace=True)\n",
    "    B = pd.DataFrame()\n",
    "    try:\n",
    "        labels = A.iloc[:,2]\n",
    "        for j in range(0,len(labels)):\n",
    "            if labels[j].find(\"nhale\") != -1:\n",
    "                if labels[j+1].find(\"xhale\") != -1:\n",
    "                    B = B.append(A.iloc[j])\n",
    "                    B = B.append(A.iloc[j+1])\n",
    "                elif labels[j+1].find(\"heeze\") != -1:\n",
    "                    if labels[j+2].find(\"xhale\") != -1:\n",
    "                        B = B.append(A.iloc[j])\n",
    "                        B = B.append(A.iloc[j+2])\n",
    "                        \n",
    "        if B.shape[0] != 0:\n",
    "            B.loc[:,3] = B.loc[:,1] - B.loc[:,0]\n",
    "            number_inhale += len(B[::2])\n",
    "            number_exhale += len(B[1::2])\n",
    "            length_inhale += np.sum(B[::2][3])\n",
    "            length_exhale += np.sum(B[1::2][3])\n",
    "            subjects +=1\n",
    "            \n",
    "        else:\n",
    "            waste.append(i)\n",
    "    except:\n",
    "        waste.append(i)\n",
    "        \n",
    "    \n",
    "    \n",
    "    \n",
    "    \n",
    "\n"
   ]
  },
  {
   "cell_type": "code",
   "execution_count": null,
   "metadata": {},
   "outputs": [],
   "source": []
  },
  {
   "cell_type": "code",
   "execution_count": 36,
   "metadata": {},
   "outputs": [
    {
     "name": "stdout",
     "output_type": "stream",
     "text": [
      "Average Inhale Length: 1.3595648244047627\n",
      "Average Exhale Length: 1.746379034438776\n",
      "Average Inhale per subject: 8\n",
      "Average Exhale per subject: 8\n"
     ]
    }
   ],
   "source": [
    "print(f\"Average Inhale Length: {length_inhale/number_inhale}\")\n",
    "print(f\"Average Exhale Length: {length_exhale/number_exhale}\")\n",
    "print(f\"Average Inhale per subject: {number_inhale//subjects}\")\n",
    "print(f\"Average Exhale per subject: {number_exhale//subjects}\")"
   ]
  },
  {
   "cell_type": "code",
   "execution_count": 49,
   "metadata": {},
   "outputs": [
    {
     "data": {
      "application/vnd.jupyter.widget-view+json": {
       "model_id": "5d5b255adb2c4afd8bdcf6ec13d9d464",
       "version_major": 2,
       "version_minor": 0
      },
      "text/plain": [
       "  0%|          | 0/275 [00:00<?, ?it/s]"
      ]
     },
     "metadata": {},
     "output_type": "display_data"
    }
   ],
   "source": [
    "number_breath = 0\n",
    "length_breath = 0\n",
    "subjects = 0\n",
    "for i in tqdm(breath_ann):\n",
    "    A = pd.read_csv(\"breathe_annotations_exp_5/\" + i , sep = \"\\t\", header= None)\n",
    "    A.loc[:,3] = A.loc[:,1] - A.loc[:,0]\n",
    "    number_breath += len(A)\n",
    "    length_breath += np.sum(A.loc[:,3])\n",
    "    subjects += 1 \n",
    "    "
   ]
  },
  {
   "cell_type": "code",
   "execution_count": 57,
   "metadata": {},
   "outputs": [
    {
     "name": "stdout",
     "output_type": "stream",
     "text": [
      "Average Length of Breath: 3.2499779835998353\n",
      "Average Breath Cycle per subject: 8\n"
     ]
    }
   ],
   "source": [
    "print(f\"Average Length of Breath: {length_breath/number_breath}\")\n",
    "print(f\"Average Breath Cycle per subject: {number_breath//subjects}\")"
   ]
  },
  {
   "cell_type": "code",
   "execution_count": null,
   "metadata": {},
   "outputs": [],
   "source": []
  }
 ],
 "metadata": {
  "kernelspec": {
   "display_name": "Python 3",
   "language": "python",
   "name": "python3"
  },
  "language_info": {
   "codemirror_mode": {
    "name": "ipython",
    "version": 3
   },
   "file_extension": ".py",
   "mimetype": "text/x-python",
   "name": "python",
   "nbconvert_exporter": "python",
   "pygments_lexer": "ipython3",
   "version": "3.7.3"
  }
 },
 "nbformat": 4,
 "nbformat_minor": 2
}
