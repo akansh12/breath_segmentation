{
 "cells": [
  {
   "cell_type": "code",
   "execution_count": 1,
   "metadata": {},
   "outputs": [],
   "source": [
    "from sklearn.utils import shuffle\n",
    "import sklearn \n",
    "from sklearn import svm, tree, linear_model, neighbors, naive_bayes, ensemble, discriminant_analysis, gaussian_process\n",
    "from xgboost import XGBClassifier\n",
    "from sklearn import feature_selection\n",
    "from sklearn import model_selection\n",
    "from sklearn import metrics\n",
    "from sklearn.preprocessing import StandardScaler"
   ]
  },
  {
   "cell_type": "code",
   "execution_count": 32,
   "metadata": {},
   "outputs": [],
   "source": [
    "from tqdm import tqdm"
   ]
  },
  {
   "cell_type": "code",
   "execution_count": 2,
   "metadata": {},
   "outputs": [],
   "source": [
    "import warnings\n",
    "warnings.filterwarnings('ignore')"
   ]
  },
  {
   "cell_type": "code",
   "execution_count": 3,
   "metadata": {},
   "outputs": [],
   "source": [
    "import os\n",
    "import pandas as pd\n",
    "import numpy as np\n",
    "import random"
   ]
  },
  {
   "cell_type": "code",
   "execution_count": 4,
   "metadata": {},
   "outputs": [],
   "source": [
    "random.seed(0)"
   ]
  },
  {
   "cell_type": "code",
   "execution_count": 5,
   "metadata": {},
   "outputs": [],
   "source": [
    "import matplotlib.pyplot as plt"
   ]
  },
  {
   "cell_type": "code",
   "execution_count": 6,
   "metadata": {},
   "outputs": [],
   "source": [
    "import pickle\n"
   ]
  },
  {
   "cell_type": "code",
   "execution_count": 7,
   "metadata": {},
   "outputs": [],
   "source": [
    "def train_test_set(Asthmatic_Female, Asthmatic_Male, Healthy_Female, Healthy_Male, before_after):\n",
    "    random.seed(0)\n",
    "    test_set = np.concatenate(((np.random.choice(np.array(Asthmatic_Male), replace=False, size=(7)),\n",
    "                                np.random.choice(np.array(Asthmatic_Female), replace=False, size=(7)),\n",
    "                                np.random.choice(np.array(Healthy_Male), replace=False, size=(7)),\n",
    "                                np.random.choice(np.array(Healthy_Female), replace=False, size=(7)))))\n",
    "    train_set = np.concatenate((np.array(Asthmatic_Male),\n",
    "                                np.array(Asthmatic_Female),\n",
    "                                np.array(Healthy_Male),\n",
    "                                np.array(Healthy_Female)))\n",
    "    train_set = np.setdiff1d(train_set,test_set)\n",
    "#     np.array(before_after).shape\n",
    "    train_set = np.concatenate((train_set, np.array(before_after)))\n",
    "    return train_set, test_set"
   ]
  },
  {
   "cell_type": "code",
   "execution_count": 114,
   "metadata": {},
   "outputs": [],
   "source": [
    "Breath_dataframe = pd.read_csv(\"./breath_csv/Breath.csv\")\n",
    "Breath_1_dataframe = pd.read_csv(\"./breath_csv/Breath_1.csv\")\n",
    "Breath_2_dataframe = pd.read_csv(\"./breath_csv/Breath_2.csv\")\n",
    "Breath_3_dataframe = pd.read_csv(\"./breath_csv/Breath_3.csv\")"
   ]
  },
  {
   "cell_type": "markdown",
   "metadata": {},
   "source": [
    "### DATA_STATS"
   ]
  },
  {
   "cell_type": "code",
   "execution_count": 9,
   "metadata": {},
   "outputs": [
    {
     "name": "stdout",
     "output_type": "stream",
     "text": [
      "(2306, 74)\n",
      "(2306, 74)\n",
      "(2306, 74)\n"
     ]
    }
   ],
   "source": [
    "print(Breath_1_dataframe.shape)\n",
    "print(Breath_2_dataframe.shape)\n",
    "print(Breath_3_dataframe.shape)"
   ]
  },
  {
   "cell_type": "code",
   "execution_count": 26,
   "metadata": {},
   "outputs": [
    {
     "data": {
      "text/html": [
       "<div>\n",
       "<style scoped>\n",
       "    .dataframe tbody tr th:only-of-type {\n",
       "        vertical-align: middle;\n",
       "    }\n",
       "\n",
       "    .dataframe tbody tr th {\n",
       "        vertical-align: top;\n",
       "    }\n",
       "\n",
       "    .dataframe thead th {\n",
       "        text-align: right;\n",
       "    }\n",
       "</style>\n",
       "<table border=\"1\" class=\"dataframe\">\n",
       "  <thead>\n",
       "    <tr style=\"text-align: right;\">\n",
       "      <th></th>\n",
       "      <th>0</th>\n",
       "      <th>1</th>\n",
       "      <th>2</th>\n",
       "      <th>3</th>\n",
       "      <th>4</th>\n",
       "      <th>5</th>\n",
       "      <th>6</th>\n",
       "      <th>7</th>\n",
       "      <th>8</th>\n",
       "      <th>9</th>\n",
       "      <th>...</th>\n",
       "      <th>64</th>\n",
       "      <th>65</th>\n",
       "      <th>66</th>\n",
       "      <th>67</th>\n",
       "      <th>68</th>\n",
       "      <th>69</th>\n",
       "      <th>70</th>\n",
       "      <th>71</th>\n",
       "      <th>72</th>\n",
       "      <th>73</th>\n",
       "    </tr>\n",
       "  </thead>\n",
       "  <tbody>\n",
       "    <tr>\n",
       "      <th>0</th>\n",
       "      <td>-7.518903</td>\n",
       "      <td>-10.990897</td>\n",
       "      <td>-9.604292</td>\n",
       "      <td>3.563389</td>\n",
       "      <td>-0.873071</td>\n",
       "      <td>-7.521612</td>\n",
       "      <td>-6.878887</td>\n",
       "      <td>-27.168114</td>\n",
       "      <td>0.654916</td>\n",
       "      <td>0.897164</td>\n",
       "      <td>...</td>\n",
       "      <td>5.748509</td>\n",
       "      <td>9.964848</td>\n",
       "      <td>10.479784</td>\n",
       "      <td>27.903249</td>\n",
       "      <td>7.502630</td>\n",
       "      <td>7.340091</td>\n",
       "      <td>12.249179</td>\n",
       "      <td>9.234270</td>\n",
       "      <td>1.0</td>\n",
       "      <td>2030_P_Asthma_M_after_TBD_Y.json</td>\n",
       "    </tr>\n",
       "    <tr>\n",
       "      <th>1</th>\n",
       "      <td>-5.193252</td>\n",
       "      <td>-18.613230</td>\n",
       "      <td>-11.146862</td>\n",
       "      <td>-5.760457</td>\n",
       "      <td>-3.999578</td>\n",
       "      <td>-13.968749</td>\n",
       "      <td>-6.796815</td>\n",
       "      <td>-17.419335</td>\n",
       "      <td>-11.429387</td>\n",
       "      <td>6.806179</td>\n",
       "      <td>...</td>\n",
       "      <td>10.009527</td>\n",
       "      <td>15.687760</td>\n",
       "      <td>11.113335</td>\n",
       "      <td>20.091881</td>\n",
       "      <td>14.834731</td>\n",
       "      <td>10.605124</td>\n",
       "      <td>9.670656</td>\n",
       "      <td>9.676993</td>\n",
       "      <td>1.0</td>\n",
       "      <td>2030_P_Asthma_M_after_TBD_Y.json</td>\n",
       "    </tr>\n",
       "    <tr>\n",
       "      <th>2</th>\n",
       "      <td>-6.096903</td>\n",
       "      <td>-10.911015</td>\n",
       "      <td>-2.237536</td>\n",
       "      <td>12.137149</td>\n",
       "      <td>-9.991736</td>\n",
       "      <td>-11.228307</td>\n",
       "      <td>-6.328688</td>\n",
       "      <td>-22.451297</td>\n",
       "      <td>-8.170443</td>\n",
       "      <td>-19.182946</td>\n",
       "      <td>...</td>\n",
       "      <td>12.199509</td>\n",
       "      <td>14.145921</td>\n",
       "      <td>11.726745</td>\n",
       "      <td>24.582509</td>\n",
       "      <td>11.254667</td>\n",
       "      <td>24.903076</td>\n",
       "      <td>12.163624</td>\n",
       "      <td>9.825561</td>\n",
       "      <td>1.0</td>\n",
       "      <td>2030_P_Asthma_M_after_TBD_Y.json</td>\n",
       "    </tr>\n",
       "    <tr>\n",
       "      <th>3</th>\n",
       "      <td>-6.935391</td>\n",
       "      <td>-8.036528</td>\n",
       "      <td>-8.586313</td>\n",
       "      <td>7.782491</td>\n",
       "      <td>-5.311475</td>\n",
       "      <td>-2.698300</td>\n",
       "      <td>-7.505101</td>\n",
       "      <td>-27.025777</td>\n",
       "      <td>-6.795934</td>\n",
       "      <td>-3.166907</td>\n",
       "      <td>...</td>\n",
       "      <td>7.148386</td>\n",
       "      <td>7.174043</td>\n",
       "      <td>11.459255</td>\n",
       "      <td>27.840742</td>\n",
       "      <td>9.486919</td>\n",
       "      <td>8.353772</td>\n",
       "      <td>13.430368</td>\n",
       "      <td>8.722226</td>\n",
       "      <td>1.0</td>\n",
       "      <td>2030_P_Asthma_M_after_TBD_Y.json</td>\n",
       "    </tr>\n",
       "    <tr>\n",
       "      <th>4</th>\n",
       "      <td>-7.587186</td>\n",
       "      <td>-16.303047</td>\n",
       "      <td>-9.174580</td>\n",
       "      <td>-4.558920</td>\n",
       "      <td>-4.485484</td>\n",
       "      <td>0.892777</td>\n",
       "      <td>-14.394063</td>\n",
       "      <td>-17.377047</td>\n",
       "      <td>-8.319141</td>\n",
       "      <td>3.556375</td>\n",
       "      <td>...</td>\n",
       "      <td>7.439801</td>\n",
       "      <td>6.795588</td>\n",
       "      <td>16.693376</td>\n",
       "      <td>18.482805</td>\n",
       "      <td>11.581451</td>\n",
       "      <td>8.897151</td>\n",
       "      <td>10.264586</td>\n",
       "      <td>10.755023</td>\n",
       "      <td>1.0</td>\n",
       "      <td>2030_P_Asthma_M_after_TBD_Y.json</td>\n",
       "    </tr>\n",
       "    <tr>\n",
       "      <th>...</th>\n",
       "      <td>...</td>\n",
       "      <td>...</td>\n",
       "      <td>...</td>\n",
       "      <td>...</td>\n",
       "      <td>...</td>\n",
       "      <td>...</td>\n",
       "      <td>...</td>\n",
       "      <td>...</td>\n",
       "      <td>...</td>\n",
       "      <td>...</td>\n",
       "      <td>...</td>\n",
       "      <td>...</td>\n",
       "      <td>...</td>\n",
       "      <td>...</td>\n",
       "      <td>...</td>\n",
       "      <td>...</td>\n",
       "      <td>...</td>\n",
       "      <td>...</td>\n",
       "      <td>...</td>\n",
       "      <td>...</td>\n",
       "      <td>...</td>\n",
       "    </tr>\n",
       "    <tr>\n",
       "      <th>2301</th>\n",
       "      <td>-4.320324</td>\n",
       "      <td>-9.879842</td>\n",
       "      <td>-13.928946</td>\n",
       "      <td>-13.810120</td>\n",
       "      <td>5.398152</td>\n",
       "      <td>2.704029</td>\n",
       "      <td>14.464028</td>\n",
       "      <td>-7.172482</td>\n",
       "      <td>9.852755</td>\n",
       "      <td>13.422723</td>\n",
       "      <td>...</td>\n",
       "      <td>9.935237</td>\n",
       "      <td>8.270486</td>\n",
       "      <td>16.887481</td>\n",
       "      <td>21.006640</td>\n",
       "      <td>13.090739</td>\n",
       "      <td>18.377831</td>\n",
       "      <td>12.821605</td>\n",
       "      <td>16.855565</td>\n",
       "      <td>0.0</td>\n",
       "      <td>1306_C_Na_M_Na_Na_N.json</td>\n",
       "    </tr>\n",
       "    <tr>\n",
       "      <th>2302</th>\n",
       "      <td>-3.303135</td>\n",
       "      <td>-24.250914</td>\n",
       "      <td>-30.332555</td>\n",
       "      <td>-4.667135</td>\n",
       "      <td>7.353563</td>\n",
       "      <td>-2.535968</td>\n",
       "      <td>7.425988</td>\n",
       "      <td>-6.300057</td>\n",
       "      <td>-7.821027</td>\n",
       "      <td>10.426692</td>\n",
       "      <td>...</td>\n",
       "      <td>9.628649</td>\n",
       "      <td>7.781631</td>\n",
       "      <td>10.826065</td>\n",
       "      <td>10.777435</td>\n",
       "      <td>11.931527</td>\n",
       "      <td>13.236125</td>\n",
       "      <td>8.034495</td>\n",
       "      <td>23.847981</td>\n",
       "      <td>0.0</td>\n",
       "      <td>1306_C_Na_M_Na_Na_N.json</td>\n",
       "    </tr>\n",
       "    <tr>\n",
       "      <th>2303</th>\n",
       "      <td>-3.627535</td>\n",
       "      <td>-25.670246</td>\n",
       "      <td>-27.080315</td>\n",
       "      <td>-3.629266</td>\n",
       "      <td>7.596613</td>\n",
       "      <td>-1.875681</td>\n",
       "      <td>7.555803</td>\n",
       "      <td>-12.493904</td>\n",
       "      <td>-2.613590</td>\n",
       "      <td>11.066152</td>\n",
       "      <td>...</td>\n",
       "      <td>10.227850</td>\n",
       "      <td>8.383238</td>\n",
       "      <td>11.042578</td>\n",
       "      <td>14.996092</td>\n",
       "      <td>7.796741</td>\n",
       "      <td>13.351076</td>\n",
       "      <td>9.287066</td>\n",
       "      <td>18.485545</td>\n",
       "      <td>0.0</td>\n",
       "      <td>1306_C_Na_M_Na_Na_N.json</td>\n",
       "    </tr>\n",
       "    <tr>\n",
       "      <th>2304</th>\n",
       "      <td>-3.413044</td>\n",
       "      <td>-29.601389</td>\n",
       "      <td>-29.711291</td>\n",
       "      <td>3.127272</td>\n",
       "      <td>5.475462</td>\n",
       "      <td>-7.608470</td>\n",
       "      <td>17.674903</td>\n",
       "      <td>-13.802974</td>\n",
       "      <td>-7.210363</td>\n",
       "      <td>17.010800</td>\n",
       "      <td>...</td>\n",
       "      <td>8.014320</td>\n",
       "      <td>10.995430</td>\n",
       "      <td>19.519234</td>\n",
       "      <td>15.823024</td>\n",
       "      <td>10.469216</td>\n",
       "      <td>19.236726</td>\n",
       "      <td>8.662705</td>\n",
       "      <td>19.157752</td>\n",
       "      <td>0.0</td>\n",
       "      <td>1306_C_Na_M_Na_Na_N.json</td>\n",
       "    </tr>\n",
       "    <tr>\n",
       "      <th>2305</th>\n",
       "      <td>-2.975600</td>\n",
       "      <td>-29.295511</td>\n",
       "      <td>-31.583294</td>\n",
       "      <td>-11.901704</td>\n",
       "      <td>-0.547837</td>\n",
       "      <td>-9.285559</td>\n",
       "      <td>8.968372</td>\n",
       "      <td>-11.204390</td>\n",
       "      <td>-13.599498</td>\n",
       "      <td>22.905682</td>\n",
       "      <td>...</td>\n",
       "      <td>6.547632</td>\n",
       "      <td>13.114908</td>\n",
       "      <td>11.723150</td>\n",
       "      <td>15.641555</td>\n",
       "      <td>15.658802</td>\n",
       "      <td>24.289337</td>\n",
       "      <td>11.213578</td>\n",
       "      <td>22.263994</td>\n",
       "      <td>0.0</td>\n",
       "      <td>1306_C_Na_M_Na_Na_N.json</td>\n",
       "    </tr>\n",
       "  </tbody>\n",
       "</table>\n",
       "<p>2306 rows × 74 columns</p>\n",
       "</div>"
      ],
      "text/plain": [
       "             0          1          2          3         4          5  \\\n",
       "0    -7.518903 -10.990897  -9.604292   3.563389 -0.873071  -7.521612   \n",
       "1    -5.193252 -18.613230 -11.146862  -5.760457 -3.999578 -13.968749   \n",
       "2    -6.096903 -10.911015  -2.237536  12.137149 -9.991736 -11.228307   \n",
       "3    -6.935391  -8.036528  -8.586313   7.782491 -5.311475  -2.698300   \n",
       "4    -7.587186 -16.303047  -9.174580  -4.558920 -4.485484   0.892777   \n",
       "...        ...        ...        ...        ...       ...        ...   \n",
       "2301 -4.320324  -9.879842 -13.928946 -13.810120  5.398152   2.704029   \n",
       "2302 -3.303135 -24.250914 -30.332555  -4.667135  7.353563  -2.535968   \n",
       "2303 -3.627535 -25.670246 -27.080315  -3.629266  7.596613  -1.875681   \n",
       "2304 -3.413044 -29.601389 -29.711291   3.127272  5.475462  -7.608470   \n",
       "2305 -2.975600 -29.295511 -31.583294 -11.901704 -0.547837  -9.285559   \n",
       "\n",
       "              6          7          8          9  ...         64         65  \\\n",
       "0     -6.878887 -27.168114   0.654916   0.897164  ...   5.748509   9.964848   \n",
       "1     -6.796815 -17.419335 -11.429387   6.806179  ...  10.009527  15.687760   \n",
       "2     -6.328688 -22.451297  -8.170443 -19.182946  ...  12.199509  14.145921   \n",
       "3     -7.505101 -27.025777  -6.795934  -3.166907  ...   7.148386   7.174043   \n",
       "4    -14.394063 -17.377047  -8.319141   3.556375  ...   7.439801   6.795588   \n",
       "...         ...        ...        ...        ...  ...        ...        ...   \n",
       "2301  14.464028  -7.172482   9.852755  13.422723  ...   9.935237   8.270486   \n",
       "2302   7.425988  -6.300057  -7.821027  10.426692  ...   9.628649   7.781631   \n",
       "2303   7.555803 -12.493904  -2.613590  11.066152  ...  10.227850   8.383238   \n",
       "2304  17.674903 -13.802974  -7.210363  17.010800  ...   8.014320  10.995430   \n",
       "2305   8.968372 -11.204390 -13.599498  22.905682  ...   6.547632  13.114908   \n",
       "\n",
       "             66         67         68         69         70         71   72  \\\n",
       "0     10.479784  27.903249   7.502630   7.340091  12.249179   9.234270  1.0   \n",
       "1     11.113335  20.091881  14.834731  10.605124   9.670656   9.676993  1.0   \n",
       "2     11.726745  24.582509  11.254667  24.903076  12.163624   9.825561  1.0   \n",
       "3     11.459255  27.840742   9.486919   8.353772  13.430368   8.722226  1.0   \n",
       "4     16.693376  18.482805  11.581451   8.897151  10.264586  10.755023  1.0   \n",
       "...         ...        ...        ...        ...        ...        ...  ...   \n",
       "2301  16.887481  21.006640  13.090739  18.377831  12.821605  16.855565  0.0   \n",
       "2302  10.826065  10.777435  11.931527  13.236125   8.034495  23.847981  0.0   \n",
       "2303  11.042578  14.996092   7.796741  13.351076   9.287066  18.485545  0.0   \n",
       "2304  19.519234  15.823024  10.469216  19.236726   8.662705  19.157752  0.0   \n",
       "2305  11.723150  15.641555  15.658802  24.289337  11.213578  22.263994  0.0   \n",
       "\n",
       "                                    73  \n",
       "0     2030_P_Asthma_M_after_TBD_Y.json  \n",
       "1     2030_P_Asthma_M_after_TBD_Y.json  \n",
       "2     2030_P_Asthma_M_after_TBD_Y.json  \n",
       "3     2030_P_Asthma_M_after_TBD_Y.json  \n",
       "4     2030_P_Asthma_M_after_TBD_Y.json  \n",
       "...                                ...  \n",
       "2301          1306_C_Na_M_Na_Na_N.json  \n",
       "2302          1306_C_Na_M_Na_Na_N.json  \n",
       "2303          1306_C_Na_M_Na_Na_N.json  \n",
       "2304          1306_C_Na_M_Na_Na_N.json  \n",
       "2305          1306_C_Na_M_Na_Na_N.json  \n",
       "\n",
       "[2306 rows x 74 columns]"
      ]
     },
     "execution_count": 26,
     "metadata": {},
     "output_type": "execute_result"
    }
   ],
   "source": [
    "Breath_1_dataframe"
   ]
  },
  {
   "cell_type": "code",
   "execution_count": 11,
   "metadata": {},
   "outputs": [
    {
     "data": {
      "text/html": [
       "<div>\n",
       "<style scoped>\n",
       "    .dataframe tbody tr th:only-of-type {\n",
       "        vertical-align: middle;\n",
       "    }\n",
       "\n",
       "    .dataframe tbody tr th {\n",
       "        vertical-align: top;\n",
       "    }\n",
       "\n",
       "    .dataframe thead th {\n",
       "        text-align: right;\n",
       "    }\n",
       "</style>\n",
       "<table border=\"1\" class=\"dataframe\">\n",
       "  <thead>\n",
       "    <tr style=\"text-align: right;\">\n",
       "      <th></th>\n",
       "      <th>0</th>\n",
       "      <th>1</th>\n",
       "      <th>2</th>\n",
       "      <th>3</th>\n",
       "      <th>4</th>\n",
       "      <th>5</th>\n",
       "      <th>6</th>\n",
       "      <th>7</th>\n",
       "      <th>8</th>\n",
       "      <th>9</th>\n",
       "      <th>...</th>\n",
       "      <th>64</th>\n",
       "      <th>65</th>\n",
       "      <th>66</th>\n",
       "      <th>67</th>\n",
       "      <th>68</th>\n",
       "      <th>69</th>\n",
       "      <th>70</th>\n",
       "      <th>71</th>\n",
       "      <th>72</th>\n",
       "      <th>73</th>\n",
       "    </tr>\n",
       "  </thead>\n",
       "  <tbody>\n",
       "    <tr>\n",
       "      <th>0</th>\n",
       "      <td>-5.819893</td>\n",
       "      <td>-0.807137</td>\n",
       "      <td>-5.621214</td>\n",
       "      <td>5.254770</td>\n",
       "      <td>-3.315850</td>\n",
       "      <td>5.227212</td>\n",
       "      <td>2.699075</td>\n",
       "      <td>-10.106676</td>\n",
       "      <td>-2.065468</td>\n",
       "      <td>3.210382</td>\n",
       "      <td>...</td>\n",
       "      <td>7.525397</td>\n",
       "      <td>13.206269</td>\n",
       "      <td>8.542131</td>\n",
       "      <td>12.448360</td>\n",
       "      <td>11.166359</td>\n",
       "      <td>14.285654</td>\n",
       "      <td>9.299346</td>\n",
       "      <td>14.721490</td>\n",
       "      <td>1.0</td>\n",
       "      <td>2030_P_Asthma_M_after_TBD_Y.json</td>\n",
       "    </tr>\n",
       "    <tr>\n",
       "      <th>1</th>\n",
       "      <td>-4.239213</td>\n",
       "      <td>-5.541188</td>\n",
       "      <td>-4.688828</td>\n",
       "      <td>-0.346142</td>\n",
       "      <td>-6.847378</td>\n",
       "      <td>-2.986326</td>\n",
       "      <td>-0.986394</td>\n",
       "      <td>-12.044204</td>\n",
       "      <td>-6.977862</td>\n",
       "      <td>1.198398</td>\n",
       "      <td>...</td>\n",
       "      <td>12.489347</td>\n",
       "      <td>20.389885</td>\n",
       "      <td>9.178060</td>\n",
       "      <td>16.179534</td>\n",
       "      <td>22.209952</td>\n",
       "      <td>15.749400</td>\n",
       "      <td>12.588714</td>\n",
       "      <td>17.929530</td>\n",
       "      <td>1.0</td>\n",
       "      <td>2030_P_Asthma_M_after_TBD_Y.json</td>\n",
       "    </tr>\n",
       "    <tr>\n",
       "      <th>2</th>\n",
       "      <td>-5.354658</td>\n",
       "      <td>-5.668823</td>\n",
       "      <td>-2.405999</td>\n",
       "      <td>10.432677</td>\n",
       "      <td>-7.490145</td>\n",
       "      <td>-3.756268</td>\n",
       "      <td>4.655690</td>\n",
       "      <td>-25.750033</td>\n",
       "      <td>-1.074364</td>\n",
       "      <td>-7.176282</td>\n",
       "      <td>...</td>\n",
       "      <td>10.019886</td>\n",
       "      <td>11.460915</td>\n",
       "      <td>10.751927</td>\n",
       "      <td>26.900385</td>\n",
       "      <td>8.573363</td>\n",
       "      <td>14.580283</td>\n",
       "      <td>11.540474</td>\n",
       "      <td>11.574759</td>\n",
       "      <td>1.0</td>\n",
       "      <td>2030_P_Asthma_M_after_TBD_Y.json</td>\n",
       "    </tr>\n",
       "    <tr>\n",
       "      <th>3</th>\n",
       "      <td>-5.092278</td>\n",
       "      <td>-2.529580</td>\n",
       "      <td>-9.688043</td>\n",
       "      <td>9.188193</td>\n",
       "      <td>-12.220343</td>\n",
       "      <td>-6.892942</td>\n",
       "      <td>3.612338</td>\n",
       "      <td>-20.445863</td>\n",
       "      <td>4.298290</td>\n",
       "      <td>-0.158647</td>\n",
       "      <td>...</td>\n",
       "      <td>16.611896</td>\n",
       "      <td>13.117266</td>\n",
       "      <td>10.425394</td>\n",
       "      <td>25.338480</td>\n",
       "      <td>12.605503</td>\n",
       "      <td>16.826520</td>\n",
       "      <td>15.302202</td>\n",
       "      <td>16.827541</td>\n",
       "      <td>1.0</td>\n",
       "      <td>2030_P_Asthma_M_after_TBD_Y.json</td>\n",
       "    </tr>\n",
       "    <tr>\n",
       "      <th>4</th>\n",
       "      <td>-5.227036</td>\n",
       "      <td>-2.247611</td>\n",
       "      <td>-6.643047</td>\n",
       "      <td>3.928853</td>\n",
       "      <td>-4.373642</td>\n",
       "      <td>5.126797</td>\n",
       "      <td>0.458337</td>\n",
       "      <td>-8.708336</td>\n",
       "      <td>0.721195</td>\n",
       "      <td>12.353288</td>\n",
       "      <td>...</td>\n",
       "      <td>6.839993</td>\n",
       "      <td>9.704536</td>\n",
       "      <td>6.540969</td>\n",
       "      <td>11.134982</td>\n",
       "      <td>11.737423</td>\n",
       "      <td>17.516899</td>\n",
       "      <td>8.658353</td>\n",
       "      <td>22.654186</td>\n",
       "      <td>1.0</td>\n",
       "      <td>2030_P_Asthma_M_after_TBD_Y.json</td>\n",
       "    </tr>\n",
       "  </tbody>\n",
       "</table>\n",
       "<p>5 rows × 74 columns</p>\n",
       "</div>"
      ],
      "text/plain": [
       "          0         1         2          3          4         5         6  \\\n",
       "0 -5.819893 -0.807137 -5.621214   5.254770  -3.315850  5.227212  2.699075   \n",
       "1 -4.239213 -5.541188 -4.688828  -0.346142  -6.847378 -2.986326 -0.986394   \n",
       "2 -5.354658 -5.668823 -2.405999  10.432677  -7.490145 -3.756268  4.655690   \n",
       "3 -5.092278 -2.529580 -9.688043   9.188193 -12.220343 -6.892942  3.612338   \n",
       "4 -5.227036 -2.247611 -6.643047   3.928853  -4.373642  5.126797  0.458337   \n",
       "\n",
       "           7         8          9  ...         64         65         66  \\\n",
       "0 -10.106676 -2.065468   3.210382  ...   7.525397  13.206269   8.542131   \n",
       "1 -12.044204 -6.977862   1.198398  ...  12.489347  20.389885   9.178060   \n",
       "2 -25.750033 -1.074364  -7.176282  ...  10.019886  11.460915  10.751927   \n",
       "3 -20.445863  4.298290  -0.158647  ...  16.611896  13.117266  10.425394   \n",
       "4  -8.708336  0.721195  12.353288  ...   6.839993   9.704536   6.540969   \n",
       "\n",
       "          67         68         69         70         71   72  \\\n",
       "0  12.448360  11.166359  14.285654   9.299346  14.721490  1.0   \n",
       "1  16.179534  22.209952  15.749400  12.588714  17.929530  1.0   \n",
       "2  26.900385   8.573363  14.580283  11.540474  11.574759  1.0   \n",
       "3  25.338480  12.605503  16.826520  15.302202  16.827541  1.0   \n",
       "4  11.134982  11.737423  17.516899   8.658353  22.654186  1.0   \n",
       "\n",
       "                                 73  \n",
       "0  2030_P_Asthma_M_after_TBD_Y.json  \n",
       "1  2030_P_Asthma_M_after_TBD_Y.json  \n",
       "2  2030_P_Asthma_M_after_TBD_Y.json  \n",
       "3  2030_P_Asthma_M_after_TBD_Y.json  \n",
       "4  2030_P_Asthma_M_after_TBD_Y.json  \n",
       "\n",
       "[5 rows x 74 columns]"
      ]
     },
     "execution_count": 11,
     "metadata": {},
     "output_type": "execute_result"
    }
   ],
   "source": [
    "Breath_2_dataframe.head()"
   ]
  },
  {
   "cell_type": "code",
   "execution_count": 11,
   "metadata": {},
   "outputs": [],
   "source": [
    "labels = Breath_1_dataframe.iloc[:,73]"
   ]
  },
  {
   "cell_type": "code",
   "execution_count": 22,
   "metadata": {},
   "outputs": [
    {
     "name": "stdout",
     "output_type": "stream",
     "text": [
      "Number of Subjects: 258\n"
     ]
    }
   ],
   "source": [
    "print(f\"Number of Subjects: {np.unique(labels.values).shape[0]}\")"
   ]
  },
  {
   "cell_type": "code",
   "execution_count": 14,
   "metadata": {},
   "outputs": [],
   "source": [
    "sound_dataframe = Breath_1_dataframe"
   ]
  },
  {
   "cell_type": "code",
   "execution_count": 16,
   "metadata": {},
   "outputs": [],
   "source": [
    "Total = np.unique(sound_dataframe.iloc[:,sound_dataframe.shape[1]-1])\n",
    "name = []\n",
    "for i in Total:\n",
    "    name.append(i[:4])\n",
    "\n",
    "unique = []\n",
    "before_after = []\n",
    "for i in Total:\n",
    "    if np.sum((np.array(name, dtype = int) == int(i[:4]))) == 1:\n",
    "        unique.append(i)\n",
    "    else:\n",
    "        before_after.append(i) \n",
    "\n",
    "Asthmatic_Female = []\n",
    "Asthmatic_Male = []\n",
    "Healthy_Male = []\n",
    "Healthy_Female = []\n",
    "for file in unique:\n",
    "    if file.find('sthma') !=-1:\n",
    "        if file.find(\"_M_\")!=-1:\n",
    "            Asthmatic_Male.append(file)\n",
    "        if file.find(\"_F_\")!=-1:\n",
    "            Asthmatic_Female.append(file)\n",
    "    if file.find(\"_C_\")!=-1:\n",
    "        if file.find(\"_M_\")!=-1:\n",
    "            Healthy_Male.append(file)\n",
    "        if file.find(\"_F_\")!=-1:\n",
    "            Healthy_Female.append(file)"
   ]
  },
  {
   "cell_type": "code",
   "execution_count": 26,
   "metadata": {},
   "outputs": [
    {
     "name": "stdout",
     "output_type": "stream",
     "text": [
      "Asthmatic_male = 78\n",
      "Asthmatic_female = 55\n",
      "Healthy_Male = 55\n",
      "Healthy_female = 50\n",
      "Before_after = 20\n"
     ]
    }
   ],
   "source": [
    "print(f\"Asthmatic_male = {len(Asthmatic_Male)}\")\n",
    "print(f\"Asthmatic_female = {len(Asthmatic_Female)}\")\n",
    "print(f\"Healthy_Male = {len(Healthy_Male)}\")\n",
    "print(f\"Healthy_female = {len(Healthy_Female)}\")\n",
    "print(f\"Before_after = {len(before_after)}\")"
   ]
  },
  {
   "cell_type": "code",
   "execution_count": 12,
   "metadata": {},
   "outputs": [],
   "source": [
    "# train_test Csv\n",
    "def train_test_csv(sound_dataframe):\n",
    "    Total = np.unique(sound_dataframe.iloc[:,sound_dataframe.shape[1]-1])\n",
    "    name = []\n",
    "    for i in Total:\n",
    "        name.append(i[:4])\n",
    "\n",
    "    unique = []\n",
    "    before_after = []\n",
    "    for i in Total:\n",
    "        if np.sum((np.array(name, dtype = int) == int(i[:4]))) == 1:\n",
    "            unique.append(i)\n",
    "        else:\n",
    "            before_after.append(i) \n",
    "\n",
    "    Asthmatic_Female = []\n",
    "    Asthmatic_Male = []\n",
    "    Healthy_Male = []\n",
    "    Healthy_Female = []\n",
    "    for file in unique:\n",
    "        if file.find('sthma') !=-1:\n",
    "            if file.find(\"_M_\")!=-1:\n",
    "                Asthmatic_Male.append(file)\n",
    "            if file.find(\"_F_\")!=-1:\n",
    "                Asthmatic_Female.append(file)\n",
    "        if file.find(\"_C_\")!=-1:\n",
    "            if file.find(\"_M_\")!=-1:\n",
    "                Healthy_Male.append(file)\n",
    "            if file.find(\"_F_\")!=-1:\n",
    "                Healthy_Female.append(file)\n",
    "\n",
    "                \n",
    "\n",
    "    Train, Test = train_test_set(Asthmatic_Female, Asthmatic_Male, Healthy_Female, Healthy_Male, before_after)     \n",
    "\n",
    "    test_dataframe = pd.DataFrame()\n",
    "    for i, line in enumerate(Test):\n",
    "        A = sound_dataframe[(sound_dataframe[str(sound_dataframe.shape[1]-1)] == (Test[i]))]\n",
    "        test_dataframe = pd.DataFrame.append(test_dataframe,A)\n",
    "        \n",
    "        \n",
    "    train_dataframe = pd.DataFrame()\n",
    "    for i, line in enumerate(Train):\n",
    "        A = sound_dataframe[(sound_dataframe[str(sound_dataframe.shape[1]-1)] == (Train[i]))]\n",
    "        train_dataframe = pd.DataFrame.append(train_dataframe,A) \n",
    "        \n",
    "        \n",
    "    \n",
    "    return train_dataframe, test_dataframe"
   ]
  },
  {
   "cell_type": "code",
   "execution_count": 94,
   "metadata": {},
   "outputs": [],
   "source": [
    "#Machine Learning Algorithm (MLA) Selection and Initialization\n",
    "def MLA_selection(sound_dataframe, sound):    \n",
    "    MLA = [\n",
    "        #Ensemble Methods\n",
    "#         ensemble.AdaBoostClassifier(),\n",
    "#         ensemble.BaggingClassifier(),\n",
    "#         ensemble.ExtraTreesClassifier(),\n",
    "        ensemble.GradientBoostingClassifier(),\n",
    "        ensemble.RandomForestClassifier(),\n",
    "\n",
    "        #Gaussian Processes\n",
    "#         gaussian_process.GaussianProcessClassifier(),\n",
    "\n",
    "        #GLM\n",
    "#         linear_model.LogisticRegressionCV(),\n",
    "#         linear_model.PassiveAggressiveClassifier(),\n",
    "#         linear_model.RidgeClassifierCV(),\n",
    "#         linear_model.SGDClassifier(),\n",
    "#         linear_model.Perceptron(),\n",
    "\n",
    "        #Navies Bayes\n",
    "#         naive_bayes.BernoulliNB(),\n",
    "#         naive_bayes.GaussianNB(),\n",
    "\n",
    "        #Nearest Neighbor\n",
    "#         neighbors.KNeighborsClassifier(),\n",
    "\n",
    "        #SVM\n",
    "        svm.SVC(probability=True),\n",
    "#         svm.NuSVC(probability=True),\n",
    "        svm.LinearSVC(),\n",
    "\n",
    "        #Trees    \n",
    "#         tree.DecisionTreeClassifier(),\n",
    "# #         tree.ExtraTreeClassifier(),\n",
    "\n",
    "        #Discriminant Analysis\n",
    "#         discriminant_analysis.LinearDiscriminantAnalysis(),\n",
    "#         discriminant_analysis.QuadraticDiscriminantAnalysis(),\n",
    "\n",
    "\n",
    "        XGBClassifier()\n",
    "#         XGBClassifier()\n",
    "        ]\n",
    "\n",
    "\n",
    "    MLA_columns = ['MLA Name', 'MLA Parameters','MLA Train Accuracy','MLA Train Accuracy Mean', 'MLA Test Accuracy', 'MLA Test Accuracy Mean','MLA Test Accuracy Std' ]\n",
    "    MLA_compare = pd.DataFrame(columns = MLA_columns)\n",
    "    row_index = 0\n",
    "    for alg in MLA:\n",
    "        MLA_name = alg.__class__.__name__\n",
    "        MLA_compare.loc[row_index, 'MLA Name'] = MLA_name\n",
    "        MLA_compare.loc[row_index, 'MLA Parameters'] = str(alg.get_params())\n",
    "        test = []\n",
    "        train = []\n",
    "        for i in tqdm(range(0,10)):\n",
    "            train_csv, test_csv = pd.read_csv('./breathe_set_csv/train'+sound+str(i)+'.csv'), pd.read_csv('./breathe_set_csv/test'+sound+str(i)+'.csv')\n",
    "            X_train = train_csv.iloc[:,:sound_dataframe.shape[1]-2]\n",
    "            y_train = train_csv.iloc[:,sound_dataframe.shape[1]-2]\n",
    "            X_test = test_csv.iloc[:,:sound_dataframe.shape[1]-2]\n",
    "            y_test = test_csv.iloc[:,sound_dataframe.shape[1]-2]\n",
    "            #Scaling\n",
    "            scaler = StandardScaler()\n",
    "            X_train = scaler.fit_transform(X_train)\n",
    "            X_test = scaler.transform(X_test)\n",
    "            X_train = pd.DataFrame(X_train)\n",
    "            X_test = pd.DataFrame(X_test)\n",
    "\n",
    "            alg.fit(X_train,y_train)\n",
    "            test.append(metrics.accuracy_score(y_test,alg.predict(X_test)))\n",
    "\n",
    "            train.append(metrics.accuracy_score(y_train,alg.predict(X_train)))\n",
    "            \n",
    "#             if alg.__class__.__name__ == 'XGBClassifier':\n",
    "#                 filename = './CMN/XGB_model'+ str(i) + '.model'\n",
    "#                 pickle.dump(alg, open(filename, 'wb'))\n",
    "#                 train_csv.to_csv('./CMN/Train_XGB'+str(i)+'.csv', index=False)\n",
    "                \n",
    "        \n",
    "        MLA_compare.loc[row_index, 'MLA Train Accuracy'] = train\n",
    "        MLA_compare.loc[row_index, 'MLA Train Accuracy Mean'] = np.mean(train)\n",
    "        MLA_compare.loc[row_index, 'MLA Test Accuracy'] = test\n",
    "        MLA_compare.loc[row_index, 'MLA Test Accuracy Mean'] = np.mean(test)\n",
    "        MLA_compare.loc[row_index, 'MLA Test Accuracy Std'] = np.std(test)\n",
    "\n",
    "\n",
    "        row_index+=1\n",
    "\n",
    "    \n",
    "    MLA_compare.sort_values(by = ['MLA Test Accuracy Mean'], ascending = False, inplace = True)\n",
    "    \n",
    "    return MLA_compare"
   ]
  },
  {
   "cell_type": "code",
   "execution_count": 34,
   "metadata": {},
   "outputs": [],
   "source": [
    "# Making Sets\n",
    "def make_and_save_sets(sound_dataframe, sound):\n",
    "    for i in range(0,10):\n",
    "        train_csv, test_csv = train_test_csv(sound_dataframe)\n",
    "        train_csv.to_csv('./breathe_set_csv/train'+sound+str(i)+'.csv', index=False)\n",
    "        test_csv.to_csv('./breathe_set_csv/test'+sound+str(i)+'.csv', index=False)"
   ]
  },
  {
   "cell_type": "markdown",
   "metadata": {},
   "source": [
    "### Breath"
   ]
  },
  {
   "cell_type": "code",
   "execution_count": 46,
   "metadata": {},
   "outputs": [],
   "source": [
    "make_and_save_sets(Breath_dataframe, 'breath')"
   ]
  },
  {
   "cell_type": "code",
   "execution_count": 60,
   "metadata": {
    "collapsed": true
   },
   "outputs": [
    {
     "name": "stderr",
     "output_type": "stream",
     "text": [
      "100%|██████████| 10/10 [00:49<00:00,  4.96s/it]\n",
      "100%|██████████| 10/10 [00:15<00:00,  1.51s/it]\n",
      "100%|██████████| 10/10 [00:12<00:00,  1.27s/it]\n",
      "100%|██████████| 10/10 [00:04<00:00,  2.13it/s]\n",
      "  0%|          | 0/10 [00:00<?, ?it/s]"
     ]
    },
    {
     "name": "stdout",
     "output_type": "stream",
     "text": [
      "[14:53:04] WARNING: ../src/learner.cc:1061: Starting in XGBoost 1.3.0, the default evaluation metric used with the objective 'binary:logistic' was changed from 'error' to 'logloss'. Explicitly set eval_metric if you'd like to restore the old behavior.\n"
     ]
    },
    {
     "name": "stderr",
     "output_type": "stream",
     "text": [
      "\r",
      " 10%|█         | 1/10 [00:00<00:07,  1.22it/s]"
     ]
    },
    {
     "name": "stdout",
     "output_type": "stream",
     "text": [
      "[14:53:05] WARNING: ../src/learner.cc:1061: Starting in XGBoost 1.3.0, the default evaluation metric used with the objective 'binary:logistic' was changed from 'error' to 'logloss'. Explicitly set eval_metric if you'd like to restore the old behavior.\n"
     ]
    },
    {
     "name": "stderr",
     "output_type": "stream",
     "text": [
      "\r",
      " 20%|██        | 2/10 [00:01<00:05,  1.43it/s]"
     ]
    },
    {
     "name": "stdout",
     "output_type": "stream",
     "text": [
      "[14:53:05] WARNING: ../src/learner.cc:1061: Starting in XGBoost 1.3.0, the default evaluation metric used with the objective 'binary:logistic' was changed from 'error' to 'logloss'. Explicitly set eval_metric if you'd like to restore the old behavior.\n"
     ]
    },
    {
     "name": "stderr",
     "output_type": "stream",
     "text": [
      "\r",
      " 30%|███       | 3/10 [00:02<00:04,  1.52it/s]"
     ]
    },
    {
     "name": "stdout",
     "output_type": "stream",
     "text": [
      "[14:53:06] WARNING: ../src/learner.cc:1061: Starting in XGBoost 1.3.0, the default evaluation metric used with the objective 'binary:logistic' was changed from 'error' to 'logloss'. Explicitly set eval_metric if you'd like to restore the old behavior.\n"
     ]
    },
    {
     "name": "stderr",
     "output_type": "stream",
     "text": [
      "\r",
      " 40%|████      | 4/10 [00:02<00:03,  1.57it/s]"
     ]
    },
    {
     "name": "stdout",
     "output_type": "stream",
     "text": [
      "[14:53:07] WARNING: ../src/learner.cc:1061: Starting in XGBoost 1.3.0, the default evaluation metric used with the objective 'binary:logistic' was changed from 'error' to 'logloss'. Explicitly set eval_metric if you'd like to restore the old behavior.\n"
     ]
    },
    {
     "name": "stderr",
     "output_type": "stream",
     "text": [
      "\r",
      " 50%|█████     | 5/10 [00:03<00:03,  1.61it/s]"
     ]
    },
    {
     "name": "stdout",
     "output_type": "stream",
     "text": [
      "[14:53:07] WARNING: ../src/learner.cc:1061: Starting in XGBoost 1.3.0, the default evaluation metric used with the objective 'binary:logistic' was changed from 'error' to 'logloss'. Explicitly set eval_metric if you'd like to restore the old behavior.\n"
     ]
    },
    {
     "name": "stderr",
     "output_type": "stream",
     "text": [
      "\r",
      " 60%|██████    | 6/10 [00:03<00:02,  1.66it/s]"
     ]
    },
    {
     "name": "stdout",
     "output_type": "stream",
     "text": [
      "[14:53:08] WARNING: ../src/learner.cc:1061: Starting in XGBoost 1.3.0, the default evaluation metric used with the objective 'binary:logistic' was changed from 'error' to 'logloss'. Explicitly set eval_metric if you'd like to restore the old behavior.\n"
     ]
    },
    {
     "name": "stderr",
     "output_type": "stream",
     "text": [
      "\r",
      " 70%|███████   | 7/10 [00:04<00:01,  1.66it/s]"
     ]
    },
    {
     "name": "stdout",
     "output_type": "stream",
     "text": [
      "[14:53:08] WARNING: ../src/learner.cc:1061: Starting in XGBoost 1.3.0, the default evaluation metric used with the objective 'binary:logistic' was changed from 'error' to 'logloss'. Explicitly set eval_metric if you'd like to restore the old behavior.\n"
     ]
    },
    {
     "name": "stderr",
     "output_type": "stream",
     "text": [
      "\r",
      " 80%|████████  | 8/10 [00:04<00:01,  1.68it/s]"
     ]
    },
    {
     "name": "stdout",
     "output_type": "stream",
     "text": [
      "[14:53:09] WARNING: ../src/learner.cc:1061: Starting in XGBoost 1.3.0, the default evaluation metric used with the objective 'binary:logistic' was changed from 'error' to 'logloss'. Explicitly set eval_metric if you'd like to restore the old behavior.\n"
     ]
    },
    {
     "name": "stderr",
     "output_type": "stream",
     "text": [
      "\r",
      " 90%|█████████ | 9/10 [00:05<00:00,  1.70it/s]"
     ]
    },
    {
     "name": "stdout",
     "output_type": "stream",
     "text": [
      "[14:53:10] WARNING: ../src/learner.cc:1061: Starting in XGBoost 1.3.0, the default evaluation metric used with the objective 'binary:logistic' was changed from 'error' to 'logloss'. Explicitly set eval_metric if you'd like to restore the old behavior.\n"
     ]
    },
    {
     "name": "stderr",
     "output_type": "stream",
     "text": [
      "100%|██████████| 10/10 [00:06<00:00,  1.61it/s]\n"
     ]
    }
   ],
   "source": [
    "MLA_breathe = MLA_selection(Breath_dataframe, 'breath')"
   ]
  },
  {
   "cell_type": "code",
   "execution_count": 61,
   "metadata": {},
   "outputs": [
    {
     "data": {
      "text/html": [
       "<div>\n",
       "<style scoped>\n",
       "    .dataframe tbody tr th:only-of-type {\n",
       "        vertical-align: middle;\n",
       "    }\n",
       "\n",
       "    .dataframe tbody tr th {\n",
       "        vertical-align: top;\n",
       "    }\n",
       "\n",
       "    .dataframe thead th {\n",
       "        text-align: right;\n",
       "    }\n",
       "</style>\n",
       "<table border=\"1\" class=\"dataframe\">\n",
       "  <thead>\n",
       "    <tr style=\"text-align: right;\">\n",
       "      <th></th>\n",
       "      <th>MLA Name</th>\n",
       "      <th>MLA Parameters</th>\n",
       "      <th>MLA Train Accuracy</th>\n",
       "      <th>MLA Train Accuracy Mean</th>\n",
       "      <th>MLA Test Accuracy</th>\n",
       "      <th>MLA Test Accuracy Mean</th>\n",
       "      <th>MLA Test Accuracy Std</th>\n",
       "    </tr>\n",
       "  </thead>\n",
       "  <tbody>\n",
       "    <tr>\n",
       "      <th>0</th>\n",
       "      <td>GradientBoostingClassifier</td>\n",
       "      <td>{'ccp_alpha': 0.0, 'criterion': 'friedman_mse'...</td>\n",
       "      <td>[0.9602713178294574, 0.9722762645914397, 0.966...</td>\n",
       "      <td>0.962408</td>\n",
       "      <td>[0.7148760330578512, 0.776, 0.7900763358778626...</td>\n",
       "      <td>0.76422</td>\n",
       "      <td>0.026619</td>\n",
       "    </tr>\n",
       "    <tr>\n",
       "      <th>4</th>\n",
       "      <td>XGBClassifier</td>\n",
       "      <td>{'objective': 'binary:logistic', 'use_label_en...</td>\n",
       "      <td>[1.0, 1.0, 1.0, 1.0, 1.0, 1.0, 1.0, 1.0, 1.0, ...</td>\n",
       "      <td>1</td>\n",
       "      <td>[0.7355371900826446, 0.768, 0.7786259541984732...</td>\n",
       "      <td>0.764178</td>\n",
       "      <td>0.0298449</td>\n",
       "    </tr>\n",
       "    <tr>\n",
       "      <th>1</th>\n",
       "      <td>RandomForestClassifier</td>\n",
       "      <td>{'bootstrap': True, 'ccp_alpha': 0.0, 'class_w...</td>\n",
       "      <td>[1.0, 1.0, 1.0, 1.0, 1.0, 1.0, 1.0, 1.0, 1.0, ...</td>\n",
       "      <td>1</td>\n",
       "      <td>[0.6983471074380165, 0.752, 0.7824427480916031...</td>\n",
       "      <td>0.750189</td>\n",
       "      <td>0.0348382</td>\n",
       "    </tr>\n",
       "    <tr>\n",
       "      <th>2</th>\n",
       "      <td>SVC</td>\n",
       "      <td>{'C': 1.0, 'break_ties': False, 'cache_size': ...</td>\n",
       "      <td>[0.9563953488372093, 0.958171206225681, 0.9530...</td>\n",
       "      <td>0.956912</td>\n",
       "      <td>[0.6487603305785123, 0.748, 0.7519083969465649...</td>\n",
       "      <td>0.73822</td>\n",
       "      <td>0.0513505</td>\n",
       "    </tr>\n",
       "    <tr>\n",
       "      <th>3</th>\n",
       "      <td>LinearSVC</td>\n",
       "      <td>{'C': 1.0, 'class_weight': None, 'dual': True,...</td>\n",
       "      <td>[0.8410852713178295, 0.8321984435797666, 0.836...</td>\n",
       "      <td>0.83542</td>\n",
       "      <td>[0.7066115702479339, 0.812, 0.683206106870229,...</td>\n",
       "      <td>0.731677</td>\n",
       "      <td>0.0448544</td>\n",
       "    </tr>\n",
       "  </tbody>\n",
       "</table>\n",
       "</div>"
      ],
      "text/plain": [
       "                     MLA Name  \\\n",
       "0  GradientBoostingClassifier   \n",
       "4               XGBClassifier   \n",
       "1      RandomForestClassifier   \n",
       "2                         SVC   \n",
       "3                   LinearSVC   \n",
       "\n",
       "                                      MLA Parameters  \\\n",
       "0  {'ccp_alpha': 0.0, 'criterion': 'friedman_mse'...   \n",
       "4  {'objective': 'binary:logistic', 'use_label_en...   \n",
       "1  {'bootstrap': True, 'ccp_alpha': 0.0, 'class_w...   \n",
       "2  {'C': 1.0, 'break_ties': False, 'cache_size': ...   \n",
       "3  {'C': 1.0, 'class_weight': None, 'dual': True,...   \n",
       "\n",
       "                                  MLA Train Accuracy MLA Train Accuracy Mean  \\\n",
       "0  [0.9602713178294574, 0.9722762645914397, 0.966...                0.962408   \n",
       "4  [1.0, 1.0, 1.0, 1.0, 1.0, 1.0, 1.0, 1.0, 1.0, ...                       1   \n",
       "1  [1.0, 1.0, 1.0, 1.0, 1.0, 1.0, 1.0, 1.0, 1.0, ...                       1   \n",
       "2  [0.9563953488372093, 0.958171206225681, 0.9530...                0.956912   \n",
       "3  [0.8410852713178295, 0.8321984435797666, 0.836...                 0.83542   \n",
       "\n",
       "                                   MLA Test Accuracy MLA Test Accuracy Mean  \\\n",
       "0  [0.7148760330578512, 0.776, 0.7900763358778626...                0.76422   \n",
       "4  [0.7355371900826446, 0.768, 0.7786259541984732...               0.764178   \n",
       "1  [0.6983471074380165, 0.752, 0.7824427480916031...               0.750189   \n",
       "2  [0.6487603305785123, 0.748, 0.7519083969465649...                0.73822   \n",
       "3  [0.7066115702479339, 0.812, 0.683206106870229,...               0.731677   \n",
       "\n",
       "  MLA Test Accuracy Std  \n",
       "0              0.026619  \n",
       "4             0.0298449  \n",
       "1             0.0348382  \n",
       "2             0.0513505  \n",
       "3             0.0448544  "
      ]
     },
     "execution_count": 61,
     "metadata": {},
     "output_type": "execute_result"
    }
   ],
   "source": [
    "MLA_breathe"
   ]
  },
  {
   "cell_type": "markdown",
   "metadata": {},
   "source": [
    "### Breath_1"
   ]
  },
  {
   "cell_type": "code",
   "execution_count": 35,
   "metadata": {},
   "outputs": [],
   "source": [
    "make_and_save_sets(Breath_1_dataframe, 'breath_1')"
   ]
  },
  {
   "cell_type": "code",
   "execution_count": 62,
   "metadata": {
    "collapsed": true
   },
   "outputs": [
    {
     "name": "stderr",
     "output_type": "stream",
     "text": [
      "100%|██████████| 10/10 [00:54<00:00,  5.45s/it]\n",
      "100%|██████████| 10/10 [00:15<00:00,  1.60s/it]\n",
      "100%|██████████| 10/10 [00:14<00:00,  1.49s/it]\n",
      "100%|██████████| 10/10 [00:04<00:00,  2.16it/s]\n",
      "  0%|          | 0/10 [00:00<?, ?it/s]"
     ]
    },
    {
     "name": "stdout",
     "output_type": "stream",
     "text": [
      "[14:54:41] WARNING: ../src/learner.cc:1061: Starting in XGBoost 1.3.0, the default evaluation metric used with the objective 'binary:logistic' was changed from 'error' to 'logloss'. Explicitly set eval_metric if you'd like to restore the old behavior.\n"
     ]
    },
    {
     "name": "stderr",
     "output_type": "stream",
     "text": [
      "\r",
      " 10%|█         | 1/10 [00:00<00:06,  1.41it/s]"
     ]
    },
    {
     "name": "stdout",
     "output_type": "stream",
     "text": [
      "[14:54:41] WARNING: ../src/learner.cc:1061: Starting in XGBoost 1.3.0, the default evaluation metric used with the objective 'binary:logistic' was changed from 'error' to 'logloss'. Explicitly set eval_metric if you'd like to restore the old behavior.\n"
     ]
    },
    {
     "name": "stderr",
     "output_type": "stream",
     "text": [
      "\r",
      " 20%|██        | 2/10 [00:01<00:05,  1.50it/s]"
     ]
    },
    {
     "name": "stdout",
     "output_type": "stream",
     "text": [
      "[14:54:42] WARNING: ../src/learner.cc:1061: Starting in XGBoost 1.3.0, the default evaluation metric used with the objective 'binary:logistic' was changed from 'error' to 'logloss'. Explicitly set eval_metric if you'd like to restore the old behavior.\n"
     ]
    },
    {
     "name": "stderr",
     "output_type": "stream",
     "text": [
      "\r",
      " 30%|███       | 3/10 [00:01<00:04,  1.52it/s]"
     ]
    },
    {
     "name": "stdout",
     "output_type": "stream",
     "text": [
      "[14:54:43] WARNING: ../src/learner.cc:1061: Starting in XGBoost 1.3.0, the default evaluation metric used with the objective 'binary:logistic' was changed from 'error' to 'logloss'. Explicitly set eval_metric if you'd like to restore the old behavior.\n"
     ]
    },
    {
     "name": "stderr",
     "output_type": "stream",
     "text": [
      "\r",
      " 40%|████      | 4/10 [00:02<00:03,  1.53it/s]"
     ]
    },
    {
     "name": "stdout",
     "output_type": "stream",
     "text": [
      "[14:54:43] WARNING: ../src/learner.cc:1061: Starting in XGBoost 1.3.0, the default evaluation metric used with the objective 'binary:logistic' was changed from 'error' to 'logloss'. Explicitly set eval_metric if you'd like to restore the old behavior.\n"
     ]
    },
    {
     "name": "stderr",
     "output_type": "stream",
     "text": [
      "\r",
      " 50%|█████     | 5/10 [00:03<00:03,  1.54it/s]"
     ]
    },
    {
     "name": "stdout",
     "output_type": "stream",
     "text": [
      "[14:54:44] WARNING: ../src/learner.cc:1061: Starting in XGBoost 1.3.0, the default evaluation metric used with the objective 'binary:logistic' was changed from 'error' to 'logloss'. Explicitly set eval_metric if you'd like to restore the old behavior.\n"
     ]
    },
    {
     "name": "stderr",
     "output_type": "stream",
     "text": [
      "\r",
      " 60%|██████    | 6/10 [00:03<00:02,  1.52it/s]"
     ]
    },
    {
     "name": "stdout",
     "output_type": "stream",
     "text": [
      "[14:54:45] WARNING: ../src/learner.cc:1061: Starting in XGBoost 1.3.0, the default evaluation metric used with the objective 'binary:logistic' was changed from 'error' to 'logloss'. Explicitly set eval_metric if you'd like to restore the old behavior.\n"
     ]
    },
    {
     "name": "stderr",
     "output_type": "stream",
     "text": [
      "\r",
      " 70%|███████   | 7/10 [00:04<00:01,  1.54it/s]"
     ]
    },
    {
     "name": "stdout",
     "output_type": "stream",
     "text": [
      "[14:54:45] WARNING: ../src/learner.cc:1061: Starting in XGBoost 1.3.0, the default evaluation metric used with the objective 'binary:logistic' was changed from 'error' to 'logloss'. Explicitly set eval_metric if you'd like to restore the old behavior.\n"
     ]
    },
    {
     "name": "stderr",
     "output_type": "stream",
     "text": [
      "\r",
      " 80%|████████  | 8/10 [00:05<00:01,  1.46it/s]"
     ]
    },
    {
     "name": "stdout",
     "output_type": "stream",
     "text": [
      "[14:54:46] WARNING: ../src/learner.cc:1061: Starting in XGBoost 1.3.0, the default evaluation metric used with the objective 'binary:logistic' was changed from 'error' to 'logloss'. Explicitly set eval_metric if you'd like to restore the old behavior.\n"
     ]
    },
    {
     "name": "stderr",
     "output_type": "stream",
     "text": [
      "\r",
      " 90%|█████████ | 9/10 [00:06<00:00,  1.45it/s]"
     ]
    },
    {
     "name": "stdout",
     "output_type": "stream",
     "text": [
      "[14:54:47] WARNING: ../src/learner.cc:1061: Starting in XGBoost 1.3.0, the default evaluation metric used with the objective 'binary:logistic' was changed from 'error' to 'logloss'. Explicitly set eval_metric if you'd like to restore the old behavior.\n"
     ]
    },
    {
     "name": "stderr",
     "output_type": "stream",
     "text": [
      "100%|██████████| 10/10 [00:06<00:00,  1.50it/s]\n"
     ]
    }
   ],
   "source": [
    "MLA_breathe_1 = MLA_selection(Breath_1_dataframe, 'breath_1')"
   ]
  },
  {
   "cell_type": "code",
   "execution_count": 63,
   "metadata": {},
   "outputs": [
    {
     "data": {
      "text/html": [
       "<div>\n",
       "<style scoped>\n",
       "    .dataframe tbody tr th:only-of-type {\n",
       "        vertical-align: middle;\n",
       "    }\n",
       "\n",
       "    .dataframe tbody tr th {\n",
       "        vertical-align: top;\n",
       "    }\n",
       "\n",
       "    .dataframe thead th {\n",
       "        text-align: right;\n",
       "    }\n",
       "</style>\n",
       "<table border=\"1\" class=\"dataframe\">\n",
       "  <thead>\n",
       "    <tr style=\"text-align: right;\">\n",
       "      <th></th>\n",
       "      <th>MLA Name</th>\n",
       "      <th>MLA Parameters</th>\n",
       "      <th>MLA Train Accuracy</th>\n",
       "      <th>MLA Train Accuracy Mean</th>\n",
       "      <th>MLA Test Accuracy</th>\n",
       "      <th>MLA Test Accuracy Mean</th>\n",
       "      <th>MLA Test Accuracy Std</th>\n",
       "    </tr>\n",
       "  </thead>\n",
       "  <tbody>\n",
       "    <tr>\n",
       "      <th>2</th>\n",
       "      <td>SVC</td>\n",
       "      <td>{'C': 1.0, 'break_ties': False, 'cache_size': ...</td>\n",
       "      <td>[0.9115216334467672, 0.9064642507345739, 0.909...</td>\n",
       "      <td>0.911477</td>\n",
       "      <td>[0.6546184738955824, 0.7196969696969697, 0.768...</td>\n",
       "      <td>0.715953</td>\n",
       "      <td>0.041384</td>\n",
       "    </tr>\n",
       "    <tr>\n",
       "      <th>1</th>\n",
       "      <td>RandomForestClassifier</td>\n",
       "      <td>{'bootstrap': True, 'ccp_alpha': 0.0, 'class_w...</td>\n",
       "      <td>[1.0, 1.0, 1.0, 1.0, 1.0, 1.0, 1.0, 1.0, 1.0, ...</td>\n",
       "      <td>1</td>\n",
       "      <td>[0.6465863453815262, 0.6818181818181818, 0.756...</td>\n",
       "      <td>0.708228</td>\n",
       "      <td>0.0435349</td>\n",
       "    </tr>\n",
       "    <tr>\n",
       "      <th>4</th>\n",
       "      <td>XGBClassifier</td>\n",
       "      <td>{'objective': 'binary:logistic', 'use_label_en...</td>\n",
       "      <td>[1.0, 1.0, 1.0, 1.0, 1.0, 1.0, 1.0, 1.0, 1.0, ...</td>\n",
       "      <td>1</td>\n",
       "      <td>[0.6746987951807228, 0.6590909090909091, 0.741...</td>\n",
       "      <td>0.698926</td>\n",
       "      <td>0.0349025</td>\n",
       "    </tr>\n",
       "    <tr>\n",
       "      <th>3</th>\n",
       "      <td>LinearSVC</td>\n",
       "      <td>{'C': 1.0, 'class_weight': None, 'dual': True,...</td>\n",
       "      <td>[0.7894992707826932, 0.7894221351616063, 0.775...</td>\n",
       "      <td>0.78429</td>\n",
       "      <td>[0.6305220883534136, 0.696969696969697, 0.7529...</td>\n",
       "      <td>0.695524</td>\n",
       "      <td>0.0490389</td>\n",
       "    </tr>\n",
       "    <tr>\n",
       "      <th>0</th>\n",
       "      <td>GradientBoostingClassifier</td>\n",
       "      <td>{'ccp_alpha': 0.0, 'criterion': 'friedman_mse'...</td>\n",
       "      <td>[0.9261059795819154, 0.9280117531831538, 0.919...</td>\n",
       "      <td>0.92486</td>\n",
       "      <td>[0.606425702811245, 0.6856060606060606, 0.7450...</td>\n",
       "      <td>0.682834</td>\n",
       "      <td>0.042769</td>\n",
       "    </tr>\n",
       "  </tbody>\n",
       "</table>\n",
       "</div>"
      ],
      "text/plain": [
       "                     MLA Name  \\\n",
       "2                         SVC   \n",
       "1      RandomForestClassifier   \n",
       "4               XGBClassifier   \n",
       "3                   LinearSVC   \n",
       "0  GradientBoostingClassifier   \n",
       "\n",
       "                                      MLA Parameters  \\\n",
       "2  {'C': 1.0, 'break_ties': False, 'cache_size': ...   \n",
       "1  {'bootstrap': True, 'ccp_alpha': 0.0, 'class_w...   \n",
       "4  {'objective': 'binary:logistic', 'use_label_en...   \n",
       "3  {'C': 1.0, 'class_weight': None, 'dual': True,...   \n",
       "0  {'ccp_alpha': 0.0, 'criterion': 'friedman_mse'...   \n",
       "\n",
       "                                  MLA Train Accuracy MLA Train Accuracy Mean  \\\n",
       "2  [0.9115216334467672, 0.9064642507345739, 0.909...                0.911477   \n",
       "1  [1.0, 1.0, 1.0, 1.0, 1.0, 1.0, 1.0, 1.0, 1.0, ...                       1   \n",
       "4  [1.0, 1.0, 1.0, 1.0, 1.0, 1.0, 1.0, 1.0, 1.0, ...                       1   \n",
       "3  [0.7894992707826932, 0.7894221351616063, 0.775...                 0.78429   \n",
       "0  [0.9261059795819154, 0.9280117531831538, 0.919...                 0.92486   \n",
       "\n",
       "                                   MLA Test Accuracy MLA Test Accuracy Mean  \\\n",
       "2  [0.6546184738955824, 0.7196969696969697, 0.768...               0.715953   \n",
       "1  [0.6465863453815262, 0.6818181818181818, 0.756...               0.708228   \n",
       "4  [0.6746987951807228, 0.6590909090909091, 0.741...               0.698926   \n",
       "3  [0.6305220883534136, 0.696969696969697, 0.7529...               0.695524   \n",
       "0  [0.606425702811245, 0.6856060606060606, 0.7450...               0.682834   \n",
       "\n",
       "  MLA Test Accuracy Std  \n",
       "2              0.041384  \n",
       "1             0.0435349  \n",
       "4             0.0349025  \n",
       "3             0.0490389  \n",
       "0              0.042769  "
      ]
     },
     "execution_count": 63,
     "metadata": {},
     "output_type": "execute_result"
    }
   ],
   "source": [
    "MLA_breathe_1"
   ]
  },
  {
   "cell_type": "code",
   "execution_count": null,
   "metadata": {},
   "outputs": [],
   "source": []
  },
  {
   "cell_type": "markdown",
   "metadata": {},
   "source": [
    "### Breath_2"
   ]
  },
  {
   "cell_type": "code",
   "execution_count": 38,
   "metadata": {},
   "outputs": [],
   "source": [
    "make_and_save_sets(Breath_2_dataframe, 'breath_2')"
   ]
  },
  {
   "cell_type": "code",
   "execution_count": 65,
   "metadata": {
    "collapsed": true
   },
   "outputs": [
    {
     "name": "stderr",
     "output_type": "stream",
     "text": [
      "100%|██████████| 10/10 [00:49<00:00,  4.96s/it]\n",
      "100%|██████████| 10/10 [00:14<00:00,  1.45s/it]\n",
      "100%|██████████| 10/10 [00:14<00:00,  1.47s/it]\n",
      "100%|██████████| 10/10 [00:04<00:00,  2.09it/s]\n",
      "  0%|          | 0/10 [00:00<?, ?it/s]"
     ]
    },
    {
     "name": "stdout",
     "output_type": "stream",
     "text": [
      "[14:56:12] WARNING: ../src/learner.cc:1061: Starting in XGBoost 1.3.0, the default evaluation metric used with the objective 'binary:logistic' was changed from 'error' to 'logloss'. Explicitly set eval_metric if you'd like to restore the old behavior.\n"
     ]
    },
    {
     "name": "stderr",
     "output_type": "stream",
     "text": [
      "\r",
      " 10%|█         | 1/10 [00:00<00:05,  1.55it/s]"
     ]
    },
    {
     "name": "stdout",
     "output_type": "stream",
     "text": [
      "[14:56:12] WARNING: ../src/learner.cc:1061: Starting in XGBoost 1.3.0, the default evaluation metric used with the objective 'binary:logistic' was changed from 'error' to 'logloss'. Explicitly set eval_metric if you'd like to restore the old behavior.\n"
     ]
    },
    {
     "name": "stderr",
     "output_type": "stream",
     "text": [
      "\r",
      " 20%|██        | 2/10 [00:01<00:05,  1.56it/s]"
     ]
    },
    {
     "name": "stdout",
     "output_type": "stream",
     "text": [
      "[14:56:13] WARNING: ../src/learner.cc:1061: Starting in XGBoost 1.3.0, the default evaluation metric used with the objective 'binary:logistic' was changed from 'error' to 'logloss'. Explicitly set eval_metric if you'd like to restore the old behavior.\n"
     ]
    },
    {
     "name": "stderr",
     "output_type": "stream",
     "text": [
      "\r",
      " 30%|███       | 3/10 [00:02<00:04,  1.47it/s]"
     ]
    },
    {
     "name": "stdout",
     "output_type": "stream",
     "text": [
      "[14:56:14] WARNING: ../src/learner.cc:1061: Starting in XGBoost 1.3.0, the default evaluation metric used with the objective 'binary:logistic' was changed from 'error' to 'logloss'. Explicitly set eval_metric if you'd like to restore the old behavior.\n"
     ]
    },
    {
     "name": "stderr",
     "output_type": "stream",
     "text": [
      "\r",
      " 40%|████      | 4/10 [00:02<00:04,  1.49it/s]"
     ]
    },
    {
     "name": "stdout",
     "output_type": "stream",
     "text": [
      "[14:56:14] WARNING: ../src/learner.cc:1061: Starting in XGBoost 1.3.0, the default evaluation metric used with the objective 'binary:logistic' was changed from 'error' to 'logloss'. Explicitly set eval_metric if you'd like to restore the old behavior.\n"
     ]
    },
    {
     "name": "stderr",
     "output_type": "stream",
     "text": [
      "\r",
      " 50%|█████     | 5/10 [00:03<00:03,  1.54it/s]"
     ]
    },
    {
     "name": "stdout",
     "output_type": "stream",
     "text": [
      "[14:56:15] WARNING: ../src/learner.cc:1061: Starting in XGBoost 1.3.0, the default evaluation metric used with the objective 'binary:logistic' was changed from 'error' to 'logloss'. Explicitly set eval_metric if you'd like to restore the old behavior.\n"
     ]
    },
    {
     "name": "stderr",
     "output_type": "stream",
     "text": [
      "\r",
      " 60%|██████    | 6/10 [00:04<00:02,  1.47it/s]"
     ]
    },
    {
     "name": "stdout",
     "output_type": "stream",
     "text": [
      "[14:56:16] WARNING: ../src/learner.cc:1061: Starting in XGBoost 1.3.0, the default evaluation metric used with the objective 'binary:logistic' was changed from 'error' to 'logloss'. Explicitly set eval_metric if you'd like to restore the old behavior.\n"
     ]
    },
    {
     "name": "stderr",
     "output_type": "stream",
     "text": [
      "\r",
      " 70%|███████   | 7/10 [00:04<00:01,  1.50it/s]"
     ]
    },
    {
     "name": "stdout",
     "output_type": "stream",
     "text": [
      "[14:56:16] WARNING: ../src/learner.cc:1061: Starting in XGBoost 1.3.0, the default evaluation metric used with the objective 'binary:logistic' was changed from 'error' to 'logloss'. Explicitly set eval_metric if you'd like to restore the old behavior.\n"
     ]
    },
    {
     "name": "stderr",
     "output_type": "stream",
     "text": [
      "\r",
      " 80%|████████  | 8/10 [00:05<00:01,  1.53it/s]"
     ]
    },
    {
     "name": "stdout",
     "output_type": "stream",
     "text": [
      "[14:56:17] WARNING: ../src/learner.cc:1061: Starting in XGBoost 1.3.0, the default evaluation metric used with the objective 'binary:logistic' was changed from 'error' to 'logloss'. Explicitly set eval_metric if you'd like to restore the old behavior.\n"
     ]
    },
    {
     "name": "stderr",
     "output_type": "stream",
     "text": [
      "\r",
      " 90%|█████████ | 9/10 [00:05<00:00,  1.57it/s]"
     ]
    },
    {
     "name": "stdout",
     "output_type": "stream",
     "text": [
      "[14:56:17] WARNING: ../src/learner.cc:1061: Starting in XGBoost 1.3.0, the default evaluation metric used with the objective 'binary:logistic' was changed from 'error' to 'logloss'. Explicitly set eval_metric if you'd like to restore the old behavior.\n"
     ]
    },
    {
     "name": "stderr",
     "output_type": "stream",
     "text": [
      "100%|██████████| 10/10 [00:06<00:00,  1.55it/s]\n"
     ]
    }
   ],
   "source": [
    "MLA_breathe_2 = MLA_selection(Breath_2_dataframe, 'breath_2')"
   ]
  },
  {
   "cell_type": "code",
   "execution_count": 66,
   "metadata": {},
   "outputs": [
    {
     "data": {
      "text/html": [
       "<div>\n",
       "<style scoped>\n",
       "    .dataframe tbody tr th:only-of-type {\n",
       "        vertical-align: middle;\n",
       "    }\n",
       "\n",
       "    .dataframe tbody tr th {\n",
       "        vertical-align: top;\n",
       "    }\n",
       "\n",
       "    .dataframe thead th {\n",
       "        text-align: right;\n",
       "    }\n",
       "</style>\n",
       "<table border=\"1\" class=\"dataframe\">\n",
       "  <thead>\n",
       "    <tr style=\"text-align: right;\">\n",
       "      <th></th>\n",
       "      <th>MLA Name</th>\n",
       "      <th>MLA Parameters</th>\n",
       "      <th>MLA Train Accuracy</th>\n",
       "      <th>MLA Train Accuracy Mean</th>\n",
       "      <th>MLA Test Accuracy</th>\n",
       "      <th>MLA Test Accuracy Mean</th>\n",
       "      <th>MLA Test Accuracy Std</th>\n",
       "    </tr>\n",
       "  </thead>\n",
       "  <tbody>\n",
       "    <tr>\n",
       "      <th>4</th>\n",
       "      <td>XGBClassifier</td>\n",
       "      <td>{'objective': 'binary:logistic', 'use_label_en...</td>\n",
       "      <td>[1.0, 1.0, 1.0, 1.0, 1.0, 1.0, 1.0, 1.0, 1.0, ...</td>\n",
       "      <td>1</td>\n",
       "      <td>[0.7366255144032922, 0.8607594936708861, 0.65,...</td>\n",
       "      <td>0.735733</td>\n",
       "      <td>0.0737277</td>\n",
       "    </tr>\n",
       "    <tr>\n",
       "      <th>0</th>\n",
       "      <td>GradientBoostingClassifier</td>\n",
       "      <td>{'ccp_alpha': 0.0, 'criterion': 'friedman_mse'...</td>\n",
       "      <td>[0.9510421715947649, 0.9453842435959401, 0.953...</td>\n",
       "      <td>0.949815</td>\n",
       "      <td>[0.7695473251028807, 0.8059071729957806, 0.692...</td>\n",
       "      <td>0.733199</td>\n",
       "      <td>0.0693068</td>\n",
       "    </tr>\n",
       "    <tr>\n",
       "      <th>2</th>\n",
       "      <td>SVC</td>\n",
       "      <td>{'C': 1.0, 'break_ties': False, 'cache_size': ...</td>\n",
       "      <td>[0.9360155113911779, 0.9376510391493476, 0.938...</td>\n",
       "      <td>0.939837</td>\n",
       "      <td>[0.7654320987654321, 0.7848101265822784, 0.630...</td>\n",
       "      <td>0.727105</td>\n",
       "      <td>0.0665275</td>\n",
       "    </tr>\n",
       "    <tr>\n",
       "      <th>3</th>\n",
       "      <td>LinearSVC</td>\n",
       "      <td>{'C': 1.0, 'class_weight': None, 'dual': True,...</td>\n",
       "      <td>[0.8221037324285022, 0.8158530691155147, 0.835...</td>\n",
       "      <td>0.827117</td>\n",
       "      <td>[0.7613168724279835, 0.7805907172995781, 0.611...</td>\n",
       "      <td>0.723726</td>\n",
       "      <td>0.058919</td>\n",
       "    </tr>\n",
       "    <tr>\n",
       "      <th>1</th>\n",
       "      <td>RandomForestClassifier</td>\n",
       "      <td>{'bootstrap': True, 'ccp_alpha': 0.0, 'class_w...</td>\n",
       "      <td>[1.0, 1.0, 1.0, 1.0, 1.0, 1.0, 1.0, 1.0, 1.0, ...</td>\n",
       "      <td>1</td>\n",
       "      <td>[0.7695473251028807, 0.8270042194092827, 0.611...</td>\n",
       "      <td>0.72334</td>\n",
       "      <td>0.0811724</td>\n",
       "    </tr>\n",
       "  </tbody>\n",
       "</table>\n",
       "</div>"
      ],
      "text/plain": [
       "                     MLA Name  \\\n",
       "4               XGBClassifier   \n",
       "0  GradientBoostingClassifier   \n",
       "2                         SVC   \n",
       "3                   LinearSVC   \n",
       "1      RandomForestClassifier   \n",
       "\n",
       "                                      MLA Parameters  \\\n",
       "4  {'objective': 'binary:logistic', 'use_label_en...   \n",
       "0  {'ccp_alpha': 0.0, 'criterion': 'friedman_mse'...   \n",
       "2  {'C': 1.0, 'break_ties': False, 'cache_size': ...   \n",
       "3  {'C': 1.0, 'class_weight': None, 'dual': True,...   \n",
       "1  {'bootstrap': True, 'ccp_alpha': 0.0, 'class_w...   \n",
       "\n",
       "                                  MLA Train Accuracy MLA Train Accuracy Mean  \\\n",
       "4  [1.0, 1.0, 1.0, 1.0, 1.0, 1.0, 1.0, 1.0, 1.0, ...                       1   \n",
       "0  [0.9510421715947649, 0.9453842435959401, 0.953...                0.949815   \n",
       "2  [0.9360155113911779, 0.9376510391493476, 0.938...                0.939837   \n",
       "3  [0.8221037324285022, 0.8158530691155147, 0.835...                0.827117   \n",
       "1  [1.0, 1.0, 1.0, 1.0, 1.0, 1.0, 1.0, 1.0, 1.0, ...                       1   \n",
       "\n",
       "                                   MLA Test Accuracy MLA Test Accuracy Mean  \\\n",
       "4  [0.7366255144032922, 0.8607594936708861, 0.65,...               0.735733   \n",
       "0  [0.7695473251028807, 0.8059071729957806, 0.692...               0.733199   \n",
       "2  [0.7654320987654321, 0.7848101265822784, 0.630...               0.727105   \n",
       "3  [0.7613168724279835, 0.7805907172995781, 0.611...               0.723726   \n",
       "1  [0.7695473251028807, 0.8270042194092827, 0.611...                0.72334   \n",
       "\n",
       "  MLA Test Accuracy Std  \n",
       "4             0.0737277  \n",
       "0             0.0693068  \n",
       "2             0.0665275  \n",
       "3              0.058919  \n",
       "1             0.0811724  "
      ]
     },
     "execution_count": 66,
     "metadata": {},
     "output_type": "execute_result"
    }
   ],
   "source": [
    "MLA_breathe_2"
   ]
  },
  {
   "cell_type": "code",
   "execution_count": null,
   "metadata": {},
   "outputs": [],
   "source": []
  },
  {
   "cell_type": "markdown",
   "metadata": {},
   "source": [
    "## Breath_3"
   ]
  },
  {
   "cell_type": "code",
   "execution_count": 41,
   "metadata": {},
   "outputs": [],
   "source": [
    "make_and_save_sets(Breath_3_dataframe, 'breath_3')"
   ]
  },
  {
   "cell_type": "code",
   "execution_count": 67,
   "metadata": {
    "collapsed": true
   },
   "outputs": [
    {
     "name": "stderr",
     "output_type": "stream",
     "text": [
      "100%|██████████| 10/10 [00:54<00:00,  5.45s/it]\n",
      "100%|██████████| 10/10 [00:09<00:00,  1.09it/s]\n",
      "100%|██████████| 10/10 [00:15<00:00,  1.52s/it]\n",
      "100%|██████████| 10/10 [00:04<00:00,  2.03it/s]\n",
      "  0%|          | 0/10 [00:00<?, ?it/s]"
     ]
    },
    {
     "name": "stdout",
     "output_type": "stream",
     "text": [
      "[14:57:42] WARNING: ../src/learner.cc:1061: Starting in XGBoost 1.3.0, the default evaluation metric used with the objective 'binary:logistic' was changed from 'error' to 'logloss'. Explicitly set eval_metric if you'd like to restore the old behavior.\n"
     ]
    },
    {
     "name": "stderr",
     "output_type": "stream",
     "text": [
      "\r",
      " 10%|█         | 1/10 [00:00<00:06,  1.41it/s]"
     ]
    },
    {
     "name": "stdout",
     "output_type": "stream",
     "text": [
      "[14:57:43] WARNING: ../src/learner.cc:1061: Starting in XGBoost 1.3.0, the default evaluation metric used with the objective 'binary:logistic' was changed from 'error' to 'logloss'. Explicitly set eval_metric if you'd like to restore the old behavior.\n"
     ]
    },
    {
     "name": "stderr",
     "output_type": "stream",
     "text": [
      "\r",
      " 20%|██        | 2/10 [00:01<00:05,  1.46it/s]"
     ]
    },
    {
     "name": "stdout",
     "output_type": "stream",
     "text": [
      "[14:57:43] WARNING: ../src/learner.cc:1061: Starting in XGBoost 1.3.0, the default evaluation metric used with the objective 'binary:logistic' was changed from 'error' to 'logloss'. Explicitly set eval_metric if you'd like to restore the old behavior.\n"
     ]
    },
    {
     "name": "stderr",
     "output_type": "stream",
     "text": [
      "\r",
      " 30%|███       | 3/10 [00:02<00:04,  1.51it/s]"
     ]
    },
    {
     "name": "stdout",
     "output_type": "stream",
     "text": [
      "[14:57:44] WARNING: ../src/learner.cc:1061: Starting in XGBoost 1.3.0, the default evaluation metric used with the objective 'binary:logistic' was changed from 'error' to 'logloss'. Explicitly set eval_metric if you'd like to restore the old behavior.\n"
     ]
    },
    {
     "name": "stderr",
     "output_type": "stream",
     "text": [
      "\r",
      " 40%|████      | 4/10 [00:02<00:03,  1.52it/s]"
     ]
    },
    {
     "name": "stdout",
     "output_type": "stream",
     "text": [
      "[14:57:45] WARNING: ../src/learner.cc:1061: Starting in XGBoost 1.3.0, the default evaluation metric used with the objective 'binary:logistic' was changed from 'error' to 'logloss'. Explicitly set eval_metric if you'd like to restore the old behavior.\n"
     ]
    },
    {
     "name": "stderr",
     "output_type": "stream",
     "text": [
      "\r",
      " 50%|█████     | 5/10 [00:03<00:03,  1.55it/s]"
     ]
    },
    {
     "name": "stdout",
     "output_type": "stream",
     "text": [
      "[14:57:45] WARNING: ../src/learner.cc:1061: Starting in XGBoost 1.3.0, the default evaluation metric used with the objective 'binary:logistic' was changed from 'error' to 'logloss'. Explicitly set eval_metric if you'd like to restore the old behavior.\n"
     ]
    },
    {
     "name": "stderr",
     "output_type": "stream",
     "text": [
      "\r",
      " 60%|██████    | 6/10 [00:03<00:02,  1.55it/s]"
     ]
    },
    {
     "name": "stdout",
     "output_type": "stream",
     "text": [
      "[14:57:46] WARNING: ../src/learner.cc:1061: Starting in XGBoost 1.3.0, the default evaluation metric used with the objective 'binary:logistic' was changed from 'error' to 'logloss'. Explicitly set eval_metric if you'd like to restore the old behavior.\n"
     ]
    },
    {
     "name": "stderr",
     "output_type": "stream",
     "text": [
      "\r",
      " 70%|███████   | 7/10 [00:04<00:01,  1.55it/s]"
     ]
    },
    {
     "name": "stdout",
     "output_type": "stream",
     "text": [
      "[14:57:47] WARNING: ../src/learner.cc:1061: Starting in XGBoost 1.3.0, the default evaluation metric used with the objective 'binary:logistic' was changed from 'error' to 'logloss'. Explicitly set eval_metric if you'd like to restore the old behavior.\n"
     ]
    },
    {
     "name": "stderr",
     "output_type": "stream",
     "text": [
      "\r",
      " 80%|████████  | 8/10 [00:05<00:01,  1.53it/s]"
     ]
    },
    {
     "name": "stdout",
     "output_type": "stream",
     "text": [
      "[14:57:47] WARNING: ../src/learner.cc:1061: Starting in XGBoost 1.3.0, the default evaluation metric used with the objective 'binary:logistic' was changed from 'error' to 'logloss'. Explicitly set eval_metric if you'd like to restore the old behavior.\n"
     ]
    },
    {
     "name": "stderr",
     "output_type": "stream",
     "text": [
      "\r",
      " 90%|█████████ | 9/10 [00:05<00:00,  1.53it/s]"
     ]
    },
    {
     "name": "stdout",
     "output_type": "stream",
     "text": [
      "[14:57:48] WARNING: ../src/learner.cc:1061: Starting in XGBoost 1.3.0, the default evaluation metric used with the objective 'binary:logistic' was changed from 'error' to 'logloss'. Explicitly set eval_metric if you'd like to restore the old behavior.\n"
     ]
    },
    {
     "name": "stderr",
     "output_type": "stream",
     "text": [
      "100%|██████████| 10/10 [00:06<00:00,  1.52it/s]\n"
     ]
    }
   ],
   "source": [
    "MLA_breathe_3 = MLA_selection(Breath_3_dataframe, 'breath_3')"
   ]
  },
  {
   "cell_type": "code",
   "execution_count": 68,
   "metadata": {},
   "outputs": [
    {
     "data": {
      "text/html": [
       "<div>\n",
       "<style scoped>\n",
       "    .dataframe tbody tr th:only-of-type {\n",
       "        vertical-align: middle;\n",
       "    }\n",
       "\n",
       "    .dataframe tbody tr th {\n",
       "        vertical-align: top;\n",
       "    }\n",
       "\n",
       "    .dataframe thead th {\n",
       "        text-align: right;\n",
       "    }\n",
       "</style>\n",
       "<table border=\"1\" class=\"dataframe\">\n",
       "  <thead>\n",
       "    <tr style=\"text-align: right;\">\n",
       "      <th></th>\n",
       "      <th>MLA Name</th>\n",
       "      <th>MLA Parameters</th>\n",
       "      <th>MLA Train Accuracy</th>\n",
       "      <th>MLA Train Accuracy Mean</th>\n",
       "      <th>MLA Test Accuracy</th>\n",
       "      <th>MLA Test Accuracy Mean</th>\n",
       "      <th>MLA Test Accuracy Std</th>\n",
       "    </tr>\n",
       "  </thead>\n",
       "  <tbody>\n",
       "    <tr>\n",
       "      <th>3</th>\n",
       "      <td>LinearSVC</td>\n",
       "      <td>{'C': 1.0, 'class_weight': None, 'dual': True,...</td>\n",
       "      <td>[0.8242597898758357, 0.8243831640058055, 0.816...</td>\n",
       "      <td>0.816199</td>\n",
       "      <td>[0.6933962264150944, 0.7071129707112971, 0.756...</td>\n",
       "      <td>0.760806</td>\n",
       "      <td>0.0474357</td>\n",
       "    </tr>\n",
       "    <tr>\n",
       "      <th>2</th>\n",
       "      <td>SVC</td>\n",
       "      <td>{'C': 1.0, 'break_ties': False, 'cache_size': ...</td>\n",
       "      <td>[0.9235912129894938, 0.9216255442670537, 0.923...</td>\n",
       "      <td>0.919384</td>\n",
       "      <td>[0.6839622641509434, 0.7405857740585774, 0.741...</td>\n",
       "      <td>0.758893</td>\n",
       "      <td>0.0444663</td>\n",
       "    </tr>\n",
       "    <tr>\n",
       "      <th>1</th>\n",
       "      <td>RandomForestClassifier</td>\n",
       "      <td>{'bootstrap': True, 'ccp_alpha': 0.0, 'class_w...</td>\n",
       "      <td>[1.0, 1.0, 1.0, 1.0, 1.0, 1.0, 1.0, 1.0, 1.0, ...</td>\n",
       "      <td>1</td>\n",
       "      <td>[0.6509433962264151, 0.7238493723849372, 0.745...</td>\n",
       "      <td>0.747235</td>\n",
       "      <td>0.0507716</td>\n",
       "    </tr>\n",
       "    <tr>\n",
       "      <th>4</th>\n",
       "      <td>XGBClassifier</td>\n",
       "      <td>{'objective': 'binary:logistic', 'use_label_en...</td>\n",
       "      <td>[1.0, 1.0, 1.0, 1.0, 1.0, 1.0, 1.0, 1.0, 1.0, ...</td>\n",
       "      <td>1</td>\n",
       "      <td>[0.6839622641509434, 0.7280334728033473, 0.749...</td>\n",
       "      <td>0.739164</td>\n",
       "      <td>0.0493696</td>\n",
       "    </tr>\n",
       "    <tr>\n",
       "      <th>0</th>\n",
       "      <td>GradientBoostingClassifier</td>\n",
       "      <td>{'ccp_alpha': 0.0, 'criterion': 'friedman_mse'...</td>\n",
       "      <td>[0.9283667621776505, 0.9269472665699081, 0.923...</td>\n",
       "      <td>0.92613</td>\n",
       "      <td>[0.6556603773584906, 0.698744769874477, 0.7414...</td>\n",
       "      <td>0.735363</td>\n",
       "      <td>0.0566528</td>\n",
       "    </tr>\n",
       "  </tbody>\n",
       "</table>\n",
       "</div>"
      ],
      "text/plain": [
       "                     MLA Name  \\\n",
       "3                   LinearSVC   \n",
       "2                         SVC   \n",
       "1      RandomForestClassifier   \n",
       "4               XGBClassifier   \n",
       "0  GradientBoostingClassifier   \n",
       "\n",
       "                                      MLA Parameters  \\\n",
       "3  {'C': 1.0, 'class_weight': None, 'dual': True,...   \n",
       "2  {'C': 1.0, 'break_ties': False, 'cache_size': ...   \n",
       "1  {'bootstrap': True, 'ccp_alpha': 0.0, 'class_w...   \n",
       "4  {'objective': 'binary:logistic', 'use_label_en...   \n",
       "0  {'ccp_alpha': 0.0, 'criterion': 'friedman_mse'...   \n",
       "\n",
       "                                  MLA Train Accuracy MLA Train Accuracy Mean  \\\n",
       "3  [0.8242597898758357, 0.8243831640058055, 0.816...                0.816199   \n",
       "2  [0.9235912129894938, 0.9216255442670537, 0.923...                0.919384   \n",
       "1  [1.0, 1.0, 1.0, 1.0, 1.0, 1.0, 1.0, 1.0, 1.0, ...                       1   \n",
       "4  [1.0, 1.0, 1.0, 1.0, 1.0, 1.0, 1.0, 1.0, 1.0, ...                       1   \n",
       "0  [0.9283667621776505, 0.9269472665699081, 0.923...                 0.92613   \n",
       "\n",
       "                                   MLA Test Accuracy MLA Test Accuracy Mean  \\\n",
       "3  [0.6933962264150944, 0.7071129707112971, 0.756...               0.760806   \n",
       "2  [0.6839622641509434, 0.7405857740585774, 0.741...               0.758893   \n",
       "1  [0.6509433962264151, 0.7238493723849372, 0.745...               0.747235   \n",
       "4  [0.6839622641509434, 0.7280334728033473, 0.749...               0.739164   \n",
       "0  [0.6556603773584906, 0.698744769874477, 0.7414...               0.735363   \n",
       "\n",
       "  MLA Test Accuracy Std  \n",
       "3             0.0474357  \n",
       "2             0.0444663  \n",
       "1             0.0507716  \n",
       "4             0.0493696  \n",
       "0             0.0566528  "
      ]
     },
     "execution_count": 68,
     "metadata": {},
     "output_type": "execute_result"
    }
   ],
   "source": [
    "MLA_breathe_3"
   ]
  },
  {
   "cell_type": "code",
   "execution_count": null,
   "metadata": {},
   "outputs": [],
   "source": [
    "pd.read_csv(\"./breathe_set_csv/t\")"
   ]
  },
  {
   "cell_type": "markdown",
   "metadata": {},
   "source": [
    "## Experiment 2"
   ]
  },
  {
   "cell_type": "code",
   "execution_count": 79,
   "metadata": {},
   "outputs": [],
   "source": [
    "Breath_dataframe_0 = pd.read_csv(\"./breath_csv/Breath_0.csv\")\n",
    "Breath_dataframe_5 = pd.read_csv(\"./breath_csv/Breath_5.csv\")\n",
    "Breath_dataframe_10 = pd.read_csv(\"./breath_csv/Breath_10.csv\")\n",
    "Breath_dataframe_15 = pd.read_csv(\"./breath_csv/Breath_15.csv\")\n",
    "Breath_dataframe_20 = pd.read_csv(\"./breath_csv/Breath_20.csv\")\n",
    "Breath_dataframe_25 = pd.read_csv(\"./breath_csv/Breath_25.csv\")\n",
    "Breath_dataframe_30 = pd.read_csv(\"./breath_csv/Breath_30.csv\")\n",
    "Breath_dataframe_35 = pd.read_csv(\"./breath_csv/Breath_35.csv\")\n",
    "Breath_dataframe_40 = pd.read_csv(\"./breath_csv/Breath_40.csv\")\n",
    "Breath_dataframe_45 = pd.read_csv(\"./breath_csv/Breath_45.csv\")\n",
    "Breath_dataframe_50 = pd.read_csv(\"./breath_csv/Breath_50.csv\")\n"
   ]
  },
  {
   "cell_type": "code",
   "execution_count": 91,
   "metadata": {},
   "outputs": [],
   "source": [
    "make_and_save_sets(Breath_dataframe_0, 'Breath_0')\n",
    "make_and_save_sets(Breath_dataframe_5, 'Breath_5')\n",
    "make_and_save_sets(Breath_dataframe_10, 'Breath_10')\n",
    "make_and_save_sets(Breath_dataframe_15, 'Breath_15')\n",
    "make_and_save_sets(Breath_dataframe_20, 'Breath_20')\n",
    "make_and_save_sets(Breath_dataframe_25, 'Breath_25')\n",
    "make_and_save_sets(Breath_dataframe_30, 'Breath_30')\n",
    "make_and_save_sets(Breath_dataframe_35, 'Breath_35')\n",
    "make_and_save_sets(Breath_dataframe_40, 'Breath_40')\n",
    "make_and_save_sets(Breath_dataframe_45, 'Breath_45')\n",
    "make_and_save_sets(Breath_dataframe_50, 'Breath_50')"
   ]
  },
  {
   "cell_type": "code",
   "execution_count": 95,
   "metadata": {
    "collapsed": true
   },
   "outputs": [
    {
     "name": "stderr",
     "output_type": "stream",
     "text": [
      "100%|██████████| 10/10 [00:49<00:00,  4.98s/it]\n",
      "100%|██████████| 10/10 [00:14<00:00,  1.49s/it]\n",
      "100%|██████████| 10/10 [00:14<00:00,  1.40s/it]\n",
      "100%|██████████| 10/10 [00:04<00:00,  2.08it/s]\n",
      "  0%|          | 0/10 [00:00<?, ?it/s]"
     ]
    },
    {
     "name": "stdout",
     "output_type": "stream",
     "text": [
      "[15:50:00] WARNING: ../src/learner.cc:1061: Starting in XGBoost 1.3.0, the default evaluation metric used with the objective 'binary:logistic' was changed from 'error' to 'logloss'. Explicitly set eval_metric if you'd like to restore the old behavior.\n"
     ]
    },
    {
     "name": "stderr",
     "output_type": "stream",
     "text": [
      "\r",
      " 10%|█         | 1/10 [00:01<00:14,  1.63s/it]"
     ]
    },
    {
     "name": "stdout",
     "output_type": "stream",
     "text": [
      "[15:50:02] WARNING: ../src/learner.cc:1061: Starting in XGBoost 1.3.0, the default evaluation metric used with the objective 'binary:logistic' was changed from 'error' to 'logloss'. Explicitly set eval_metric if you'd like to restore the old behavior.\n"
     ]
    },
    {
     "name": "stderr",
     "output_type": "stream",
     "text": [
      "\r",
      " 20%|██        | 2/10 [00:02<00:09,  1.24s/it]"
     ]
    },
    {
     "name": "stdout",
     "output_type": "stream",
     "text": [
      "[15:50:03] WARNING: ../src/learner.cc:1061: Starting in XGBoost 1.3.0, the default evaluation metric used with the objective 'binary:logistic' was changed from 'error' to 'logloss'. Explicitly set eval_metric if you'd like to restore the old behavior.\n"
     ]
    },
    {
     "name": "stderr",
     "output_type": "stream",
     "text": [
      "\r",
      " 30%|███       | 3/10 [00:03<00:06,  1.01it/s]"
     ]
    },
    {
     "name": "stdout",
     "output_type": "stream",
     "text": [
      "[15:50:03] WARNING: ../src/learner.cc:1061: Starting in XGBoost 1.3.0, the default evaluation metric used with the objective 'binary:logistic' was changed from 'error' to 'logloss'. Explicitly set eval_metric if you'd like to restore the old behavior.\n"
     ]
    },
    {
     "name": "stderr",
     "output_type": "stream",
     "text": [
      "\r",
      " 40%|████      | 4/10 [00:04<00:05,  1.10it/s]"
     ]
    },
    {
     "name": "stdout",
     "output_type": "stream",
     "text": [
      "[15:50:04] WARNING: ../src/learner.cc:1061: Starting in XGBoost 1.3.0, the default evaluation metric used with the objective 'binary:logistic' was changed from 'error' to 'logloss'. Explicitly set eval_metric if you'd like to restore the old behavior.\n"
     ]
    },
    {
     "name": "stderr",
     "output_type": "stream",
     "text": [
      "\r",
      " 50%|█████     | 5/10 [00:04<00:03,  1.25it/s]"
     ]
    },
    {
     "name": "stdout",
     "output_type": "stream",
     "text": [
      "[15:50:05] WARNING: ../src/learner.cc:1061: Starting in XGBoost 1.3.0, the default evaluation metric used with the objective 'binary:logistic' was changed from 'error' to 'logloss'. Explicitly set eval_metric if you'd like to restore the old behavior.\n"
     ]
    },
    {
     "name": "stderr",
     "output_type": "stream",
     "text": [
      "\r",
      " 60%|██████    | 6/10 [00:05<00:02,  1.36it/s]"
     ]
    },
    {
     "name": "stdout",
     "output_type": "stream",
     "text": [
      "[15:50:05] WARNING: ../src/learner.cc:1061: Starting in XGBoost 1.3.0, the default evaluation metric used with the objective 'binary:logistic' was changed from 'error' to 'logloss'. Explicitly set eval_metric if you'd like to restore the old behavior.\n"
     ]
    },
    {
     "name": "stderr",
     "output_type": "stream",
     "text": [
      "\r",
      " 70%|███████   | 7/10 [00:05<00:02,  1.46it/s]"
     ]
    },
    {
     "name": "stdout",
     "output_type": "stream",
     "text": [
      "[15:50:06] WARNING: ../src/learner.cc:1061: Starting in XGBoost 1.3.0, the default evaluation metric used with the objective 'binary:logistic' was changed from 'error' to 'logloss'. Explicitly set eval_metric if you'd like to restore the old behavior.\n"
     ]
    },
    {
     "name": "stderr",
     "output_type": "stream",
     "text": [
      "\r",
      " 80%|████████  | 8/10 [00:06<00:01,  1.50it/s]"
     ]
    },
    {
     "name": "stdout",
     "output_type": "stream",
     "text": [
      "[15:50:06] WARNING: ../src/learner.cc:1061: Starting in XGBoost 1.3.0, the default evaluation metric used with the objective 'binary:logistic' was changed from 'error' to 'logloss'. Explicitly set eval_metric if you'd like to restore the old behavior.\n"
     ]
    },
    {
     "name": "stderr",
     "output_type": "stream",
     "text": [
      "\r",
      " 90%|█████████ | 9/10 [00:07<00:00,  1.55it/s]"
     ]
    },
    {
     "name": "stdout",
     "output_type": "stream",
     "text": [
      "[15:50:07] WARNING: ../src/learner.cc:1061: Starting in XGBoost 1.3.0, the default evaluation metric used with the objective 'binary:logistic' was changed from 'error' to 'logloss'. Explicitly set eval_metric if you'd like to restore the old behavior.\n"
     ]
    },
    {
     "name": "stderr",
     "output_type": "stream",
     "text": [
      "100%|██████████| 10/10 [00:07<00:00,  1.30it/s]\n",
      "100%|██████████| 10/10 [00:32<00:00,  3.24s/it]\n",
      "100%|██████████| 10/10 [00:14<00:00,  1.46s/it]\n",
      "100%|██████████| 10/10 [00:13<00:00,  1.35s/it]\n",
      "100%|██████████| 10/10 [00:04<00:00,  2.13it/s]\n",
      "  0%|          | 0/10 [00:00<?, ?it/s]"
     ]
    },
    {
     "name": "stdout",
     "output_type": "stream",
     "text": [
      "[15:51:13] WARNING: ../src/learner.cc:1061: Starting in XGBoost 1.3.0, the default evaluation metric used with the objective 'binary:logistic' was changed from 'error' to 'logloss'. Explicitly set eval_metric if you'd like to restore the old behavior.\n"
     ]
    },
    {
     "name": "stderr",
     "output_type": "stream",
     "text": [
      "\r",
      " 10%|█         | 1/10 [00:00<00:05,  1.59it/s]"
     ]
    },
    {
     "name": "stdout",
     "output_type": "stream",
     "text": [
      "[15:51:14] WARNING: ../src/learner.cc:1061: Starting in XGBoost 1.3.0, the default evaluation metric used with the objective 'binary:logistic' was changed from 'error' to 'logloss'. Explicitly set eval_metric if you'd like to restore the old behavior.\n"
     ]
    },
    {
     "name": "stderr",
     "output_type": "stream",
     "text": [
      "\r",
      " 20%|██        | 2/10 [00:01<00:04,  1.66it/s]"
     ]
    },
    {
     "name": "stdout",
     "output_type": "stream",
     "text": [
      "[15:51:14] WARNING: ../src/learner.cc:1061: Starting in XGBoost 1.3.0, the default evaluation metric used with the objective 'binary:logistic' was changed from 'error' to 'logloss'. Explicitly set eval_metric if you'd like to restore the old behavior.\n"
     ]
    },
    {
     "name": "stderr",
     "output_type": "stream",
     "text": [
      "\r",
      " 30%|███       | 3/10 [00:01<00:04,  1.69it/s]"
     ]
    },
    {
     "name": "stdout",
     "output_type": "stream",
     "text": [
      "[15:51:15] WARNING: ../src/learner.cc:1061: Starting in XGBoost 1.3.0, the default evaluation metric used with the objective 'binary:logistic' was changed from 'error' to 'logloss'. Explicitly set eval_metric if you'd like to restore the old behavior.\n"
     ]
    },
    {
     "name": "stderr",
     "output_type": "stream",
     "text": [
      "\r",
      " 40%|████      | 4/10 [00:02<00:03,  1.70it/s]"
     ]
    },
    {
     "name": "stdout",
     "output_type": "stream",
     "text": [
      "[15:51:15] WARNING: ../src/learner.cc:1061: Starting in XGBoost 1.3.0, the default evaluation metric used with the objective 'binary:logistic' was changed from 'error' to 'logloss'. Explicitly set eval_metric if you'd like to restore the old behavior.\n"
     ]
    },
    {
     "name": "stderr",
     "output_type": "stream",
     "text": [
      "\r",
      " 50%|█████     | 5/10 [00:02<00:02,  1.71it/s]"
     ]
    },
    {
     "name": "stdout",
     "output_type": "stream",
     "text": [
      "[15:51:16] WARNING: ../src/learner.cc:1061: Starting in XGBoost 1.3.0, the default evaluation metric used with the objective 'binary:logistic' was changed from 'error' to 'logloss'. Explicitly set eval_metric if you'd like to restore the old behavior.\n"
     ]
    },
    {
     "name": "stderr",
     "output_type": "stream",
     "text": [
      "\r",
      " 60%|██████    | 6/10 [00:03<00:02,  1.71it/s]"
     ]
    },
    {
     "name": "stdout",
     "output_type": "stream",
     "text": [
      "[15:51:17] WARNING: ../src/learner.cc:1061: Starting in XGBoost 1.3.0, the default evaluation metric used with the objective 'binary:logistic' was changed from 'error' to 'logloss'. Explicitly set eval_metric if you'd like to restore the old behavior.\n"
     ]
    },
    {
     "name": "stderr",
     "output_type": "stream",
     "text": [
      "\r",
      " 70%|███████   | 7/10 [00:04<00:01,  1.71it/s]"
     ]
    },
    {
     "name": "stdout",
     "output_type": "stream",
     "text": [
      "[15:51:17] WARNING: ../src/learner.cc:1061: Starting in XGBoost 1.3.0, the default evaluation metric used with the objective 'binary:logistic' was changed from 'error' to 'logloss'. Explicitly set eval_metric if you'd like to restore the old behavior.\n"
     ]
    },
    {
     "name": "stderr",
     "output_type": "stream",
     "text": [
      "\r",
      " 80%|████████  | 8/10 [00:04<00:01,  1.67it/s]"
     ]
    },
    {
     "name": "stdout",
     "output_type": "stream",
     "text": [
      "[15:51:18] WARNING: ../src/learner.cc:1061: Starting in XGBoost 1.3.0, the default evaluation metric used with the objective 'binary:logistic' was changed from 'error' to 'logloss'. Explicitly set eval_metric if you'd like to restore the old behavior.\n"
     ]
    },
    {
     "name": "stderr",
     "output_type": "stream",
     "text": [
      "\r",
      " 90%|█████████ | 9/10 [00:05<00:00,  1.69it/s]"
     ]
    },
    {
     "name": "stdout",
     "output_type": "stream",
     "text": [
      "[15:51:18] WARNING: ../src/learner.cc:1061: Starting in XGBoost 1.3.0, the default evaluation metric used with the objective 'binary:logistic' was changed from 'error' to 'logloss'. Explicitly set eval_metric if you'd like to restore the old behavior.\n"
     ]
    },
    {
     "name": "stderr",
     "output_type": "stream",
     "text": [
      "100%|██████████| 10/10 [00:05<00:00,  1.69it/s]\n",
      "100%|██████████| 10/10 [00:52<00:00,  5.27s/it]\n",
      "100%|██████████| 10/10 [00:11<00:00,  1.17s/it]\n",
      "100%|██████████| 10/10 [00:14<00:00,  1.40s/it]\n",
      "100%|██████████| 10/10 [00:04<00:00,  2.09it/s]\n",
      "  0%|          | 0/10 [00:00<?, ?it/s]"
     ]
    },
    {
     "name": "stdout",
     "output_type": "stream",
     "text": [
      "[15:52:42] WARNING: ../src/learner.cc:1061: Starting in XGBoost 1.3.0, the default evaluation metric used with the objective 'binary:logistic' was changed from 'error' to 'logloss'. Explicitly set eval_metric if you'd like to restore the old behavior.\n"
     ]
    },
    {
     "name": "stderr",
     "output_type": "stream",
     "text": [
      "\r",
      " 10%|█         | 1/10 [00:00<00:05,  1.56it/s]"
     ]
    },
    {
     "name": "stdout",
     "output_type": "stream",
     "text": [
      "[15:52:43] WARNING: ../src/learner.cc:1061: Starting in XGBoost 1.3.0, the default evaluation metric used with the objective 'binary:logistic' was changed from 'error' to 'logloss'. Explicitly set eval_metric if you'd like to restore the old behavior.\n"
     ]
    },
    {
     "name": "stderr",
     "output_type": "stream",
     "text": [
      "\r",
      " 20%|██        | 2/10 [00:01<00:04,  1.65it/s]"
     ]
    },
    {
     "name": "stdout",
     "output_type": "stream",
     "text": [
      "[15:52:43] WARNING: ../src/learner.cc:1061: Starting in XGBoost 1.3.0, the default evaluation metric used with the objective 'binary:logistic' was changed from 'error' to 'logloss'. Explicitly set eval_metric if you'd like to restore the old behavior.\n"
     ]
    },
    {
     "name": "stderr",
     "output_type": "stream",
     "text": [
      "\r",
      " 30%|███       | 3/10 [00:01<00:04,  1.66it/s]"
     ]
    },
    {
     "name": "stdout",
     "output_type": "stream",
     "text": [
      "[15:52:44] WARNING: ../src/learner.cc:1061: Starting in XGBoost 1.3.0, the default evaluation metric used with the objective 'binary:logistic' was changed from 'error' to 'logloss'. Explicitly set eval_metric if you'd like to restore the old behavior.\n"
     ]
    },
    {
     "name": "stderr",
     "output_type": "stream",
     "text": [
      "\r",
      " 40%|████      | 4/10 [00:02<00:03,  1.66it/s]"
     ]
    },
    {
     "name": "stdout",
     "output_type": "stream",
     "text": [
      "[15:52:45] WARNING: ../src/learner.cc:1061: Starting in XGBoost 1.3.0, the default evaluation metric used with the objective 'binary:logistic' was changed from 'error' to 'logloss'. Explicitly set eval_metric if you'd like to restore the old behavior.\n"
     ]
    },
    {
     "name": "stderr",
     "output_type": "stream",
     "text": [
      "\r",
      " 50%|█████     | 5/10 [00:03<00:02,  1.67it/s]"
     ]
    },
    {
     "name": "stdout",
     "output_type": "stream",
     "text": [
      "[15:52:45] WARNING: ../src/learner.cc:1061: Starting in XGBoost 1.3.0, the default evaluation metric used with the objective 'binary:logistic' was changed from 'error' to 'logloss'. Explicitly set eval_metric if you'd like to restore the old behavior.\n"
     ]
    },
    {
     "name": "stderr",
     "output_type": "stream",
     "text": [
      "\r",
      " 60%|██████    | 6/10 [00:03<00:02,  1.69it/s]"
     ]
    },
    {
     "name": "stdout",
     "output_type": "stream",
     "text": [
      "[15:52:46] WARNING: ../src/learner.cc:1061: Starting in XGBoost 1.3.0, the default evaluation metric used with the objective 'binary:logistic' was changed from 'error' to 'logloss'. Explicitly set eval_metric if you'd like to restore the old behavior.\n"
     ]
    },
    {
     "name": "stderr",
     "output_type": "stream",
     "text": [
      "\r",
      " 70%|███████   | 7/10 [00:04<00:01,  1.70it/s]"
     ]
    },
    {
     "name": "stdout",
     "output_type": "stream",
     "text": [
      "[15:52:46] WARNING: ../src/learner.cc:1061: Starting in XGBoost 1.3.0, the default evaluation metric used with the objective 'binary:logistic' was changed from 'error' to 'logloss'. Explicitly set eval_metric if you'd like to restore the old behavior.\n"
     ]
    },
    {
     "name": "stderr",
     "output_type": "stream",
     "text": [
      "\r",
      " 80%|████████  | 8/10 [00:04<00:01,  1.69it/s]"
     ]
    },
    {
     "name": "stdout",
     "output_type": "stream",
     "text": [
      "[15:52:47] WARNING: ../src/learner.cc:1061: Starting in XGBoost 1.3.0, the default evaluation metric used with the objective 'binary:logistic' was changed from 'error' to 'logloss'. Explicitly set eval_metric if you'd like to restore the old behavior.\n"
     ]
    },
    {
     "name": "stderr",
     "output_type": "stream",
     "text": [
      "\r",
      " 90%|█████████ | 9/10 [00:05<00:00,  1.67it/s]"
     ]
    },
    {
     "name": "stdout",
     "output_type": "stream",
     "text": [
      "[15:52:48] WARNING: ../src/learner.cc:1061: Starting in XGBoost 1.3.0, the default evaluation metric used with the objective 'binary:logistic' was changed from 'error' to 'logloss'. Explicitly set eval_metric if you'd like to restore the old behavior.\n"
     ]
    },
    {
     "name": "stderr",
     "output_type": "stream",
     "text": [
      "100%|██████████| 10/10 [00:05<00:00,  1.67it/s]\n",
      "100%|██████████| 10/10 [00:41<00:00,  4.14s/it]\n",
      "100%|██████████| 10/10 [00:14<00:00,  1.48s/it]\n",
      "100%|██████████| 10/10 [00:13<00:00,  1.36s/it]\n",
      "100%|██████████| 10/10 [00:04<00:00,  2.17it/s]\n",
      "  0%|          | 0/10 [00:00<?, ?it/s]"
     ]
    },
    {
     "name": "stdout",
     "output_type": "stream",
     "text": [
      "[15:54:03] WARNING: ../src/learner.cc:1061: Starting in XGBoost 1.3.0, the default evaluation metric used with the objective 'binary:logistic' was changed from 'error' to 'logloss'. Explicitly set eval_metric if you'd like to restore the old behavior.\n"
     ]
    },
    {
     "name": "stderr",
     "output_type": "stream",
     "text": [
      "\r",
      " 10%|█         | 1/10 [00:00<00:05,  1.52it/s]"
     ]
    },
    {
     "name": "stdout",
     "output_type": "stream",
     "text": [
      "[15:54:03] WARNING: ../src/learner.cc:1061: Starting in XGBoost 1.3.0, the default evaluation metric used with the objective 'binary:logistic' was changed from 'error' to 'logloss'. Explicitly set eval_metric if you'd like to restore the old behavior.\n"
     ]
    },
    {
     "name": "stderr",
     "output_type": "stream",
     "text": [
      "\r",
      " 20%|██        | 2/10 [00:01<00:04,  1.65it/s]"
     ]
    },
    {
     "name": "stdout",
     "output_type": "stream",
     "text": [
      "[15:54:04] WARNING: ../src/learner.cc:1061: Starting in XGBoost 1.3.0, the default evaluation metric used with the objective 'binary:logistic' was changed from 'error' to 'logloss'. Explicitly set eval_metric if you'd like to restore the old behavior.\n"
     ]
    },
    {
     "name": "stderr",
     "output_type": "stream",
     "text": [
      "\r",
      " 30%|███       | 3/10 [00:01<00:04,  1.67it/s]"
     ]
    },
    {
     "name": "stdout",
     "output_type": "stream",
     "text": [
      "[15:54:04] WARNING: ../src/learner.cc:1061: Starting in XGBoost 1.3.0, the default evaluation metric used with the objective 'binary:logistic' was changed from 'error' to 'logloss'. Explicitly set eval_metric if you'd like to restore the old behavior.\n"
     ]
    },
    {
     "name": "stderr",
     "output_type": "stream",
     "text": [
      "\r",
      " 40%|████      | 4/10 [00:02<00:03,  1.69it/s]"
     ]
    },
    {
     "name": "stdout",
     "output_type": "stream",
     "text": [
      "[15:54:05] WARNING: ../src/learner.cc:1061: Starting in XGBoost 1.3.0, the default evaluation metric used with the objective 'binary:logistic' was changed from 'error' to 'logloss'. Explicitly set eval_metric if you'd like to restore the old behavior.\n"
     ]
    },
    {
     "name": "stderr",
     "output_type": "stream",
     "text": [
      "\r",
      " 50%|█████     | 5/10 [00:02<00:02,  1.69it/s]"
     ]
    },
    {
     "name": "stdout",
     "output_type": "stream",
     "text": [
      "[15:54:06] WARNING: ../src/learner.cc:1061: Starting in XGBoost 1.3.0, the default evaluation metric used with the objective 'binary:logistic' was changed from 'error' to 'logloss'. Explicitly set eval_metric if you'd like to restore the old behavior.\n"
     ]
    },
    {
     "name": "stderr",
     "output_type": "stream",
     "text": [
      "\r",
      " 60%|██████    | 6/10 [00:03<00:02,  1.70it/s]"
     ]
    },
    {
     "name": "stdout",
     "output_type": "stream",
     "text": [
      "[15:54:06] WARNING: ../src/learner.cc:1061: Starting in XGBoost 1.3.0, the default evaluation metric used with the objective 'binary:logistic' was changed from 'error' to 'logloss'. Explicitly set eval_metric if you'd like to restore the old behavior.\n"
     ]
    },
    {
     "name": "stderr",
     "output_type": "stream",
     "text": [
      "\r",
      " 70%|███████   | 7/10 [00:04<00:01,  1.71it/s]"
     ]
    },
    {
     "name": "stdout",
     "output_type": "stream",
     "text": [
      "[15:54:07] WARNING: ../src/learner.cc:1061: Starting in XGBoost 1.3.0, the default evaluation metric used with the objective 'binary:logistic' was changed from 'error' to 'logloss'. Explicitly set eval_metric if you'd like to restore the old behavior.\n"
     ]
    },
    {
     "name": "stderr",
     "output_type": "stream",
     "text": [
      "\r",
      " 80%|████████  | 8/10 [00:04<00:01,  1.70it/s]"
     ]
    },
    {
     "name": "stdout",
     "output_type": "stream",
     "text": [
      "[15:54:07] WARNING: ../src/learner.cc:1061: Starting in XGBoost 1.3.0, the default evaluation metric used with the objective 'binary:logistic' was changed from 'error' to 'logloss'. Explicitly set eval_metric if you'd like to restore the old behavior.\n"
     ]
    },
    {
     "name": "stderr",
     "output_type": "stream",
     "text": [
      "\r",
      " 90%|█████████ | 9/10 [00:05<00:00,  1.72it/s]"
     ]
    },
    {
     "name": "stdout",
     "output_type": "stream",
     "text": [
      "[15:54:08] WARNING: ../src/learner.cc:1061: Starting in XGBoost 1.3.0, the default evaluation metric used with the objective 'binary:logistic' was changed from 'error' to 'logloss'. Explicitly set eval_metric if you'd like to restore the old behavior.\n"
     ]
    },
    {
     "name": "stderr",
     "output_type": "stream",
     "text": [
      "100%|██████████| 10/10 [00:05<00:00,  1.69it/s]\n",
      "100%|██████████| 10/10 [00:31<00:00,  3.13s/it]\n",
      "100%|██████████| 10/10 [00:08<00:00,  1.15it/s]\n",
      "100%|██████████| 10/10 [00:12<00:00,  1.24s/it]\n",
      "100%|██████████| 10/10 [00:05<00:00,  1.94it/s]\n",
      "  0%|          | 0/10 [00:00<?, ?it/s]"
     ]
    },
    {
     "name": "stdout",
     "output_type": "stream",
     "text": [
      "[15:55:06] WARNING: ../src/learner.cc:1061: Starting in XGBoost 1.3.0, the default evaluation metric used with the objective 'binary:logistic' was changed from 'error' to 'logloss'. Explicitly set eval_metric if you'd like to restore the old behavior.\n"
     ]
    },
    {
     "name": "stderr",
     "output_type": "stream",
     "text": [
      "\r",
      " 10%|█         | 1/10 [00:00<00:06,  1.33it/s]"
     ]
    },
    {
     "name": "stdout",
     "output_type": "stream",
     "text": [
      "[15:55:07] WARNING: ../src/learner.cc:1061: Starting in XGBoost 1.3.0, the default evaluation metric used with the objective 'binary:logistic' was changed from 'error' to 'logloss'. Explicitly set eval_metric if you'd like to restore the old behavior.\n"
     ]
    },
    {
     "name": "stderr",
     "output_type": "stream",
     "text": [
      "\r",
      " 20%|██        | 2/10 [00:01<00:06,  1.32it/s]"
     ]
    },
    {
     "name": "stdout",
     "output_type": "stream",
     "text": [
      "[15:55:07] WARNING: ../src/learner.cc:1061: Starting in XGBoost 1.3.0, the default evaluation metric used with the objective 'binary:logistic' was changed from 'error' to 'logloss'. Explicitly set eval_metric if you'd like to restore the old behavior.\n"
     ]
    },
    {
     "name": "stderr",
     "output_type": "stream",
     "text": [
      "\r",
      " 30%|███       | 3/10 [00:02<00:05,  1.40it/s]"
     ]
    },
    {
     "name": "stdout",
     "output_type": "stream",
     "text": [
      "[15:55:08] WARNING: ../src/learner.cc:1061: Starting in XGBoost 1.3.0, the default evaluation metric used with the objective 'binary:logistic' was changed from 'error' to 'logloss'. Explicitly set eval_metric if you'd like to restore the old behavior.\n"
     ]
    },
    {
     "name": "stderr",
     "output_type": "stream",
     "text": [
      "\r",
      " 40%|████      | 4/10 [00:02<00:04,  1.43it/s]"
     ]
    },
    {
     "name": "stdout",
     "output_type": "stream",
     "text": [
      "[15:55:09] WARNING: ../src/learner.cc:1061: Starting in XGBoost 1.3.0, the default evaluation metric used with the objective 'binary:logistic' was changed from 'error' to 'logloss'. Explicitly set eval_metric if you'd like to restore the old behavior.\n"
     ]
    },
    {
     "name": "stderr",
     "output_type": "stream",
     "text": [
      "\r",
      " 50%|█████     | 5/10 [00:03<00:03,  1.50it/s]"
     ]
    },
    {
     "name": "stdout",
     "output_type": "stream",
     "text": [
      "[15:55:09] WARNING: ../src/learner.cc:1061: Starting in XGBoost 1.3.0, the default evaluation metric used with the objective 'binary:logistic' was changed from 'error' to 'logloss'. Explicitly set eval_metric if you'd like to restore the old behavior.\n"
     ]
    },
    {
     "name": "stderr",
     "output_type": "stream",
     "text": [
      "\r",
      " 60%|██████    | 6/10 [00:04<00:02,  1.41it/s]"
     ]
    },
    {
     "name": "stdout",
     "output_type": "stream",
     "text": [
      "[15:55:10] WARNING: ../src/learner.cc:1061: Starting in XGBoost 1.3.0, the default evaluation metric used with the objective 'binary:logistic' was changed from 'error' to 'logloss'. Explicitly set eval_metric if you'd like to restore the old behavior.\n"
     ]
    },
    {
     "name": "stderr",
     "output_type": "stream",
     "text": [
      "\r",
      " 70%|███████   | 7/10 [00:04<00:02,  1.45it/s]"
     ]
    },
    {
     "name": "stdout",
     "output_type": "stream",
     "text": [
      "[15:55:11] WARNING: ../src/learner.cc:1061: Starting in XGBoost 1.3.0, the default evaluation metric used with the objective 'binary:logistic' was changed from 'error' to 'logloss'. Explicitly set eval_metric if you'd like to restore the old behavior.\n"
     ]
    },
    {
     "name": "stderr",
     "output_type": "stream",
     "text": [
      "\r",
      " 80%|████████  | 8/10 [00:05<00:01,  1.49it/s]"
     ]
    },
    {
     "name": "stdout",
     "output_type": "stream",
     "text": [
      "[15:55:11] WARNING: ../src/learner.cc:1061: Starting in XGBoost 1.3.0, the default evaluation metric used with the objective 'binary:logistic' was changed from 'error' to 'logloss'. Explicitly set eval_metric if you'd like to restore the old behavior.\n"
     ]
    },
    {
     "name": "stderr",
     "output_type": "stream",
     "text": [
      "\r",
      " 90%|█████████ | 9/10 [00:06<00:00,  1.46it/s]"
     ]
    },
    {
     "name": "stdout",
     "output_type": "stream",
     "text": [
      "[15:55:12] WARNING: ../src/learner.cc:1061: Starting in XGBoost 1.3.0, the default evaluation metric used with the objective 'binary:logistic' was changed from 'error' to 'logloss'. Explicitly set eval_metric if you'd like to restore the old behavior.\n"
     ]
    },
    {
     "name": "stderr",
     "output_type": "stream",
     "text": [
      "100%|██████████| 10/10 [00:06<00:00,  1.43it/s]\n",
      "100%|██████████| 10/10 [00:53<00:00,  5.38s/it]\n",
      "100%|██████████| 10/10 [00:14<00:00,  1.48s/it]\n",
      "100%|██████████| 10/10 [00:13<00:00,  1.39s/it]\n",
      "100%|██████████| 10/10 [00:05<00:00,  1.84it/s]\n",
      "  0%|          | 0/10 [00:00<?, ?it/s]"
     ]
    },
    {
     "name": "stdout",
     "output_type": "stream",
     "text": [
      "[15:56:41] WARNING: ../src/learner.cc:1061: Starting in XGBoost 1.3.0, the default evaluation metric used with the objective 'binary:logistic' was changed from 'error' to 'logloss'. Explicitly set eval_metric if you'd like to restore the old behavior.\n"
     ]
    },
    {
     "name": "stderr",
     "output_type": "stream",
     "text": [
      "\r",
      " 10%|█         | 1/10 [00:01<00:10,  1.11s/it]"
     ]
    },
    {
     "name": "stdout",
     "output_type": "stream",
     "text": [
      "[15:56:42] WARNING: ../src/learner.cc:1061: Starting in XGBoost 1.3.0, the default evaluation metric used with the objective 'binary:logistic' was changed from 'error' to 'logloss'. Explicitly set eval_metric if you'd like to restore the old behavior.\n"
     ]
    },
    {
     "name": "stderr",
     "output_type": "stream",
     "text": [
      "\r",
      " 20%|██        | 2/10 [00:02<00:07,  1.00it/s]"
     ]
    },
    {
     "name": "stdout",
     "output_type": "stream",
     "text": [
      "[15:56:43] WARNING: ../src/learner.cc:1061: Starting in XGBoost 1.3.0, the default evaluation metric used with the objective 'binary:logistic' was changed from 'error' to 'logloss'. Explicitly set eval_metric if you'd like to restore the old behavior.\n"
     ]
    },
    {
     "name": "stderr",
     "output_type": "stream",
     "text": [
      "\r",
      " 30%|███       | 3/10 [00:02<00:06,  1.06it/s]"
     ]
    },
    {
     "name": "stdout",
     "output_type": "stream",
     "text": [
      "[15:56:44] WARNING: ../src/learner.cc:1061: Starting in XGBoost 1.3.0, the default evaluation metric used with the objective 'binary:logistic' was changed from 'error' to 'logloss'. Explicitly set eval_metric if you'd like to restore the old behavior.\n"
     ]
    },
    {
     "name": "stderr",
     "output_type": "stream",
     "text": [
      "\r",
      " 40%|████      | 4/10 [00:03<00:05,  1.04it/s]"
     ]
    },
    {
     "name": "stdout",
     "output_type": "stream",
     "text": [
      "[15:56:45] WARNING: ../src/learner.cc:1061: Starting in XGBoost 1.3.0, the default evaluation metric used with the objective 'binary:logistic' was changed from 'error' to 'logloss'. Explicitly set eval_metric if you'd like to restore the old behavior.\n"
     ]
    },
    {
     "name": "stderr",
     "output_type": "stream",
     "text": [
      "\r",
      " 50%|█████     | 5/10 [00:04<00:04,  1.04it/s]"
     ]
    },
    {
     "name": "stdout",
     "output_type": "stream",
     "text": [
      "[15:56:46] WARNING: ../src/learner.cc:1061: Starting in XGBoost 1.3.0, the default evaluation metric used with the objective 'binary:logistic' was changed from 'error' to 'logloss'. Explicitly set eval_metric if you'd like to restore the old behavior.\n"
     ]
    },
    {
     "name": "stderr",
     "output_type": "stream",
     "text": [
      "\r",
      " 60%|██████    | 6/10 [00:05<00:03,  1.07it/s]"
     ]
    },
    {
     "name": "stdout",
     "output_type": "stream",
     "text": [
      "[15:56:47] WARNING: ../src/learner.cc:1061: Starting in XGBoost 1.3.0, the default evaluation metric used with the objective 'binary:logistic' was changed from 'error' to 'logloss'. Explicitly set eval_metric if you'd like to restore the old behavior.\n"
     ]
    },
    {
     "name": "stderr",
     "output_type": "stream",
     "text": [
      "\r",
      " 70%|███████   | 7/10 [00:06<00:02,  1.07it/s]"
     ]
    },
    {
     "name": "stdout",
     "output_type": "stream",
     "text": [
      "[15:56:47] WARNING: ../src/learner.cc:1061: Starting in XGBoost 1.3.0, the default evaluation metric used with the objective 'binary:logistic' was changed from 'error' to 'logloss'. Explicitly set eval_metric if you'd like to restore the old behavior.\n"
     ]
    },
    {
     "name": "stderr",
     "output_type": "stream",
     "text": [
      "\r",
      " 80%|████████  | 8/10 [00:07<00:01,  1.09it/s]"
     ]
    },
    {
     "name": "stdout",
     "output_type": "stream",
     "text": [
      "[15:56:48] WARNING: ../src/learner.cc:1061: Starting in XGBoost 1.3.0, the default evaluation metric used with the objective 'binary:logistic' was changed from 'error' to 'logloss'. Explicitly set eval_metric if you'd like to restore the old behavior.\n"
     ]
    },
    {
     "name": "stderr",
     "output_type": "stream",
     "text": [
      "\r",
      " 90%|█████████ | 9/10 [00:08<00:00,  1.10it/s]"
     ]
    },
    {
     "name": "stdout",
     "output_type": "stream",
     "text": [
      "[15:56:49] WARNING: ../src/learner.cc:1061: Starting in XGBoost 1.3.0, the default evaluation metric used with the objective 'binary:logistic' was changed from 'error' to 'logloss'. Explicitly set eval_metric if you'd like to restore the old behavior.\n"
     ]
    },
    {
     "name": "stderr",
     "output_type": "stream",
     "text": [
      "100%|██████████| 10/10 [00:09<00:00,  1.07it/s]\n",
      "100%|██████████| 10/10 [00:53<00:00,  5.33s/it]\n",
      "100%|██████████| 10/10 [00:14<00:00,  1.48s/it]\n",
      "100%|██████████| 10/10 [00:13<00:00,  1.34s/it]\n",
      "100%|██████████| 10/10 [00:05<00:00,  1.84it/s]\n",
      "  0%|          | 0/10 [00:00<?, ?it/s]"
     ]
    },
    {
     "name": "stdout",
     "output_type": "stream",
     "text": [
      "[15:58:17] WARNING: ../src/learner.cc:1061: Starting in XGBoost 1.3.0, the default evaluation metric used with the objective 'binary:logistic' was changed from 'error' to 'logloss'. Explicitly set eval_metric if you'd like to restore the old behavior.\n"
     ]
    },
    {
     "name": "stderr",
     "output_type": "stream",
     "text": [
      "\r",
      " 10%|█         | 1/10 [00:01<00:09,  1.02s/it]"
     ]
    },
    {
     "name": "stdout",
     "output_type": "stream",
     "text": [
      "[15:58:18] WARNING: ../src/learner.cc:1061: Starting in XGBoost 1.3.0, the default evaluation metric used with the objective 'binary:logistic' was changed from 'error' to 'logloss'. Explicitly set eval_metric if you'd like to restore the old behavior.\n"
     ]
    },
    {
     "name": "stderr",
     "output_type": "stream",
     "text": [
      "\r",
      " 20%|██        | 2/10 [00:01<00:07,  1.04it/s]"
     ]
    },
    {
     "name": "stdout",
     "output_type": "stream",
     "text": [
      "[15:58:19] WARNING: ../src/learner.cc:1061: Starting in XGBoost 1.3.0, the default evaluation metric used with the objective 'binary:logistic' was changed from 'error' to 'logloss'. Explicitly set eval_metric if you'd like to restore the old behavior.\n"
     ]
    },
    {
     "name": "stderr",
     "output_type": "stream",
     "text": [
      "\r",
      " 30%|███       | 3/10 [00:02<00:06,  1.08it/s]"
     ]
    },
    {
     "name": "stdout",
     "output_type": "stream",
     "text": [
      "[15:58:20] WARNING: ../src/learner.cc:1061: Starting in XGBoost 1.3.0, the default evaluation metric used with the objective 'binary:logistic' was changed from 'error' to 'logloss'. Explicitly set eval_metric if you'd like to restore the old behavior.\n"
     ]
    },
    {
     "name": "stderr",
     "output_type": "stream",
     "text": [
      "\r",
      " 40%|████      | 4/10 [00:03<00:05,  1.09it/s]"
     ]
    },
    {
     "name": "stdout",
     "output_type": "stream",
     "text": [
      "[15:58:21] WARNING: ../src/learner.cc:1061: Starting in XGBoost 1.3.0, the default evaluation metric used with the objective 'binary:logistic' was changed from 'error' to 'logloss'. Explicitly set eval_metric if you'd like to restore the old behavior.\n"
     ]
    },
    {
     "name": "stderr",
     "output_type": "stream",
     "text": [
      "\r",
      " 50%|█████     | 5/10 [00:04<00:04,  1.10it/s]"
     ]
    },
    {
     "name": "stdout",
     "output_type": "stream",
     "text": [
      "[15:58:22] WARNING: ../src/learner.cc:1061: Starting in XGBoost 1.3.0, the default evaluation metric used with the objective 'binary:logistic' was changed from 'error' to 'logloss'. Explicitly set eval_metric if you'd like to restore the old behavior.\n"
     ]
    },
    {
     "name": "stderr",
     "output_type": "stream",
     "text": [
      "\r",
      " 60%|██████    | 6/10 [00:05<00:03,  1.11it/s]"
     ]
    },
    {
     "name": "stdout",
     "output_type": "stream",
     "text": [
      "[15:58:23] WARNING: ../src/learner.cc:1061: Starting in XGBoost 1.3.0, the default evaluation metric used with the objective 'binary:logistic' was changed from 'error' to 'logloss'. Explicitly set eval_metric if you'd like to restore the old behavior.\n"
     ]
    },
    {
     "name": "stderr",
     "output_type": "stream",
     "text": [
      "\r",
      " 70%|███████   | 7/10 [00:06<00:02,  1.12it/s]"
     ]
    },
    {
     "name": "stdout",
     "output_type": "stream",
     "text": [
      "[15:58:23] WARNING: ../src/learner.cc:1061: Starting in XGBoost 1.3.0, the default evaluation metric used with the objective 'binary:logistic' was changed from 'error' to 'logloss'. Explicitly set eval_metric if you'd like to restore the old behavior.\n"
     ]
    },
    {
     "name": "stderr",
     "output_type": "stream",
     "text": [
      "\r",
      " 80%|████████  | 8/10 [00:07<00:01,  1.12it/s]"
     ]
    },
    {
     "name": "stdout",
     "output_type": "stream",
     "text": [
      "[15:58:24] WARNING: ../src/learner.cc:1061: Starting in XGBoost 1.3.0, the default evaluation metric used with the objective 'binary:logistic' was changed from 'error' to 'logloss'. Explicitly set eval_metric if you'd like to restore the old behavior.\n"
     ]
    },
    {
     "name": "stderr",
     "output_type": "stream",
     "text": [
      "\r",
      " 90%|█████████ | 9/10 [00:08<00:00,  1.11it/s]"
     ]
    },
    {
     "name": "stdout",
     "output_type": "stream",
     "text": [
      "[15:58:25] WARNING: ../src/learner.cc:1061: Starting in XGBoost 1.3.0, the default evaluation metric used with the objective 'binary:logistic' was changed from 'error' to 'logloss'. Explicitly set eval_metric if you'd like to restore the old behavior.\n"
     ]
    },
    {
     "name": "stderr",
     "output_type": "stream",
     "text": [
      "100%|██████████| 10/10 [00:09<00:00,  1.10it/s]\n",
      "100%|██████████| 10/10 [00:53<00:00,  5.34s/it]\n",
      "100%|██████████| 10/10 [00:14<00:00,  1.48s/it]\n",
      "100%|██████████| 10/10 [00:13<00:00,  1.37s/it]\n",
      "100%|██████████| 10/10 [00:05<00:00,  1.85it/s]\n",
      "  0%|          | 0/10 [00:00<?, ?it/s]"
     ]
    },
    {
     "name": "stdout",
     "output_type": "stream",
     "text": [
      "[15:59:54] WARNING: ../src/learner.cc:1061: Starting in XGBoost 1.3.0, the default evaluation metric used with the objective 'binary:logistic' was changed from 'error' to 'logloss'. Explicitly set eval_metric if you'd like to restore the old behavior.\n"
     ]
    },
    {
     "name": "stderr",
     "output_type": "stream",
     "text": [
      "\r",
      " 10%|█         | 1/10 [00:00<00:08,  1.02it/s]"
     ]
    },
    {
     "name": "stdout",
     "output_type": "stream",
     "text": [
      "[15:59:54] WARNING: ../src/learner.cc:1061: Starting in XGBoost 1.3.0, the default evaluation metric used with the objective 'binary:logistic' was changed from 'error' to 'logloss'. Explicitly set eval_metric if you'd like to restore the old behavior.\n"
     ]
    },
    {
     "name": "stderr",
     "output_type": "stream",
     "text": [
      "\r",
      " 20%|██        | 2/10 [00:01<00:07,  1.08it/s]"
     ]
    },
    {
     "name": "stdout",
     "output_type": "stream",
     "text": [
      "[15:59:55] WARNING: ../src/learner.cc:1061: Starting in XGBoost 1.3.0, the default evaluation metric used with the objective 'binary:logistic' was changed from 'error' to 'logloss'. Explicitly set eval_metric if you'd like to restore the old behavior.\n"
     ]
    },
    {
     "name": "stderr",
     "output_type": "stream",
     "text": [
      "\r",
      " 30%|███       | 3/10 [00:02<00:06,  1.11it/s]"
     ]
    },
    {
     "name": "stdout",
     "output_type": "stream",
     "text": [
      "[15:59:56] WARNING: ../src/learner.cc:1061: Starting in XGBoost 1.3.0, the default evaluation metric used with the objective 'binary:logistic' was changed from 'error' to 'logloss'. Explicitly set eval_metric if you'd like to restore the old behavior.\n"
     ]
    },
    {
     "name": "stderr",
     "output_type": "stream",
     "text": [
      "\r",
      " 40%|████      | 4/10 [00:03<00:05,  1.11it/s]"
     ]
    },
    {
     "name": "stdout",
     "output_type": "stream",
     "text": [
      "[15:59:57] WARNING: ../src/learner.cc:1061: Starting in XGBoost 1.3.0, the default evaluation metric used with the objective 'binary:logistic' was changed from 'error' to 'logloss'. Explicitly set eval_metric if you'd like to restore the old behavior.\n"
     ]
    },
    {
     "name": "stderr",
     "output_type": "stream",
     "text": [
      "\r",
      " 50%|█████     | 5/10 [00:04<00:04,  1.10it/s]"
     ]
    },
    {
     "name": "stdout",
     "output_type": "stream",
     "text": [
      "[15:59:58] WARNING: ../src/learner.cc:1061: Starting in XGBoost 1.3.0, the default evaluation metric used with the objective 'binary:logistic' was changed from 'error' to 'logloss'. Explicitly set eval_metric if you'd like to restore the old behavior.\n"
     ]
    },
    {
     "name": "stderr",
     "output_type": "stream",
     "text": [
      "\r",
      " 60%|██████    | 6/10 [00:05<00:03,  1.12it/s]"
     ]
    },
    {
     "name": "stdout",
     "output_type": "stream",
     "text": [
      "[15:59:59] WARNING: ../src/learner.cc:1061: Starting in XGBoost 1.3.0, the default evaluation metric used with the objective 'binary:logistic' was changed from 'error' to 'logloss'. Explicitly set eval_metric if you'd like to restore the old behavior.\n"
     ]
    },
    {
     "name": "stderr",
     "output_type": "stream",
     "text": [
      "\r",
      " 70%|███████   | 7/10 [00:06<00:02,  1.11it/s]"
     ]
    },
    {
     "name": "stdout",
     "output_type": "stream",
     "text": [
      "[16:00:00] WARNING: ../src/learner.cc:1061: Starting in XGBoost 1.3.0, the default evaluation metric used with the objective 'binary:logistic' was changed from 'error' to 'logloss'. Explicitly set eval_metric if you'd like to restore the old behavior.\n"
     ]
    },
    {
     "name": "stderr",
     "output_type": "stream",
     "text": [
      "\r",
      " 80%|████████  | 8/10 [00:07<00:01,  1.12it/s]"
     ]
    },
    {
     "name": "stdout",
     "output_type": "stream",
     "text": [
      "[16:00:01] WARNING: ../src/learner.cc:1061: Starting in XGBoost 1.3.0, the default evaluation metric used with the objective 'binary:logistic' was changed from 'error' to 'logloss'. Explicitly set eval_metric if you'd like to restore the old behavior.\n"
     ]
    },
    {
     "name": "stderr",
     "output_type": "stream",
     "text": [
      "\r",
      " 90%|█████████ | 9/10 [00:08<00:00,  1.13it/s]"
     ]
    },
    {
     "name": "stdout",
     "output_type": "stream",
     "text": [
      "[16:00:02] WARNING: ../src/learner.cc:1061: Starting in XGBoost 1.3.0, the default evaluation metric used with the objective 'binary:logistic' was changed from 'error' to 'logloss'. Explicitly set eval_metric if you'd like to restore the old behavior.\n"
     ]
    },
    {
     "name": "stderr",
     "output_type": "stream",
     "text": [
      "100%|██████████| 10/10 [00:09<00:00,  1.11it/s]\n",
      "100%|██████████| 10/10 [00:53<00:00,  5.35s/it]\n",
      "100%|██████████| 10/10 [00:14<00:00,  1.49s/it]\n",
      "100%|██████████| 10/10 [00:13<00:00,  1.39s/it]\n",
      "100%|██████████| 10/10 [00:05<00:00,  1.78it/s]\n",
      "  0%|          | 0/10 [00:00<?, ?it/s]"
     ]
    },
    {
     "name": "stdout",
     "output_type": "stream",
     "text": [
      "[16:01:30] WARNING: ../src/learner.cc:1061: Starting in XGBoost 1.3.0, the default evaluation metric used with the objective 'binary:logistic' was changed from 'error' to 'logloss'. Explicitly set eval_metric if you'd like to restore the old behavior.\n"
     ]
    },
    {
     "name": "stderr",
     "output_type": "stream",
     "text": [
      "\r",
      " 10%|█         | 1/10 [00:01<00:09,  1.06s/it]"
     ]
    },
    {
     "name": "stdout",
     "output_type": "stream",
     "text": [
      "[16:01:32] WARNING: ../src/learner.cc:1061: Starting in XGBoost 1.3.0, the default evaluation metric used with the objective 'binary:logistic' was changed from 'error' to 'logloss'. Explicitly set eval_metric if you'd like to restore the old behavior.\n"
     ]
    },
    {
     "name": "stderr",
     "output_type": "stream",
     "text": [
      "\r",
      " 20%|██        | 2/10 [00:01<00:07,  1.03it/s]"
     ]
    },
    {
     "name": "stdout",
     "output_type": "stream",
     "text": [
      "[16:01:32] WARNING: ../src/learner.cc:1061: Starting in XGBoost 1.3.0, the default evaluation metric used with the objective 'binary:logistic' was changed from 'error' to 'logloss'. Explicitly set eval_metric if you'd like to restore the old behavior.\n"
     ]
    },
    {
     "name": "stderr",
     "output_type": "stream",
     "text": [
      "\r",
      " 30%|███       | 3/10 [00:02<00:06,  1.08it/s]"
     ]
    },
    {
     "name": "stdout",
     "output_type": "stream",
     "text": [
      "[16:01:33] WARNING: ../src/learner.cc:1061: Starting in XGBoost 1.3.0, the default evaluation metric used with the objective 'binary:logistic' was changed from 'error' to 'logloss'. Explicitly set eval_metric if you'd like to restore the old behavior.\n"
     ]
    },
    {
     "name": "stderr",
     "output_type": "stream",
     "text": [
      "\r",
      " 40%|████      | 4/10 [00:03<00:05,  1.09it/s]"
     ]
    },
    {
     "name": "stdout",
     "output_type": "stream",
     "text": [
      "[16:01:34] WARNING: ../src/learner.cc:1061: Starting in XGBoost 1.3.0, the default evaluation metric used with the objective 'binary:logistic' was changed from 'error' to 'logloss'. Explicitly set eval_metric if you'd like to restore the old behavior.\n"
     ]
    },
    {
     "name": "stderr",
     "output_type": "stream",
     "text": [
      "\r",
      " 50%|█████     | 5/10 [00:04<00:04,  1.09it/s]"
     ]
    },
    {
     "name": "stdout",
     "output_type": "stream",
     "text": [
      "[16:01:35] WARNING: ../src/learner.cc:1061: Starting in XGBoost 1.3.0, the default evaluation metric used with the objective 'binary:logistic' was changed from 'error' to 'logloss'. Explicitly set eval_metric if you'd like to restore the old behavior.\n"
     ]
    },
    {
     "name": "stderr",
     "output_type": "stream",
     "text": [
      "\r",
      " 60%|██████    | 6/10 [00:05<00:03,  1.11it/s]"
     ]
    },
    {
     "name": "stdout",
     "output_type": "stream",
     "text": [
      "[16:01:36] WARNING: ../src/learner.cc:1061: Starting in XGBoost 1.3.0, the default evaluation metric used with the objective 'binary:logistic' was changed from 'error' to 'logloss'. Explicitly set eval_metric if you'd like to restore the old behavior.\n"
     ]
    },
    {
     "name": "stderr",
     "output_type": "stream",
     "text": [
      "\r",
      " 70%|███████   | 7/10 [00:06<00:02,  1.11it/s]"
     ]
    },
    {
     "name": "stdout",
     "output_type": "stream",
     "text": [
      "[16:01:37] WARNING: ../src/learner.cc:1061: Starting in XGBoost 1.3.0, the default evaluation metric used with the objective 'binary:logistic' was changed from 'error' to 'logloss'. Explicitly set eval_metric if you'd like to restore the old behavior.\n"
     ]
    },
    {
     "name": "stderr",
     "output_type": "stream",
     "text": [
      "\r",
      " 80%|████████  | 8/10 [00:07<00:01,  1.11it/s]"
     ]
    },
    {
     "name": "stdout",
     "output_type": "stream",
     "text": [
      "[16:01:38] WARNING: ../src/learner.cc:1061: Starting in XGBoost 1.3.0, the default evaluation metric used with the objective 'binary:logistic' was changed from 'error' to 'logloss'. Explicitly set eval_metric if you'd like to restore the old behavior.\n"
     ]
    },
    {
     "name": "stderr",
     "output_type": "stream",
     "text": [
      "\r",
      " 90%|█████████ | 9/10 [00:08<00:00,  1.11it/s]"
     ]
    },
    {
     "name": "stdout",
     "output_type": "stream",
     "text": [
      "[16:01:39] WARNING: ../src/learner.cc:1061: Starting in XGBoost 1.3.0, the default evaluation metric used with the objective 'binary:logistic' was changed from 'error' to 'logloss'. Explicitly set eval_metric if you'd like to restore the old behavior.\n"
     ]
    },
    {
     "name": "stderr",
     "output_type": "stream",
     "text": [
      "100%|██████████| 10/10 [00:09<00:00,  1.10it/s]\n",
      "100%|██████████| 10/10 [00:53<00:00,  5.35s/it]\n",
      "100%|██████████| 10/10 [00:15<00:00,  1.51s/it]\n",
      "100%|██████████| 10/10 [00:13<00:00,  1.40s/it]\n",
      "100%|██████████| 10/10 [00:05<00:00,  1.75it/s]\n",
      "  0%|          | 0/10 [00:00<?, ?it/s]"
     ]
    },
    {
     "name": "stdout",
     "output_type": "stream",
     "text": [
      "[16:03:08] WARNING: ../src/learner.cc:1061: Starting in XGBoost 1.3.0, the default evaluation metric used with the objective 'binary:logistic' was changed from 'error' to 'logloss'. Explicitly set eval_metric if you'd like to restore the old behavior.\n"
     ]
    },
    {
     "name": "stderr",
     "output_type": "stream",
     "text": [
      "\r",
      " 10%|█         | 1/10 [00:00<00:08,  1.03it/s]"
     ]
    },
    {
     "name": "stdout",
     "output_type": "stream",
     "text": [
      "[16:03:09] WARNING: ../src/learner.cc:1061: Starting in XGBoost 1.3.0, the default evaluation metric used with the objective 'binary:logistic' was changed from 'error' to 'logloss'. Explicitly set eval_metric if you'd like to restore the old behavior.\n"
     ]
    },
    {
     "name": "stderr",
     "output_type": "stream",
     "text": [
      "\r",
      " 20%|██        | 2/10 [00:01<00:07,  1.05it/s]"
     ]
    },
    {
     "name": "stdout",
     "output_type": "stream",
     "text": [
      "[16:03:10] WARNING: ../src/learner.cc:1061: Starting in XGBoost 1.3.0, the default evaluation metric used with the objective 'binary:logistic' was changed from 'error' to 'logloss'. Explicitly set eval_metric if you'd like to restore the old behavior.\n"
     ]
    },
    {
     "name": "stderr",
     "output_type": "stream",
     "text": [
      "\r",
      " 30%|███       | 3/10 [00:02<00:06,  1.05it/s]"
     ]
    },
    {
     "name": "stdout",
     "output_type": "stream",
     "text": [
      "[16:03:11] WARNING: ../src/learner.cc:1061: Starting in XGBoost 1.3.0, the default evaluation metric used with the objective 'binary:logistic' was changed from 'error' to 'logloss'. Explicitly set eval_metric if you'd like to restore the old behavior.\n"
     ]
    },
    {
     "name": "stderr",
     "output_type": "stream",
     "text": [
      "\r",
      " 40%|████      | 4/10 [00:03<00:05,  1.07it/s]"
     ]
    },
    {
     "name": "stdout",
     "output_type": "stream",
     "text": [
      "[16:03:12] WARNING: ../src/learner.cc:1061: Starting in XGBoost 1.3.0, the default evaluation metric used with the objective 'binary:logistic' was changed from 'error' to 'logloss'. Explicitly set eval_metric if you'd like to restore the old behavior.\n"
     ]
    },
    {
     "name": "stderr",
     "output_type": "stream",
     "text": [
      "\r",
      " 50%|█████     | 5/10 [00:04<00:04,  1.08it/s]"
     ]
    },
    {
     "name": "stdout",
     "output_type": "stream",
     "text": [
      "[16:03:13] WARNING: ../src/learner.cc:1061: Starting in XGBoost 1.3.0, the default evaluation metric used with the objective 'binary:logistic' was changed from 'error' to 'logloss'. Explicitly set eval_metric if you'd like to restore the old behavior.\n"
     ]
    },
    {
     "name": "stderr",
     "output_type": "stream",
     "text": [
      "\r",
      " 60%|██████    | 6/10 [00:05<00:03,  1.08it/s]"
     ]
    },
    {
     "name": "stdout",
     "output_type": "stream",
     "text": [
      "[16:03:13] WARNING: ../src/learner.cc:1061: Starting in XGBoost 1.3.0, the default evaluation metric used with the objective 'binary:logistic' was changed from 'error' to 'logloss'. Explicitly set eval_metric if you'd like to restore the old behavior.\n"
     ]
    },
    {
     "name": "stderr",
     "output_type": "stream",
     "text": [
      "\r",
      " 70%|███████   | 7/10 [00:06<00:02,  1.08it/s]"
     ]
    },
    {
     "name": "stdout",
     "output_type": "stream",
     "text": [
      "[16:03:14] WARNING: ../src/learner.cc:1061: Starting in XGBoost 1.3.0, the default evaluation metric used with the objective 'binary:logistic' was changed from 'error' to 'logloss'. Explicitly set eval_metric if you'd like to restore the old behavior.\n"
     ]
    },
    {
     "name": "stderr",
     "output_type": "stream",
     "text": [
      "\r",
      " 80%|████████  | 8/10 [00:07<00:01,  1.09it/s]"
     ]
    },
    {
     "name": "stdout",
     "output_type": "stream",
     "text": [
      "[16:03:15] WARNING: ../src/learner.cc:1061: Starting in XGBoost 1.3.0, the default evaluation metric used with the objective 'binary:logistic' was changed from 'error' to 'logloss'. Explicitly set eval_metric if you'd like to restore the old behavior.\n"
     ]
    },
    {
     "name": "stderr",
     "output_type": "stream",
     "text": [
      "\r",
      " 90%|█████████ | 9/10 [00:08<00:00,  1.10it/s]"
     ]
    },
    {
     "name": "stdout",
     "output_type": "stream",
     "text": [
      "[16:03:16] WARNING: ../src/learner.cc:1061: Starting in XGBoost 1.3.0, the default evaluation metric used with the objective 'binary:logistic' was changed from 'error' to 'logloss'. Explicitly set eval_metric if you'd like to restore the old behavior.\n"
     ]
    },
    {
     "name": "stderr",
     "output_type": "stream",
     "text": [
      "100%|██████████| 10/10 [00:09<00:00,  1.08it/s]\n",
      "100%|██████████| 10/10 [00:53<00:00,  5.34s/it]\n",
      "100%|██████████| 10/10 [00:15<00:00,  1.52s/it]\n",
      "100%|██████████| 10/10 [00:13<00:00,  1.31s/it]\n",
      "100%|██████████| 10/10 [00:05<00:00,  1.82it/s]\n",
      "  0%|          | 0/10 [00:00<?, ?it/s]"
     ]
    },
    {
     "name": "stdout",
     "output_type": "stream",
     "text": [
      "[16:04:44] WARNING: ../src/learner.cc:1061: Starting in XGBoost 1.3.0, the default evaluation metric used with the objective 'binary:logistic' was changed from 'error' to 'logloss'. Explicitly set eval_metric if you'd like to restore the old behavior.\n"
     ]
    },
    {
     "name": "stderr",
     "output_type": "stream",
     "text": [
      "\r",
      " 10%|█         | 1/10 [00:00<00:08,  1.03it/s]"
     ]
    },
    {
     "name": "stdout",
     "output_type": "stream",
     "text": [
      "[16:04:45] WARNING: ../src/learner.cc:1061: Starting in XGBoost 1.3.0, the default evaluation metric used with the objective 'binary:logistic' was changed from 'error' to 'logloss'. Explicitly set eval_metric if you'd like to restore the old behavior.\n"
     ]
    },
    {
     "name": "stderr",
     "output_type": "stream",
     "text": [
      "\r",
      " 20%|██        | 2/10 [00:01<00:07,  1.07it/s]"
     ]
    },
    {
     "name": "stdout",
     "output_type": "stream",
     "text": [
      "[16:04:46] WARNING: ../src/learner.cc:1061: Starting in XGBoost 1.3.0, the default evaluation metric used with the objective 'binary:logistic' was changed from 'error' to 'logloss'. Explicitly set eval_metric if you'd like to restore the old behavior.\n"
     ]
    },
    {
     "name": "stderr",
     "output_type": "stream",
     "text": [
      "\r",
      " 30%|███       | 3/10 [00:02<00:06,  1.09it/s]"
     ]
    },
    {
     "name": "stdout",
     "output_type": "stream",
     "text": [
      "[16:04:47] WARNING: ../src/learner.cc:1061: Starting in XGBoost 1.3.0, the default evaluation metric used with the objective 'binary:logistic' was changed from 'error' to 'logloss'. Explicitly set eval_metric if you'd like to restore the old behavior.\n"
     ]
    },
    {
     "name": "stderr",
     "output_type": "stream",
     "text": [
      "\r",
      " 40%|████      | 4/10 [00:03<00:05,  1.10it/s]"
     ]
    },
    {
     "name": "stdout",
     "output_type": "stream",
     "text": [
      "[16:04:48] WARNING: ../src/learner.cc:1061: Starting in XGBoost 1.3.0, the default evaluation metric used with the objective 'binary:logistic' was changed from 'error' to 'logloss'. Explicitly set eval_metric if you'd like to restore the old behavior.\n"
     ]
    },
    {
     "name": "stderr",
     "output_type": "stream",
     "text": [
      "\r",
      " 50%|█████     | 5/10 [00:04<00:04,  1.11it/s]"
     ]
    },
    {
     "name": "stdout",
     "output_type": "stream",
     "text": [
      "[16:04:49] WARNING: ../src/learner.cc:1061: Starting in XGBoost 1.3.0, the default evaluation metric used with the objective 'binary:logistic' was changed from 'error' to 'logloss'. Explicitly set eval_metric if you'd like to restore the old behavior.\n"
     ]
    },
    {
     "name": "stderr",
     "output_type": "stream",
     "text": [
      "\r",
      " 60%|██████    | 6/10 [00:05<00:03,  1.09it/s]"
     ]
    },
    {
     "name": "stdout",
     "output_type": "stream",
     "text": [
      "[16:04:50] WARNING: ../src/learner.cc:1061: Starting in XGBoost 1.3.0, the default evaluation metric used with the objective 'binary:logistic' was changed from 'error' to 'logloss'. Explicitly set eval_metric if you'd like to restore the old behavior.\n"
     ]
    },
    {
     "name": "stderr",
     "output_type": "stream",
     "text": [
      "\r",
      " 70%|███████   | 7/10 [00:06<00:02,  1.08it/s]"
     ]
    },
    {
     "name": "stdout",
     "output_type": "stream",
     "text": [
      "[16:04:51] WARNING: ../src/learner.cc:1061: Starting in XGBoost 1.3.0, the default evaluation metric used with the objective 'binary:logistic' was changed from 'error' to 'logloss'. Explicitly set eval_metric if you'd like to restore the old behavior.\n"
     ]
    },
    {
     "name": "stderr",
     "output_type": "stream",
     "text": [
      "\r",
      " 80%|████████  | 8/10 [00:07<00:01,  1.10it/s]"
     ]
    },
    {
     "name": "stdout",
     "output_type": "stream",
     "text": [
      "[16:04:52] WARNING: ../src/learner.cc:1061: Starting in XGBoost 1.3.0, the default evaluation metric used with the objective 'binary:logistic' was changed from 'error' to 'logloss'. Explicitly set eval_metric if you'd like to restore the old behavior.\n"
     ]
    },
    {
     "name": "stderr",
     "output_type": "stream",
     "text": [
      "\r",
      " 90%|█████████ | 9/10 [00:08<00:00,  1.10it/s]"
     ]
    },
    {
     "name": "stdout",
     "output_type": "stream",
     "text": [
      "[16:04:53] WARNING: ../src/learner.cc:1061: Starting in XGBoost 1.3.0, the default evaluation metric used with the objective 'binary:logistic' was changed from 'error' to 'logloss'. Explicitly set eval_metric if you'd like to restore the old behavior.\n"
     ]
    },
    {
     "name": "stderr",
     "output_type": "stream",
     "text": [
      "100%|██████████| 10/10 [00:09<00:00,  1.10it/s]\n"
     ]
    }
   ],
   "source": [
    "MLA_breathe_0 = MLA_selection(Breath_dataframe_0, 'Breath_0')\n",
    "MLA_breathe_5 = MLA_selection(Breath_dataframe_5, 'Breath_5')\n",
    "MLA_breathe_10 = MLA_selection(Breath_dataframe_10, 'Breath_10')\n",
    "MLA_breathe_15 = MLA_selection(Breath_dataframe_15, 'Breath_15')\n",
    "MLA_breathe_20 = MLA_selection(Breath_dataframe_20, 'Breath_20')\n",
    "MLA_breathe_25 = MLA_selection(Breath_dataframe_25, 'Breath_25')\n",
    "MLA_breathe_30 = MLA_selection(Breath_dataframe_30, 'Breath_30')\n",
    "MLA_breathe_35 = MLA_selection(Breath_dataframe_35, 'Breath_35')\n",
    "MLA_breathe_40 = MLA_selection(Breath_dataframe_40, 'Breath_40')\n",
    "MLA_breathe_45 = MLA_selection(Breath_dataframe_45, 'Breath_45')\n",
    "MLA_breathe_50 = MLA_selection(Breath_dataframe_50, 'Breath_50')"
   ]
  },
  {
   "cell_type": "code",
   "execution_count": 96,
   "metadata": {},
   "outputs": [
    {
     "data": {
      "text/html": [
       "<div>\n",
       "<style scoped>\n",
       "    .dataframe tbody tr th:only-of-type {\n",
       "        vertical-align: middle;\n",
       "    }\n",
       "\n",
       "    .dataframe tbody tr th {\n",
       "        vertical-align: top;\n",
       "    }\n",
       "\n",
       "    .dataframe thead th {\n",
       "        text-align: right;\n",
       "    }\n",
       "</style>\n",
       "<table border=\"1\" class=\"dataframe\">\n",
       "  <thead>\n",
       "    <tr style=\"text-align: right;\">\n",
       "      <th></th>\n",
       "      <th>MLA Name</th>\n",
       "      <th>MLA Parameters</th>\n",
       "      <th>MLA Train Accuracy</th>\n",
       "      <th>MLA Train Accuracy Mean</th>\n",
       "      <th>MLA Test Accuracy</th>\n",
       "      <th>MLA Test Accuracy Mean</th>\n",
       "      <th>MLA Test Accuracy Std</th>\n",
       "    </tr>\n",
       "  </thead>\n",
       "  <tbody>\n",
       "    <tr>\n",
       "      <th>1</th>\n",
       "      <td>RandomForestClassifier</td>\n",
       "      <td>{'bootstrap': True, 'ccp_alpha': 0.0, 'class_w...</td>\n",
       "      <td>[1.0, 1.0, 1.0, 1.0, 1.0, 1.0, 1.0, 1.0, 1.0, ...</td>\n",
       "      <td>1</td>\n",
       "      <td>[0.7209302325581395, 0.7272727272727273, 0.727...</td>\n",
       "      <td>0.741458</td>\n",
       "      <td>0.0483478</td>\n",
       "    </tr>\n",
       "    <tr>\n",
       "      <th>2</th>\n",
       "      <td>SVC</td>\n",
       "      <td>{'C': 1.0, 'break_ties': False, 'cache_size': ...</td>\n",
       "      <td>[0.923828125, 0.9190361445783133, 0.9213592233...</td>\n",
       "      <td>0.921767</td>\n",
       "      <td>[0.7093023255813954, 0.7229437229437229, 0.739...</td>\n",
       "      <td>0.73204</td>\n",
       "      <td>0.0449479</td>\n",
       "    </tr>\n",
       "    <tr>\n",
       "      <th>0</th>\n",
       "      <td>GradientBoostingClassifier</td>\n",
       "      <td>{'ccp_alpha': 0.0, 'criterion': 'friedman_mse'...</td>\n",
       "      <td>[0.95361328125, 0.9450602409638554, 0.94174757...</td>\n",
       "      <td>0.9489</td>\n",
       "      <td>[0.6782945736434108, 0.6926406926406926, 0.707...</td>\n",
       "      <td>0.721338</td>\n",
       "      <td>0.0506918</td>\n",
       "    </tr>\n",
       "    <tr>\n",
       "      <th>3</th>\n",
       "      <td>LinearSVC</td>\n",
       "      <td>{'C': 1.0, 'class_weight': None, 'dual': True,...</td>\n",
       "      <td>[0.80419921875, 0.8043373493975904, 0.81456310...</td>\n",
       "      <td>0.804877</td>\n",
       "      <td>[0.7170542635658915, 0.7142857142857143, 0.695...</td>\n",
       "      <td>0.717376</td>\n",
       "      <td>0.0364233</td>\n",
       "    </tr>\n",
       "    <tr>\n",
       "      <th>4</th>\n",
       "      <td>XGBClassifier</td>\n",
       "      <td>{'objective': 'binary:logistic', 'use_label_en...</td>\n",
       "      <td>[1.0, 1.0, 1.0, 1.0, 1.0, 1.0, 1.0, 1.0, 1.0, ...</td>\n",
       "      <td>1</td>\n",
       "      <td>[0.6821705426356589, 0.696969696969697, 0.6951...</td>\n",
       "      <td>0.715892</td>\n",
       "      <td>0.0484671</td>\n",
       "    </tr>\n",
       "  </tbody>\n",
       "</table>\n",
       "</div>"
      ],
      "text/plain": [
       "                     MLA Name  \\\n",
       "1      RandomForestClassifier   \n",
       "2                         SVC   \n",
       "0  GradientBoostingClassifier   \n",
       "3                   LinearSVC   \n",
       "4               XGBClassifier   \n",
       "\n",
       "                                      MLA Parameters  \\\n",
       "1  {'bootstrap': True, 'ccp_alpha': 0.0, 'class_w...   \n",
       "2  {'C': 1.0, 'break_ties': False, 'cache_size': ...   \n",
       "0  {'ccp_alpha': 0.0, 'criterion': 'friedman_mse'...   \n",
       "3  {'C': 1.0, 'class_weight': None, 'dual': True,...   \n",
       "4  {'objective': 'binary:logistic', 'use_label_en...   \n",
       "\n",
       "                                  MLA Train Accuracy MLA Train Accuracy Mean  \\\n",
       "1  [1.0, 1.0, 1.0, 1.0, 1.0, 1.0, 1.0, 1.0, 1.0, ...                       1   \n",
       "2  [0.923828125, 0.9190361445783133, 0.9213592233...                0.921767   \n",
       "0  [0.95361328125, 0.9450602409638554, 0.94174757...                  0.9489   \n",
       "3  [0.80419921875, 0.8043373493975904, 0.81456310...                0.804877   \n",
       "4  [1.0, 1.0, 1.0, 1.0, 1.0, 1.0, 1.0, 1.0, 1.0, ...                       1   \n",
       "\n",
       "                                   MLA Test Accuracy MLA Test Accuracy Mean  \\\n",
       "1  [0.7209302325581395, 0.7272727272727273, 0.727...               0.741458   \n",
       "2  [0.7093023255813954, 0.7229437229437229, 0.739...                0.73204   \n",
       "0  [0.6782945736434108, 0.6926406926406926, 0.707...               0.721338   \n",
       "3  [0.7170542635658915, 0.7142857142857143, 0.695...               0.717376   \n",
       "4  [0.6821705426356589, 0.696969696969697, 0.6951...               0.715892   \n",
       "\n",
       "  MLA Test Accuracy Std  \n",
       "1             0.0483478  \n",
       "2             0.0449479  \n",
       "0             0.0506918  \n",
       "3             0.0364233  \n",
       "4             0.0484671  "
      ]
     },
     "execution_count": 96,
     "metadata": {},
     "output_type": "execute_result"
    }
   ],
   "source": [
    "MLA_breathe_0"
   ]
  },
  {
   "cell_type": "code",
   "execution_count": 101,
   "metadata": {},
   "outputs": [
    {
     "data": {
      "text/html": [
       "<div>\n",
       "<style scoped>\n",
       "    .dataframe tbody tr th:only-of-type {\n",
       "        vertical-align: middle;\n",
       "    }\n",
       "\n",
       "    .dataframe tbody tr th {\n",
       "        vertical-align: top;\n",
       "    }\n",
       "\n",
       "    .dataframe thead th {\n",
       "        text-align: right;\n",
       "    }\n",
       "</style>\n",
       "<table border=\"1\" class=\"dataframe\">\n",
       "  <thead>\n",
       "    <tr style=\"text-align: right;\">\n",
       "      <th></th>\n",
       "      <th>MLA Name</th>\n",
       "      <th>MLA Parameters</th>\n",
       "      <th>MLA Train Accuracy</th>\n",
       "      <th>MLA Train Accuracy Mean</th>\n",
       "      <th>MLA Test Accuracy</th>\n",
       "      <th>MLA Test Accuracy Mean</th>\n",
       "      <th>MLA Test Accuracy Std</th>\n",
       "    </tr>\n",
       "  </thead>\n",
       "  <tbody>\n",
       "    <tr>\n",
       "      <th>1</th>\n",
       "      <td>RandomForestClassifier</td>\n",
       "      <td>{'bootstrap': True, 'ccp_alpha': 0.0, 'class_w...</td>\n",
       "      <td>[1.0, 1.0, 1.0, 1.0, 1.0, 1.0, 1.0, 1.0, 1.0, ...</td>\n",
       "      <td>1</td>\n",
       "      <td>[0.7840909090909091, 0.7113821138211383, 0.722...</td>\n",
       "      <td>0.760624</td>\n",
       "      <td>0.0406329</td>\n",
       "    </tr>\n",
       "    <tr>\n",
       "      <th>0</th>\n",
       "      <td>GradientBoostingClassifier</td>\n",
       "      <td>{'ccp_alpha': 0.0, 'criterion': 'friedman_mse'...</td>\n",
       "      <td>[0.9461312438785504, 0.9548543689320388, 0.953...</td>\n",
       "      <td>0.950927</td>\n",
       "      <td>[0.7765151515151515, 0.7154471544715447, 0.737...</td>\n",
       "      <td>0.751428</td>\n",
       "      <td>0.058931</td>\n",
       "    </tr>\n",
       "    <tr>\n",
       "      <th>2</th>\n",
       "      <td>SVC</td>\n",
       "      <td>{'C': 1.0, 'break_ties': False, 'cache_size': ...</td>\n",
       "      <td>[0.9201762977473066, 0.920873786407767, 0.9246...</td>\n",
       "      <td>0.921471</td>\n",
       "      <td>[0.75, 0.7154471544715447, 0.7376425855513308,...</td>\n",
       "      <td>0.748415</td>\n",
       "      <td>0.0448535</td>\n",
       "    </tr>\n",
       "    <tr>\n",
       "      <th>4</th>\n",
       "      <td>XGBClassifier</td>\n",
       "      <td>{'objective': 'binary:logistic', 'use_label_en...</td>\n",
       "      <td>[1.0, 1.0, 1.0, 1.0, 1.0, 1.0, 1.0, 1.0, 1.0, ...</td>\n",
       "      <td>1</td>\n",
       "      <td>[0.7651515151515151, 0.7357723577235772, 0.733...</td>\n",
       "      <td>0.747933</td>\n",
       "      <td>0.0517252</td>\n",
       "    </tr>\n",
       "    <tr>\n",
       "      <th>3</th>\n",
       "      <td>LinearSVC</td>\n",
       "      <td>{'C': 1.0, 'class_weight': None, 'dual': True,...</td>\n",
       "      <td>[0.806562193927522, 0.8058252427184466, 0.8154...</td>\n",
       "      <td>0.804274</td>\n",
       "      <td>[0.75, 0.7195121951219512, 0.6920152091254753,...</td>\n",
       "      <td>0.736049</td>\n",
       "      <td>0.0575335</td>\n",
       "    </tr>\n",
       "  </tbody>\n",
       "</table>\n",
       "</div>"
      ],
      "text/plain": [
       "                     MLA Name  \\\n",
       "1      RandomForestClassifier   \n",
       "0  GradientBoostingClassifier   \n",
       "2                         SVC   \n",
       "4               XGBClassifier   \n",
       "3                   LinearSVC   \n",
       "\n",
       "                                      MLA Parameters  \\\n",
       "1  {'bootstrap': True, 'ccp_alpha': 0.0, 'class_w...   \n",
       "0  {'ccp_alpha': 0.0, 'criterion': 'friedman_mse'...   \n",
       "2  {'C': 1.0, 'break_ties': False, 'cache_size': ...   \n",
       "4  {'objective': 'binary:logistic', 'use_label_en...   \n",
       "3  {'C': 1.0, 'class_weight': None, 'dual': True,...   \n",
       "\n",
       "                                  MLA Train Accuracy MLA Train Accuracy Mean  \\\n",
       "1  [1.0, 1.0, 1.0, 1.0, 1.0, 1.0, 1.0, 1.0, 1.0, ...                       1   \n",
       "0  [0.9461312438785504, 0.9548543689320388, 0.953...                0.950927   \n",
       "2  [0.9201762977473066, 0.920873786407767, 0.9246...                0.921471   \n",
       "4  [1.0, 1.0, 1.0, 1.0, 1.0, 1.0, 1.0, 1.0, 1.0, ...                       1   \n",
       "3  [0.806562193927522, 0.8058252427184466, 0.8154...                0.804274   \n",
       "\n",
       "                                   MLA Test Accuracy MLA Test Accuracy Mean  \\\n",
       "1  [0.7840909090909091, 0.7113821138211383, 0.722...               0.760624   \n",
       "0  [0.7765151515151515, 0.7154471544715447, 0.737...               0.751428   \n",
       "2  [0.75, 0.7154471544715447, 0.7376425855513308,...               0.748415   \n",
       "4  [0.7651515151515151, 0.7357723577235772, 0.733...               0.747933   \n",
       "3  [0.75, 0.7195121951219512, 0.6920152091254753,...               0.736049   \n",
       "\n",
       "  MLA Test Accuracy Std  \n",
       "1             0.0406329  \n",
       "0              0.058931  \n",
       "2             0.0448535  \n",
       "4             0.0517252  \n",
       "3             0.0575335  "
      ]
     },
     "execution_count": 101,
     "metadata": {},
     "output_type": "execute_result"
    }
   ],
   "source": [
    "MLA_breathe_5"
   ]
  },
  {
   "cell_type": "code",
   "execution_count": 102,
   "metadata": {},
   "outputs": [
    {
     "data": {
      "text/html": [
       "<div>\n",
       "<style scoped>\n",
       "    .dataframe tbody tr th:only-of-type {\n",
       "        vertical-align: middle;\n",
       "    }\n",
       "\n",
       "    .dataframe tbody tr th {\n",
       "        vertical-align: top;\n",
       "    }\n",
       "\n",
       "    .dataframe thead th {\n",
       "        text-align: right;\n",
       "    }\n",
       "</style>\n",
       "<table border=\"1\" class=\"dataframe\">\n",
       "  <thead>\n",
       "    <tr style=\"text-align: right;\">\n",
       "      <th></th>\n",
       "      <th>MLA Name</th>\n",
       "      <th>MLA Parameters</th>\n",
       "      <th>MLA Train Accuracy</th>\n",
       "      <th>MLA Train Accuracy Mean</th>\n",
       "      <th>MLA Test Accuracy</th>\n",
       "      <th>MLA Test Accuracy Mean</th>\n",
       "      <th>MLA Test Accuracy Std</th>\n",
       "    </tr>\n",
       "  </thead>\n",
       "  <tbody>\n",
       "    <tr>\n",
       "      <th>4</th>\n",
       "      <td>XGBClassifier</td>\n",
       "      <td>{'objective': 'binary:logistic', 'use_label_en...</td>\n",
       "      <td>[1.0, 1.0, 1.0, 1.0, 1.0, 1.0, 1.0, 1.0, 1.0, ...</td>\n",
       "      <td>1</td>\n",
       "      <td>[0.7235772357723578, 0.757085020242915, 0.6909...</td>\n",
       "      <td>0.760154</td>\n",
       "      <td>0.0543676</td>\n",
       "    </tr>\n",
       "    <tr>\n",
       "      <th>1</th>\n",
       "      <td>RandomForestClassifier</td>\n",
       "      <td>{'bootstrap': True, 'ccp_alpha': 0.0, 'class_w...</td>\n",
       "      <td>[1.0, 1.0, 1.0, 1.0, 1.0, 1.0, 1.0, 1.0, 1.0, ...</td>\n",
       "      <td>1</td>\n",
       "      <td>[0.6991869918699187, 0.7692307692307693, 0.699...</td>\n",
       "      <td>0.756607</td>\n",
       "      <td>0.0684246</td>\n",
       "    </tr>\n",
       "    <tr>\n",
       "      <th>2</th>\n",
       "      <td>SVC</td>\n",
       "      <td>{'C': 1.0, 'break_ties': False, 'cache_size': ...</td>\n",
       "      <td>[0.9286407766990291, 0.9281204468188441, 0.921...</td>\n",
       "      <td>0.925257</td>\n",
       "      <td>[0.6910569105691057, 0.7408906882591093, 0.716...</td>\n",
       "      <td>0.752931</td>\n",
       "      <td>0.0543204</td>\n",
       "    </tr>\n",
       "    <tr>\n",
       "      <th>0</th>\n",
       "      <td>GradientBoostingClassifier</td>\n",
       "      <td>{'ccp_alpha': 0.0, 'criterion': 'friedman_mse'...</td>\n",
       "      <td>[0.9495145631067962, 0.9407479358912093, 0.942...</td>\n",
       "      <td>0.945165</td>\n",
       "      <td>[0.7154471544715447, 0.7206477732793523, 0.660...</td>\n",
       "      <td>0.747687</td>\n",
       "      <td>0.0614878</td>\n",
       "    </tr>\n",
       "    <tr>\n",
       "      <th>3</th>\n",
       "      <td>LinearSVC</td>\n",
       "      <td>{'C': 1.0, 'class_weight': None, 'dual': True,...</td>\n",
       "      <td>[0.8058252427184466, 0.8105876639145216, 0.803...</td>\n",
       "      <td>0.804142</td>\n",
       "      <td>[0.7195121951219512, 0.631578947368421, 0.6652...</td>\n",
       "      <td>0.723454</td>\n",
       "      <td>0.0650697</td>\n",
       "    </tr>\n",
       "  </tbody>\n",
       "</table>\n",
       "</div>"
      ],
      "text/plain": [
       "                     MLA Name  \\\n",
       "4               XGBClassifier   \n",
       "1      RandomForestClassifier   \n",
       "2                         SVC   \n",
       "0  GradientBoostingClassifier   \n",
       "3                   LinearSVC   \n",
       "\n",
       "                                      MLA Parameters  \\\n",
       "4  {'objective': 'binary:logistic', 'use_label_en...   \n",
       "1  {'bootstrap': True, 'ccp_alpha': 0.0, 'class_w...   \n",
       "2  {'C': 1.0, 'break_ties': False, 'cache_size': ...   \n",
       "0  {'ccp_alpha': 0.0, 'criterion': 'friedman_mse'...   \n",
       "3  {'C': 1.0, 'class_weight': None, 'dual': True,...   \n",
       "\n",
       "                                  MLA Train Accuracy MLA Train Accuracy Mean  \\\n",
       "4  [1.0, 1.0, 1.0, 1.0, 1.0, 1.0, 1.0, 1.0, 1.0, ...                       1   \n",
       "1  [1.0, 1.0, 1.0, 1.0, 1.0, 1.0, 1.0, 1.0, 1.0, ...                       1   \n",
       "2  [0.9286407766990291, 0.9281204468188441, 0.921...                0.925257   \n",
       "0  [0.9495145631067962, 0.9407479358912093, 0.942...                0.945165   \n",
       "3  [0.8058252427184466, 0.8105876639145216, 0.803...                0.804142   \n",
       "\n",
       "                                   MLA Test Accuracy MLA Test Accuracy Mean  \\\n",
       "4  [0.7235772357723578, 0.757085020242915, 0.6909...               0.760154   \n",
       "1  [0.6991869918699187, 0.7692307692307693, 0.699...               0.756607   \n",
       "2  [0.6910569105691057, 0.7408906882591093, 0.716...               0.752931   \n",
       "0  [0.7154471544715447, 0.7206477732793523, 0.660...               0.747687   \n",
       "3  [0.7195121951219512, 0.631578947368421, 0.6652...               0.723454   \n",
       "\n",
       "  MLA Test Accuracy Std  \n",
       "4             0.0543676  \n",
       "1             0.0684246  \n",
       "2             0.0543204  \n",
       "0             0.0614878  \n",
       "3             0.0650697  "
      ]
     },
     "execution_count": 102,
     "metadata": {},
     "output_type": "execute_result"
    }
   ],
   "source": [
    "MLA_breathe_10"
   ]
  },
  {
   "cell_type": "code",
   "execution_count": 103,
   "metadata": {},
   "outputs": [
    {
     "data": {
      "text/html": [
       "<div>\n",
       "<style scoped>\n",
       "    .dataframe tbody tr th:only-of-type {\n",
       "        vertical-align: middle;\n",
       "    }\n",
       "\n",
       "    .dataframe tbody tr th {\n",
       "        vertical-align: top;\n",
       "    }\n",
       "\n",
       "    .dataframe thead th {\n",
       "        text-align: right;\n",
       "    }\n",
       "</style>\n",
       "<table border=\"1\" class=\"dataframe\">\n",
       "  <thead>\n",
       "    <tr style=\"text-align: right;\">\n",
       "      <th></th>\n",
       "      <th>MLA Name</th>\n",
       "      <th>MLA Parameters</th>\n",
       "      <th>MLA Train Accuracy</th>\n",
       "      <th>MLA Train Accuracy Mean</th>\n",
       "      <th>MLA Test Accuracy</th>\n",
       "      <th>MLA Test Accuracy Mean</th>\n",
       "      <th>MLA Test Accuracy Std</th>\n",
       "    </tr>\n",
       "  </thead>\n",
       "  <tbody>\n",
       "    <tr>\n",
       "      <th>2</th>\n",
       "      <td>SVC</td>\n",
       "      <td>{'C': 1.0, 'break_ties': False, 'cache_size': ...</td>\n",
       "      <td>[0.9285367039377734, 0.9390838206627681, 0.930...</td>\n",
       "      <td>0.932672</td>\n",
       "      <td>[0.7429718875502008, 0.7165354330708661, 0.771...</td>\n",
       "      <td>0.7387</td>\n",
       "      <td>0.049778</td>\n",
       "    </tr>\n",
       "    <tr>\n",
       "      <th>4</th>\n",
       "      <td>XGBClassifier</td>\n",
       "      <td>{'objective': 'binary:logistic', 'use_label_en...</td>\n",
       "      <td>[1.0, 1.0, 1.0, 1.0, 1.0, 1.0, 1.0, 1.0, 1.0, ...</td>\n",
       "      <td>1</td>\n",
       "      <td>[0.7269076305220884, 0.6771653543307087, 0.758...</td>\n",
       "      <td>0.731812</td>\n",
       "      <td>0.0581954</td>\n",
       "    </tr>\n",
       "    <tr>\n",
       "      <th>1</th>\n",
       "      <td>RandomForestClassifier</td>\n",
       "      <td>{'bootstrap': True, 'ccp_alpha': 0.0, 'class_w...</td>\n",
       "      <td>[1.0, 1.0, 1.0, 1.0, 1.0, 1.0, 1.0, 1.0, 1.0, ...</td>\n",
       "      <td>1</td>\n",
       "      <td>[0.7068273092369478, 0.7244094488188977, 0.766...</td>\n",
       "      <td>0.731297</td>\n",
       "      <td>0.0533388</td>\n",
       "    </tr>\n",
       "    <tr>\n",
       "      <th>0</th>\n",
       "      <td>GradientBoostingClassifier</td>\n",
       "      <td>{'ccp_alpha': 0.0, 'criterion': 'friedman_mse'...</td>\n",
       "      <td>[0.9363150218765192, 0.9507797270955166, 0.940...</td>\n",
       "      <td>0.943725</td>\n",
       "      <td>[0.6907630522088354, 0.7007874015748031, 0.741...</td>\n",
       "      <td>0.720166</td>\n",
       "      <td>0.0626609</td>\n",
       "    </tr>\n",
       "    <tr>\n",
       "      <th>3</th>\n",
       "      <td>LinearSVC</td>\n",
       "      <td>{'C': 1.0, 'class_weight': None, 'dual': True,...</td>\n",
       "      <td>[0.8055420515313564, 0.800682261208577, 0.8053...</td>\n",
       "      <td>0.810197</td>\n",
       "      <td>[0.7188755020080321, 0.7165354330708661, 0.665...</td>\n",
       "      <td>0.698275</td>\n",
       "      <td>0.0628996</td>\n",
       "    </tr>\n",
       "  </tbody>\n",
       "</table>\n",
       "</div>"
      ],
      "text/plain": [
       "                     MLA Name  \\\n",
       "2                         SVC   \n",
       "4               XGBClassifier   \n",
       "1      RandomForestClassifier   \n",
       "0  GradientBoostingClassifier   \n",
       "3                   LinearSVC   \n",
       "\n",
       "                                      MLA Parameters  \\\n",
       "2  {'C': 1.0, 'break_ties': False, 'cache_size': ...   \n",
       "4  {'objective': 'binary:logistic', 'use_label_en...   \n",
       "1  {'bootstrap': True, 'ccp_alpha': 0.0, 'class_w...   \n",
       "0  {'ccp_alpha': 0.0, 'criterion': 'friedman_mse'...   \n",
       "3  {'C': 1.0, 'class_weight': None, 'dual': True,...   \n",
       "\n",
       "                                  MLA Train Accuracy MLA Train Accuracy Mean  \\\n",
       "2  [0.9285367039377734, 0.9390838206627681, 0.930...                0.932672   \n",
       "4  [1.0, 1.0, 1.0, 1.0, 1.0, 1.0, 1.0, 1.0, 1.0, ...                       1   \n",
       "1  [1.0, 1.0, 1.0, 1.0, 1.0, 1.0, 1.0, 1.0, 1.0, ...                       1   \n",
       "0  [0.9363150218765192, 0.9507797270955166, 0.940...                0.943725   \n",
       "3  [0.8055420515313564, 0.800682261208577, 0.8053...                0.810197   \n",
       "\n",
       "                                   MLA Test Accuracy MLA Test Accuracy Mean  \\\n",
       "2  [0.7429718875502008, 0.7165354330708661, 0.771...                 0.7387   \n",
       "4  [0.7269076305220884, 0.6771653543307087, 0.758...               0.731812   \n",
       "1  [0.7068273092369478, 0.7244094488188977, 0.766...               0.731297   \n",
       "0  [0.6907630522088354, 0.7007874015748031, 0.741...               0.720166   \n",
       "3  [0.7188755020080321, 0.7165354330708661, 0.665...               0.698275   \n",
       "\n",
       "  MLA Test Accuracy Std  \n",
       "2              0.049778  \n",
       "4             0.0581954  \n",
       "1             0.0533388  \n",
       "0             0.0626609  \n",
       "3             0.0628996  "
      ]
     },
     "execution_count": 103,
     "metadata": {},
     "output_type": "execute_result"
    }
   ],
   "source": [
    "MLA_breathe_15"
   ]
  },
  {
   "cell_type": "code",
   "execution_count": 104,
   "metadata": {},
   "outputs": [
    {
     "data": {
      "text/html": [
       "<div>\n",
       "<style scoped>\n",
       "    .dataframe tbody tr th:only-of-type {\n",
       "        vertical-align: middle;\n",
       "    }\n",
       "\n",
       "    .dataframe tbody tr th {\n",
       "        vertical-align: top;\n",
       "    }\n",
       "\n",
       "    .dataframe thead th {\n",
       "        text-align: right;\n",
       "    }\n",
       "</style>\n",
       "<table border=\"1\" class=\"dataframe\">\n",
       "  <thead>\n",
       "    <tr style=\"text-align: right;\">\n",
       "      <th></th>\n",
       "      <th>MLA Name</th>\n",
       "      <th>MLA Parameters</th>\n",
       "      <th>MLA Train Accuracy</th>\n",
       "      <th>MLA Train Accuracy Mean</th>\n",
       "      <th>MLA Test Accuracy</th>\n",
       "      <th>MLA Test Accuracy Mean</th>\n",
       "      <th>MLA Test Accuracy Std</th>\n",
       "    </tr>\n",
       "  </thead>\n",
       "  <tbody>\n",
       "    <tr>\n",
       "      <th>0</th>\n",
       "      <td>GradientBoostingClassifier</td>\n",
       "      <td>{'ccp_alpha': 0.0, 'criterion': 'friedman_mse'...</td>\n",
       "      <td>[0.9473684210526315, 0.944417593040116, 0.9482...</td>\n",
       "      <td>0.946982</td>\n",
       "      <td>[0.673992673992674, 0.8312236286919831, 0.7968...</td>\n",
       "      <td>0.759149</td>\n",
       "      <td>0.0657523</td>\n",
       "    </tr>\n",
       "    <tr>\n",
       "      <th>4</th>\n",
       "      <td>XGBClassifier</td>\n",
       "      <td>{'objective': 'binary:logistic', 'use_label_en...</td>\n",
       "      <td>[1.0, 1.0, 1.0, 1.0, 1.0, 1.0, 1.0, 1.0, 1.0, ...</td>\n",
       "      <td>1</td>\n",
       "      <td>[0.6776556776556777, 0.8185654008438819, 0.785...</td>\n",
       "      <td>0.75592</td>\n",
       "      <td>0.0569811</td>\n",
       "    </tr>\n",
       "    <tr>\n",
       "      <th>1</th>\n",
       "      <td>RandomForestClassifier</td>\n",
       "      <td>{'bootstrap': True, 'ccp_alpha': 0.0, 'class_w...</td>\n",
       "      <td>[1.0, 1.0, 1.0, 1.0, 1.0, 1.0, 1.0, 1.0, 1.0, ...</td>\n",
       "      <td>1</td>\n",
       "      <td>[0.6886446886446886, 0.8227848101265823, 0.769...</td>\n",
       "      <td>0.751651</td>\n",
       "      <td>0.0603728</td>\n",
       "    </tr>\n",
       "    <tr>\n",
       "      <th>2</th>\n",
       "      <td>SVC</td>\n",
       "      <td>{'C': 1.0, 'break_ties': False, 'cache_size': ...</td>\n",
       "      <td>[0.94146581406788, 0.9371677138714355, 0.93512...</td>\n",
       "      <td>0.937018</td>\n",
       "      <td>[0.652014652014652, 0.8396624472573839, 0.7539...</td>\n",
       "      <td>0.746479</td>\n",
       "      <td>0.0663379</td>\n",
       "    </tr>\n",
       "    <tr>\n",
       "      <th>3</th>\n",
       "      <td>LinearSVC</td>\n",
       "      <td>{'C': 1.0, 'class_weight': None, 'dual': True,...</td>\n",
       "      <td>[0.8298081652729956, 0.8139197680038666, 0.819...</td>\n",
       "      <td>0.820439</td>\n",
       "      <td>[0.6703296703296703, 0.8227848101265823, 0.757...</td>\n",
       "      <td>0.733895</td>\n",
       "      <td>0.0629892</td>\n",
       "    </tr>\n",
       "  </tbody>\n",
       "</table>\n",
       "</div>"
      ],
      "text/plain": [
       "                     MLA Name  \\\n",
       "0  GradientBoostingClassifier   \n",
       "4               XGBClassifier   \n",
       "1      RandomForestClassifier   \n",
       "2                         SVC   \n",
       "3                   LinearSVC   \n",
       "\n",
       "                                      MLA Parameters  \\\n",
       "0  {'ccp_alpha': 0.0, 'criterion': 'friedman_mse'...   \n",
       "4  {'objective': 'binary:logistic', 'use_label_en...   \n",
       "1  {'bootstrap': True, 'ccp_alpha': 0.0, 'class_w...   \n",
       "2  {'C': 1.0, 'break_ties': False, 'cache_size': ...   \n",
       "3  {'C': 1.0, 'class_weight': None, 'dual': True,...   \n",
       "\n",
       "                                  MLA Train Accuracy MLA Train Accuracy Mean  \\\n",
       "0  [0.9473684210526315, 0.944417593040116, 0.9482...                0.946982   \n",
       "4  [1.0, 1.0, 1.0, 1.0, 1.0, 1.0, 1.0, 1.0, 1.0, ...                       1   \n",
       "1  [1.0, 1.0, 1.0, 1.0, 1.0, 1.0, 1.0, 1.0, 1.0, ...                       1   \n",
       "2  [0.94146581406788, 0.9371677138714355, 0.93512...                0.937018   \n",
       "3  [0.8298081652729956, 0.8139197680038666, 0.819...                0.820439   \n",
       "\n",
       "                                   MLA Test Accuracy MLA Test Accuracy Mean  \\\n",
       "0  [0.673992673992674, 0.8312236286919831, 0.7968...               0.759149   \n",
       "4  [0.6776556776556777, 0.8185654008438819, 0.785...                0.75592   \n",
       "1  [0.6886446886446886, 0.8227848101265823, 0.769...               0.751651   \n",
       "2  [0.652014652014652, 0.8396624472573839, 0.7539...               0.746479   \n",
       "3  [0.6703296703296703, 0.8227848101265823, 0.757...               0.733895   \n",
       "\n",
       "  MLA Test Accuracy Std  \n",
       "0             0.0657523  \n",
       "4             0.0569811  \n",
       "1             0.0603728  \n",
       "2             0.0663379  \n",
       "3             0.0629892  "
      ]
     },
     "execution_count": 104,
     "metadata": {},
     "output_type": "execute_result"
    }
   ],
   "source": [
    "MLA_breathe_20"
   ]
  },
  {
   "cell_type": "code",
   "execution_count": 105,
   "metadata": {},
   "outputs": [
    {
     "data": {
      "text/html": [
       "<div>\n",
       "<style scoped>\n",
       "    .dataframe tbody tr th:only-of-type {\n",
       "        vertical-align: middle;\n",
       "    }\n",
       "\n",
       "    .dataframe tbody tr th {\n",
       "        vertical-align: top;\n",
       "    }\n",
       "\n",
       "    .dataframe thead th {\n",
       "        text-align: right;\n",
       "    }\n",
       "</style>\n",
       "<table border=\"1\" class=\"dataframe\">\n",
       "  <thead>\n",
       "    <tr style=\"text-align: right;\">\n",
       "      <th></th>\n",
       "      <th>MLA Name</th>\n",
       "      <th>MLA Parameters</th>\n",
       "      <th>MLA Train Accuracy</th>\n",
       "      <th>MLA Train Accuracy Mean</th>\n",
       "      <th>MLA Test Accuracy</th>\n",
       "      <th>MLA Test Accuracy Mean</th>\n",
       "      <th>MLA Test Accuracy Std</th>\n",
       "    </tr>\n",
       "  </thead>\n",
       "  <tbody>\n",
       "    <tr>\n",
       "      <th>3</th>\n",
       "      <td>LinearSVC</td>\n",
       "      <td>{'C': 1.0, 'class_weight': None, 'dual': True,...</td>\n",
       "      <td>[0.8370192307692308, 0.829126213592233, 0.8250...</td>\n",
       "      <td>0.823542</td>\n",
       "      <td>[0.6548672566371682, 0.7154471544715447, 0.734...</td>\n",
       "      <td>0.750532</td>\n",
       "      <td>0.0513305</td>\n",
       "    </tr>\n",
       "    <tr>\n",
       "      <th>1</th>\n",
       "      <td>RandomForestClassifier</td>\n",
       "      <td>{'bootstrap': True, 'ccp_alpha': 0.0, 'class_w...</td>\n",
       "      <td>[1.0, 1.0, 1.0, 1.0, 1.0, 1.0, 1.0, 1.0, 1.0, ...</td>\n",
       "      <td>1</td>\n",
       "      <td>[0.6902654867256637, 0.7682926829268293, 0.7, ...</td>\n",
       "      <td>0.748463</td>\n",
       "      <td>0.0404982</td>\n",
       "    </tr>\n",
       "    <tr>\n",
       "      <th>2</th>\n",
       "      <td>SVC</td>\n",
       "      <td>{'C': 1.0, 'break_ties': False, 'cache_size': ...</td>\n",
       "      <td>[0.9403846153846154, 0.9412621359223301, 0.939...</td>\n",
       "      <td>0.938902</td>\n",
       "      <td>[0.6991150442477876, 0.7682926829268293, 0.738...</td>\n",
       "      <td>0.74813</td>\n",
       "      <td>0.0369506</td>\n",
       "    </tr>\n",
       "    <tr>\n",
       "      <th>0</th>\n",
       "      <td>GradientBoostingClassifier</td>\n",
       "      <td>{'ccp_alpha': 0.0, 'criterion': 'friedman_mse'...</td>\n",
       "      <td>[0.9485576923076923, 0.9441747572815534, 0.954...</td>\n",
       "      <td>0.947423</td>\n",
       "      <td>[0.6902654867256637, 0.7845528455284553, 0.7, ...</td>\n",
       "      <td>0.748</td>\n",
       "      <td>0.0477986</td>\n",
       "    </tr>\n",
       "    <tr>\n",
       "      <th>4</th>\n",
       "      <td>XGBClassifier</td>\n",
       "      <td>{'objective': 'binary:logistic', 'use_label_en...</td>\n",
       "      <td>[1.0, 1.0, 1.0, 1.0, 1.0, 1.0, 1.0, 1.0, 1.0, ...</td>\n",
       "      <td>1</td>\n",
       "      <td>[0.6991150442477876, 0.7560975609756098, 0.726...</td>\n",
       "      <td>0.741226</td>\n",
       "      <td>0.0429285</td>\n",
       "    </tr>\n",
       "  </tbody>\n",
       "</table>\n",
       "</div>"
      ],
      "text/plain": [
       "                     MLA Name  \\\n",
       "3                   LinearSVC   \n",
       "1      RandomForestClassifier   \n",
       "2                         SVC   \n",
       "0  GradientBoostingClassifier   \n",
       "4               XGBClassifier   \n",
       "\n",
       "                                      MLA Parameters  \\\n",
       "3  {'C': 1.0, 'class_weight': None, 'dual': True,...   \n",
       "1  {'bootstrap': True, 'ccp_alpha': 0.0, 'class_w...   \n",
       "2  {'C': 1.0, 'break_ties': False, 'cache_size': ...   \n",
       "0  {'ccp_alpha': 0.0, 'criterion': 'friedman_mse'...   \n",
       "4  {'objective': 'binary:logistic', 'use_label_en...   \n",
       "\n",
       "                                  MLA Train Accuracy MLA Train Accuracy Mean  \\\n",
       "3  [0.8370192307692308, 0.829126213592233, 0.8250...                0.823542   \n",
       "1  [1.0, 1.0, 1.0, 1.0, 1.0, 1.0, 1.0, 1.0, 1.0, ...                       1   \n",
       "2  [0.9403846153846154, 0.9412621359223301, 0.939...                0.938902   \n",
       "0  [0.9485576923076923, 0.9441747572815534, 0.954...                0.947423   \n",
       "4  [1.0, 1.0, 1.0, 1.0, 1.0, 1.0, 1.0, 1.0, 1.0, ...                       1   \n",
       "\n",
       "                                   MLA Test Accuracy MLA Test Accuracy Mean  \\\n",
       "3  [0.6548672566371682, 0.7154471544715447, 0.734...               0.750532   \n",
       "1  [0.6902654867256637, 0.7682926829268293, 0.7, ...               0.748463   \n",
       "2  [0.6991150442477876, 0.7682926829268293, 0.738...                0.74813   \n",
       "0  [0.6902654867256637, 0.7845528455284553, 0.7, ...                  0.748   \n",
       "4  [0.6991150442477876, 0.7560975609756098, 0.726...               0.741226   \n",
       "\n",
       "  MLA Test Accuracy Std  \n",
       "3             0.0513305  \n",
       "1             0.0404982  \n",
       "2             0.0369506  \n",
       "0             0.0477986  \n",
       "4             0.0429285  "
      ]
     },
     "execution_count": 105,
     "metadata": {},
     "output_type": "execute_result"
    }
   ],
   "source": [
    "MLA_breathe_25"
   ]
  },
  {
   "cell_type": "code",
   "execution_count": 108,
   "metadata": {},
   "outputs": [
    {
     "data": {
      "text/html": [
       "<div>\n",
       "<style scoped>\n",
       "    .dataframe tbody tr th:only-of-type {\n",
       "        vertical-align: middle;\n",
       "    }\n",
       "\n",
       "    .dataframe tbody tr th {\n",
       "        vertical-align: top;\n",
       "    }\n",
       "\n",
       "    .dataframe thead th {\n",
       "        text-align: right;\n",
       "    }\n",
       "</style>\n",
       "<table border=\"1\" class=\"dataframe\">\n",
       "  <thead>\n",
       "    <tr style=\"text-align: right;\">\n",
       "      <th></th>\n",
       "      <th>MLA Name</th>\n",
       "      <th>MLA Parameters</th>\n",
       "      <th>MLA Train Accuracy</th>\n",
       "      <th>MLA Train Accuracy Mean</th>\n",
       "      <th>MLA Test Accuracy</th>\n",
       "      <th>MLA Test Accuracy Mean</th>\n",
       "      <th>MLA Test Accuracy Std</th>\n",
       "    </tr>\n",
       "  </thead>\n",
       "  <tbody>\n",
       "    <tr>\n",
       "      <th>0</th>\n",
       "      <td>GradientBoostingClassifier</td>\n",
       "      <td>{'ccp_alpha': 0.0, 'criterion': 'friedman_mse'...</td>\n",
       "      <td>[0.9488304093567251, 0.9423170140571983, 0.945...</td>\n",
       "      <td>0.945284</td>\n",
       "      <td>[0.6732283464566929, 0.7983539094650206, 0.766...</td>\n",
       "      <td>0.771667</td>\n",
       "      <td>0.0568199</td>\n",
       "    </tr>\n",
       "    <tr>\n",
       "      <th>4</th>\n",
       "      <td>XGBClassifier</td>\n",
       "      <td>{'objective': 'binary:logistic', 'use_label_en...</td>\n",
       "      <td>[1.0, 1.0, 1.0, 1.0, 1.0, 1.0, 1.0, 1.0, 1.0, ...</td>\n",
       "      <td>1</td>\n",
       "      <td>[0.6850393700787402, 0.7530864197530864, 0.766...</td>\n",
       "      <td>0.764239</td>\n",
       "      <td>0.0408503</td>\n",
       "    </tr>\n",
       "    <tr>\n",
       "      <th>1</th>\n",
       "      <td>RandomForestClassifier</td>\n",
       "      <td>{'bootstrap': True, 'ccp_alpha': 0.0, 'class_w...</td>\n",
       "      <td>[1.0, 1.0, 1.0, 1.0, 1.0, 1.0, 1.0, 1.0, 1.0, ...</td>\n",
       "      <td>1</td>\n",
       "      <td>[0.6889763779527559, 0.8024691358024691, 0.770...</td>\n",
       "      <td>0.763884</td>\n",
       "      <td>0.0479508</td>\n",
       "    </tr>\n",
       "    <tr>\n",
       "      <th>2</th>\n",
       "      <td>SVC</td>\n",
       "      <td>{'C': 1.0, 'break_ties': False, 'cache_size': ...</td>\n",
       "      <td>[0.9444444444444444, 0.9384391662627242, 0.941...</td>\n",
       "      <td>0.938957</td>\n",
       "      <td>[0.6811023622047244, 0.7736625514403292, 0.737...</td>\n",
       "      <td>0.75844</td>\n",
       "      <td>0.0487334</td>\n",
       "    </tr>\n",
       "    <tr>\n",
       "      <th>3</th>\n",
       "      <td>LinearSVC</td>\n",
       "      <td>{'C': 1.0, 'class_weight': None, 'dual': True,...</td>\n",
       "      <td>[0.8245614035087719, 0.8099854580707707, 0.825...</td>\n",
       "      <td>0.820978</td>\n",
       "      <td>[0.7047244094488189, 0.7777777777777778, 0.737...</td>\n",
       "      <td>0.742551</td>\n",
       "      <td>0.0484762</td>\n",
       "    </tr>\n",
       "  </tbody>\n",
       "</table>\n",
       "</div>"
      ],
      "text/plain": [
       "                     MLA Name  \\\n",
       "0  GradientBoostingClassifier   \n",
       "4               XGBClassifier   \n",
       "1      RandomForestClassifier   \n",
       "2                         SVC   \n",
       "3                   LinearSVC   \n",
       "\n",
       "                                      MLA Parameters  \\\n",
       "0  {'ccp_alpha': 0.0, 'criterion': 'friedman_mse'...   \n",
       "4  {'objective': 'binary:logistic', 'use_label_en...   \n",
       "1  {'bootstrap': True, 'ccp_alpha': 0.0, 'class_w...   \n",
       "2  {'C': 1.0, 'break_ties': False, 'cache_size': ...   \n",
       "3  {'C': 1.0, 'class_weight': None, 'dual': True,...   \n",
       "\n",
       "                                  MLA Train Accuracy MLA Train Accuracy Mean  \\\n",
       "0  [0.9488304093567251, 0.9423170140571983, 0.945...                0.945284   \n",
       "4  [1.0, 1.0, 1.0, 1.0, 1.0, 1.0, 1.0, 1.0, 1.0, ...                       1   \n",
       "1  [1.0, 1.0, 1.0, 1.0, 1.0, 1.0, 1.0, 1.0, 1.0, ...                       1   \n",
       "2  [0.9444444444444444, 0.9384391662627242, 0.941...                0.938957   \n",
       "3  [0.8245614035087719, 0.8099854580707707, 0.825...                0.820978   \n",
       "\n",
       "                                   MLA Test Accuracy MLA Test Accuracy Mean  \\\n",
       "0  [0.6732283464566929, 0.7983539094650206, 0.766...               0.771667   \n",
       "4  [0.6850393700787402, 0.7530864197530864, 0.766...               0.764239   \n",
       "1  [0.6889763779527559, 0.8024691358024691, 0.770...               0.763884   \n",
       "2  [0.6811023622047244, 0.7736625514403292, 0.737...                0.75844   \n",
       "3  [0.7047244094488189, 0.7777777777777778, 0.737...               0.742551   \n",
       "\n",
       "  MLA Test Accuracy Std  \n",
       "0             0.0568199  \n",
       "4             0.0408503  \n",
       "1             0.0479508  \n",
       "2             0.0487334  \n",
       "3             0.0484762  "
      ]
     },
     "execution_count": 108,
     "metadata": {},
     "output_type": "execute_result"
    }
   ],
   "source": [
    "MLA_breathe_30"
   ]
  },
  {
   "cell_type": "code",
   "execution_count": 109,
   "metadata": {},
   "outputs": [
    {
     "data": {
      "text/html": [
       "<div>\n",
       "<style scoped>\n",
       "    .dataframe tbody tr th:only-of-type {\n",
       "        vertical-align: middle;\n",
       "    }\n",
       "\n",
       "    .dataframe tbody tr th {\n",
       "        vertical-align: top;\n",
       "    }\n",
       "\n",
       "    .dataframe thead th {\n",
       "        text-align: right;\n",
       "    }\n",
       "</style>\n",
       "<table border=\"1\" class=\"dataframe\">\n",
       "  <thead>\n",
       "    <tr style=\"text-align: right;\">\n",
       "      <th></th>\n",
       "      <th>MLA Name</th>\n",
       "      <th>MLA Parameters</th>\n",
       "      <th>MLA Train Accuracy</th>\n",
       "      <th>MLA Train Accuracy Mean</th>\n",
       "      <th>MLA Test Accuracy</th>\n",
       "      <th>MLA Test Accuracy Mean</th>\n",
       "      <th>MLA Test Accuracy Std</th>\n",
       "    </tr>\n",
       "  </thead>\n",
       "  <tbody>\n",
       "    <tr>\n",
       "      <th>4</th>\n",
       "      <td>XGBClassifier</td>\n",
       "      <td>{'objective': 'binary:logistic', 'use_label_en...</td>\n",
       "      <td>[1.0, 1.0, 1.0, 1.0, 1.0, 1.0, 1.0, 1.0, 1.0, ...</td>\n",
       "      <td>1</td>\n",
       "      <td>[0.8024193548387096, 0.7154471544715447, 0.732...</td>\n",
       "      <td>0.761618</td>\n",
       "      <td>0.0438694</td>\n",
       "    </tr>\n",
       "    <tr>\n",
       "      <th>2</th>\n",
       "      <td>SVC</td>\n",
       "      <td>{'C': 1.0, 'break_ties': False, 'cache_size': ...</td>\n",
       "      <td>[0.9407191448007775, 0.9422330097087379, 0.942...</td>\n",
       "      <td>0.94081</td>\n",
       "      <td>[0.7540322580645161, 0.7479674796747967, 0.684...</td>\n",
       "      <td>0.751841</td>\n",
       "      <td>0.0345117</td>\n",
       "    </tr>\n",
       "    <tr>\n",
       "      <th>0</th>\n",
       "      <td>GradientBoostingClassifier</td>\n",
       "      <td>{'ccp_alpha': 0.0, 'criterion': 'friedman_mse'...</td>\n",
       "      <td>[0.9412050534499514, 0.9451456310679611, 0.943...</td>\n",
       "      <td>0.944605</td>\n",
       "      <td>[0.7701612903225806, 0.7195121951219512, 0.748...</td>\n",
       "      <td>0.749764</td>\n",
       "      <td>0.0487241</td>\n",
       "    </tr>\n",
       "    <tr>\n",
       "      <th>1</th>\n",
       "      <td>RandomForestClassifier</td>\n",
       "      <td>{'bootstrap': True, 'ccp_alpha': 0.0, 'class_w...</td>\n",
       "      <td>[1.0, 1.0, 1.0, 1.0, 1.0, 1.0, 1.0, 1.0, 1.0, ...</td>\n",
       "      <td>1</td>\n",
       "      <td>[0.7701612903225806, 0.7032520325203252, 0.688...</td>\n",
       "      <td>0.748593</td>\n",
       "      <td>0.0476399</td>\n",
       "    </tr>\n",
       "    <tr>\n",
       "      <th>3</th>\n",
       "      <td>LinearSVC</td>\n",
       "      <td>{'C': 1.0, 'class_weight': None, 'dual': True,...</td>\n",
       "      <td>[0.8104956268221575, 0.8310679611650486, 0.819...</td>\n",
       "      <td>0.819893</td>\n",
       "      <td>[0.7540322580645161, 0.7357723577235772, 0.748...</td>\n",
       "      <td>0.738059</td>\n",
       "      <td>0.0360477</td>\n",
       "    </tr>\n",
       "  </tbody>\n",
       "</table>\n",
       "</div>"
      ],
      "text/plain": [
       "                     MLA Name  \\\n",
       "4               XGBClassifier   \n",
       "2                         SVC   \n",
       "0  GradientBoostingClassifier   \n",
       "1      RandomForestClassifier   \n",
       "3                   LinearSVC   \n",
       "\n",
       "                                      MLA Parameters  \\\n",
       "4  {'objective': 'binary:logistic', 'use_label_en...   \n",
       "2  {'C': 1.0, 'break_ties': False, 'cache_size': ...   \n",
       "0  {'ccp_alpha': 0.0, 'criterion': 'friedman_mse'...   \n",
       "1  {'bootstrap': True, 'ccp_alpha': 0.0, 'class_w...   \n",
       "3  {'C': 1.0, 'class_weight': None, 'dual': True,...   \n",
       "\n",
       "                                  MLA Train Accuracy MLA Train Accuracy Mean  \\\n",
       "4  [1.0, 1.0, 1.0, 1.0, 1.0, 1.0, 1.0, 1.0, 1.0, ...                       1   \n",
       "2  [0.9407191448007775, 0.9422330097087379, 0.942...                 0.94081   \n",
       "0  [0.9412050534499514, 0.9451456310679611, 0.943...                0.944605   \n",
       "1  [1.0, 1.0, 1.0, 1.0, 1.0, 1.0, 1.0, 1.0, 1.0, ...                       1   \n",
       "3  [0.8104956268221575, 0.8310679611650486, 0.819...                0.819893   \n",
       "\n",
       "                                   MLA Test Accuracy MLA Test Accuracy Mean  \\\n",
       "4  [0.8024193548387096, 0.7154471544715447, 0.732...               0.761618   \n",
       "2  [0.7540322580645161, 0.7479674796747967, 0.684...               0.751841   \n",
       "0  [0.7701612903225806, 0.7195121951219512, 0.748...               0.749764   \n",
       "1  [0.7701612903225806, 0.7032520325203252, 0.688...               0.748593   \n",
       "3  [0.7540322580645161, 0.7357723577235772, 0.748...               0.738059   \n",
       "\n",
       "  MLA Test Accuracy Std  \n",
       "4             0.0438694  \n",
       "2             0.0345117  \n",
       "0             0.0487241  \n",
       "1             0.0476399  \n",
       "3             0.0360477  "
      ]
     },
     "execution_count": 109,
     "metadata": {},
     "output_type": "execute_result"
    }
   ],
   "source": [
    "MLA_breathe_35"
   ]
  },
  {
   "cell_type": "code",
   "execution_count": 110,
   "metadata": {},
   "outputs": [
    {
     "data": {
      "text/html": [
       "<div>\n",
       "<style scoped>\n",
       "    .dataframe tbody tr th:only-of-type {\n",
       "        vertical-align: middle;\n",
       "    }\n",
       "\n",
       "    .dataframe tbody tr th {\n",
       "        vertical-align: top;\n",
       "    }\n",
       "\n",
       "    .dataframe thead th {\n",
       "        text-align: right;\n",
       "    }\n",
       "</style>\n",
       "<table border=\"1\" class=\"dataframe\">\n",
       "  <thead>\n",
       "    <tr style=\"text-align: right;\">\n",
       "      <th></th>\n",
       "      <th>MLA Name</th>\n",
       "      <th>MLA Parameters</th>\n",
       "      <th>MLA Train Accuracy</th>\n",
       "      <th>MLA Train Accuracy Mean</th>\n",
       "      <th>MLA Test Accuracy</th>\n",
       "      <th>MLA Test Accuracy Mean</th>\n",
       "      <th>MLA Test Accuracy Std</th>\n",
       "    </tr>\n",
       "  </thead>\n",
       "  <tbody>\n",
       "    <tr>\n",
       "      <th>0</th>\n",
       "      <td>GradientBoostingClassifier</td>\n",
       "      <td>{'ccp_alpha': 0.0, 'criterion': 'friedman_mse'...</td>\n",
       "      <td>[0.9398642095053347, 0.9458272327964861, 0.953...</td>\n",
       "      <td>0.947545</td>\n",
       "      <td>[0.819672131147541, 0.8132295719844358, 0.7489...</td>\n",
       "      <td>0.763443</td>\n",
       "      <td>0.0407363</td>\n",
       "    </tr>\n",
       "    <tr>\n",
       "      <th>4</th>\n",
       "      <td>XGBClassifier</td>\n",
       "      <td>{'objective': 'binary:logistic', 'use_label_en...</td>\n",
       "      <td>[1.0, 1.0, 1.0, 1.0, 1.0, 1.0, 1.0, 1.0, 1.0, ...</td>\n",
       "      <td>1</td>\n",
       "      <td>[0.8319672131147541, 0.8093385214007782, 0.736...</td>\n",
       "      <td>0.754622</td>\n",
       "      <td>0.042072</td>\n",
       "    </tr>\n",
       "    <tr>\n",
       "      <th>2</th>\n",
       "      <td>SVC</td>\n",
       "      <td>{'C': 1.0, 'break_ties': False, 'cache_size': ...</td>\n",
       "      <td>[0.9398642095053347, 0.9443631039531479, 0.946...</td>\n",
       "      <td>0.942294</td>\n",
       "      <td>[0.8032786885245902, 0.7782101167315175, 0.736...</td>\n",
       "      <td>0.750773</td>\n",
       "      <td>0.0295168</td>\n",
       "    </tr>\n",
       "    <tr>\n",
       "      <th>1</th>\n",
       "      <td>RandomForestClassifier</td>\n",
       "      <td>{'bootstrap': True, 'ccp_alpha': 0.0, 'class_w...</td>\n",
       "      <td>[1.0, 1.0, 1.0, 1.0, 1.0, 1.0, 1.0, 1.0, 1.0, ...</td>\n",
       "      <td>1</td>\n",
       "      <td>[0.7704918032786885, 0.8171206225680934, 0.740...</td>\n",
       "      <td>0.749178</td>\n",
       "      <td>0.0399472</td>\n",
       "    </tr>\n",
       "    <tr>\n",
       "      <th>3</th>\n",
       "      <td>LinearSVC</td>\n",
       "      <td>{'C': 1.0, 'class_weight': None, 'dual': True,...</td>\n",
       "      <td>[0.8118331716779825, 0.8042947779404588, 0.815...</td>\n",
       "      <td>0.813461</td>\n",
       "      <td>[0.7745901639344263, 0.8015564202334631, 0.773...</td>\n",
       "      <td>0.734855</td>\n",
       "      <td>0.0521324</td>\n",
       "    </tr>\n",
       "  </tbody>\n",
       "</table>\n",
       "</div>"
      ],
      "text/plain": [
       "                     MLA Name  \\\n",
       "0  GradientBoostingClassifier   \n",
       "4               XGBClassifier   \n",
       "2                         SVC   \n",
       "1      RandomForestClassifier   \n",
       "3                   LinearSVC   \n",
       "\n",
       "                                      MLA Parameters  \\\n",
       "0  {'ccp_alpha': 0.0, 'criterion': 'friedman_mse'...   \n",
       "4  {'objective': 'binary:logistic', 'use_label_en...   \n",
       "2  {'C': 1.0, 'break_ties': False, 'cache_size': ...   \n",
       "1  {'bootstrap': True, 'ccp_alpha': 0.0, 'class_w...   \n",
       "3  {'C': 1.0, 'class_weight': None, 'dual': True,...   \n",
       "\n",
       "                                  MLA Train Accuracy MLA Train Accuracy Mean  \\\n",
       "0  [0.9398642095053347, 0.9458272327964861, 0.953...                0.947545   \n",
       "4  [1.0, 1.0, 1.0, 1.0, 1.0, 1.0, 1.0, 1.0, 1.0, ...                       1   \n",
       "2  [0.9398642095053347, 0.9443631039531479, 0.946...                0.942294   \n",
       "1  [1.0, 1.0, 1.0, 1.0, 1.0, 1.0, 1.0, 1.0, 1.0, ...                       1   \n",
       "3  [0.8118331716779825, 0.8042947779404588, 0.815...                0.813461   \n",
       "\n",
       "                                   MLA Test Accuracy MLA Test Accuracy Mean  \\\n",
       "0  [0.819672131147541, 0.8132295719844358, 0.7489...               0.763443   \n",
       "4  [0.8319672131147541, 0.8093385214007782, 0.736...               0.754622   \n",
       "2  [0.8032786885245902, 0.7782101167315175, 0.736...               0.750773   \n",
       "1  [0.7704918032786885, 0.8171206225680934, 0.740...               0.749178   \n",
       "3  [0.7745901639344263, 0.8015564202334631, 0.773...               0.734855   \n",
       "\n",
       "  MLA Test Accuracy Std  \n",
       "0             0.0407363  \n",
       "4              0.042072  \n",
       "2             0.0295168  \n",
       "1             0.0399472  \n",
       "3             0.0521324  "
      ]
     },
     "execution_count": 110,
     "metadata": {},
     "output_type": "execute_result"
    }
   ],
   "source": [
    "MLA_breathe_40"
   ]
  },
  {
   "cell_type": "code",
   "execution_count": 111,
   "metadata": {},
   "outputs": [
    {
     "data": {
      "text/html": [
       "<div>\n",
       "<style scoped>\n",
       "    .dataframe tbody tr th:only-of-type {\n",
       "        vertical-align: middle;\n",
       "    }\n",
       "\n",
       "    .dataframe tbody tr th {\n",
       "        vertical-align: top;\n",
       "    }\n",
       "\n",
       "    .dataframe thead th {\n",
       "        text-align: right;\n",
       "    }\n",
       "</style>\n",
       "<table border=\"1\" class=\"dataframe\">\n",
       "  <thead>\n",
       "    <tr style=\"text-align: right;\">\n",
       "      <th></th>\n",
       "      <th>MLA Name</th>\n",
       "      <th>MLA Parameters</th>\n",
       "      <th>MLA Train Accuracy</th>\n",
       "      <th>MLA Train Accuracy Mean</th>\n",
       "      <th>MLA Test Accuracy</th>\n",
       "      <th>MLA Test Accuracy Mean</th>\n",
       "      <th>MLA Test Accuracy Std</th>\n",
       "    </tr>\n",
       "  </thead>\n",
       "  <tbody>\n",
       "    <tr>\n",
       "      <th>4</th>\n",
       "      <td>XGBClassifier</td>\n",
       "      <td>{'objective': 'binary:logistic', 'use_label_en...</td>\n",
       "      <td>[1.0, 1.0, 1.0, 1.0, 1.0, 1.0, 1.0, 1.0, 1.0, ...</td>\n",
       "      <td>1</td>\n",
       "      <td>[0.8307086614173228, 0.823045267489712, 0.8280...</td>\n",
       "      <td>0.755789</td>\n",
       "      <td>0.0661308</td>\n",
       "    </tr>\n",
       "    <tr>\n",
       "      <th>1</th>\n",
       "      <td>RandomForestClassifier</td>\n",
       "      <td>{'bootstrap': True, 'ccp_alpha': 0.0, 'class_w...</td>\n",
       "      <td>[1.0, 1.0, 1.0, 1.0, 1.0, 1.0, 1.0, 1.0, 1.0, ...</td>\n",
       "      <td>1</td>\n",
       "      <td>[0.7834645669291339, 0.8106995884773662, 0.828...</td>\n",
       "      <td>0.747783</td>\n",
       "      <td>0.0713838</td>\n",
       "    </tr>\n",
       "    <tr>\n",
       "      <th>0</th>\n",
       "      <td>GradientBoostingClassifier</td>\n",
       "      <td>{'ccp_alpha': 0.0, 'criterion': 'friedman_mse'...</td>\n",
       "      <td>[0.9429824561403509, 0.9365002423654871, 0.940...</td>\n",
       "      <td>0.94218</td>\n",
       "      <td>[0.7992125984251969, 0.8271604938271605, 0.796...</td>\n",
       "      <td>0.741859</td>\n",
       "      <td>0.0680587</td>\n",
       "    </tr>\n",
       "    <tr>\n",
       "      <th>3</th>\n",
       "      <td>LinearSVC</td>\n",
       "      <td>{'C': 1.0, 'class_weight': None, 'dual': True,...</td>\n",
       "      <td>[0.7992202729044834, 0.8109549200193893, 0.802...</td>\n",
       "      <td>0.815734</td>\n",
       "      <td>[0.8346456692913385, 0.7901234567901234, 0.846...</td>\n",
       "      <td>0.733167</td>\n",
       "      <td>0.0916071</td>\n",
       "    </tr>\n",
       "    <tr>\n",
       "      <th>2</th>\n",
       "      <td>SVC</td>\n",
       "      <td>{'C': 1.0, 'break_ties': False, 'cache_size': ...</td>\n",
       "      <td>[0.9381091617933723, 0.9389238972370334, 0.943...</td>\n",
       "      <td>0.943719</td>\n",
       "      <td>[0.8070866141732284, 0.7942386831275721, 0.814...</td>\n",
       "      <td>0.725076</td>\n",
       "      <td>0.0730134</td>\n",
       "    </tr>\n",
       "  </tbody>\n",
       "</table>\n",
       "</div>"
      ],
      "text/plain": [
       "                     MLA Name  \\\n",
       "4               XGBClassifier   \n",
       "1      RandomForestClassifier   \n",
       "0  GradientBoostingClassifier   \n",
       "3                   LinearSVC   \n",
       "2                         SVC   \n",
       "\n",
       "                                      MLA Parameters  \\\n",
       "4  {'objective': 'binary:logistic', 'use_label_en...   \n",
       "1  {'bootstrap': True, 'ccp_alpha': 0.0, 'class_w...   \n",
       "0  {'ccp_alpha': 0.0, 'criterion': 'friedman_mse'...   \n",
       "3  {'C': 1.0, 'class_weight': None, 'dual': True,...   \n",
       "2  {'C': 1.0, 'break_ties': False, 'cache_size': ...   \n",
       "\n",
       "                                  MLA Train Accuracy MLA Train Accuracy Mean  \\\n",
       "4  [1.0, 1.0, 1.0, 1.0, 1.0, 1.0, 1.0, 1.0, 1.0, ...                       1   \n",
       "1  [1.0, 1.0, 1.0, 1.0, 1.0, 1.0, 1.0, 1.0, 1.0, ...                       1   \n",
       "0  [0.9429824561403509, 0.9365002423654871, 0.940...                 0.94218   \n",
       "3  [0.7992202729044834, 0.8109549200193893, 0.802...                0.815734   \n",
       "2  [0.9381091617933723, 0.9389238972370334, 0.943...                0.943719   \n",
       "\n",
       "                                   MLA Test Accuracy MLA Test Accuracy Mean  \\\n",
       "4  [0.8307086614173228, 0.823045267489712, 0.8280...               0.755789   \n",
       "1  [0.7834645669291339, 0.8106995884773662, 0.828...               0.747783   \n",
       "0  [0.7992125984251969, 0.8271604938271605, 0.796...               0.741859   \n",
       "3  [0.8346456692913385, 0.7901234567901234, 0.846...               0.733167   \n",
       "2  [0.8070866141732284, 0.7942386831275721, 0.814...               0.725076   \n",
       "\n",
       "  MLA Test Accuracy Std  \n",
       "4             0.0661308  \n",
       "1             0.0713838  \n",
       "0             0.0680587  \n",
       "3             0.0916071  \n",
       "2             0.0730134  "
      ]
     },
     "execution_count": 111,
     "metadata": {},
     "output_type": "execute_result"
    }
   ],
   "source": [
    "MLA_breathe_45"
   ]
  },
  {
   "cell_type": "code",
   "execution_count": 112,
   "metadata": {},
   "outputs": [
    {
     "data": {
      "text/html": [
       "<div>\n",
       "<style scoped>\n",
       "    .dataframe tbody tr th:only-of-type {\n",
       "        vertical-align: middle;\n",
       "    }\n",
       "\n",
       "    .dataframe tbody tr th {\n",
       "        vertical-align: top;\n",
       "    }\n",
       "\n",
       "    .dataframe thead th {\n",
       "        text-align: right;\n",
       "    }\n",
       "</style>\n",
       "<table border=\"1\" class=\"dataframe\">\n",
       "  <thead>\n",
       "    <tr style=\"text-align: right;\">\n",
       "      <th></th>\n",
       "      <th>MLA Name</th>\n",
       "      <th>MLA Parameters</th>\n",
       "      <th>MLA Train Accuracy</th>\n",
       "      <th>MLA Train Accuracy Mean</th>\n",
       "      <th>MLA Test Accuracy</th>\n",
       "      <th>MLA Test Accuracy Mean</th>\n",
       "      <th>MLA Test Accuracy Std</th>\n",
       "    </tr>\n",
       "  </thead>\n",
       "  <tbody>\n",
       "    <tr>\n",
       "      <th>1</th>\n",
       "      <td>RandomForestClassifier</td>\n",
       "      <td>{'bootstrap': True, 'ccp_alpha': 0.0, 'class_w...</td>\n",
       "      <td>[1.0, 1.0, 1.0, 1.0, 1.0, 1.0, 1.0, 1.0, 1.0, ...</td>\n",
       "      <td>1</td>\n",
       "      <td>[0.8685258964143426, 0.6638297872340425, 0.795...</td>\n",
       "      <td>0.724131</td>\n",
       "      <td>0.0661764</td>\n",
       "    </tr>\n",
       "    <tr>\n",
       "      <th>4</th>\n",
       "      <td>XGBClassifier</td>\n",
       "      <td>{'objective': 'binary:logistic', 'use_label_en...</td>\n",
       "      <td>[1.0, 1.0, 1.0, 1.0, 1.0, 1.0, 1.0, 1.0, 1.0, ...</td>\n",
       "      <td>1</td>\n",
       "      <td>[0.8844621513944223, 0.6893617021276596, 0.806...</td>\n",
       "      <td>0.721735</td>\n",
       "      <td>0.0740567</td>\n",
       "    </tr>\n",
       "    <tr>\n",
       "      <th>0</th>\n",
       "      <td>GradientBoostingClassifier</td>\n",
       "      <td>{'ccp_alpha': 0.0, 'criterion': 'friedman_mse'...</td>\n",
       "      <td>[0.9343065693430657, 0.9420569773056494, 0.940...</td>\n",
       "      <td>0.942971</td>\n",
       "      <td>[0.8804780876494024, 0.6553191489361702, 0.791...</td>\n",
       "      <td>0.721247</td>\n",
       "      <td>0.0697468</td>\n",
       "    </tr>\n",
       "    <tr>\n",
       "      <th>3</th>\n",
       "      <td>LinearSVC</td>\n",
       "      <td>{'C': 1.0, 'class_weight': None, 'dual': True,...</td>\n",
       "      <td>[0.8, 0.8338966682761951, 0.8090551181102362, ...</td>\n",
       "      <td>0.819019</td>\n",
       "      <td>[0.8725099601593626, 0.6340425531914894, 0.813...</td>\n",
       "      <td>0.721142</td>\n",
       "      <td>0.0849714</td>\n",
       "    </tr>\n",
       "    <tr>\n",
       "      <th>2</th>\n",
       "      <td>SVC</td>\n",
       "      <td>{'C': 1.0, 'break_ties': False, 'cache_size': ...</td>\n",
       "      <td>[0.9440389294403893, 0.9464027040077257, 0.944...</td>\n",
       "      <td>0.945794</td>\n",
       "      <td>[0.8247011952191236, 0.6340425531914894, 0.799...</td>\n",
       "      <td>0.705103</td>\n",
       "      <td>0.0633952</td>\n",
       "    </tr>\n",
       "  </tbody>\n",
       "</table>\n",
       "</div>"
      ],
      "text/plain": [
       "                     MLA Name  \\\n",
       "1      RandomForestClassifier   \n",
       "4               XGBClassifier   \n",
       "0  GradientBoostingClassifier   \n",
       "3                   LinearSVC   \n",
       "2                         SVC   \n",
       "\n",
       "                                      MLA Parameters  \\\n",
       "1  {'bootstrap': True, 'ccp_alpha': 0.0, 'class_w...   \n",
       "4  {'objective': 'binary:logistic', 'use_label_en...   \n",
       "0  {'ccp_alpha': 0.0, 'criterion': 'friedman_mse'...   \n",
       "3  {'C': 1.0, 'class_weight': None, 'dual': True,...   \n",
       "2  {'C': 1.0, 'break_ties': False, 'cache_size': ...   \n",
       "\n",
       "                                  MLA Train Accuracy MLA Train Accuracy Mean  \\\n",
       "1  [1.0, 1.0, 1.0, 1.0, 1.0, 1.0, 1.0, 1.0, 1.0, ...                       1   \n",
       "4  [1.0, 1.0, 1.0, 1.0, 1.0, 1.0, 1.0, 1.0, 1.0, ...                       1   \n",
       "0  [0.9343065693430657, 0.9420569773056494, 0.940...                0.942971   \n",
       "3  [0.8, 0.8338966682761951, 0.8090551181102362, ...                0.819019   \n",
       "2  [0.9440389294403893, 0.9464027040077257, 0.944...                0.945794   \n",
       "\n",
       "                                   MLA Test Accuracy MLA Test Accuracy Mean  \\\n",
       "1  [0.8685258964143426, 0.6638297872340425, 0.795...               0.724131   \n",
       "4  [0.8844621513944223, 0.6893617021276596, 0.806...               0.721735   \n",
       "0  [0.8804780876494024, 0.6553191489361702, 0.791...               0.721247   \n",
       "3  [0.8725099601593626, 0.6340425531914894, 0.813...               0.721142   \n",
       "2  [0.8247011952191236, 0.6340425531914894, 0.799...               0.705103   \n",
       "\n",
       "  MLA Test Accuracy Std  \n",
       "1             0.0661764  \n",
       "4             0.0740567  \n",
       "0             0.0697468  \n",
       "3             0.0849714  \n",
       "2             0.0633952  "
      ]
     },
     "execution_count": 112,
     "metadata": {},
     "output_type": "execute_result"
    }
   ],
   "source": [
    "MLA_breathe_50"
   ]
  },
  {
   "cell_type": "code",
   "execution_count": 115,
   "metadata": {},
   "outputs": [
    {
     "data": {
      "text/html": [
       "<div>\n",
       "<style scoped>\n",
       "    .dataframe tbody tr th:only-of-type {\n",
       "        vertical-align: middle;\n",
       "    }\n",
       "\n",
       "    .dataframe tbody tr th {\n",
       "        vertical-align: top;\n",
       "    }\n",
       "\n",
       "    .dataframe thead th {\n",
       "        text-align: right;\n",
       "    }\n",
       "</style>\n",
       "<table border=\"1\" class=\"dataframe\">\n",
       "  <thead>\n",
       "    <tr style=\"text-align: right;\">\n",
       "      <th></th>\n",
       "      <th>0</th>\n",
       "      <th>1</th>\n",
       "      <th>2</th>\n",
       "      <th>3</th>\n",
       "      <th>4</th>\n",
       "      <th>5</th>\n",
       "      <th>6</th>\n",
       "      <th>7</th>\n",
       "      <th>8</th>\n",
       "      <th>9</th>\n",
       "      <th>...</th>\n",
       "      <th>64</th>\n",
       "      <th>65</th>\n",
       "      <th>66</th>\n",
       "      <th>67</th>\n",
       "      <th>68</th>\n",
       "      <th>69</th>\n",
       "      <th>70</th>\n",
       "      <th>71</th>\n",
       "      <th>72</th>\n",
       "      <th>73</th>\n",
       "    </tr>\n",
       "  </thead>\n",
       "  <tbody>\n",
       "    <tr>\n",
       "      <th>0</th>\n",
       "      <td>-5.977006</td>\n",
       "      <td>-5.839786</td>\n",
       "      <td>-6.696734</td>\n",
       "      <td>1.304895</td>\n",
       "      <td>-3.281355</td>\n",
       "      <td>-1.167873</td>\n",
       "      <td>-2.562443</td>\n",
       "      <td>-12.080556</td>\n",
       "      <td>-6.502465</td>\n",
       "      <td>1.550612</td>\n",
       "      <td>...</td>\n",
       "      <td>8.564801</td>\n",
       "      <td>14.995866</td>\n",
       "      <td>8.731224</td>\n",
       "      <td>15.448228</td>\n",
       "      <td>15.523052</td>\n",
       "      <td>13.974631</td>\n",
       "      <td>10.353719</td>\n",
       "      <td>14.330583</td>\n",
       "      <td>1.0</td>\n",
       "      <td>2030_P_Asthma_M_after_TBD_Y.json</td>\n",
       "    </tr>\n",
       "    <tr>\n",
       "      <th>1</th>\n",
       "      <td>-5.392328</td>\n",
       "      <td>-7.524056</td>\n",
       "      <td>-7.517287</td>\n",
       "      <td>2.365323</td>\n",
       "      <td>-8.092963</td>\n",
       "      <td>-8.338172</td>\n",
       "      <td>-1.899475</td>\n",
       "      <td>-18.203737</td>\n",
       "      <td>-5.927729</td>\n",
       "      <td>-3.604729</td>\n",
       "      <td>...</td>\n",
       "      <td>12.852849</td>\n",
       "      <td>16.923776</td>\n",
       "      <td>9.882452</td>\n",
       "      <td>21.771327</td>\n",
       "      <td>15.493454</td>\n",
       "      <td>16.031112</td>\n",
       "      <td>11.806349</td>\n",
       "      <td>13.461008</td>\n",
       "      <td>1.0</td>\n",
       "      <td>2030_P_Asthma_M_after_TBD_Y.json</td>\n",
       "    </tr>\n",
       "    <tr>\n",
       "      <th>2</th>\n",
       "      <td>-6.094472</td>\n",
       "      <td>-6.008680</td>\n",
       "      <td>-3.635710</td>\n",
       "      <td>13.471389</td>\n",
       "      <td>-8.094610</td>\n",
       "      <td>-4.368420</td>\n",
       "      <td>3.522561</td>\n",
       "      <td>-27.064741</td>\n",
       "      <td>1.597966</td>\n",
       "      <td>-11.922719</td>\n",
       "      <td>...</td>\n",
       "      <td>10.690758</td>\n",
       "      <td>10.521691</td>\n",
       "      <td>11.272635</td>\n",
       "      <td>28.299939</td>\n",
       "      <td>9.932172</td>\n",
       "      <td>17.512684</td>\n",
       "      <td>11.181277</td>\n",
       "      <td>10.633954</td>\n",
       "      <td>1.0</td>\n",
       "      <td>2030_P_Asthma_M_after_TBD_Y.json</td>\n",
       "    </tr>\n",
       "    <tr>\n",
       "      <th>3</th>\n",
       "      <td>-6.411079</td>\n",
       "      <td>-4.696532</td>\n",
       "      <td>-8.362793</td>\n",
       "      <td>5.046116</td>\n",
       "      <td>-5.932999</td>\n",
       "      <td>-4.862881</td>\n",
       "      <td>-2.530029</td>\n",
       "      <td>-13.778201</td>\n",
       "      <td>-1.507559</td>\n",
       "      <td>-0.511943</td>\n",
       "      <td>...</td>\n",
       "      <td>11.116691</td>\n",
       "      <td>13.005401</td>\n",
       "      <td>11.214902</td>\n",
       "      <td>18.477102</td>\n",
       "      <td>11.523132</td>\n",
       "      <td>12.314678</td>\n",
       "      <td>11.562355</td>\n",
       "      <td>14.261425</td>\n",
       "      <td>1.0</td>\n",
       "      <td>2030_P_Asthma_M_after_TBD_Y.json</td>\n",
       "    </tr>\n",
       "    <tr>\n",
       "      <th>4</th>\n",
       "      <td>-6.153268</td>\n",
       "      <td>-2.271515</td>\n",
       "      <td>-6.480360</td>\n",
       "      <td>1.037759</td>\n",
       "      <td>-6.298301</td>\n",
       "      <td>0.371330</td>\n",
       "      <td>-2.558691</td>\n",
       "      <td>-6.554385</td>\n",
       "      <td>-0.536011</td>\n",
       "      <td>7.503430</td>\n",
       "      <td>...</td>\n",
       "      <td>10.132870</td>\n",
       "      <td>11.212203</td>\n",
       "      <td>9.080807</td>\n",
       "      <td>11.090978</td>\n",
       "      <td>10.706592</td>\n",
       "      <td>13.925596</td>\n",
       "      <td>9.745181</td>\n",
       "      <td>18.931210</td>\n",
       "      <td>1.0</td>\n",
       "      <td>2030_P_Asthma_M_after_TBD_Y.json</td>\n",
       "    </tr>\n",
       "    <tr>\n",
       "      <th>...</th>\n",
       "      <td>...</td>\n",
       "      <td>...</td>\n",
       "      <td>...</td>\n",
       "      <td>...</td>\n",
       "      <td>...</td>\n",
       "      <td>...</td>\n",
       "      <td>...</td>\n",
       "      <td>...</td>\n",
       "      <td>...</td>\n",
       "      <td>...</td>\n",
       "      <td>...</td>\n",
       "      <td>...</td>\n",
       "      <td>...</td>\n",
       "      <td>...</td>\n",
       "      <td>...</td>\n",
       "      <td>...</td>\n",
       "      <td>...</td>\n",
       "      <td>...</td>\n",
       "      <td>...</td>\n",
       "      <td>...</td>\n",
       "      <td>...</td>\n",
       "    </tr>\n",
       "    <tr>\n",
       "      <th>2301</th>\n",
       "      <td>-2.258854</td>\n",
       "      <td>-20.925547</td>\n",
       "      <td>-30.688681</td>\n",
       "      <td>-11.165256</td>\n",
       "      <td>1.782119</td>\n",
       "      <td>3.605799</td>\n",
       "      <td>8.433943</td>\n",
       "      <td>1.786737</td>\n",
       "      <td>7.831882</td>\n",
       "      <td>10.166328</td>\n",
       "      <td>...</td>\n",
       "      <td>13.158405</td>\n",
       "      <td>10.809771</td>\n",
       "      <td>13.440098</td>\n",
       "      <td>15.748632</td>\n",
       "      <td>16.570694</td>\n",
       "      <td>15.036669</td>\n",
       "      <td>9.858660</td>\n",
       "      <td>20.958058</td>\n",
       "      <td>0.0</td>\n",
       "      <td>1306_C_Na_M_Na_Na_N.json</td>\n",
       "    </tr>\n",
       "    <tr>\n",
       "      <th>2302</th>\n",
       "      <td>-2.694701</td>\n",
       "      <td>-20.641974</td>\n",
       "      <td>-30.325957</td>\n",
       "      <td>-4.525265</td>\n",
       "      <td>3.916112</td>\n",
       "      <td>5.415410</td>\n",
       "      <td>6.376050</td>\n",
       "      <td>-4.073862</td>\n",
       "      <td>3.050696</td>\n",
       "      <td>6.971827</td>\n",
       "      <td>...</td>\n",
       "      <td>11.891667</td>\n",
       "      <td>12.133006</td>\n",
       "      <td>10.667039</td>\n",
       "      <td>12.689224</td>\n",
       "      <td>11.860668</td>\n",
       "      <td>12.468933</td>\n",
       "      <td>10.942633</td>\n",
       "      <td>23.800505</td>\n",
       "      <td>0.0</td>\n",
       "      <td>1306_C_Na_M_Na_Na_N.json</td>\n",
       "    </tr>\n",
       "    <tr>\n",
       "      <th>2303</th>\n",
       "      <td>-2.970527</td>\n",
       "      <td>-22.292854</td>\n",
       "      <td>-30.628427</td>\n",
       "      <td>-0.327121</td>\n",
       "      <td>1.277205</td>\n",
       "      <td>1.482204</td>\n",
       "      <td>10.595406</td>\n",
       "      <td>-6.064481</td>\n",
       "      <td>-1.246275</td>\n",
       "      <td>10.527364</td>\n",
       "      <td>...</td>\n",
       "      <td>11.157549</td>\n",
       "      <td>11.200076</td>\n",
       "      <td>14.186789</td>\n",
       "      <td>11.707877</td>\n",
       "      <td>9.938035</td>\n",
       "      <td>14.915668</td>\n",
       "      <td>9.559192</td>\n",
       "      <td>22.041033</td>\n",
       "      <td>0.0</td>\n",
       "      <td>1306_C_Na_M_Na_Na_N.json</td>\n",
       "    </tr>\n",
       "    <tr>\n",
       "      <th>2304</th>\n",
       "      <td>-3.004799</td>\n",
       "      <td>-22.885229</td>\n",
       "      <td>-31.412037</td>\n",
       "      <td>-3.358953</td>\n",
       "      <td>-2.857134</td>\n",
       "      <td>-0.801861</td>\n",
       "      <td>7.464936</td>\n",
       "      <td>-5.213664</td>\n",
       "      <td>-5.521248</td>\n",
       "      <td>15.240395</td>\n",
       "      <td>...</td>\n",
       "      <td>8.769014</td>\n",
       "      <td>9.863838</td>\n",
       "      <td>11.992603</td>\n",
       "      <td>11.997416</td>\n",
       "      <td>11.934708</td>\n",
       "      <td>18.539998</td>\n",
       "      <td>9.961911</td>\n",
       "      <td>20.337116</td>\n",
       "      <td>0.0</td>\n",
       "      <td>1306_C_Na_M_Na_Na_N.json</td>\n",
       "    </tr>\n",
       "    <tr>\n",
       "      <th>2305</th>\n",
       "      <td>-4.612513</td>\n",
       "      <td>-13.145025</td>\n",
       "      <td>-15.129846</td>\n",
       "      <td>-2.047220</td>\n",
       "      <td>-4.899300</td>\n",
       "      <td>-0.141574</td>\n",
       "      <td>-4.067459</td>\n",
       "      <td>-3.921415</td>\n",
       "      <td>-0.685250</td>\n",
       "      <td>5.421116</td>\n",
       "      <td>...</td>\n",
       "      <td>10.389653</td>\n",
       "      <td>11.679796</td>\n",
       "      <td>13.274976</td>\n",
       "      <td>10.798103</td>\n",
       "      <td>11.218241</td>\n",
       "      <td>13.395264</td>\n",
       "      <td>10.922478</td>\n",
       "      <td>15.900128</td>\n",
       "      <td>0.0</td>\n",
       "      <td>1306_C_Na_M_Na_Na_N.json</td>\n",
       "    </tr>\n",
       "  </tbody>\n",
       "</table>\n",
       "<p>2306 rows × 74 columns</p>\n",
       "</div>"
      ],
      "text/plain": [
       "             0          1          2          3         4         5  \\\n",
       "0    -5.977006  -5.839786  -6.696734   1.304895 -3.281355 -1.167873   \n",
       "1    -5.392328  -7.524056  -7.517287   2.365323 -8.092963 -8.338172   \n",
       "2    -6.094472  -6.008680  -3.635710  13.471389 -8.094610 -4.368420   \n",
       "3    -6.411079  -4.696532  -8.362793   5.046116 -5.932999 -4.862881   \n",
       "4    -6.153268  -2.271515  -6.480360   1.037759 -6.298301  0.371330   \n",
       "...        ...        ...        ...        ...       ...       ...   \n",
       "2301 -2.258854 -20.925547 -30.688681 -11.165256  1.782119  3.605799   \n",
       "2302 -2.694701 -20.641974 -30.325957  -4.525265  3.916112  5.415410   \n",
       "2303 -2.970527 -22.292854 -30.628427  -0.327121  1.277205  1.482204   \n",
       "2304 -3.004799 -22.885229 -31.412037  -3.358953 -2.857134 -0.801861   \n",
       "2305 -4.612513 -13.145025 -15.129846  -2.047220 -4.899300 -0.141574   \n",
       "\n",
       "              6          7         8          9  ...         64         65  \\\n",
       "0     -2.562443 -12.080556 -6.502465   1.550612  ...   8.564801  14.995866   \n",
       "1     -1.899475 -18.203737 -5.927729  -3.604729  ...  12.852849  16.923776   \n",
       "2      3.522561 -27.064741  1.597966 -11.922719  ...  10.690758  10.521691   \n",
       "3     -2.530029 -13.778201 -1.507559  -0.511943  ...  11.116691  13.005401   \n",
       "4     -2.558691  -6.554385 -0.536011   7.503430  ...  10.132870  11.212203   \n",
       "...         ...        ...       ...        ...  ...        ...        ...   \n",
       "2301   8.433943   1.786737  7.831882  10.166328  ...  13.158405  10.809771   \n",
       "2302   6.376050  -4.073862  3.050696   6.971827  ...  11.891667  12.133006   \n",
       "2303  10.595406  -6.064481 -1.246275  10.527364  ...  11.157549  11.200076   \n",
       "2304   7.464936  -5.213664 -5.521248  15.240395  ...   8.769014   9.863838   \n",
       "2305  -4.067459  -3.921415 -0.685250   5.421116  ...  10.389653  11.679796   \n",
       "\n",
       "             66         67         68         69         70         71   72  \\\n",
       "0      8.731224  15.448228  15.523052  13.974631  10.353719  14.330583  1.0   \n",
       "1      9.882452  21.771327  15.493454  16.031112  11.806349  13.461008  1.0   \n",
       "2     11.272635  28.299939   9.932172  17.512684  11.181277  10.633954  1.0   \n",
       "3     11.214902  18.477102  11.523132  12.314678  11.562355  14.261425  1.0   \n",
       "4      9.080807  11.090978  10.706592  13.925596   9.745181  18.931210  1.0   \n",
       "...         ...        ...        ...        ...        ...        ...  ...   \n",
       "2301  13.440098  15.748632  16.570694  15.036669   9.858660  20.958058  0.0   \n",
       "2302  10.667039  12.689224  11.860668  12.468933  10.942633  23.800505  0.0   \n",
       "2303  14.186789  11.707877   9.938035  14.915668   9.559192  22.041033  0.0   \n",
       "2304  11.992603  11.997416  11.934708  18.539998   9.961911  20.337116  0.0   \n",
       "2305  13.274976  10.798103  11.218241  13.395264  10.922478  15.900128  0.0   \n",
       "\n",
       "                                    73  \n",
       "0     2030_P_Asthma_M_after_TBD_Y.json  \n",
       "1     2030_P_Asthma_M_after_TBD_Y.json  \n",
       "2     2030_P_Asthma_M_after_TBD_Y.json  \n",
       "3     2030_P_Asthma_M_after_TBD_Y.json  \n",
       "4     2030_P_Asthma_M_after_TBD_Y.json  \n",
       "...                                ...  \n",
       "2301          1306_C_Na_M_Na_Na_N.json  \n",
       "2302          1306_C_Na_M_Na_Na_N.json  \n",
       "2303          1306_C_Na_M_Na_Na_N.json  \n",
       "2304          1306_C_Na_M_Na_Na_N.json  \n",
       "2305          1306_C_Na_M_Na_Na_N.json  \n",
       "\n",
       "[2306 rows x 74 columns]"
      ]
     },
     "execution_count": 115,
     "metadata": {},
     "output_type": "execute_result"
    }
   ],
   "source": [
    "Breath_2_dataframe"
   ]
  },
  {
   "cell_type": "code",
   "execution_count": 116,
   "metadata": {},
   "outputs": [
    {
     "data": {
      "text/html": [
       "<div>\n",
       "<style scoped>\n",
       "    .dataframe tbody tr th:only-of-type {\n",
       "        vertical-align: middle;\n",
       "    }\n",
       "\n",
       "    .dataframe tbody tr th {\n",
       "        vertical-align: top;\n",
       "    }\n",
       "\n",
       "    .dataframe thead th {\n",
       "        text-align: right;\n",
       "    }\n",
       "</style>\n",
       "<table border=\"1\" class=\"dataframe\">\n",
       "  <thead>\n",
       "    <tr style=\"text-align: right;\">\n",
       "      <th></th>\n",
       "      <th>0</th>\n",
       "      <th>1</th>\n",
       "      <th>2</th>\n",
       "      <th>3</th>\n",
       "      <th>4</th>\n",
       "      <th>5</th>\n",
       "      <th>6</th>\n",
       "      <th>7</th>\n",
       "      <th>8</th>\n",
       "      <th>9</th>\n",
       "      <th>...</th>\n",
       "      <th>64</th>\n",
       "      <th>65</th>\n",
       "      <th>66</th>\n",
       "      <th>67</th>\n",
       "      <th>68</th>\n",
       "      <th>69</th>\n",
       "      <th>70</th>\n",
       "      <th>71</th>\n",
       "      <th>72</th>\n",
       "      <th>73</th>\n",
       "    </tr>\n",
       "  </thead>\n",
       "  <tbody>\n",
       "    <tr>\n",
       "      <th>0</th>\n",
       "      <td>-5.819893</td>\n",
       "      <td>-0.807137</td>\n",
       "      <td>-5.621214</td>\n",
       "      <td>5.254770</td>\n",
       "      <td>-3.315850</td>\n",
       "      <td>5.227212</td>\n",
       "      <td>2.699075</td>\n",
       "      <td>-10.106676</td>\n",
       "      <td>-2.065468</td>\n",
       "      <td>3.210382</td>\n",
       "      <td>...</td>\n",
       "      <td>7.525397</td>\n",
       "      <td>13.206269</td>\n",
       "      <td>8.542131</td>\n",
       "      <td>12.448360</td>\n",
       "      <td>11.166359</td>\n",
       "      <td>14.285654</td>\n",
       "      <td>9.299346</td>\n",
       "      <td>14.721490</td>\n",
       "      <td>1.0</td>\n",
       "      <td>2030_P_Asthma_M_after_TBD_Y.json</td>\n",
       "    </tr>\n",
       "    <tr>\n",
       "      <th>1</th>\n",
       "      <td>-4.239213</td>\n",
       "      <td>-5.541188</td>\n",
       "      <td>-4.688828</td>\n",
       "      <td>-0.346142</td>\n",
       "      <td>-6.847378</td>\n",
       "      <td>-2.986326</td>\n",
       "      <td>-0.986394</td>\n",
       "      <td>-12.044204</td>\n",
       "      <td>-6.977862</td>\n",
       "      <td>1.198398</td>\n",
       "      <td>...</td>\n",
       "      <td>12.489347</td>\n",
       "      <td>20.389885</td>\n",
       "      <td>9.178060</td>\n",
       "      <td>16.179534</td>\n",
       "      <td>22.209952</td>\n",
       "      <td>15.749400</td>\n",
       "      <td>12.588714</td>\n",
       "      <td>17.929530</td>\n",
       "      <td>1.0</td>\n",
       "      <td>2030_P_Asthma_M_after_TBD_Y.json</td>\n",
       "    </tr>\n",
       "    <tr>\n",
       "      <th>2</th>\n",
       "      <td>-5.354658</td>\n",
       "      <td>-5.668823</td>\n",
       "      <td>-2.405999</td>\n",
       "      <td>10.432677</td>\n",
       "      <td>-7.490145</td>\n",
       "      <td>-3.756268</td>\n",
       "      <td>4.655690</td>\n",
       "      <td>-25.750033</td>\n",
       "      <td>-1.074364</td>\n",
       "      <td>-7.176282</td>\n",
       "      <td>...</td>\n",
       "      <td>10.019886</td>\n",
       "      <td>11.460915</td>\n",
       "      <td>10.751927</td>\n",
       "      <td>26.900385</td>\n",
       "      <td>8.573363</td>\n",
       "      <td>14.580283</td>\n",
       "      <td>11.540474</td>\n",
       "      <td>11.574759</td>\n",
       "      <td>1.0</td>\n",
       "      <td>2030_P_Asthma_M_after_TBD_Y.json</td>\n",
       "    </tr>\n",
       "    <tr>\n",
       "      <th>3</th>\n",
       "      <td>-5.092278</td>\n",
       "      <td>-2.529580</td>\n",
       "      <td>-9.688043</td>\n",
       "      <td>9.188193</td>\n",
       "      <td>-12.220343</td>\n",
       "      <td>-6.892942</td>\n",
       "      <td>3.612338</td>\n",
       "      <td>-20.445863</td>\n",
       "      <td>4.298290</td>\n",
       "      <td>-0.158647</td>\n",
       "      <td>...</td>\n",
       "      <td>16.611896</td>\n",
       "      <td>13.117266</td>\n",
       "      <td>10.425394</td>\n",
       "      <td>25.338480</td>\n",
       "      <td>12.605503</td>\n",
       "      <td>16.826520</td>\n",
       "      <td>15.302202</td>\n",
       "      <td>16.827541</td>\n",
       "      <td>1.0</td>\n",
       "      <td>2030_P_Asthma_M_after_TBD_Y.json</td>\n",
       "    </tr>\n",
       "    <tr>\n",
       "      <th>4</th>\n",
       "      <td>-5.227036</td>\n",
       "      <td>-2.247611</td>\n",
       "      <td>-6.643047</td>\n",
       "      <td>3.928853</td>\n",
       "      <td>-4.373642</td>\n",
       "      <td>5.126797</td>\n",
       "      <td>0.458337</td>\n",
       "      <td>-8.708336</td>\n",
       "      <td>0.721195</td>\n",
       "      <td>12.353288</td>\n",
       "      <td>...</td>\n",
       "      <td>6.839993</td>\n",
       "      <td>9.704536</td>\n",
       "      <td>6.540969</td>\n",
       "      <td>11.134982</td>\n",
       "      <td>11.737423</td>\n",
       "      <td>17.516899</td>\n",
       "      <td>8.658353</td>\n",
       "      <td>22.654186</td>\n",
       "      <td>1.0</td>\n",
       "      <td>2030_P_Asthma_M_after_TBD_Y.json</td>\n",
       "    </tr>\n",
       "    <tr>\n",
       "      <th>...</th>\n",
       "      <td>...</td>\n",
       "      <td>...</td>\n",
       "      <td>...</td>\n",
       "      <td>...</td>\n",
       "      <td>...</td>\n",
       "      <td>...</td>\n",
       "      <td>...</td>\n",
       "      <td>...</td>\n",
       "      <td>...</td>\n",
       "      <td>...</td>\n",
       "      <td>...</td>\n",
       "      <td>...</td>\n",
       "      <td>...</td>\n",
       "      <td>...</td>\n",
       "      <td>...</td>\n",
       "      <td>...</td>\n",
       "      <td>...</td>\n",
       "      <td>...</td>\n",
       "      <td>...</td>\n",
       "      <td>...</td>\n",
       "      <td>...</td>\n",
       "    </tr>\n",
       "    <tr>\n",
       "      <th>2301</th>\n",
       "      <td>-2.151245</td>\n",
       "      <td>-20.350943</td>\n",
       "      <td>-30.374809</td>\n",
       "      <td>-15.213687</td>\n",
       "      <td>1.593645</td>\n",
       "      <td>2.917599</td>\n",
       "      <td>8.487529</td>\n",
       "      <td>2.739748</td>\n",
       "      <td>16.710217</td>\n",
       "      <td>13.032672</td>\n",
       "      <td>...</td>\n",
       "      <td>12.987489</td>\n",
       "      <td>10.466126</td>\n",
       "      <td>12.237796</td>\n",
       "      <td>20.048685</td>\n",
       "      <td>19.411646</td>\n",
       "      <td>18.208179</td>\n",
       "      <td>9.674810</td>\n",
       "      <td>21.100815</td>\n",
       "      <td>0.0</td>\n",
       "      <td>1306_C_Na_M_Na_Na_N.json</td>\n",
       "    </tr>\n",
       "    <tr>\n",
       "      <th>2302</th>\n",
       "      <td>-2.248064</td>\n",
       "      <td>-20.340445</td>\n",
       "      <td>-29.144326</td>\n",
       "      <td>-7.463857</td>\n",
       "      <td>8.039509</td>\n",
       "      <td>3.117647</td>\n",
       "      <td>3.994106</td>\n",
       "      <td>2.652726</td>\n",
       "      <td>4.215575</td>\n",
       "      <td>9.145722</td>\n",
       "      <td>...</td>\n",
       "      <td>12.788172</td>\n",
       "      <td>9.728738</td>\n",
       "      <td>10.356971</td>\n",
       "      <td>14.333728</td>\n",
       "      <td>15.189778</td>\n",
       "      <td>13.998471</td>\n",
       "      <td>10.891011</td>\n",
       "      <td>22.383180</td>\n",
       "      <td>0.0</td>\n",
       "      <td>1306_C_Na_M_Na_Na_N.json</td>\n",
       "    </tr>\n",
       "    <tr>\n",
       "      <th>2303</th>\n",
       "      <td>-3.028981</td>\n",
       "      <td>-21.319713</td>\n",
       "      <td>-30.583212</td>\n",
       "      <td>-3.390940</td>\n",
       "      <td>4.082062</td>\n",
       "      <td>3.598154</td>\n",
       "      <td>6.138509</td>\n",
       "      <td>-4.684856</td>\n",
       "      <td>3.785632</td>\n",
       "      <td>5.976167</td>\n",
       "      <td>...</td>\n",
       "      <td>13.133627</td>\n",
       "      <td>9.584542</td>\n",
       "      <td>9.770108</td>\n",
       "      <td>10.390636</td>\n",
       "      <td>10.695590</td>\n",
       "      <td>11.538736</td>\n",
       "      <td>10.293202</td>\n",
       "      <td>24.152109</td>\n",
       "      <td>0.0</td>\n",
       "      <td>1306_C_Na_M_Na_Na_N.json</td>\n",
       "    </tr>\n",
       "    <tr>\n",
       "      <th>2304</th>\n",
       "      <td>-2.974233</td>\n",
       "      <td>-22.775266</td>\n",
       "      <td>-30.338571</td>\n",
       "      <td>3.460445</td>\n",
       "      <td>1.870983</td>\n",
       "      <td>-2.858343</td>\n",
       "      <td>8.577335</td>\n",
       "      <td>-2.936660</td>\n",
       "      <td>-4.193408</td>\n",
       "      <td>15.106904</td>\n",
       "      <td>...</td>\n",
       "      <td>8.048638</td>\n",
       "      <td>9.262883</td>\n",
       "      <td>11.993682</td>\n",
       "      <td>10.802477</td>\n",
       "      <td>9.773258</td>\n",
       "      <td>17.282774</td>\n",
       "      <td>8.385744</td>\n",
       "      <td>19.409659</td>\n",
       "      <td>0.0</td>\n",
       "      <td>1306_C_Na_M_Na_Na_N.json</td>\n",
       "    </tr>\n",
       "    <tr>\n",
       "      <th>2305</th>\n",
       "      <td>-3.031252</td>\n",
       "      <td>-22.987305</td>\n",
       "      <td>-32.907777</td>\n",
       "      <td>-7.784757</td>\n",
       "      <td>-4.772929</td>\n",
       "      <td>1.471203</td>\n",
       "      <td>1.782426</td>\n",
       "      <td>-7.675965</td>\n",
       "      <td>-4.360019</td>\n",
       "      <td>13.591205</td>\n",
       "      <td>...</td>\n",
       "      <td>8.387842</td>\n",
       "      <td>7.647920</td>\n",
       "      <td>10.214640</td>\n",
       "      <td>12.137719</td>\n",
       "      <td>11.954083</td>\n",
       "      <td>18.008363</td>\n",
       "      <td>11.154210</td>\n",
       "      <td>17.105995</td>\n",
       "      <td>0.0</td>\n",
       "      <td>1306_C_Na_M_Na_Na_N.json</td>\n",
       "    </tr>\n",
       "  </tbody>\n",
       "</table>\n",
       "<p>2306 rows × 74 columns</p>\n",
       "</div>"
      ],
      "text/plain": [
       "             0          1          2          3          4         5  \\\n",
       "0    -5.819893  -0.807137  -5.621214   5.254770  -3.315850  5.227212   \n",
       "1    -4.239213  -5.541188  -4.688828  -0.346142  -6.847378 -2.986326   \n",
       "2    -5.354658  -5.668823  -2.405999  10.432677  -7.490145 -3.756268   \n",
       "3    -5.092278  -2.529580  -9.688043   9.188193 -12.220343 -6.892942   \n",
       "4    -5.227036  -2.247611  -6.643047   3.928853  -4.373642  5.126797   \n",
       "...        ...        ...        ...        ...        ...       ...   \n",
       "2301 -2.151245 -20.350943 -30.374809 -15.213687   1.593645  2.917599   \n",
       "2302 -2.248064 -20.340445 -29.144326  -7.463857   8.039509  3.117647   \n",
       "2303 -3.028981 -21.319713 -30.583212  -3.390940   4.082062  3.598154   \n",
       "2304 -2.974233 -22.775266 -30.338571   3.460445   1.870983 -2.858343   \n",
       "2305 -3.031252 -22.987305 -32.907777  -7.784757  -4.772929  1.471203   \n",
       "\n",
       "             6          7          8          9  ...         64         65  \\\n",
       "0     2.699075 -10.106676  -2.065468   3.210382  ...   7.525397  13.206269   \n",
       "1    -0.986394 -12.044204  -6.977862   1.198398  ...  12.489347  20.389885   \n",
       "2     4.655690 -25.750033  -1.074364  -7.176282  ...  10.019886  11.460915   \n",
       "3     3.612338 -20.445863   4.298290  -0.158647  ...  16.611896  13.117266   \n",
       "4     0.458337  -8.708336   0.721195  12.353288  ...   6.839993   9.704536   \n",
       "...        ...        ...        ...        ...  ...        ...        ...   \n",
       "2301  8.487529   2.739748  16.710217  13.032672  ...  12.987489  10.466126   \n",
       "2302  3.994106   2.652726   4.215575   9.145722  ...  12.788172   9.728738   \n",
       "2303  6.138509  -4.684856   3.785632   5.976167  ...  13.133627   9.584542   \n",
       "2304  8.577335  -2.936660  -4.193408  15.106904  ...   8.048638   9.262883   \n",
       "2305  1.782426  -7.675965  -4.360019  13.591205  ...   8.387842   7.647920   \n",
       "\n",
       "             66         67         68         69         70         71   72  \\\n",
       "0      8.542131  12.448360  11.166359  14.285654   9.299346  14.721490  1.0   \n",
       "1      9.178060  16.179534  22.209952  15.749400  12.588714  17.929530  1.0   \n",
       "2     10.751927  26.900385   8.573363  14.580283  11.540474  11.574759  1.0   \n",
       "3     10.425394  25.338480  12.605503  16.826520  15.302202  16.827541  1.0   \n",
       "4      6.540969  11.134982  11.737423  17.516899   8.658353  22.654186  1.0   \n",
       "...         ...        ...        ...        ...        ...        ...  ...   \n",
       "2301  12.237796  20.048685  19.411646  18.208179   9.674810  21.100815  0.0   \n",
       "2302  10.356971  14.333728  15.189778  13.998471  10.891011  22.383180  0.0   \n",
       "2303   9.770108  10.390636  10.695590  11.538736  10.293202  24.152109  0.0   \n",
       "2304  11.993682  10.802477   9.773258  17.282774   8.385744  19.409659  0.0   \n",
       "2305  10.214640  12.137719  11.954083  18.008363  11.154210  17.105995  0.0   \n",
       "\n",
       "                                    73  \n",
       "0     2030_P_Asthma_M_after_TBD_Y.json  \n",
       "1     2030_P_Asthma_M_after_TBD_Y.json  \n",
       "2     2030_P_Asthma_M_after_TBD_Y.json  \n",
       "3     2030_P_Asthma_M_after_TBD_Y.json  \n",
       "4     2030_P_Asthma_M_after_TBD_Y.json  \n",
       "...                                ...  \n",
       "2301          1306_C_Na_M_Na_Na_N.json  \n",
       "2302          1306_C_Na_M_Na_Na_N.json  \n",
       "2303          1306_C_Na_M_Na_Na_N.json  \n",
       "2304          1306_C_Na_M_Na_Na_N.json  \n",
       "2305          1306_C_Na_M_Na_Na_N.json  \n",
       "\n",
       "[2306 rows x 74 columns]"
      ]
     },
     "execution_count": 116,
     "metadata": {},
     "output_type": "execute_result"
    }
   ],
   "source": [
    "Breath_dataframe_25"
   ]
  },
  {
   "cell_type": "code",
   "execution_count": null,
   "metadata": {},
   "outputs": [],
   "source": []
  }
 ],
 "metadata": {
  "kernelspec": {
   "display_name": "Python 3",
   "language": "python",
   "name": "python3"
  },
  "language_info": {
   "codemirror_mode": {
    "name": "ipython",
    "version": 3
   },
   "file_extension": ".py",
   "mimetype": "text/x-python",
   "name": "python",
   "nbconvert_exporter": "python",
   "pygments_lexer": "ipython3",
   "version": "3.7.3"
  }
 },
 "nbformat": 4,
 "nbformat_minor": 2
}
