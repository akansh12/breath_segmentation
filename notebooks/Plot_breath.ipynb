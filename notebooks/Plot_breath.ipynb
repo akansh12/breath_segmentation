{
 "cells": [
  {
   "cell_type": "code",
   "execution_count": 1,
   "metadata": {},
   "outputs": [],
   "source": [
    "import os\n",
    "import pandas as pd\n",
    "import matplotlib.pyplot as plt\n",
    "import librosa\n",
    "import librosa.display"
   ]
  },
  {
   "cell_type": "code",
   "execution_count": 2,
   "metadata": {},
   "outputs": [],
   "source": [
    "from tqdm.auto import tqdm"
   ]
  },
  {
   "cell_type": "code",
   "execution_count": 3,
   "metadata": {},
   "outputs": [],
   "source": [
    "import numpy as np "
   ]
  },
  {
   "cell_type": "code",
   "execution_count": 11,
   "metadata": {},
   "outputs": [
    {
     "data": {
      "application/vnd.jupyter.widget-view+json": {
       "model_id": "bab526d547414466a8c8584ae9de4048",
       "version_major": 2,
       "version_minor": 0
      },
      "text/plain": [
       "  0%|          | 0/18 [00:00<?, ?it/s]"
      ]
     },
     "metadata": {},
     "output_type": "display_data"
    }
   ],
   "source": [
    "os.makedirs(\"./Plots\", exist_ok=True)\n",
    "ann_list = os.listdir(\"./breathe_annotations/\")\n",
    "\n",
    "for k in tqdm(ann_list):\n",
    "    y, sr = librosa.load(k[:-4]+\".wav\",sr = None) \n",
    "    ann = pd.read_csv(\"./breathe_annotations/\"+k, delimiter=\"\\t\", header=None)   \n",
    "    start = ann.iloc[:,0]\n",
    "    stop = ann.iloc[:,1]\n",
    "    for i in range(0,len(start)):\n",
    "        waveform = y[int(round(start[i]*sr)):int(round((stop[i])*sr))]\n",
    "        plt.figure()\n",
    "        librosa.display.waveplot(waveform)\n",
    "        os.makedirs(\"./Plots/\"+k[:-4],exist_ok=True)\n",
    "        plt.savefig(\"./Plots/\"+k[:-4]+'/' + str(i) + '.jpg')\n",
    "        plt.close()"
   ]
  },
  {
   "cell_type": "code",
   "execution_count": 28,
   "metadata": {},
   "outputs": [
    {
     "data": {
      "application/vnd.jupyter.widget-view+json": {
       "model_id": "a23c360cc5054e4983efee973607bd5f",
       "version_major": 2,
       "version_minor": 0
      },
      "text/plain": [
       "  0%|          | 0/259 [00:00<?, ?it/s]"
      ]
     },
     "metadata": {},
     "output_type": "display_data"
    }
   ],
   "source": [
    "A = {}\n",
    "for k in tqdm(ann_list):\n",
    "    ann = pd.read_csv(\"./breathe_annotations/\"+k, delimiter=\"\\t\", header=None)   \n",
    "    start = ann.iloc[:,0]\n",
    "    stop = ann.iloc[:,1]\n",
    "    A[k] = len(start)\n",
    "    \n"
   ]
  },
  {
   "cell_type": "code",
   "execution_count": null,
   "metadata": {},
   "outputs": [],
   "source": []
  },
  {
   "cell_type": "code",
   "execution_count": null,
   "metadata": {},
   "outputs": [],
   "source": []
  },
  {
   "cell_type": "code",
   "execution_count": null,
   "metadata": {},
   "outputs": [],
   "source": []
  },
  {
   "cell_type": "markdown",
   "metadata": {},
   "source": [
    "### Plot with Inhale and Exhale\n"
   ]
  },
  {
   "cell_type": "code",
   "execution_count": 4,
   "metadata": {},
   "outputs": [],
   "source": [
    "ann_list = [i for i in os.listdir(\"./\") if i.endswith(\".txt\")]"
   ]
  },
  {
   "cell_type": "code",
   "execution_count": 5,
   "metadata": {},
   "outputs": [
    {
     "data": {
      "text/plain": [
       "285"
      ]
     },
     "execution_count": 5,
     "metadata": {},
     "output_type": "execute_result"
    }
   ],
   "source": [
    "len(ann_list)"
   ]
  },
  {
   "cell_type": "code",
   "execution_count": 11,
   "metadata": {},
   "outputs": [
    {
     "data": {
      "text/plain": [
       "['1306_C_Na_M_Na_Na_N.txt',\n",
       " '1176_C_Na_M_Na_Na_Y.txt',\n",
       " '2390_P_Asthma_F_after_Mod_Y.txt',\n",
       " '1452_C_Na_M_Na_Na_Y.txt',\n",
       " '1032_C_Na_M_Na_Na_Y.txt',\n",
       " '2269_P_Asthma_F_after_TBD_Y.txt',\n",
       " '2020_P_Asthma_F_after_Mod_Y.txt',\n",
       " '2365_P_Asthma_F_after_TBD_Y.txt',\n",
       " '1310_C_Na_M_Na_Na_N.txt',\n",
       " '2115_P_Asthma_F_before_Mod_Y.txt',\n",
       " '2485_P_Asthma_F_before_TBD_Y.txt',\n",
       " '1030_C_Na_F_Na_Na_Y.txt',\n",
       " '2316_P_Asthma_M_after_Sev_Y.txt',\n",
       " '2465_P_Asthma_M_before_Sev_Y.txt',\n",
       " '2223_P_Asthma_F_after_TBD_Y.txt',\n",
       " '1435_C_Na_M_Na_Na_Y.txt',\n",
       " '2103_P_Asthma_M_after_TBD_Y.txt',\n",
       " '2335_P_Asthma_F_after_TBD_Y.txt',\n",
       " '1217_C_Na_F_Na_Na_Y.txt',\n",
       " '2081_P_Asthma_F_after_Mil_Y.txt',\n",
       " '1425_C_Na_M_Na_Na_N.txt',\n",
       " '1069_C_Na_M_Na_Na_N.txt',\n",
       " '2109_P_Asthma_F_after_Mil_Y.txt',\n",
       " '2405_P_Asthma_M_after_Mod_Y.txt',\n",
       " '2074_P_Asthma_M_after_Mil_Y.txt',\n",
       " '1335_C_Na_M_Na_Na_Y.txt',\n",
       " '2366_P_Asthma_M_after_Sev_Y.txt',\n",
       " '1475_C_Na_F_Na_Na_N.txt',\n",
       " '1077_C_Na_F_Na_Na_Y.txt',\n",
       " '2494_P_Asthma_F_before_Sev_Y.txt',\n",
       " '2235_P_Asthma_F_after_TBD_Y.txt',\n",
       " '2058_P_Asthma_M_after_TBD_Y.txt',\n",
       " '2187_P_Asthma_M_after_Sev_Y.txt',\n",
       " '2134_P_Asthma_F_after_TBD_N.txt',\n",
       " '2089_P_Asthma_F_After_Mild_Y.txt',\n",
       " '2060_P_Asthma_F_before_Sev_Y.txt',\n",
       " '2076_P_Asthma_M_after_Mod_Y.txt',\n",
       " '2214_P_Asthma_M_before_Mil_Y.txt',\n",
       " '1121_C_Na_F_Na_Na_N.txt',\n",
       " '2054_P_Asthma_M_after_TBD_Y.txt',\n",
       " '2236_P_Asthma_F_before_Sev_Y.txt',\n",
       " '2150_P_Asthma_M_before_TBD_Y.txt',\n",
       " '2376_P_Asthma_M_before_Mil_Y.txt',\n",
       " '2445_P_Asthma_F_after_Mil_Y.txt',\n",
       " '1390_C_Na_F_Na_Na_N.txt',\n",
       " '1214_C_Na_M_Na_Na_Y.txt',\n",
       " '2273_P_Asthma_F_before_Mil_Y.txt',\n",
       " '2399_P_Asthma_M_after_TBD_Y.txt',\n",
       " '2483_P_Asthma_M_after_TBD_Y.txt',\n",
       " '1485_C_Na_M_Na_Na_Y.txt',\n",
       " '1011_C_Na_M_Na_Na_N.txt',\n",
       " '2424_P_Asthma_F_before_TBD_N.txt',\n",
       " '2345_P_Asthma_M_before_Mod_Y.txt',\n",
       " '1101_C_Na_F_Na_Na_Y.txt',\n",
       " '2297_P_Asthma_M_before_Mod_Y.txt',\n",
       " '2172_P_Asthma_M_before_Sev_Y.txt',\n",
       " '2055_P_Asthma_M_after_Mil_Y.txt',\n",
       " '1244_C_Na_F_Na_Na_Y.txt',\n",
       " '2499_P_Asthma_M_after_Mil_Y.txt',\n",
       " '2216_P_Asthma_F_before_Mod_Y.txt',\n",
       " '1171_C_Na_F_Na_Na_Y.txt',\n",
       " '2360_P_Asthma_F_after_TBD_Y.txt',\n",
       " '2202_P_Asthma_M_After_Sev_Y.txt',\n",
       " '2425_P_Asthma_F_after_Mod_Y.txt',\n",
       " '1148_C_Na_F_Na_Na_N.txt',\n",
       " '2372_P_NAsthma_M_After_Na_Y.txt',\n",
       " '2358_P_Asthma_M_before_Mil_Y.txt',\n",
       " '2337_P_Asthma_M_after_Sev_Y.txt',\n",
       " '1045_C_Na_M_Na_Na_Y.txt',\n",
       " '2228_P_Asthma_F_before_TBD_Y.txt',\n",
       " '2100_P_Asthma_M_before_Mil_Y.txt',\n",
       " '2249_P_Asthma_M_after_Mod_Y.txt',\n",
       " '1003_C_Na_F_Na_Na_N.txt',\n",
       " '1336_C_Na_F_Na_Na_N.txt',\n",
       " '1291_C_Na_M_Na_Na_Y.txt',\n",
       " '1078_C_Na_F_Na_Na_Y.txt',\n",
       " '2217_P_NAsthma_F_after_TBD_Y.txt',\n",
       " '1448_C_Na_M_Na_Na_Y.txt',\n",
       " '2291_P_Asthma_F_after_TBD_Y.txt',\n",
       " '2135_P_Asthma_F_before_Sev_Y.txt',\n",
       " '2464_P_Asthma_F_before_Mil_Y.txt',\n",
       " '2242_P_Asthma_F_before_TBD_N.txt',\n",
       " '2232_P_Asthma_M_after_Sev_Y.txt',\n",
       " '2042_P_NAsthma_M_After_Na_Y.txt',\n",
       " '2488_P_Asthma_M_before_Mil_Y.txt',\n",
       " '1163_C_Na_F_Na_Na_Y.txt',\n",
       " '1115_C_Na_M_Na_Na_N.txt',\n",
       " '2437_P_asthma_M_before_Mod_Y.txt',\n",
       " '1096_C_Na_M_Na_Na_N.txt',\n",
       " '2410_P_Asthma_M_after_TBD_N.txt',\n",
       " '2259_P_Asthma_F_after_Sev_Y.txt',\n",
       " '2471_P_Asthma_M_after_Mod_Y.txt',\n",
       " '1123_C_Na_M_Na_Na_Y.txt',\n",
       " '2351_P_Asthma_F_after_Mod_Y.txt',\n",
       " '1147_C_Na_M_Na_Na_Y.txt',\n",
       " '2038_P_Asthma_F_after_Sev_Y.txt',\n",
       " '1165_C_Na_F_Na_Na_N.txt',\n",
       " '2296_P_Asthma_F_before_TBD_Y.txt',\n",
       " '2278_P_Asthma_F_before_TBD_Y.txt',\n",
       " '2461_P_Asthma_F_after_TBD_Y.txt',\n",
       " '2072_P_Asthma_M_after_TBD_Y.txt',\n",
       " '2284_P_Asthma_M_after_Sev_Y.txt',\n",
       " '2388_P_Asthma_M_after_Sev_Y.txt',\n",
       " '1072_C_Na_M_Na_Na_Y.txt',\n",
       " '2062_P_Asthma_F_after_TBD_Y.txt',\n",
       " '2196_P_Asthma_M_before_Sev_Y.txt',\n",
       " '1160_C_Na_F_Na_Na_N.txt',\n",
       " '2467_P_Asthma_F_after_Sev_Y.txt',\n",
       " '2113_P_Asthma_M_after_Mil_Y.txt',\n",
       " '2474_P_NAsthma_F_before_TBD_Y.txt',\n",
       " '2224_P_Asthma_M_before_Mil_Y.txt',\n",
       " '2135_P_NAsthma_F_before_TBD_N.txt',\n",
       " '2186_P_Asthma_M_before_Mil_Y.txt',\n",
       " '1006_C_Na_M_Na_Na_N.txt',\n",
       " '2171_P_Asthma_M_after_TBD_Y.txt',\n",
       " '1280_C_Na_M_Na_Na_Y.txt',\n",
       " '2340_P_Asthma_M_after_Mod_Y.txt',\n",
       " '1105_C_Na_M_Na_Na_Y.txt',\n",
       " '1461_C_Na_F_Na_Na_Y.txt',\n",
       " '2469_P_Asthma_M_before_Mil_Y.txt',\n",
       " '1016_C_Na_F_Na_Na_N.txt',\n",
       " '1062_C_Na_F_Na_Na_Y.txt',\n",
       " '2051_P_Asthma_F_after_TBD_N.txt',\n",
       " '2033_P_Asthma_M_before_Mod_Y.txt',\n",
       " '2172_P_Asthma_F_before_Sev_Y.txt',\n",
       " '1216_C_Na_M_Na_Na_Y.txt',\n",
       " '2296_P_Asthma_F_before_Mod_Y.txt',\n",
       " '2432_P_NAsthma_M_before_TBD_N.txt',\n",
       " '2125_P_NAsthma_F_before_TBD_Y.txt',\n",
       " '1408_C_Na_M_Na_Na_Y.txt',\n",
       " '1074_C_Na_F_Na_Na_Y.txt',\n",
       " '2205_P_Asthma_F_after_Sev_Y.txt',\n",
       " '1365_C_Na_F_Na_Na_Y.txt',\n",
       " '2221_P_Asthma_M_after_Sev_Y.txt',\n",
       " '2182_P_Asthma_M_after_TBD_N.txt',\n",
       " '2292_P_Asthma_M_after_TBD_Y.txt',\n",
       " '1399_C_Na_F_Na_Na_N.txt',\n",
       " '1235_C_Na_M_Na_Na_Y.txt',\n",
       " '1396_C_Na_F_Na_Na_Y.txt',\n",
       " '2262_P_Asthma_F_after_TBD_Y.txt',\n",
       " '2153_P_Asthma_M_before_Sev_Y.txt',\n",
       " '2011_P_Asthma_M_after_TBD_N.txt',\n",
       " '1166_C_Na_M_Na_Na_N.txt',\n",
       " '1441_C_Na_F_Na_Na_Y.txt',\n",
       " '2086_P_Asthma_M_after_Mod_Y.txt',\n",
       " '1054_C_Na_F_Na_Na_Y.txt',\n",
       " '1423_C_Na_F_Na_Na_N.txt',\n",
       " '1135_C_Na_M_Na_Na_N.txt',\n",
       " '2499_P_Asthma_F_before_TBD_Y.txt',\n",
       " '2365_P_Asthma_M_before_Mil_Y.txt',\n",
       " '2418_P_Asthma_F_after_TBD_Y.txt',\n",
       " '1219_C_Na_F_Na_Na_Y.txt',\n",
       " '2242_Reddy_P_Asthma_M_Sev_Y.txt',\n",
       " '1467_C_Na_M_Na_Na_Y.txt',\n",
       " '2369_P_Asthma_M_before_Mil_Y.txt',\n",
       " '2147_P_Asthma_F_after_TBD_Y.txt',\n",
       " '1140_C_Na_F_Na_Na_N.txt',\n",
       " '2068_P_Asthma_M_after_TBD_Y.txt',\n",
       " '2229_P_Asthma_M_after_Mod_Y.txt',\n",
       " '1040_C_Na_M_Na_Na_Y.txt',\n",
       " '1402_C_Na_F_Na_Na_N.txt',\n",
       " '2166_P_Asthma_F_after_TBD_Y.txt',\n",
       " '2129_P_NAsthma_F_after_TBD_Y.txt',\n",
       " '2246_P_Asthma_F_before_TBD_Y.txt',\n",
       " '1271_C_Na_F_Na_Na_N.txt',\n",
       " '2398_P_Asthma_F_before_Sev_Y.txt',\n",
       " '2148_P_Asthma_M_before_TBD_N.txt',\n",
       " '2192_P_Asthma_M_before_Mil_Y.txt',\n",
       " '2331_P_Asthma_F_after_TBD_Y.txt',\n",
       " '1488_C_Na_F_Na_Na_N.txt',\n",
       " '1358_C_Na_M_Na_Na_N.txt',\n",
       " '2384_P_Asthma_F_after_Mil_Y.txt',\n",
       " '2400_P_Asthma_M_after_TBD_Y.txt',\n",
       " '2146_P_Asthma_M_after_Sev_Y.txt',\n",
       " '1473_C_Na_M_Na_Na_Y.txt',\n",
       " '1376_C_Na_F_Na_Na_N.txt',\n",
       " '2382_P_asthma_M_after_Mod_Y.txt',\n",
       " '2219_P_Asthma_F_before_Mod_Y.txt',\n",
       " '2045_P_Asthma_M_after_Sev_Y.txt',\n",
       " '1249_C_Na_F_Na_Na_Y.txt',\n",
       " '1296_C_Na_M_Na_Na_Y.txt',\n",
       " '1373_C_Na_M_Na_Na_Y.txt',\n",
       " '2394_P_Asthma_M_after_Sev_Y.txt',\n",
       " '2016_P_Asthma_M_after_TBD_Y.txt',\n",
       " '2003_P_Asthma_M_after_Sev_Y.txt',\n",
       " '2435_P_Asthma_M_after_TBD_Y.txt',\n",
       " '2473_P_Asthma_M_after_TBD_Y.txt',\n",
       " '1281_C_Na_M_Na_Na_Y.txt',\n",
       " '1060_C_Na_F_Na_Na_Y.txt',\n",
       " '1136_C_Na_M_Na_Na_N.txt',\n",
       " '1228_C_Na_F_Na_Na_N.txt',\n",
       " '2442_P_Asthma_F_after_TBD_Y.txt',\n",
       " '2030_P_Asthma_M_after_TBD_Y.txt',\n",
       " '1265_C_Na_F_Na_Na_N.txt',\n",
       " '2212_P_Asthma_F_before_Mod_Y.txt',\n",
       " '2121_P_Asthma_M_after_TBD_N.txt',\n",
       " '1357_C_Na_M_Na_Na_Y.txt',\n",
       " '2182_P_Asthma_F_before_Mod_Y.txt',\n",
       " '1224_C_Na_M_Na_Na_Y.txt',\n",
       " '2321_P_Asthma_M_after_TBD_Y.txt',\n",
       " '1218_C_Na_M_Na_Na_Y.txt',\n",
       " '2378_P_Asthma_M_after_Sev_Y.txt',\n",
       " '2100_P_Asthma_M_after_TBD_Y.txt',\n",
       " '1369_C_Na_M_Na_Na_N.txt',\n",
       " '1184_C_Na_M_Na_Na_Y.txt',\n",
       " '2007_P_Asthma_M_after_Mod_Y.txt',\n",
       " '1378_C_Na_F_Na_Na_Y.txt',\n",
       " '1294_C_Na_F_Na_Na_Y.txt',\n",
       " '1150_C_Na_M_Na_Na_Y.txt',\n",
       " '1360_C_Na_M_Na_Na_Y.txt',\n",
       " '2133_P_Asthma_M_after_TBD_Y.txt',\n",
       " '2160_P_Asthma_F_after_Sev_Y.txt',\n",
       " '2266_P_Asthma_M_before_Mil_Y.txt',\n",
       " '2178_P_Asthma_M_before_Mod_Y.txt',\n",
       " '2045_P_Asthma_M_after_Mil_Y.txt',\n",
       " '1320_C_Na_F_Na_Na_N.txt',\n",
       " '1442_C_Na_M_Na_Na_Y.txt',\n",
       " '2280_P_Asthma_M_after_TBD_Y.txt',\n",
       " '2143_P_NAsthma_M_before_TBD_Y.txt',\n",
       " '2357_P_Asthma_F_after_TBD_N.txt',\n",
       " '1487_C_Na_F_Na_Na_Y.txt',\n",
       " '1464_C_Na_F_Na_Na_N.txt',\n",
       " '1174_C_Na_M_Na_Na_Y.txt',\n",
       " '2244_P_Asthma_F_before_Mod_Y.txt',\n",
       " '2069_P_Asthma_F_after_Sev_Y.txt',\n",
       " '2254_P_Asthma_M_before_Mod_Y.txt',\n",
       " '2457_P_Asthma_M_before_TBD_N.txt',\n",
       " '1400_C_Na_M_Na_Na_Y.txt',\n",
       " '2101_P_Asthma_M_after_TBD_Y.txt',\n",
       " '2143_P_Asthma_F_after_TBD_Y.txt',\n",
       " '2199_P_Asthma_M_before_TBD_N.txt',\n",
       " '2298_P_Asthma_F_after_TBD_N.txt',\n",
       " '1269_C_Na_M_Na_Na_N.txt',\n",
       " '2205_P_Asthma_F_after_Mod_Y.txt',\n",
       " '1133_C_Na_M_Na_Na_Y.txt',\n",
       " '2426_P_Asthma_M_before_Mod_Y.txt',\n",
       " '1113_C_Na_F_Na_Na_Y.txt',\n",
       " '2070_P_Asthma_M_before_Mod_Y.txt',\n",
       " '2105_P_Asthma_F_after_68_TBD.txt',\n",
       " '2176_P_Asthma_M_after_Sev_Y.txt',\n",
       " '2211_P_Asthma_M_after_TBD_Y.txt',\n",
       " '2157_P_Asthma_M_before_Mod_Y.txt',\n",
       " '1321_C_Na_F_Na_Na_Y.txt',\n",
       " '2310_P_Asthma_F_after_Mil_Y.txt',\n",
       " '1211_C_Na_M_Na_Na_Y.txt',\n",
       " '1254_C_Na_F_Na_Na_Y.txt',\n",
       " '2140_P_Asthma_M_after_TBD_Y.txt',\n",
       " '2159_P_Asthma_F_after_Mod_Y.txt',\n",
       " '2263_P_NAsthma_F_before_TBD_Y.txt',\n",
       " '2256_P_Asthma_F_after_Sev_Y.txt',\n",
       " '2271_P_Asthma_F_before_Mod_Y.txt',\n",
       " '2238_P_Asthma_F_before_Mod_Y.txt',\n",
       " '2136_P_Asthma_F_after_TBD_Y.txt',\n",
       " '1186_C_Na_M_Na_Na_Y.txt',\n",
       " '1419_C_Na_F_Na_Na_N.txt',\n",
       " '2336_P_Asthma_F_after_TBD_Y.txt',\n",
       " '2267_P_Asthma_M_after_Mil_Y.txt',\n",
       " '2149_P_Asthma_M_after_Mil_Y.txt',\n",
       " '2394_P_Asthma_M_before_Mod_Y.txt',\n",
       " '2487_P_Asthma_M_before_TBD_Y.txt',\n",
       " '1236_C_Na_F_Na_Na_N.txt',\n",
       " '1068_C_Na_M_Na_Na_N.txt',\n",
       " '2324_P_Asthma_M_before_Mod_Y.txt',\n",
       " '2373_P_Asthma_M_after_TBD_Y.txt',\n",
       " '2258_P_Asthma_M_before_Sev_Y.txt',\n",
       " '1055_C_Na_F_Na_Na_N.txt',\n",
       " '2107_P_Asthma_F_before_Mil_Y.txt',\n",
       " '1338_C_Na_F_Na_Na_Y.txt',\n",
       " '2338_P_Asthma_F_after_Sev_Y.txt',\n",
       " '1381_C_Na_F_Na_Na_Y.txt',\n",
       " '1469_C_Na_M_Na_Na_Y.txt',\n",
       " '1149_C_Na_F_Na_Na_Y.txt',\n",
       " '2096_P_Asthma_M_before_Sev_Y.txt',\n",
       " '2372_P_Asthma_F_before_Mil_Y.txt',\n",
       " '1333_C_Na_F_Na_Na_Y.txt',\n",
       " '2163_P_Asthma_F_before_TBD_Y.txt',\n",
       " '1292_C_Na_M_Na_Na_Y.txt',\n",
       " '2077_P_Asthma_F_after_Mod_Y.txt',\n",
       " '1499_C_Na_M_Na_Na_Y.txt',\n",
       " '2078_P_Asthma_M_after_TBD_Y.txt',\n",
       " '2381_P_Asthma_M_before_TBD_Y.txt',\n",
       " '1035_C_Na_M_Na_Na_N.txt',\n",
       " '2441_P_Asthma_M_after_Mil_Y.txt',\n",
       " '2320_P_Asthma_F_after_TBD_Y.txt',\n",
       " '2218_P_Asthma_M_before_Sev_Y.txt']"
      ]
     },
     "execution_count": 11,
     "metadata": {},
     "output_type": "execute_result"
    }
   ],
   "source": [
    "ann_list"
   ]
  },
  {
   "cell_type": "code",
   "execution_count": 12,
   "metadata": {},
   "outputs": [
    {
     "data": {
      "text/plain": [
       "269"
      ]
     },
     "execution_count": 12,
     "metadata": {},
     "output_type": "execute_result"
    }
   ],
   "source": [
    "ann_list.index('1381_C_Na_F_Na_Na_Y.txt')"
   ]
  },
  {
   "cell_type": "code",
   "execution_count": 13,
   "metadata": {},
   "outputs": [
    {
     "data": {
      "application/vnd.jupyter.widget-view+json": {
       "model_id": "f2acfa47645c4f338b8125e5076bc21d",
       "version_major": 2,
       "version_minor": 0
      },
      "text/plain": [
       "  0%|          | 0/16 [00:00<?, ?it/s]"
      ]
     },
     "metadata": {},
     "output_type": "display_data"
    }
   ],
   "source": [
    "waste = []\n",
    "for i in tqdm(ann_list[269:]):\n",
    "    A = pd.read_csv(i, sep=\"\\t\", header=None)\n",
    "    B = pd.DataFrame()\n",
    "    try:\n",
    "        labels = A.iloc[:,2]\n",
    "        for j in range(0,len(labels)):\n",
    "            if labels[j].find(\"nhale\") != -1:\n",
    "                if labels[j+1].find(\"xhale\") != -1:\n",
    "                    B = B.append(A.iloc[j])\n",
    "                    B = B.append(A.iloc[j+1])\n",
    "                elif labels[j+1].find(\"heeze\") != -1:\n",
    "                    if labels[j+2].find(\"xhale\") != -1:\n",
    "                        B = B.append(A.iloc[j])\n",
    "                        B = B.append(A.iloc[j+2])\n",
    "        if B.shape[0] != 0:\n",
    "            y, sr = librosa.load(i[:-4]+\".wav\",sr = None)\n",
    "            for k in range(0, B.shape[0] , 2):\n",
    "                start_inhale = B.iloc[k,0]\n",
    "                stop_inhale = B.iloc[k,1]\n",
    "                start_exhale = B.iloc[k+1,0]\n",
    "                stop_exhale = B.iloc[k+1,1]\n",
    "                waveform = y[int(round(start_inhale*sr)):int(round(stop_exhale*sr))]\n",
    "                plt.figure()\n",
    "                plt.plot(waveform)\n",
    "                plt.axvspan(0,int(round((stop_inhale-start_inhale)*sr)), ymin=np.min(y), ymax=np.max(y), alpha = 0.2, label = \"Inhale\")\n",
    "                plt.axvspan(int(round((start_exhale-start_inhale)*sr)),int(round((stop_exhale-start_inhale)*sr)), ymin=np.min(y), ymax=np.max(y), label = \"Exhale\", alpha = 0.2, facecolor = \"g\")\n",
    "                plt.legend()\n",
    "                os.makedirs(\"./Plots/\"+i[:-4],exist_ok=True)\n",
    "                plt.savefig(\"./Plots/\"+i[:-4]+'/' + str(k) + '.jpg')\n",
    "                plt.close()\n",
    "\n",
    "        else:\n",
    "            waste.append(i)\n",
    "    except:\n",
    "        waste.append(i)\n",
    "\n",
    "    \n",
    "                \n",
    "            "
   ]
  },
  {
   "cell_type": "code",
   "execution_count": 67,
   "metadata": {},
   "outputs": [
    {
     "data": {
      "text/plain": [
       "<matplotlib.legend.Legend at 0x7f5185e38da0>"
      ]
     },
     "execution_count": 67,
     "metadata": {},
     "output_type": "execute_result"
    },
    {
     "data": {
      "image/png": "[encoded data removed]",
      "text/plain": [
       "<Figure size 432x288 with 1 Axes>"
      ]
     },
     "metadata": {
      "needs_background": "light"
     },
     "output_type": "display_data"
    }
   ],
   "source": [
    "waveform = y[int(round(29.411343*sr)):int(round(31.277832*sr))]\n",
    "plt.figure()\n",
    "plt.plot(waveform)\n",
    "pylab.axvspan(int(round(0*sr)),int(round((30.136889-29.411343)*sr)), ymin=-0.5107727, ymax=np.max(y), alpha = 0.2, label = 'Inhale')\n",
    "plt.axvspan(int(round((30.349720-29.411343)*sr)),int(round((31.277832- 29.411343)*sr)), ymin=np.min(y), ymax=np.max(y), alpha = 0.2, facecolor = 'g', label = 'exhale')\n",
    "plt.legend()\n"
   ]
  },
  {
   "cell_type": "code",
   "execution_count": null,
   "metadata": {},
   "outputs": [],
   "source": []
  }
 ],
 "metadata": {
  "kernelspec": {
   "display_name": "Python 3",
   "language": "python",
   "name": "python3"
  },
  "language_info": {
   "codemirror_mode": {
    "name": "ipython",
    "version": 3
   },
   "file_extension": ".py",
   "mimetype": "text/x-python",
   "name": "python",
   "nbconvert_exporter": "python",
   "pygments_lexer": "ipython3",
   "version": "3.7.3"
  }
 },
 "nbformat": 4,
 "nbformat_minor": 2
}
