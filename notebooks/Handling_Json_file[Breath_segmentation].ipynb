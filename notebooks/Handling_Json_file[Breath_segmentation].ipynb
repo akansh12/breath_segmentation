{
 "cells": [
  {
   "cell_type": "code",
   "execution_count": 2,
   "metadata": {},
   "outputs": [],
   "source": [
    "import os\n",
    "import pandas as pd\n",
    "import numpy as np\n",
    "import json\n",
    "from scipy import stats"
   ]
  },
  {
   "cell_type": "code",
   "execution_count": 3,
   "metadata": {},
   "outputs": [],
   "source": [
    "from tqdm import tqdm "
   ]
  },
  {
   "cell_type": "code",
   "execution_count": 4,
   "metadata": {},
   "outputs": [],
   "source": [
    "def csv_gen(sound_name, mfcc_json_loc,save_loc):\n",
    "    dataframe = pd.DataFrame()\n",
    "    for i in tqdm(os.listdir(mfcc_json_loc)):\n",
    "        with open(mfcc_json_loc+i) as f:\n",
    "            data = json.load(f)\n",
    "        j = len(data[sound_name])\n",
    "        for k in range(0,j):\n",
    "            feature = np.array(data[sound_name][k])\n",
    "            mean = np.mean(feature,axis=0) \n",
    "            mean = mean.reshape(1,len(mean))\n",
    "            mode = stats.mode(feature,axis = 0)[0]\n",
    "            median = np.median(feature, axis=0)\n",
    "            median = median.reshape(1,len(median))\n",
    "\n",
    "            variance = np.var(feature, axis=0)\n",
    "            variance = variance.reshape(1,len(variance))\n",
    "\n",
    "            sd = np.std(feature,axis = 0)\n",
    "            sd = sd.reshape(1,len(sd))\n",
    "\n",
    "            rms = np.sqrt(np.mean(np.square(feature),axis=0))\n",
    "            rms = rms.reshape(1,len(rms))\n",
    "\n",
    "            big = np.concatenate((mean,median,mode,variance,sd,rms),axis = 0)\n",
    "            feature_vector = big.reshape(1,big.shape[0]*big.shape[1])\n",
    "            if i.find(\"Asthma\") != -1:\n",
    "                feature_vector = np.append(feature_vector,1)\n",
    "                feature_vector = np.append(feature_vector,i).reshape(1,74)\n",
    "            else:\n",
    "                feature_vector = np.append(feature_vector,0)\n",
    "                feature_vector = np.append(feature_vector,i).reshape(1,74)\n",
    "\n",
    "            dataframe = dataframe.append(pd.DataFrame(feature_vector))\n",
    "            dataframe.to_csv(save_loc+sound_name+\".csv\", index = False)\n",
    "            "
   ]
  },
  {
   "cell_type": "code",
   "execution_count": 6,
   "metadata": {},
   "outputs": [],
   "source": [
    "mfcc_json_loc = \"./breathe_mfcc/\""
   ]
  },
  {
   "cell_type": "code",
   "execution_count": 7,
   "metadata": {},
   "outputs": [
    {
     "name": "stderr",
     "output_type": "stream",
     "text": [
      "100%|██████████| 258/258 [03:24<00:00,  1.26it/s]\n"
     ]
    }
   ],
   "source": [
    "csv_gen(\"Breath_1\", mfcc_json_loc, save_loc='./breath_csv/')"
   ]
  },
  {
   "cell_type": "code",
   "execution_count": 8,
   "metadata": {},
   "outputs": [
    {
     "name": "stderr",
     "output_type": "stream",
     "text": [
      "100%|██████████| 258/258 [02:29<00:00,  1.72it/s]\n"
     ]
    }
   ],
   "source": [
    "csv_gen(\"Breath_2\", mfcc_json_loc, save_loc='./breath_csv/')"
   ]
  },
  {
   "cell_type": "code",
   "execution_count": 9,
   "metadata": {},
   "outputs": [
    {
     "name": "stderr",
     "output_type": "stream",
     "text": [
      "100%|██████████| 258/258 [02:09<00:00,  1.99it/s]\n"
     ]
    }
   ],
   "source": [
    "csv_gen(\"Breath_3\", mfcc_json_loc, save_loc='./breath_csv/')"
   ]
  },
  {
   "cell_type": "code",
   "execution_count": 10,
   "metadata": {},
   "outputs": [
    {
     "name": "stderr",
     "output_type": "stream",
     "text": [
      "100%|██████████| 258/258 [02:24<00:00,  1.79it/s]\n"
     ]
    }
   ],
   "source": [
    "csv_gen(\"Breath\", mfcc_json_loc, save_loc='./breath_csv/')"
   ]
  },
  {
   "cell_type": "code",
   "execution_count": 14,
   "metadata": {},
   "outputs": [],
   "source": [
    "mfcc_json_loc = \"./breathe_mfcc_exp_2/\" "
   ]
  },
  {
   "cell_type": "code",
   "execution_count": 15,
   "metadata": {},
   "outputs": [
    {
     "name": "stderr",
     "output_type": "stream",
     "text": [
      "100%|██████████| 258/258 [03:17<00:00,  1.30it/s]\n",
      "100%|██████████| 258/258 [02:20<00:00,  1.84it/s]\n",
      "100%|██████████| 258/258 [02:26<00:00,  1.76it/s]\n",
      "100%|██████████| 258/258 [02:28<00:00,  1.74it/s]\n",
      "100%|██████████| 258/258 [02:26<00:00,  1.76it/s]\n",
      "100%|██████████| 258/258 [02:24<00:00,  1.78it/s]\n",
      "100%|██████████| 258/258 [01:49<00:00,  2.36it/s]\n",
      "100%|██████████| 258/258 [02:03<00:00,  2.09it/s]\n",
      "100%|██████████| 258/258 [01:58<00:00,  2.18it/s]\n",
      "100%|██████████| 258/258 [02:30<00:00,  1.71it/s]\n",
      "100%|██████████| 258/258 [02:26<00:00,  1.76it/s]\n"
     ]
    }
   ],
   "source": [
    "for i in range(0,51,5):\n",
    "    csv_gen(\"Breath_\"+ str(i), mfcc_json_loc, save_loc='./breath_csv/')\n",
    "    "
   ]
  },
  {
   "cell_type": "code",
   "execution_count": 9,
   "metadata": {},
   "outputs": [
    {
     "name": "stdout",
     "output_type": "stream",
     "text": [
      "MLA_wheeze_0 = MLA_selection(Wheeze_dataframe_0, 'Wheeze_0')\n",
      "MLA_wheeze_5 = MLA_selection(Wheeze_dataframe_5, 'Wheeze_5')\n",
      "MLA_wheeze_10 = MLA_selection(Wheeze_dataframe_10, 'Wheeze_10')\n",
      "MLA_wheeze_15 = MLA_selection(Wheeze_dataframe_15, 'Wheeze_15')\n",
      "MLA_wheeze_20 = MLA_selection(Wheeze_dataframe_20, 'Wheeze_20')\n",
      "MLA_wheeze_25 = MLA_selection(Wheeze_dataframe_25, 'Wheeze_25')\n",
      "MLA_wheeze_30 = MLA_selection(Wheeze_dataframe_30, 'Wheeze_30')\n",
      "MLA_wheeze_35 = MLA_selection(Wheeze_dataframe_35, 'Wheeze_35')\n",
      "MLA_wheeze_40 = MLA_selection(Wheeze_dataframe_40, 'Wheeze_40')\n",
      "MLA_wheeze_45 = MLA_selection(Wheeze_dataframe_45, 'Wheeze_45')\n",
      "MLA_wheeze_50 = MLA_selection(Wheeze_dataframe_50, 'Wheeze_50')\n"
     ]
    }
   ],
   "source": [
    "for i in range(0,51,5):\n",
    "    print(f\"MLA_wheeze_{i} = MLA_selection(Wheeze_dataframe_{i}, 'Wheeze_{i}')\")"
   ]
  },
  {
   "cell_type": "code",
   "execution_count": 5,
   "metadata": {},
   "outputs": [
    {
     "name": "stderr",
     "output_type": "stream",
     "text": [
      "100%|██████████| 279/279 [01:21<00:00,  3.42it/s]\n",
      "100%|██████████| 279/279 [01:08<00:00,  4.05it/s]\n",
      "100%|██████████| 279/279 [01:16<00:00,  3.63it/s]\n",
      "100%|██████████| 279/279 [01:17<00:00,  3.61it/s]\n"
     ]
    }
   ],
   "source": [
    "mfcc_json_loc = \"./Wheeze_mfcc/\"\n",
    "csv_gen(\"Wheeze\", mfcc_json_loc, save_loc='./breath_csv/')\n",
    "csv_gen(\"Wheeze_1\", mfcc_json_loc, save_loc='./breath_csv/')\n",
    "csv_gen(\"Wheeze_2\", mfcc_json_loc, save_loc='./breath_csv/')\n",
    "csv_gen(\"Wheeze_3\", mfcc_json_loc, save_loc='./breath_csv/')"
   ]
  },
  {
   "cell_type": "code",
   "execution_count": 6,
   "metadata": {},
   "outputs": [
    {
     "name": "stdout",
     "output_type": "stream",
     "text": [
      "csv_gen('Wheeze_0', mfcc_json_loc, save_loc='./breath_csv/')\n",
      "csv_gen('Wheeze_5', mfcc_json_loc, save_loc='./breath_csv/')\n",
      "csv_gen('Wheeze_10', mfcc_json_loc, save_loc='./breath_csv/')\n",
      "csv_gen('Wheeze_15', mfcc_json_loc, save_loc='./breath_csv/')\n",
      "csv_gen('Wheeze_20', mfcc_json_loc, save_loc='./breath_csv/')\n",
      "csv_gen('Wheeze_25', mfcc_json_loc, save_loc='./breath_csv/')\n",
      "csv_gen('Wheeze_30', mfcc_json_loc, save_loc='./breath_csv/')\n",
      "csv_gen('Wheeze_35', mfcc_json_loc, save_loc='./breath_csv/')\n",
      "csv_gen('Wheeze_40', mfcc_json_loc, save_loc='./breath_csv/')\n",
      "csv_gen('Wheeze_45', mfcc_json_loc, save_loc='./breath_csv/')\n",
      "csv_gen('Wheeze_50', mfcc_json_loc, save_loc='./breath_csv/')\n"
     ]
    }
   ],
   "source": [
    "for i in range(0,51,5):\n",
    "    print(f\"csv_gen('Wheeze_{i}', mfcc_json_loc, save_loc='./breath_csv/')\")"
   ]
  },
  {
   "cell_type": "code",
   "execution_count": 7,
   "metadata": {},
   "outputs": [],
   "source": [
    "mfcc_json_loc = \"./Wheeze_mfcc_2/\""
   ]
  },
  {
   "cell_type": "code",
   "execution_count": 8,
   "metadata": {},
   "outputs": [
    {
     "name": "stderr",
     "output_type": "stream",
     "text": [
      "100%|██████████| 279/279 [02:12<00:00,  2.10it/s]\n",
      "100%|██████████| 279/279 [01:41<00:00,  2.74it/s]\n",
      "100%|██████████| 279/279 [01:48<00:00,  2.58it/s]\n",
      "100%|██████████| 279/279 [01:54<00:00,  2.44it/s]\n",
      "100%|██████████| 279/279 [01:49<00:00,  2.54it/s]\n",
      "100%|██████████| 279/279 [01:36<00:00,  2.90it/s]\n",
      "100%|██████████| 279/279 [01:33<00:00,  2.99it/s]\n",
      "100%|██████████| 279/279 [01:35<00:00,  2.93it/s]\n",
      "100%|██████████| 279/279 [01:37<00:00,  2.87it/s]\n",
      "100%|██████████| 279/279 [01:44<00:00,  2.67it/s]\n",
      "100%|██████████| 279/279 [01:39<00:00,  2.80it/s]\n"
     ]
    }
   ],
   "source": [
    "csv_gen('Wheeze_0', mfcc_json_loc, save_loc='./breath_csv/')\n",
    "csv_gen('Wheeze_5', mfcc_json_loc, save_loc='./breath_csv/')\n",
    "csv_gen('Wheeze_10', mfcc_json_loc, save_loc='./breath_csv/')\n",
    "csv_gen('Wheeze_15', mfcc_json_loc, save_loc='./breath_csv/')\n",
    "csv_gen('Wheeze_20', mfcc_json_loc, save_loc='./breath_csv/')\n",
    "csv_gen('Wheeze_25', mfcc_json_loc, save_loc='./breath_csv/')\n",
    "csv_gen('Wheeze_30', mfcc_json_loc, save_loc='./breath_csv/')\n",
    "csv_gen('Wheeze_35', mfcc_json_loc, save_loc='./breath_csv/')\n",
    "csv_gen('Wheeze_40', mfcc_json_loc, save_loc='./breath_csv/')\n",
    "csv_gen('Wheeze_45', mfcc_json_loc, save_loc='./breath_csv/')\n",
    "csv_gen('Wheeze_50', mfcc_json_loc, save_loc='./breath_csv/')"
   ]
  },
  {
   "cell_type": "code",
   "execution_count": null,
   "metadata": {},
   "outputs": [],
   "source": []
  }
 ],
 "metadata": {
  "kernelspec": {
   "display_name": "Python 3",
   "language": "python",
   "name": "python3"
  },
  "language_info": {
   "codemirror_mode": {
    "name": "ipython",
    "version": 3
   },
   "file_extension": ".py",
   "mimetype": "text/x-python",
   "name": "python",
   "nbconvert_exporter": "python",
   "pygments_lexer": "ipython3",
   "version": "3.7.3"
  }
 },
 "nbformat": 4,
 "nbformat_minor": 2
}
