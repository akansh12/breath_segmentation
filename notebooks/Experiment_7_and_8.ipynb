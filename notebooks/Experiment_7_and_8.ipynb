{
 "cells": [
  {
   "cell_type": "code",
   "execution_count": 2,
   "metadata": {},
   "outputs": [],
   "source": [
    "import torch\n",
    "import torchaudio\n",
    "import numpy as np\n",
    "import os\n",
    "import pandas as pd\n",
    "import json"
   ]
  },
  {
   "cell_type": "code",
   "execution_count": 2,
   "metadata": {},
   "outputs": [],
   "source": [
    "from sklearn.utils import shuffle\n",
    "import sklearn \n",
    "from sklearn import svm, tree, linear_model, neighbors, naive_bayes, ensemble, discriminant_analysis, gaussian_process\n",
    "from xgboost import XGBClassifier\n",
    "from sklearn import feature_selection\n",
    "from sklearn import model_selection\n",
    "from sklearn import metrics\n",
    "from sklearn.preprocessing import StandardScaler\n",
    "from tqdm.auto import tqdm\n",
    "import random\n",
    "import warnings\n",
    "warnings.filterwarnings('ignore')"
   ]
  },
  {
   "cell_type": "code",
   "execution_count": 3,
   "metadata": {},
   "outputs": [],
   "source": [
    "import random"
   ]
  },
  {
   "cell_type": "code",
   "execution_count": 4,
   "metadata": {},
   "outputs": [],
   "source": [
    "list_ = np.unique(pd.read_csv(\"./breath_csv_2/Breath_3.csv\").iloc[:,73].values)"
   ]
  },
  {
   "cell_type": "code",
   "execution_count": 12,
   "metadata": {},
   "outputs": [],
   "source": [
    "def count(list_array):\n",
    "    Total = list_array\n",
    "    name = []\n",
    "    for i in Total:\n",
    "        name.append(i[:4])\n",
    "    unique = []\n",
    "    before_after = []\n",
    "    for i in Total:\n",
    "        if np.sum((np.array(name, dtype = int) == int(i[:4]))) == 1:\n",
    "            unique.append(i)\n",
    "        else:\n",
    "            before_after.append(i) \n",
    "\n",
    "    Asthmatic_Female = []\n",
    "    Asthmatic_Male = []\n",
    "    Healthy_Male = []\n",
    "    Healthy_Female = []\n",
    "    NAsthma = []\n",
    "    before = {\"male\" : [], \"female\" : []}\n",
    "    after = {\"male\" : [], \"female\" : []}\n",
    "    for file in unique:\n",
    "        if file.split(\"_\")[2] == 'Asthma' or file.split(\"_\")[2] == 'asthma' :\n",
    "            if file.find(\"_M_\")!=-1:\n",
    "                Asthmatic_Male.append(file)\n",
    "            if file.find(\"_F_\")!=-1:\n",
    "                Asthmatic_Female.append(file)\n",
    "        if file.split(\"_\")[2] == 'NAsthma':\n",
    "            NAsthma.append(file)\n",
    "        if file.find(\"_C_\")!=-1:\n",
    "            if file.find(\"_M_\")!=-1:\n",
    "                Healthy_Male.append(file)\n",
    "            if file.find(\"_F_\")!=-1:\n",
    "                Healthy_Female.append(file)\n",
    "\n",
    "    for file in before_after:\n",
    "            if file.find(\"efore\") != -1:\n",
    "                if file.find(\"_M_\") != -1 or file.find(\"_m_\")!=-1:\n",
    "                    before[\"male\"].append(file)\n",
    "                if file.find(\"_F_\")!=-1:\n",
    "                    before[\"female\"].append(file)\n",
    "            if file.find(\"fter\")!= -1:\n",
    "                if file.find(\"_M_\") != -1 or file.find(\"_m_\")!=-1:\n",
    "                    after[\"male\"].append(file)\n",
    "                if file.find(\"_F_\")!=-1:\n",
    "                    after[\"female\"].append(file)\n",
    "\n",
    "    print(f\"Total = {len(Total)}\")\n",
    "    print(f\"Asthmatic_male = {len(Asthmatic_Male)+ len(before['male'])+len(after['male'])}\")\n",
    "    print(f\"Asthmatic_female = {len(Asthmatic_Female)+ len(before['female'])+len(after['female'])}\")\n",
    "    print(f\"Healthy_Male = {len(Healthy_Male)}\")\n",
    "    print(f\"Healthy_female = {len(Healthy_Female)}\")\n",
    "    print(f\"Asthmatic_male_unique = {len(Asthmatic_Male)}\")\n",
    "    print(f\"Asthmatic_female_unique = {len(Asthmatic_Female)}\")\n",
    "    print(f\"Before_after = {len(before_after)}\")\n",
    "    print(f\"Before_male = {len(before['male'])}\")\n",
    "    print(f\"Before_female = {len(before['female'])}\")\n",
    "    print(f\"after_male = {len(after['male'])}\")\n",
    "    print(f\"after_female = {len(after['female'])}\")\n",
    "\n",
    "    print(f\"NAsthma = {len(NAsthma)}\")"
   ]
  },
  {
   "cell_type": "code",
   "execution_count": 89,
   "metadata": {},
   "outputs": [
    {
     "name": "stdout",
     "output_type": "stream",
     "text": [
      "Total = 274\n",
      "Asthmatic_male = 90\n",
      "Asthmatic_female = 68\n",
      "Healthy_Male = 55\n",
      "Healthy_female = 51\n",
      "Asthmatic_male_unique = 46\n",
      "Asthmatic_female_unique = 28\n",
      "Before_after = 84\n",
      "Before_male = 22\n",
      "Before_female = 20\n",
      "after_male = 22\n",
      "after_female = 20\n",
      "NAsthma = 10\n"
     ]
    }
   ],
   "source": [
    "count(list_)"
   ]
  },
  {
   "cell_type": "code",
   "execution_count": null,
   "metadata": {},
   "outputs": [],
   "source": []
  },
  {
   "cell_type": "code",
   "execution_count": 20,
   "metadata": {},
   "outputs": [],
   "source": []
  },
  {
   "cell_type": "code",
   "execution_count": null,
   "metadata": {},
   "outputs": [],
   "source": []
  },
  {
   "cell_type": "code",
   "execution_count": 5,
   "metadata": {},
   "outputs": [],
   "source": [
    "def train_test_set(Asthmatic_Female, Asthmatic_Male, Healthy_Female, Healthy_Male, before_after,before,after):\n",
    "    random.seed(0)\n",
    "    \n",
    "    \n",
    "    A_F = np.concatenate(([i for i in Asthmatic_Female if i.find(\"after\") != -1 ], after[\"female\"]))\n",
    "    A_M = np.concatenate(([i for i in Asthmatic_Male if i.find(\"after\") != -1 ], after[\"male\"]))\n",
    "    \n",
    "    test_set = np.concatenate(((np.random.choice(np.array(A_M), replace=False, size=(7)),\n",
    "                                np.random.choice(np.array(A_F), replace=False, size=(7)),\n",
    "                                np.random.choice(np.array(Healthy_Male), replace=False, size=(7)),\n",
    "                                np.random.choice(np.array(Healthy_Female), replace=False, size=(7)))))\n",
    "    \n",
    "    train_set = np.concatenate((np.array(A_M),\n",
    "                                np.array(A_F),\n",
    "                                np.array(Healthy_Male),\n",
    "                                np.array(Healthy_Female)))\n",
    "    train_set = np.setdiff1d(train_set,test_set)\n",
    "    return train_set, test_set"
   ]
  },
  {
   "cell_type": "code",
   "execution_count": 11,
   "metadata": {},
   "outputs": [],
   "source": [
    "def train_test_txt(sound_dataframe):\n",
    "#     sound_dataframe = list_\n",
    "#     Total = np.unique(sound_dataframe.iloc[:,sound_dataframe.shape[1]-1])\n",
    "    Total = sound_dataframe\n",
    "    name = []\n",
    "    for i in Total:\n",
    "        name.append(i[:4])\n",
    "    unique = []\n",
    "    before_after = []\n",
    "    for i in Total:\n",
    "        if np.sum((np.array(name, dtype = int) == int(i[:4]))) == 1:\n",
    "            unique.append(i)\n",
    "        else:\n",
    "            before_after.append(i) \n",
    "\n",
    "    Asthmatic_Female = []\n",
    "    Asthmatic_Male = []\n",
    "    Healthy_Male = []\n",
    "    Healthy_Female = []\n",
    "    NAsthma = []\n",
    "    before = {\"male\" : [], \"female\" : []}\n",
    "    after = {\"male\" : [], \"female\" : []}\n",
    "    for file in unique:\n",
    "        if file.split(\"_\")[2] == 'Asthma' or file.split(\"_\")[2] == 'asthma' :\n",
    "            if file.find(\"_M_\")!=-1:\n",
    "                Asthmatic_Male.append(file)\n",
    "            if file.find(\"_F_\")!=-1:\n",
    "                Asthmatic_Female.append(file)\n",
    "        if file.split(\"_\")[2] == 'NAsthma':\n",
    "            NAsthma.append(file)\n",
    "        if file.find(\"_C_\")!=-1:\n",
    "            if file.find(\"_M_\")!=-1:\n",
    "                Healthy_Male.append(file)\n",
    "            if file.find(\"_F_\")!=-1:\n",
    "                Healthy_Female.append(file)\n",
    "\n",
    "    for file in before_after:\n",
    "            if file.find(\"efore\") != -1:\n",
    "                if file.find(\"_M_\") != -1 or file.find(\"_m_\")!=-1:\n",
    "                    before[\"male\"].append(file)\n",
    "                if file.find(\"_F_\")!=-1:\n",
    "                    before[\"female\"].append(file)\n",
    "            if file.find(\"fter\")!= -1:\n",
    "                if file.find(\"_M_\") != -1 or file.find(\"_m_\")!=-1:\n",
    "                    after[\"male\"].append(file)\n",
    "                if file.find(\"_F_\")!=-1:\n",
    "                    after[\"female\"].append(file)\n",
    "\n",
    "\n",
    "    Train, Test = train_test_set(Asthmatic_Female, Asthmatic_Male, Healthy_Female, Healthy_Male, before_after,before, after)\n",
    "    \n",
    "    return Train, Test"
   ]
  },
  {
   "cell_type": "code",
   "execution_count": null,
   "metadata": {},
   "outputs": [],
   "source": []
  },
  {
   "cell_type": "code",
   "execution_count": 90,
   "metadata": {},
   "outputs": [],
   "source": [
    "for i in range(0,10):\n",
    "    Train, Test = train_test_txt(list_)\n",
    "#     print(len(Train))\n",
    "    np.savetxt(f\"./breath_sets_wo_after/Train/Train_{i}.txt\",Train, '%s')\n",
    "    np.savetxt(f\"./breath_sets_wo_after/Test/Test_{i}.txt\",Test, '%s')"
   ]
  },
  {
   "cell_type": "code",
   "execution_count": 91,
   "metadata": {
    "scrolled": true
   },
   "outputs": [
    {
     "name": "stdout",
     "output_type": "stream",
     "text": [
      "Total = 167\n",
      "Asthmatic_male = 34\n",
      "Asthmatic_female = 27\n",
      "Healthy_Male = 55\n",
      "Healthy_female = 51\n",
      "Asthmatic_male_unique = 34\n",
      "Asthmatic_female_unique = 27\n",
      "Before_after = 0\n",
      "Before_male = 0\n",
      "Before_female = 0\n",
      "after_male = 0\n",
      "after_female = 0\n",
      "NAsthma = 0\n"
     ]
    }
   ],
   "source": [
    "count(np.concatenate((Train, Test)))"
   ]
  },
  {
   "cell_type": "code",
   "execution_count": null,
   "metadata": {},
   "outputs": [],
   "source": []
  },
  {
   "cell_type": "markdown",
   "metadata": {},
   "source": [
    "### EXP 8 "
   ]
  },
  {
   "cell_type": "code",
   "execution_count": 184,
   "metadata": {},
   "outputs": [],
   "source": [
    "set_old = pd.read_csv(\"open_smile_database_93.txt\", header= None)"
   ]
  },
  {
   "cell_type": "code",
   "execution_count": 185,
   "metadata": {},
   "outputs": [],
   "source": [
    "set_new = pd.read_csv(\"Renamed_Akansh.txt\", delimiter= \"\\t\", header=None, )"
   ]
  },
  {
   "cell_type": "code",
   "execution_count": 186,
   "metadata": {},
   "outputs": [
    {
     "data": {
      "text/plain": [
       "0    4534_C_Na_M_Na_Na_Y.wav \n",
       "Name: 5, dtype: object"
      ]
     },
     "execution_count": 186,
     "metadata": {},
     "output_type": "execute_result"
    }
   ],
   "source": [
    "set_new[set_new.loc[:,1] == set_old[0][0] + \" \"][5]"
   ]
  },
  {
   "cell_type": "code",
   "execution_count": 187,
   "metadata": {},
   "outputs": [],
   "source": [
    "set_old.loc[:,1] = 0"
   ]
  },
  {
   "cell_type": "code",
   "execution_count": 189,
   "metadata": {},
   "outputs": [],
   "source": [
    "for i,j in enumerate(set_old.loc[:,0]):\n",
    "    set_old.loc[i,1] = set_new[set_new.loc[:,1] == j + \" \"][5].values[0]"
   ]
  },
  {
   "cell_type": "code",
   "execution_count": 193,
   "metadata": {
    "collapsed": true
   },
   "outputs": [
    {
     "data": {
      "text/html": [
       "<div>\n",
       "<style scoped>\n",
       "    .dataframe tbody tr th:only-of-type {\n",
       "        vertical-align: middle;\n",
       "    }\n",
       "\n",
       "    .dataframe tbody tr th {\n",
       "        vertical-align: top;\n",
       "    }\n",
       "\n",
       "    .dataframe thead th {\n",
       "        text-align: right;\n",
       "    }\n",
       "</style>\n",
       "<table border=\"1\" class=\"dataframe\">\n",
       "  <thead>\n",
       "    <tr style=\"text-align: right;\">\n",
       "      <th></th>\n",
       "      <th>0</th>\n",
       "      <th>1</th>\n",
       "    </tr>\n",
       "  </thead>\n",
       "  <tbody>\n",
       "    <tr>\n",
       "      <th>0</th>\n",
       "      <td>2016_07_04_11_30_NaveenP_C_Na_M_Na_20_157_73_N...</td>\n",
       "      <td>4534_C_Na_M_Na_Na_Y.wav</td>\n",
       "    </tr>\n",
       "    <tr>\n",
       "      <th>1</th>\n",
       "      <td>2016_07_05_11_45_HaksaR_C_Na_M_Na_30_164_51_Na...</td>\n",
       "      <td>4126_C_Na_M_Na_Na_Y.wav</td>\n",
       "    </tr>\n",
       "    <tr>\n",
       "      <th>2</th>\n",
       "      <td>2016_07_05_12_00_VasuK_C_Na_M_Na_26_169_62_Na_...</td>\n",
       "      <td>4761_C_Na_M_Na_Na_Y.wav</td>\n",
       "    </tr>\n",
       "    <tr>\n",
       "      <th>3</th>\n",
       "      <td>2016_07_07_03_15_TulikaKarmakar_P_Asthma_F_bef...</td>\n",
       "      <td>4491_P_Asthma_F_before_Mil_Y.wav</td>\n",
       "    </tr>\n",
       "    <tr>\n",
       "      <th>4</th>\n",
       "      <td>2016_07_07_10_30_Prahalad_C_Na_M_Na_31_168_60_...</td>\n",
       "      <td>4922_C_Na_M_Na_Na_Y.wav</td>\n",
       "    </tr>\n",
       "    <tr>\n",
       "      <th>...</th>\n",
       "      <td>...</td>\n",
       "      <td>...</td>\n",
       "    </tr>\n",
       "    <tr>\n",
       "      <th>88</th>\n",
       "      <td>2019_02_13_11_55_Maheshwari_C_Na_F_Na_52_154_6...</td>\n",
       "      <td>4951_C_Na_F_Na_Na_Y.wav</td>\n",
       "    </tr>\n",
       "    <tr>\n",
       "      <th>89</th>\n",
       "      <td>2019_02_15_12_07_Suseelamma_C_Na_F_Na_60_159_5...</td>\n",
       "      <td>4780_C_Na_F_Na_Na_Y.wav</td>\n",
       "    </tr>\n",
       "    <tr>\n",
       "      <th>90</th>\n",
       "      <td>2019_02_20_12_04_GeethaK_C_Na_F_Na_42_145_65_N...</td>\n",
       "      <td>4990_C_Na_F_Na_Na_Y.wav</td>\n",
       "    </tr>\n",
       "    <tr>\n",
       "      <th>91</th>\n",
       "      <td>2019_02_20_12_24_AnuvaDutta_C_Na_F_Na_60_157_5...</td>\n",
       "      <td>4777_C_Na_F_Na_Na_Y.wav</td>\n",
       "    </tr>\n",
       "    <tr>\n",
       "      <th>92</th>\n",
       "      <td>2109_02_05_12_00_PremKumar_C_Na_M_Na_53_168_80...</td>\n",
       "      <td>4737_C_Na_M_Na_Na_Y.wav</td>\n",
       "    </tr>\n",
       "  </tbody>\n",
       "</table>\n",
       "<p>93 rows × 2 columns</p>\n",
       "</div>"
      ],
      "text/plain": [
       "                                                    0  \\\n",
       "0   2016_07_04_11_30_NaveenP_C_Na_M_Na_20_157_73_N...   \n",
       "1   2016_07_05_11_45_HaksaR_C_Na_M_Na_30_164_51_Na...   \n",
       "2   2016_07_05_12_00_VasuK_C_Na_M_Na_26_169_62_Na_...   \n",
       "3   2016_07_07_03_15_TulikaKarmakar_P_Asthma_F_bef...   \n",
       "4   2016_07_07_10_30_Prahalad_C_Na_M_Na_31_168_60_...   \n",
       "..                                                ...   \n",
       "88  2019_02_13_11_55_Maheshwari_C_Na_F_Na_52_154_6...   \n",
       "89  2019_02_15_12_07_Suseelamma_C_Na_F_Na_60_159_5...   \n",
       "90  2019_02_20_12_04_GeethaK_C_Na_F_Na_42_145_65_N...   \n",
       "91  2019_02_20_12_24_AnuvaDutta_C_Na_F_Na_60_157_5...   \n",
       "92  2109_02_05_12_00_PremKumar_C_Na_M_Na_53_168_80...   \n",
       "\n",
       "                                    1  \n",
       "0            4534_C_Na_M_Na_Na_Y.wav   \n",
       "1            4126_C_Na_M_Na_Na_Y.wav   \n",
       "2            4761_C_Na_M_Na_Na_Y.wav   \n",
       "3   4491_P_Asthma_F_before_Mil_Y.wav   \n",
       "4            4922_C_Na_M_Na_Na_Y.wav   \n",
       "..                                ...  \n",
       "88           4951_C_Na_F_Na_Na_Y.wav   \n",
       "89           4780_C_Na_F_Na_Na_Y.wav   \n",
       "90           4990_C_Na_F_Na_Na_Y.wav   \n",
       "91           4777_C_Na_F_Na_Na_Y.wav   \n",
       "92           4737_C_Na_M_Na_Na_Y.wav   \n",
       "\n",
       "[93 rows x 2 columns]"
      ]
     },
     "execution_count": 193,
     "metadata": {},
     "output_type": "execute_result"
    }
   ],
   "source": [
    "set_old"
   ]
  },
  {
   "cell_type": "code",
   "execution_count": 194,
   "metadata": {},
   "outputs": [],
   "source": [
    "list_ = [i[:-4]+'json' for i in set_old[1]]"
   ]
  },
  {
   "cell_type": "code",
   "execution_count": 199,
   "metadata": {},
   "outputs": [
    {
     "name": "stdout",
     "output_type": "stream",
     "text": [
      "Total = 93\n",
      "Asthmatic_male = 26\n",
      "Asthmatic_female = 19\n",
      "Healthy_Male = 24\n",
      "Healthy_female = 24\n",
      "Asthmatic_male_unique = 26\n",
      "Asthmatic_female_unique = 19\n",
      "Before_after = 0\n",
      "Before_male = 0\n",
      "Before_female = 0\n",
      "after_male = 0\n",
      "after_female = 0\n",
      "NAsthma = 0\n"
     ]
    }
   ],
   "source": [
    "count(list_)"
   ]
  },
  {
   "cell_type": "code",
   "execution_count": 204,
   "metadata": {},
   "outputs": [],
   "source": [
    "for i in range(0,10):\n",
    "    Train, Test = train_test_txt(list_)\n",
    "#     print(len(Train))\n",
    "    np.savetxt(f\"./breath_sets_old/Train/Train_{i}.txt\",Train, '%s')\n",
    "    np.savetxt(f\"./breath_sets_old/Test/Test_{i}.txt\",Test, '%s')"
   ]
  },
  {
   "cell_type": "code",
   "execution_count": null,
   "metadata": {},
   "outputs": [],
   "source": []
  },
  {
   "cell_type": "code",
   "execution_count": null,
   "metadata": {},
   "outputs": [],
   "source": []
  },
  {
   "cell_type": "markdown",
   "metadata": {},
   "source": [
    "### EXP 9"
   ]
  },
  {
   "cell_type": "code",
   "execution_count": null,
   "metadata": {},
   "outputs": [],
   "source": []
  },
  {
   "cell_type": "code",
   "execution_count": 9,
   "metadata": {},
   "outputs": [],
   "source": [
    "for i in range(0,10):\n",
    "    Train, Test = train_test_txt(list_)\n",
    "#     print(len(Train))\n",
    "    np.savetxt(f\"./breath_sets_w_after/Train/Train_{i}.txt\",Train, '%s')\n",
    "    np.savetxt(f\"./breath_sets_w_after/Test/Test_{i}.txt\",Test, '%s')"
   ]
  },
  {
   "cell_type": "code",
   "execution_count": 13,
   "metadata": {},
   "outputs": [
    {
     "name": "stdout",
     "output_type": "stream",
     "text": [
      "Total = 201\n",
      "Asthmatic_male = 55\n",
      "Asthmatic_female = 40\n",
      "Healthy_Male = 55\n",
      "Healthy_female = 51\n",
      "Asthmatic_male_unique = 55\n",
      "Asthmatic_female_unique = 40\n",
      "Before_after = 0\n",
      "Before_male = 0\n",
      "Before_female = 0\n",
      "after_male = 0\n",
      "after_female = 0\n",
      "NAsthma = 0\n"
     ]
    }
   ],
   "source": [
    "count(np.concatenate((Train, Test)))"
   ]
  },
  {
   "cell_type": "code",
   "execution_count": null,
   "metadata": {},
   "outputs": [],
   "source": []
  },
  {
   "cell_type": "code",
   "execution_count": null,
   "metadata": {},
   "outputs": [],
   "source": []
  }
 ],
 "metadata": {
  "kernelspec": {
   "display_name": "Python 3",
   "language": "python",
   "name": "python3"
  },
  "language_info": {
   "codemirror_mode": {
    "name": "ipython",
    "version": 3
   },
   "file_extension": ".py",
   "mimetype": "text/x-python",
   "name": "python",
   "nbconvert_exporter": "python",
   "pygments_lexer": "ipython3",
   "version": "3.7.3"
  }
 },
 "nbformat": 4,
 "nbformat_minor": 2
}
