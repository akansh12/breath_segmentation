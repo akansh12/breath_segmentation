{
 "cells": [
  {
   "cell_type": "code",
   "execution_count": 515,
   "metadata": {},
   "outputs": [],
   "source": [
    "import numpy as np\n",
    "import pandas as pd\n",
    "import random"
   ]
  },
  {
   "cell_type": "code",
   "execution_count": 516,
   "metadata": {},
   "outputs": [],
   "source": [
    "list_ = pd.read_csv(\"files_renamed_akansh.txt\", delimiter=\"\\t\", header=None)"
   ]
  },
  {
   "cell_type": "code",
   "execution_count": 517,
   "metadata": {},
   "outputs": [],
   "source": [
    "Total = np.unique([i[:-5] for i in list_[0]])\n",
    "names = []\n",
    "for i in Total:\n",
    "    names.append(i.split(\"_\")[5])\n",
    "unique = []\n",
    "before_after = []\n",
    "for i in Total:\n",
    "    if np.sum((np.array(names, dtype = str) == i.split(\"_\")[5])) == 1:\n",
    "        unique.append(i)\n",
    "    else:\n",
    "        before_after.append(i) \n",
    "\n",
    "Asthmatic_Female = []\n",
    "Asthmatic_Male = []\n",
    "Healthy_Male = []\n",
    "Healthy_Female = []\n",
    "NAsthma = []\n",
    "for file in unique:\n",
    "    if file.split(\"_\")[7] == 'Asthma' or file.split(\"_\")[7] == 'asthma' :\n",
    "        if file.split(\"_\")[8] == \"M\" or file.split(\"_\")[8] == \"m\":\n",
    "            Asthmatic_Male.append(file)\n",
    "        if file.find(\"_F_\")!=-1:\n",
    "            Asthmatic_Female.append(file)\n",
    "    if file.split(\"_\")[7] == 'NAsthma':\n",
    "        NAsthma.append(file)\n",
    "    if file.find(\"_C_\")!=-1:\n",
    "        if file.find(\"_M_\")!=-1:\n",
    "            Healthy_Male.append(file)\n",
    "        if file.find(\"_F_\")!=-1:\n",
    "            Healthy_Female.append(file)"
   ]
  },
  {
   "cell_type": "code",
   "execution_count": 518,
   "metadata": {},
   "outputs": [
    {
     "name": "stdout",
     "output_type": "stream",
     "text": [
      "Total = 285\n",
      "Asthmatic_male = 48\n",
      "Asthmatic_female = 31\n",
      "Healthy_Male = 55\n",
      "Healthy_female = 51\n",
      "Before_after = 90\n",
      "NAsthma = 10\n"
     ]
    }
   ],
   "source": [
    "print(f\"Total = {len(Total)}\")\n",
    "print(f\"Asthmatic_male = {len(Asthmatic_Male)}\")\n",
    "print(f\"Asthmatic_female = {len(Asthmatic_Female)}\")\n",
    "print(f\"Healthy_Male = {len(Healthy_Male)}\")\n",
    "print(f\"Healthy_female = {len(Healthy_Female)}\")\n",
    "print(f\"Before_after = {len(before_after)}\")\n",
    "print(f\"NAsthma = {len(NAsthma)}\")"
   ]
  },
  {
   "cell_type": "code",
   "execution_count": 519,
   "metadata": {},
   "outputs": [
    {
     "name": "stderr",
     "output_type": "stream",
     "text": [
      "/home/akansh/anaconda3/lib/python3.7/site-packages/ipykernel_launcher.py:4: SettingWithCopyWarning: \n",
      "A value is trying to be set on a copy of a slice from a DataFrame\n",
      "\n",
      "See the caveats in the documentation: https://pandas.pydata.org/pandas-docs/stable/user_guide/indexing.html#returning-a-view-versus-a-copy\n",
      "  after removing the cwd from sys.path.\n",
      "/home/akansh/anaconda3/lib/python3.7/site-packages/pandas/core/indexing.py:670: SettingWithCopyWarning: \n",
      "A value is trying to be set on a copy of a slice from a DataFrame\n",
      "\n",
      "See the caveats in the documentation: https://pandas.pydata.org/pandas-docs/stable/user_guide/indexing.html#returning-a-view-versus-a-copy\n",
      "  iloc._setitem_with_indexer(indexer, value)\n"
     ]
    }
   ],
   "source": [
    "list_[2] = 0\n",
    "list_[3] = 0\n",
    "for i,j in enumerate(list_[0]):\n",
    "    list_[2][i] = j.split(\"_\")[5]"
   ]
  },
  {
   "cell_type": "code",
   "execution_count": 520,
   "metadata": {},
   "outputs": [],
   "source": [
    "A = np.unique(random.sample(range(4000, 5000), 285))\n",
    "for name in np.unique(names):\n",
    "#     name = i.split(\"_\")[5]\n",
    "    if list_[list_[2] == name][3].shape != 0:\n",
    "        b = np.random.choice(A,size = (1,), replace = True)[0]\n",
    "        list_.loc[list_[2] == name, 3] = b\n",
    "        A = np.delete(A, np.where(A == b)[0][0])            "
   ]
  },
  {
   "cell_type": "code",
   "execution_count": 557,
   "metadata": {},
   "outputs": [],
   "source": [
    "for i,j in enumerate(list_[0]):\n",
    "    list_.loc[i,4] = str(list_.loc[i,3]) + \"_\"+ \"_\".join(j.split(\"_\")[6:10])+\"_\"+ \"_\".join(j.split(\"_\")[13:])"
   ]
  },
  {
   "cell_type": "code",
   "execution_count": null,
   "metadata": {},
   "outputs": [],
   "source": []
  },
  {
   "cell_type": "code",
   "execution_count": 526,
   "metadata": {},
   "outputs": [],
   "source": [
    "C = []\n",
    "for i in np.unique(names):\n",
    "    if list_[list_[2] == i][3].shape[0] > 2:\n",
    "        C.append(i)\n",
    "    "
   ]
  },
  {
   "cell_type": "code",
   "execution_count": 527,
   "metadata": {},
   "outputs": [],
   "source": [
    "z = [i.split(\"_\")[5] for i in before_after]"
   ]
  },
  {
   "cell_type": "code",
   "execution_count": 528,
   "metadata": {},
   "outputs": [
    {
     "data": {
      "text/plain": [
       "array(['HarryLawrence', 'Shifana'], dtype='<U19')"
      ]
     },
     "execution_count": 528,
     "metadata": {},
     "output_type": "execute_result"
    }
   ],
   "source": [
    "np.setdiff1d(np.unique(z),C)"
   ]
  },
  {
   "cell_type": "code",
   "execution_count": 529,
   "metadata": {},
   "outputs": [
    {
     "name": "stdout",
     "output_type": "stream",
     "text": [
      "(240,) (240,)\n"
     ]
    }
   ],
   "source": [
    "print(np.unique(list_[2]).shape, np.unique(list_[2]).shape)"
   ]
  },
  {
   "cell_type": "code",
   "execution_count": null,
   "metadata": {},
   "outputs": [],
   "source": []
  },
  {
   "cell_type": "code",
   "execution_count": 531,
   "metadata": {},
   "outputs": [],
   "source": [
    "C = []\n",
    "for i in list_[0]:\n",
    "    if i.endswith(\".wav \"):\n",
    "        C.append(i)\n",
    "        "
   ]
  },
  {
   "cell_type": "code",
   "execution_count": 532,
   "metadata": {},
   "outputs": [
    {
     "data": {
      "text/html": [
       "<div>\n",
       "<style scoped>\n",
       "    .dataframe tbody tr th:only-of-type {\n",
       "        vertical-align: middle;\n",
       "    }\n",
       "\n",
       "    .dataframe tbody tr th {\n",
       "        vertical-align: top;\n",
       "    }\n",
       "\n",
       "    .dataframe thead th {\n",
       "        text-align: right;\n",
       "    }\n",
       "</style>\n",
       "<table border=\"1\" class=\"dataframe\">\n",
       "  <thead>\n",
       "    <tr style=\"text-align: right;\">\n",
       "      <th></th>\n",
       "      <th>0</th>\n",
       "      <th>1</th>\n",
       "      <th>2</th>\n",
       "      <th>3</th>\n",
       "      <th>4</th>\n",
       "    </tr>\n",
       "  </thead>\n",
       "  <tbody>\n",
       "    <tr>\n",
       "      <th>0</th>\n",
       "      <td>2016_07_04_11_30_NaveenP_C_Na_M_Na_20_157_73_N...</td>\n",
       "      <td>1452</td>\n",
       "      <td>NaveenP</td>\n",
       "      <td>4403</td>\n",
       "      <td>4403_C_Na_M_Na_20_157_73_Na_Y.wav</td>\n",
       "    </tr>\n",
       "  </tbody>\n",
       "</table>\n",
       "</div>"
      ],
      "text/plain": [
       "                                                   0     1        2     3  \\\n",
       "0  2016_07_04_11_30_NaveenP_C_Na_M_Na_20_157_73_N...  1452  NaveenP  4403   \n",
       "\n",
       "                                    4  \n",
       "0  4403_C_Na_M_Na_20_157_73_Na_Y.wav   "
      ]
     },
     "execution_count": 532,
     "metadata": {},
     "output_type": "execute_result"
    }
   ],
   "source": [
    "list_[list_[0] == C[0]]"
   ]
  },
  {
   "cell_type": "code",
   "execution_count": 559,
   "metadata": {},
   "outputs": [],
   "source": [
    "rename_df = pd.DataFrame()\n",
    "C = []\n",
    "for i in list_[0]:\n",
    "    if i.endswith(\".wav \"):\n",
    "        C.append(i)\n",
    "        \n",
    "for i in C:\n",
    "    rename_df = rename_df.append(list_[list_[0] == i])"
   ]
  },
  {
   "cell_type": "code",
   "execution_count": 561,
   "metadata": {},
   "outputs": [],
   "source": [
    "rename_df.reset_index(drop= True, inplace=True)\n"
   ]
  },
  {
   "cell_type": "code",
   "execution_count": 563,
   "metadata": {},
   "outputs": [],
   "source": [
    "for i,j in enumerate(rename_df[0]):\n",
    "    rename_df.loc[i,1] = str(rename_df.loc[i,1]) + \"_\"+ \"_\".join(j.split(\"_\")[6:10])+\"_\"+ \"_\".join(j.split(\"_\")[13:])"
   ]
  },
  {
   "cell_type": "code",
   "execution_count": 570,
   "metadata": {},
   "outputs": [
    {
     "data": {
      "text/plain": [
       "'1452_C_Na_M_Na_Na_Y.wav'"
      ]
     },
     "execution_count": 570,
     "metadata": {},
     "output_type": "execute_result"
    }
   ],
   "source": [
    "rename_df.loc[0,1][:-1]"
   ]
  },
  {
   "cell_type": "code",
   "execution_count": 572,
   "metadata": {},
   "outputs": [
    {
     "data": {
      "text/plain": [
       "0               1452_C_Na_M_Na_Na_Y.wav \n",
       "1               1123_C_Na_M_Na_Na_Y.wav \n",
       "2               1448_C_Na_M_Na_Na_Y.wav \n",
       "3               1174_C_Na_M_Na_Na_Y.wav \n",
       "4               1333_C_Na_F_Na_Na_Y.wav \n",
       "                     ...                \n",
       "280     2337_P_Asthma_M_after_Sev_Y.wav \n",
       "281     2372_P_NAsthma_M_After_Na_Y.wav \n",
       "282     2202_P_Asthma_M_After_Sev_Y.wav \n",
       "283    2089_P_Asthma_F_After_Mild_Y.wav \n",
       "284     2042_P_NAsthma_M_After_Na_Y.wav \n",
       "Name: 1, Length: 285, dtype: object"
      ]
     },
     "execution_count": 572,
     "metadata": {},
     "output_type": "execute_result"
    }
   ],
   "source": [
    "rename_df[1]"
   ]
  },
  {
   "cell_type": "code",
   "execution_count": 587,
   "metadata": {},
   "outputs": [],
   "source": [
    "import os"
   ]
  },
  {
   "cell_type": "code",
   "execution_count": 601,
   "metadata": {},
   "outputs": [],
   "source": [
    "problem = []\n",
    "for i,j in zip(rename_df[1][175:], rename_df[4][175:]):\n",
    "    try:\n",
    "        source = i[:-1]\n",
    "        dest = j[:-1]\n",
    "        os.rename(source, dest)\n",
    "        source = i[:-4]+\"txt\"\n",
    "        dest = j[:-4]+\"txt\"\n",
    "        os.rename(source, dest)\n",
    "    except:\n",
    "        problem.append(i)"
   ]
  },
  {
   "cell_type": "code",
   "execution_count": 602,
   "metadata": {},
   "outputs": [
    {
     "data": {
      "text/plain": [
       "['2105_P_Asthma_F_after_68_TBD_Y.wav ', '2242_P_Asthma_m_54_Y.wav ']"
      ]
     },
     "execution_count": 602,
     "metadata": {},
     "output_type": "execute_result"
    }
   ],
   "source": [
    "problem"
   ]
  },
  {
   "cell_type": "code",
   "execution_count": 590,
   "metadata": {},
   "outputs": [
    {
     "data": {
      "text/plain": [
       "False"
      ]
     },
     "execution_count": 590,
     "metadata": {},
     "output_type": "execute_result"
    }
   ],
   "source": [
    "\"2105_P_Asthma_F_after_68_TBD.wav\" == \"2105_P_Asthma_F_after_68_TBD_Y.wav\""
   ]
  },
  {
   "cell_type": "code",
   "execution_count": 609,
   "metadata": {},
   "outputs": [
    {
     "data": {
      "text/html": [
       "<div>\n",
       "<style scoped>\n",
       "    .dataframe tbody tr th:only-of-type {\n",
       "        vertical-align: middle;\n",
       "    }\n",
       "\n",
       "    .dataframe tbody tr th {\n",
       "        vertical-align: top;\n",
       "    }\n",
       "\n",
       "    .dataframe thead th {\n",
       "        text-align: right;\n",
       "    }\n",
       "</style>\n",
       "<table border=\"1\" class=\"dataframe\">\n",
       "  <thead>\n",
       "    <tr style=\"text-align: right;\">\n",
       "      <th></th>\n",
       "      <th>0</th>\n",
       "      <th>1</th>\n",
       "      <th>2</th>\n",
       "      <th>3</th>\n",
       "      <th>4</th>\n",
       "    </tr>\n",
       "  </thead>\n",
       "  <tbody>\n",
       "    <tr>\n",
       "      <th>233</th>\n",
       "      <td>2018_05_24_11_48_BalaramReddy_P_Asthma_m_54_16...</td>\n",
       "      <td>2242_P_Asthma_m_54_Y.wav</td>\n",
       "      <td>BalaramReddy</td>\n",
       "      <td>4004</td>\n",
       "      <td>4004_P_Asthma_m_54_Y.wav</td>\n",
       "    </tr>\n",
       "  </tbody>\n",
       "</table>\n",
       "</div>"
      ],
      "text/plain": [
       "                                                     0  \\\n",
       "233  2018_05_24_11_48_BalaramReddy_P_Asthma_m_54_16...   \n",
       "\n",
       "                             1             2     3                          4  \n",
       "233  2242_P_Asthma_m_54_Y.wav   BalaramReddy  4004  4004_P_Asthma_m_54_Y.wav   "
      ]
     },
     "execution_count": 609,
     "metadata": {},
     "output_type": "execute_result"
    }
   ],
   "source": [
    "rename_df[rename_df[1]== \"2242_P_Asthma_m_54_Y.wav \"]"
   ]
  },
  {
   "cell_type": "code",
   "execution_count": 600,
   "metadata": {},
   "outputs": [
    {
     "data": {
      "text/plain": [
       "175    4368_P_Asthma_F_after_68_TBD_Y.wav \n",
       "176       4983_P_Asthma_F_after_TBD_Y.wav \n",
       "177      4983_P_Asthma_F_before_TBD_Y.wav \n",
       "178       4065_P_Asthma_M_after_Sev_Y.wav \n",
       "179      4065_P_Asthma_M_before_Sev_Y.wav \n",
       "                      ...                 \n",
       "280       4440_P_Asthma_M_after_Sev_Y.wav \n",
       "281       4739_P_NAsthma_M_After_Na_Y.wav \n",
       "282       4437_P_Asthma_M_After_Sev_Y.wav \n",
       "283      4123_P_Asthma_F_After_Mild_Y.wav \n",
       "284       4729_P_NAsthma_M_After_Na_Y.wav \n",
       "Name: 4, Length: 110, dtype: object"
      ]
     },
     "execution_count": 600,
     "metadata": {},
     "output_type": "execute_result"
    }
   ],
   "source": [
    "rename_df[4][175:]"
   ]
  },
  {
   "cell_type": "code",
   "execution_count": null,
   "metadata": {},
   "outputs": [],
   "source": []
  },
  {
   "cell_type": "code",
   "execution_count": null,
   "metadata": {},
   "outputs": [],
   "source": []
  }
 ],
 "metadata": {
  "kernelspec": {
   "display_name": "Python 3",
   "language": "python",
   "name": "python3"
  },
  "language_info": {
   "codemirror_mode": {
    "name": "ipython",
    "version": 3
   },
   "file_extension": ".py",
   "mimetype": "text/x-python",
   "name": "python",
   "nbconvert_exporter": "python",
   "pygments_lexer": "ipython3",
   "version": "3.7.3"
  }
 },
 "nbformat": 4,
 "nbformat_minor": 2
}
