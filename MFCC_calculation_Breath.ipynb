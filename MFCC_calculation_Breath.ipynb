{
 "cells": [
  {
   "cell_type": "code",
   "execution_count": null,
   "metadata": {},
   "outputs": [],
   "source": [
    "import torch\n",
    "import torchaudio\n",
    "import numpy as np\n",
    "import os\n",
    "import pandas as pd\n",
    "import json"
   ]
  },
  {
   "cell_type": "code",
   "execution_count": null,
   "metadata": {},
   "outputs": [],
   "source": [
    "from tqdm import tqdm"
   ]
  },
  {
   "cell_type": "code",
   "execution_count": null,
   "metadata": {},
   "outputs": [],
   "source": [
    "def MFCC(waveform, sample_rate):\n",
    "    mfcc = torchaudio.compliance.kaldi.mfcc(waveform=waveform, num_ceps= 12,  \n",
    "                                     cepstral_lifter=22, channel=0, \n",
    "                                     dither = 0.0, energy_floor=0.0,\n",
    "                                     frame_length=20, frame_shift=10, \n",
    "                                     high_freq=sample_rate/2,low_freq = 40, num_mel_bins=25, \n",
    "                                     sample_frequency=sample_rate, use_energy=True, vtln_low =60, vtln_high = 7200, \n",
    "                                     window_type=\"hamming\")\n",
    "    return mfcc"
   ]
  },
  {
   "cell_type": "code",
   "execution_count": 35,
   "metadata": {},
   "outputs": [
    {
     "name": "stderr",
     "output_type": "stream",
     "text": [
      "100%|██████████| 285/285 [22:51<00:00,  4.81s/it]\n"
     ]
    }
   ],
   "source": [
    "set_loc = \"./set_new_data/\"\n",
    "data_loc = \"./\"\n",
    "ann_loc = \"./breathe_annotations/\"\n",
    "for i in os.listdir(set_loc):\n",
    "    set_full = np.loadtxt(set_loc + i, dtype=str)\n",
    "    for j in tqdm(set_full):\n",
    "        A = {}\n",
    "        Breath_1 = []\n",
    "        Breath_2 = []\n",
    "        Breath_3 = []\n",
    "        waveform, sample_rate = torchaudio.load(data_loc+j+\".wav\")\n",
    "        try: \n",
    "            txt_file = pd.read_csv(ann_loc+j+\".txt\", sep=\"\\t\", header = None)\n",
    "            labels = txt_file.iloc[:,2]\n",
    "            start = txt_file.iloc[:,0]\n",
    "            stop = txt_file.iloc[:,1]\n",
    "            for k,l in enumerate(labels):\n",
    "                try:\n",
    "                    if l[:3] == \"Bre\":\n",
    "                        length = stop[k]-start[k]                                             \n",
    "                        \n",
    "                        Breath_1.append(MFCC(waveform[:,int(round(start[k]*sample_rate)):int(round((stop[k]+(length)/4)*sample_rate))], sample_rate).numpy().tolist())\n",
    "                        Breath_2.append(MFCC(waveform[:,int(round((start[k]+(length/4))*sample_rate)):int(round((stop[k]+(3*length)/4)*sample_rate))], sample_rate).numpy().tolist())\n",
    "                        Breath_3.append(MFCC(waveform[:,int(round((start[k]+(3*length)/4)*sample_rate)):int(round((stop[k])*sample_rate))], sample_rate).numpy().tolist())\n",
    "\n",
    "                        \n",
    "                except:\n",
    "                    print(j)\n",
    "                \n",
    "            A['Breath_1'] = Breath_1\n",
    "            A['Breath_2'] = Breath_2\n",
    "            A['Breath_3'] = Breath_3\n",
    "\n",
    "            with open(\"./breath_mfcc/\"+j+\".json\", \"w\") as outfile:  \n",
    "                json.dump(A, outfile) \n",
    "\n",
    "        except:\n",
    "            pass\n",
    "\n",
    "\n"
   ]
  },
  {
   "cell_type": "code",
   "execution_count": null,
   "metadata": {},
   "outputs": [],
   "source": []
  }
 ],
 "metadata": {
  "kernelspec": {
   "display_name": "Python 3",
   "language": "python",
   "name": "python3"
  },
  "language_info": {
   "codemirror_mode": {
    "name": "ipython",
    "version": 3
   },
   "file_extension": ".py",
   "mimetype": "text/x-python",
   "name": "python",
   "nbconvert_exporter": "python",
   "pygments_lexer": "ipython3",
   "version": "3.7.3"
  }
 },
 "nbformat": 4,
 "nbformat_minor": 2
}
