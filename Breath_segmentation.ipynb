{
 "cells": [
  {
   "cell_type": "code",
   "execution_count": 1,
   "metadata": {},
   "outputs": [],
   "source": [
    "import numpy as np\n",
    "import pandas as pd\n",
    "import os \n",
    "from tqdm import tqdm"
   ]
  },
  {
   "cell_type": "markdown",
   "metadata": {},
   "source": [
    "### Joining Inhale and Exhale"
   ]
  },
  {
   "cell_type": "code",
   "execution_count": 81,
   "metadata": {},
   "outputs": [
    {
     "name": "stderr",
     "output_type": "stream",
     "text": [
      "100%|██████████| 285/285 [00:18<00:00, 15.04it/s]\n"
     ]
    }
   ],
   "source": [
    "waste_annotation = []\n",
    "uneven = []\n",
    "Wheeze_list = []\n",
    "unequal = []\n",
    "for i in tqdm(ann_list):\n",
    "    ann = pd.read_csv(i, sep = \"\\t\", header=None)\n",
    "    A = pd.DataFrame()\n",
    "    try:\n",
    "        for j in ann.index:\n",
    "            if (ann.iloc[j,2].find(\"nhale\") != -1) or (ann.iloc[j,2].find(\"xhale\") != -1):\n",
    "                A = A.append(ann.iloc[j])\n",
    "                \n",
    "        if A.shape[0] % 2 == 0:\n",
    "            if A.shape[0] != 0:\n",
    "                B = pd.DataFrame(np.zeros((A.shape[0]//2,3)))\n",
    "                B[0] = list(A[0])[::2]\n",
    "                B[1] = list(A[1])[1::2]\n",
    "                B[2] = 'Breathe'\n",
    "                B.to_csv(\"./breathe_annotations/\"+i, index = False, sep= '\\t', header = None)\n",
    "            else:\n",
    "                Wheeze_list.append(i)\n",
    "                \n",
    "        else:\n",
    "            uneven.append(i)\n",
    "            \n",
    "        \n",
    "    except:\n",
    "        waste_annotation.append(i)   "
   ]
  },
  {
   "cell_type": "markdown",
   "metadata": {},
   "source": [
    "### Wheeze Only"
   ]
  },
  {
   "cell_type": "code",
   "execution_count": 105,
   "metadata": {},
   "outputs": [
    {
     "data": {
      "text/plain": [
       "15"
      ]
     },
     "execution_count": 105,
     "metadata": {},
     "output_type": "execute_result"
    }
   ],
   "source": [
    "len(Wheeze_list)"
   ]
  },
  {
   "cell_type": "code",
   "execution_count": 101,
   "metadata": {},
   "outputs": [
    {
     "name": "stderr",
     "output_type": "stream",
     "text": [
      "100%|██████████| 15/15 [00:01<00:00, 11.30it/s]\n"
     ]
    }
   ],
   "source": [
    "for i in tqdm(Wheeze_list):\n",
    "    ann = pd.read_csv(i, sep = \"\\t\", header=None)\n",
    "    A = pd.DataFrame()\n",
    "    for j in ann.index:\n",
    "        if (ann.iloc[j,2].find(\"heez\") != -1):\n",
    "            A = A.append(ann.iloc[j])\n",
    "        B = pd.DataFrame(np.zeros((A.shape[0],3)))\n",
    "        B = A\n",
    "        B[2] = 'Breathe'\n",
    "        B.to_csv(\"./breathe_annotations/\"+i, index = False, sep= '\\t', header = None)"
   ]
  },
  {
   "cell_type": "code",
   "execution_count": 103,
   "metadata": {},
   "outputs": [
    {
     "data": {
      "text/plain": [
       "['2223_P_Asthma_F_after_TBD_Y.txt',\n",
       " '2483_P_Asthma_M_after_TBD_Y.txt',\n",
       " '2410_P_Asthma_M_after_TBD_N.txt',\n",
       " '2467_P_Asthma_F_after_Sev_Y.txt',\n",
       " '2474_P_NAsthma_F_before_TBD_Y.txt',\n",
       " '1074_C_Na_F_Na_Na_Y.txt',\n",
       " '2262_P_Asthma_F_after_TBD_Y.txt',\n",
       " '2369_P_Asthma_M_before_Mil_Y.txt',\n",
       " '2100_P_Asthma_M_after_TBD_Y.txt',\n",
       " '2457_P_Asthma_M_before_TBD_N.txt',\n",
       " '2336_P_Asthma_F_after_TBD_Y.txt',\n",
       " '2320_P_Asthma_F_after_TBD_Y.txt']"
      ]
     },
     "execution_count": 103,
     "metadata": {},
     "output_type": "execute_result"
    }
   ],
   "source": [
    "waste_annotation"
   ]
  },
  {
   "cell_type": "code",
   "execution_count": 102,
   "metadata": {},
   "outputs": [
    {
     "data": {
      "text/plain": [
       "['1435_C_Na_M_Na_Na_Y.txt',\n",
       " '2445_P_Asthma_F_after_Mil_Y.txt',\n",
       " '2399_P_Asthma_M_after_TBD_Y.txt',\n",
       " '1072_C_Na_M_Na_Na_Y.txt',\n",
       " '2340_P_Asthma_M_after_Mod_Y.txt',\n",
       " '1461_C_Na_F_Na_Na_Y.txt',\n",
       " '2051_P_Asthma_F_after_TBD_N.txt',\n",
       " '2432_P_NAsthma_M_before_TBD_N.txt',\n",
       " '1365_C_Na_F_Na_Na_Y.txt',\n",
       " '1423_C_Na_F_Na_Na_N.txt',\n",
       " '2400_P_Asthma_M_after_TBD_Y.txt',\n",
       " '1373_C_Na_M_Na_Na_Y.txt',\n",
       " '2473_P_Asthma_M_after_TBD_Y.txt',\n",
       " '1060_C_Na_F_Na_Na_Y.txt',\n",
       " '2121_P_Asthma_M_after_TBD_N.txt',\n",
       " '1150_C_Na_M_Na_Na_Y.txt',\n",
       " '2266_P_Asthma_M_before_Mil_Y.txt',\n",
       " '1442_C_Na_M_Na_Na_Y.txt',\n",
       " '2159_P_Asthma_F_after_Mod_Y.txt']"
      ]
     },
     "execution_count": 102,
     "metadata": {},
     "output_type": "execute_result"
    }
   ],
   "source": [
    "(uneven)"
   ]
  },
  {
   "cell_type": "code",
   "execution_count": 11,
   "metadata": {},
   "outputs": [],
   "source": [
    "A = pd.read_csv(\"./1003_C_Na_F_Na_Na_N.txt\", sep= \"\\t\", header=None)"
   ]
  },
  {
   "cell_type": "code",
   "execution_count": 6,
   "metadata": {},
   "outputs": [],
   "source": [
    "labels = A.iloc[:,2]"
   ]
  },
  {
   "cell_type": "code",
   "execution_count": 16,
   "metadata": {},
   "outputs": [
    {
     "data": {
      "text/plain": [
       "0    16.9799\n",
       "1    18.1969\n",
       "2     Cough5\n",
       "Name: 4, dtype: object"
      ]
     },
     "execution_count": 16,
     "metadata": {},
     "output_type": "execute_result"
    }
   ],
   "source": [
    "A.iloc[4]"
   ]
  },
  {
   "cell_type": "markdown",
   "metadata": {},
   "source": [
    "### Inhale-Exahle Join II"
   ]
  },
  {
   "cell_type": "code",
   "execution_count": 2,
   "metadata": {},
   "outputs": [],
   "source": [
    "ann_list = [i for i in os.listdir(\"./\") if i.endswith(\".txt\")]"
   ]
  },
  {
   "cell_type": "code",
   "execution_count": 49,
   "metadata": {},
   "outputs": [
    {
     "name": "stderr",
     "output_type": "stream",
     "text": [
      "100%|██████████| 285/285 [00:17<00:00, 16.39it/s]\n"
     ]
    }
   ],
   "source": [
    "waste = []\n",
    "for i in tqdm(ann_list):\n",
    "    A = pd.read_csv(i, sep=\"\\t\", header=None)\n",
    "    B = pd.DataFrame()\n",
    "    try:\n",
    "        labels = A.iloc[:,2]\n",
    "        for j in range(0,len(labels)):\n",
    "            if labels[j].find(\"nhale\") != -1:\n",
    "                if labels[j+1].find(\"xhale\") != -1:\n",
    "                    B = B.append(A.iloc[j])\n",
    "                    B = B.append(A.iloc[j+1])\n",
    "                elif labels[j+1].find(\"heeze\") != -1:\n",
    "                    if labels[j+2].find(\"xhale\") != -1:\n",
    "                        B = B.append(A.iloc[j])\n",
    "                        B = B.append(A.iloc[j+2])\n",
    "        if B.shape[0] != 0:\n",
    "                C = pd.DataFrame(np.zeros((B.shape[0]//2,3)))\n",
    "                C[0] = list(B[0])[::2]\n",
    "                C[1] = list(B[1])[1::2]\n",
    "                C[2] = 'Breath'\n",
    "                C.to_csv(\"./breathe_annotations/\"+i, index = False, sep= '\\t', header = None)\n",
    "        else:\n",
    "            waste.append(i)\n",
    "    except:\n",
    "        waste.append(i)\n",
    "\n",
    "    \n",
    "                \n",
    "            "
   ]
  },
  {
   "cell_type": "code",
   "execution_count": 50,
   "metadata": {},
   "outputs": [
    {
     "data": {
      "text/plain": [
       "27"
      ]
     },
     "execution_count": 50,
     "metadata": {},
     "output_type": "execute_result"
    }
   ],
   "source": [
    "len(waste)"
   ]
  },
  {
   "cell_type": "code",
   "execution_count": null,
   "metadata": {},
   "outputs": [],
   "source": []
  }
 ],
 "metadata": {
  "kernelspec": {
   "display_name": "Python 3",
   "language": "python",
   "name": "python3"
  },
  "language_info": {
   "codemirror_mode": {
    "name": "ipython",
    "version": 3
   },
   "file_extension": ".py",
   "mimetype": "text/x-python",
   "name": "python",
   "nbconvert_exporter": "python",
   "pygments_lexer": "ipython3",
   "version": "3.7.3"
  }
 },
 "nbformat": 4,
 "nbformat_minor": 2
}
