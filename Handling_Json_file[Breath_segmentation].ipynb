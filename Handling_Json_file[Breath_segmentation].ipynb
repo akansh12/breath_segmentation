{
 "cells": [
  {
   "cell_type": "code",
   "execution_count": 1,
   "metadata": {},
   "outputs": [],
   "source": [
    "import os\n",
    "import pandas as pd\n",
    "import numpy as np\n",
    "import json\n",
    "from scipy import stats"
   ]
  },
  {
   "cell_type": "code",
   "execution_count": 2,
   "metadata": {},
   "outputs": [],
   "source": [
    "from tqdm import tqdm "
   ]
  },
  {
   "cell_type": "code",
   "execution_count": 4,
   "metadata": {},
   "outputs": [],
   "source": [
    "def csv_gen(sound_name, mfcc_json_loc,save_loc):\n",
    "    dataframe = pd.DataFrame()\n",
    "    for i in tqdm(os.listdir(mfcc_json_loc)):\n",
    "        with open(mfcc_json_loc+i) as f:\n",
    "            data = json.load(f)\n",
    "        j = len(data[sound_name])\n",
    "        for k in range(0,j):\n",
    "            feature = np.array(data[sound_name][k])\n",
    "            mean = np.mean(feature,axis=0) \n",
    "            mean = mean.reshape(1,len(mean))\n",
    "            mode = stats.mode(feature,axis = 0)[0]\n",
    "            median = np.median(feature, axis=0)\n",
    "            median = median.reshape(1,len(median))\n",
    "\n",
    "            variance = np.var(feature, axis=0)\n",
    "            variance = variance.reshape(1,len(variance))\n",
    "\n",
    "            sd = np.std(feature,axis = 0)\n",
    "            sd = sd.reshape(1,len(sd))\n",
    "\n",
    "            rms = np.sqrt(np.mean(np.square(feature),axis=0))\n",
    "            rms = rms.reshape(1,len(rms))\n",
    "\n",
    "            big = np.concatenate((mean,median,mode,variance,sd,rms),axis = 0)\n",
    "            feature_vector = big.reshape(1,big.shape[0]*big.shape[1])\n",
    "            if i.find(\"Asthma\") != -1:\n",
    "                feature_vector = np.append(feature_vector,1)\n",
    "                feature_vector = np.append(feature_vector,i).reshape(1,74)\n",
    "            else:\n",
    "                feature_vector = np.append(feature_vector,0)\n",
    "                feature_vector = np.append(feature_vector,i).reshape(1,74)\n",
    "\n",
    "            dataframe = dataframe.append(pd.DataFrame(feature_vector))\n",
    "            dataframe.to_csv(save_loc+sound_name+\".csv\", index = False)\n",
    "            "
   ]
  },
  {
   "cell_type": "code",
   "execution_count": 5,
   "metadata": {},
   "outputs": [],
   "source": [
    "mfcc_json_loc = \"./breath_mfcc/\""
   ]
  },
  {
   "cell_type": "code",
   "execution_count": 6,
   "metadata": {},
   "outputs": [
    {
     "name": "stderr",
     "output_type": "stream",
     "text": [
      "100%|██████████| 258/258 [02:57<00:00,  1.46it/s]\n"
     ]
    }
   ],
   "source": [
    "csv_gen(\"Breath_1\", mfcc_json_loc, save_loc='./breath_csv/')"
   ]
  },
  {
   "cell_type": "code",
   "execution_count": 7,
   "metadata": {},
   "outputs": [
    {
     "name": "stderr",
     "output_type": "stream",
     "text": [
      "100%|██████████| 258/258 [02:47<00:00,  1.54it/s]\n"
     ]
    }
   ],
   "source": [
    "csv_gen(\"Breath_2\", mfcc_json_loc, save_loc='./breath_csv/')"
   ]
  },
  {
   "cell_type": "code",
   "execution_count": 8,
   "metadata": {},
   "outputs": [
    {
     "name": "stderr",
     "output_type": "stream",
     "text": [
      "100%|██████████| 258/258 [02:42<00:00,  1.59it/s]\n"
     ]
    }
   ],
   "source": [
    "csv_gen(\"Breath_3\", mfcc_json_loc, save_loc='./breath_csv/')"
   ]
  },
  {
   "cell_type": "code",
   "execution_count": null,
   "metadata": {},
   "outputs": [],
   "source": []
  }
 ],
 "metadata": {
  "kernelspec": {
   "display_name": "Python 3",
   "language": "python",
   "name": "python3"
  },
  "language_info": {
   "codemirror_mode": {
    "name": "ipython",
    "version": 3
   },
   "file_extension": ".py",
   "mimetype": "text/x-python",
   "name": "python",
   "nbconvert_exporter": "python",
   "pygments_lexer": "ipython3",
   "version": "3.7.3"
  }
 },
 "nbformat": 4,
 "nbformat_minor": 2
}
