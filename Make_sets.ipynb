{
 "cells": [
  {
   "cell_type": "code",
   "execution_count": 1,
   "metadata": {},
   "outputs": [],
   "source": [
    "import pandas as pd\n",
    "import os\n",
    "import numpy as np"
   ]
  },
  {
   "cell_type": "code",
   "execution_count": 2,
   "metadata": {},
   "outputs": [],
   "source": [
    "import random"
   ]
  },
  {
   "cell_type": "code",
   "execution_count": 4,
   "metadata": {},
   "outputs": [],
   "source": [
    "list_ = pd.read_csv(\"./188_wheeze.txt\", header=None, delimiter=\"\\t\")"
   ]
  },
  {
   "cell_type": "code",
   "execution_count": 83,
   "metadata": {},
   "outputs": [],
   "source": [
    "def train_test_set(Asthmatic_Female, Asthmatic_Male, Healthy_Female, Healthy_Male, before_after,before,after,include_after):\n",
    "    random.seed(0)\n",
    "    test_set = np.concatenate(((np.random.choice(np.array(Asthmatic_Male), replace=False, size=(7)),\n",
    "                                np.random.choice(np.array(Asthmatic_Female), replace=False, size=(7)),\n",
    "                                np.random.choice(np.array(Healthy_Male), replace=False, size=(7)),\n",
    "                                np.random.choice(np.array(Healthy_Female), replace=False, size=(7)))))\n",
    "    train_set = np.concatenate((np.array(Asthmatic_Male),\n",
    "                                np.array(Asthmatic_Female),\n",
    "                                np.array(Healthy_Male),\n",
    "                                np.array(Healthy_Female)))\n",
    "    train_set = np.setdiff1d(train_set,test_set)\n",
    "#     np.array(before_after).shape\n",
    "    if include_after == True:\n",
    "        train_set = np.concatenate((train_set, np.array(before_after)))\n",
    "    if include_after == False:\n",
    "#         print(\"hi\")\n",
    "        train_set = np.concatenate((train_set, np.concatenate((before['male'], before['female']))))\n",
    "    return train_set, test_set"
   ]
  },
  {
   "cell_type": "code",
   "execution_count": 79,
   "metadata": {},
   "outputs": [],
   "source": [
    "def train_test_txt(sound_dataframe):\n",
    "#     sound_dataframe = list_\n",
    "#     Total = np.unique(sound_dataframe.iloc[:,sound_dataframe.shape[1]-1])\n",
    "    Total = sound_dataframe\n",
    "    name = []\n",
    "    for i in Total:\n",
    "        name.append(i[:4])\n",
    "    unique = []\n",
    "    before_after = []\n",
    "    for i in Total:\n",
    "        if np.sum((np.array(name, dtype = int) == int(i[:4]))) == 1:\n",
    "            unique.append(i)\n",
    "        else:\n",
    "            before_after.append(i) \n",
    "\n",
    "    Asthmatic_Female = []\n",
    "    Asthmatic_Male = []\n",
    "    Healthy_Male = []\n",
    "    Healthy_Female = []\n",
    "    NAsthma = []\n",
    "    before = {\"male\" : [], \"female\" : []}\n",
    "    after = {\"male\" : [], \"female\" : []}\n",
    "    for file in unique:\n",
    "        if file.split(\"_\")[2] == 'Asthma' or file.split(\"_\")[2] == 'asthma' :\n",
    "            if file.find(\"_M_\")!=-1:\n",
    "                Asthmatic_Male.append(file)\n",
    "            if file.find(\"_F_\")!=-1:\n",
    "                Asthmatic_Female.append(file)\n",
    "        if file.split(\"_\")[2] == 'NAsthma':\n",
    "            NAsthma.append(file)\n",
    "        if file.find(\"_C_\")!=-1:\n",
    "            if file.find(\"_M_\")!=-1:\n",
    "                Healthy_Male.append(file)\n",
    "            if file.find(\"_F_\")!=-1:\n",
    "                Healthy_Female.append(file)\n",
    "\n",
    "    for file in before_after:\n",
    "            if file.find(\"efore\") != -1:\n",
    "                if file.find(\"_M_\") != -1 or file.find(\"_m_\")!=-1:\n",
    "                    before[\"male\"].append(file)\n",
    "                if file.find(\"_F_\")!=-1:\n",
    "                    before[\"female\"].append(file)\n",
    "            if file.find(\"fter\")!= -1:\n",
    "                if file.find(\"_M_\") != -1 or file.find(\"_m_\")!=-1:\n",
    "                    after[\"male\"].append(file)\n",
    "                if file.find(\"_F_\")!=-1:\n",
    "                    after[\"female\"].append(file)\n",
    "#     print(f\"Total = {len(Total)}\")\n",
    "#     print(f\"Asthmatic_male = {len(Asthmatic_Male)}\")\n",
    "#     print(f\"Asthmatic_female = {len(Asthmatic_Female)}\")\n",
    "#     print(f\"Healthy_Male = {len(Healthy_Male)}\")\n",
    "#     print(f\"Healthy_female = {len(Healthy_Female)}\")\n",
    "#     print(f\"Before_after = {len(before_after)}\")\n",
    "#     print(f\"NAsthma = {len(NAsthma)}\")\n",
    "\n",
    "\n",
    "\n",
    "    Train, Test = train_test_set(Asthmatic_Female, Asthmatic_Male, Healthy_Female, Healthy_Male, before_after,before, after, include_after = False)\n",
    "    \n",
    "    return Train, Test"
   ]
  },
  {
   "cell_type": "code",
   "execution_count": 86,
   "metadata": {},
   "outputs": [],
   "source": [
    "# sound_dataframe = list_\n",
    "# Total = np.unique(sound_dataframe.iloc[:,sound_dataframe.shape[1]-1])\n",
    "Total = list_\n",
    "name = []\n",
    "for i in Total:\n",
    "    name.append(i[:4])\n",
    "unique = []\n",
    "before_after = []\n",
    "for i in Total:\n",
    "    if np.sum((np.array(name, dtype = int) == int(i[:4]))) == 1:\n",
    "        unique.append(i)\n",
    "    else:\n",
    "        before_after.append(i) \n",
    "\n",
    "Asthmatic_Female = []\n",
    "Asthmatic_Male = []\n",
    "Healthy_Male = []\n",
    "Healthy_Female = []\n",
    "NAsthma = []\n",
    "before = {\"male\" : [], \"female\" : []}\n",
    "after = {\"male\" : [], \"female\" : []}\n",
    "for file in unique:\n",
    "    if file.split(\"_\")[2] == 'Asthma' or file.split(\"_\")[2] == 'asthma' :\n",
    "        if file.find(\"_M_\")!=-1:\n",
    "            Asthmatic_Male.append(file)\n",
    "        if file.find(\"_F_\")!=-1:\n",
    "            Asthmatic_Female.append(file)\n",
    "    if file.split(\"_\")[2] == 'NAsthma':\n",
    "        NAsthma.append(file)\n",
    "    if file.find(\"_C_\")!=-1:\n",
    "        if file.find(\"_M_\")!=-1:\n",
    "            Healthy_Male.append(file)\n",
    "        if file.find(\"_F_\")!=-1:\n",
    "            Healthy_Female.append(file)\n",
    "            \n",
    "for file in before_after:\n",
    "        if file.find(\"efore\") != -1:\n",
    "            if file.find(\"_M_\") != -1 or file.find(\"_m_\")!=-1:\n",
    "                before[\"male\"].append(file)\n",
    "            if file.find(\"_F_\")!=-1:\n",
    "                before[\"female\"].append(file)\n",
    "        if file.find(\"fter\")!= -1:\n",
    "            if file.find(\"_M_\") != -1 or file.find(\"_m_\")!=-1:\n",
    "                after[\"male\"].append(file)\n",
    "            if file.find(\"_F_\")!=-1:\n",
    "                after[\"female\"].append(file)\n"
   ]
  },
  {
   "cell_type": "code",
   "execution_count": 87,
   "metadata": {},
   "outputs": [
    {
     "name": "stdout",
     "output_type": "stream",
     "text": [
      "Total = 274\n",
      "Asthmatic_male = 90\n",
      "Asthmatic_female = 68\n",
      "Healthy_Male = 55\n",
      "Healthy_female = 51\n",
      "Asthmatic_male_unique = 46\n",
      "Asthmatic_female_unique = 28\n",
      "Before_after = 84\n",
      "Before_male = 22\n",
      "Before_female = 20\n",
      "after_male = 22\n",
      "after_female = 20\n",
      "NAsthma = 10\n"
     ]
    }
   ],
   "source": [
    "print(f\"Total = {len(Total)}\")\n",
    "print(f\"Asthmatic_male = {len(Asthmatic_Male)+ len(before['male'])+len(after['male'])}\")\n",
    "print(f\"Asthmatic_female = {len(Asthmatic_Female)+ len(before['female'])+len(after['female'])}\")\n",
    "print(f\"Healthy_Male = {len(Healthy_Male)}\")\n",
    "print(f\"Healthy_female = {len(Healthy_Female)}\")\n",
    "print(f\"Asthmatic_male_unique = {len(Asthmatic_Male)}\")\n",
    "print(f\"Asthmatic_female_unique = {len(Asthmatic_Female)}\")\n",
    "print(f\"Before_after = {len(before_after)}\")\n",
    "print(f\"Before_male = {len(before['male'])}\")\n",
    "print(f\"Before_female = {len(before['female'])}\")\n",
    "print(f\"after_male = {len(after['male'])}\")\n",
    "print(f\"after_female = {len(after['female'])}\")\n",
    "\n",
    "print(f\"NAsthma = {len(NAsthma)}\")"
   ]
  },
  {
   "cell_type": "code",
   "execution_count": 13,
   "metadata": {},
   "outputs": [],
   "source": [
    "for i in range(0,10):\n",
    "    Train, Test = train_test_txt(list_)\n",
    "    np.savetxt(f\"./Wheeze_sets/Train/Train_{i}.txt\",Train, '%s')\n",
    "    np.savetxt(f\"./Wheeze_sets/Test/Test_{i}.txt\",Test, '%s')"
   ]
  },
  {
   "cell_type": "code",
   "execution_count": null,
   "metadata": {},
   "outputs": [],
   "source": []
  },
  {
   "cell_type": "code",
   "execution_count": null,
   "metadata": {},
   "outputs": [],
   "source": []
  },
  {
   "cell_type": "code",
   "execution_count": null,
   "metadata": {},
   "outputs": [],
   "source": []
  },
  {
   "cell_type": "markdown",
   "metadata": {},
   "source": [
    "### Breath"
   ]
  },
  {
   "cell_type": "code",
   "execution_count": 14,
   "metadata": {},
   "outputs": [],
   "source": [
    "# np.savetxt(\"./all_breath.txt\",pd.read_csv(\"./breath_csv/Breath_0.csv\").iloc[:,73].values, '%s')"
   ]
  },
  {
   "cell_type": "code",
   "execution_count": 16,
   "metadata": {},
   "outputs": [],
   "source": [
    "list_b = pd.read_csv(\"./all_breath(258).txt\", header=None, delimiter=\"\\t\")"
   ]
  },
  {
   "cell_type": "code",
   "execution_count": 21,
   "metadata": {},
   "outputs": [],
   "source": [
    "for i in range(0,10):\n",
    "    Train, Test = train_test_txt(list_b)\n",
    "    np.savetxt(f\"./breath_sets/Train/Train_{i}.txt\",Train, '%s')\n",
    "    np.savetxt(f\"./breath_sets/Test/Test_{i}.txt\",Test, '%s')"
   ]
  },
  {
   "cell_type": "code",
   "execution_count": null,
   "metadata": {},
   "outputs": [],
   "source": []
  },
  {
   "cell_type": "code",
   "execution_count": null,
   "metadata": {},
   "outputs": [],
   "source": []
  },
  {
   "cell_type": "markdown",
   "metadata": {},
   "source": [
    "### Random 188"
   ]
  },
  {
   "cell_type": "code",
   "execution_count": 28,
   "metadata": {},
   "outputs": [],
   "source": [
    "list_b = pd.read_csv(\"./all_breath(258).txt\", header=None, delimiter=\"\\t\")"
   ]
  },
  {
   "cell_type": "code",
   "execution_count": 33,
   "metadata": {},
   "outputs": [],
   "source": [
    "np.savetxt(\"Random_188.txt\",np.random.choice(np.unique(list_b.values), size = (188), replace = False), \"%s\")"
   ]
  },
  {
   "cell_type": "code",
   "execution_count": 34,
   "metadata": {},
   "outputs": [],
   "source": [
    "Total = np.unique(pd.read_csv(\"./Random_188.txt\", header=None)[0].values)\n",
    "name = []\n",
    "for i in Total:\n",
    "    name.append(i[:4])\n",
    "\n",
    "unique = []\n",
    "before_after = []\n",
    "for i in Total:\n",
    "    if np.sum((np.array(name, dtype = int) == int(i[:4]))) == 1:\n",
    "        unique.append(i)\n",
    "    else:\n",
    "        before_after.append(i) \n",
    "\n",
    "Asthmatic_Female = []\n",
    "Asthmatic_Male = []\n",
    "Healthy_Male = []\n",
    "Healthy_Female = []\n",
    "for file in unique:\n",
    "    if file.find('sthma') !=-1:\n",
    "        if file.find(\"_M_\")!=-1:\n",
    "            Asthmatic_Male.append(file)\n",
    "        if file.find(\"_F_\")!=-1:\n",
    "            Asthmatic_Female.append(file)\n",
    "    if file.find(\"_C_\")!=-1:\n",
    "        if file.find(\"_M_\")!=-1:\n",
    "            Healthy_Male.append(file)\n",
    "        if file.find(\"_F_\")!=-1:\n",
    "            Healthy_Female.append(file)"
   ]
  },
  {
   "cell_type": "code",
   "execution_count": 36,
   "metadata": {},
   "outputs": [
    {
     "name": "stdout",
     "output_type": "stream",
     "text": [
      "Total = 188\n",
      "Asthmatic_male = 57\n",
      "Asthmatic_female = 45\n",
      "Healthy_Male = 42\n",
      "Healthy_female = 38\n",
      "Before_after = 6\n"
     ]
    }
   ],
   "source": [
    "print(f\"Total = {len(Total)}\")\n",
    "print(f\"Asthmatic_male = {len(Asthmatic_Male)}\")\n",
    "print(f\"Asthmatic_female = {len(Asthmatic_Female)}\")\n",
    "print(f\"Healthy_Male = {len(Healthy_Male)}\")\n",
    "print(f\"Healthy_female = {len(Healthy_Female)}\")\n",
    "print(f\"Before_after = {len(before_after)}\")"
   ]
  },
  {
   "cell_type": "code",
   "execution_count": 37,
   "metadata": {},
   "outputs": [],
   "source": [
    "list_b = pd.read_csv(\"./Random_188.txt\", header=None, delimiter=\"\\t\")"
   ]
  },
  {
   "cell_type": "code",
   "execution_count": 38,
   "metadata": {},
   "outputs": [],
   "source": [
    "for i in range(0,10):\n",
    "    Train, Test = train_test_txt(list_b)\n",
    "    np.savetxt(f\"./Random_188_sets/Train/Train_{i}.txt\",Train, '%s')\n",
    "    np.savetxt(f\"./Random_188_sets/Test/Test_{i}.txt\",Test, '%s')"
   ]
  },
  {
   "cell_type": "code",
   "execution_count": null,
   "metadata": {},
   "outputs": [],
   "source": []
  },
  {
   "cell_type": "code",
   "execution_count": null,
   "metadata": {},
   "outputs": [],
   "source": []
  },
  {
   "cell_type": "markdown",
   "metadata": {},
   "source": [
    "### Breath_exp_4"
   ]
  },
  {
   "cell_type": "code",
   "execution_count": 48,
   "metadata": {
    "collapsed": true
   },
   "outputs": [
    {
     "ename": "FileNotFoundError",
     "evalue": "[Errno 2] No such file or directory: './exp_4.txt'",
     "output_type": "error",
     "traceback": [
      "\u001b[0;31m---------------------------------------------------------------------------\u001b[0m",
      "\u001b[0;31mFileNotFoundError\u001b[0m                         Traceback (most recent call last)",
      "\u001b[0;32m<ipython-input-48-5ea42a8fa459>\u001b[0m in \u001b[0;36m<module>\u001b[0;34m\u001b[0m\n\u001b[0;32m----> 1\u001b[0;31m \u001b[0mlist_b\u001b[0m \u001b[0;34m=\u001b[0m \u001b[0mpd\u001b[0m\u001b[0;34m.\u001b[0m\u001b[0mread_csv\u001b[0m\u001b[0;34m(\u001b[0m\u001b[0;34m\"./exp_4.txt\"\u001b[0m\u001b[0;34m,\u001b[0m \u001b[0mheader\u001b[0m\u001b[0;34m=\u001b[0m\u001b[0;32mNone\u001b[0m\u001b[0;34m,\u001b[0m \u001b[0mdelimiter\u001b[0m\u001b[0;34m=\u001b[0m\u001b[0;34m\"\\t\"\u001b[0m\u001b[0;34m)\u001b[0m\u001b[0;34m\u001b[0m\u001b[0;34m\u001b[0m\u001b[0m\n\u001b[0m",
      "\u001b[0;32m~/anaconda3/lib/python3.7/site-packages/pandas/io/parsers.py\u001b[0m in \u001b[0;36mread_csv\u001b[0;34m(filepath_or_buffer, sep, delimiter, header, names, index_col, usecols, squeeze, prefix, mangle_dupe_cols, dtype, engine, converters, true_values, false_values, skipinitialspace, skiprows, skipfooter, nrows, na_values, keep_default_na, na_filter, verbose, skip_blank_lines, parse_dates, infer_datetime_format, keep_date_col, date_parser, dayfirst, cache_dates, iterator, chunksize, compression, thousands, decimal, lineterminator, quotechar, quoting, doublequote, escapechar, comment, encoding, dialect, error_bad_lines, warn_bad_lines, delim_whitespace, low_memory, memory_map, float_precision)\u001b[0m\n\u001b[1;32m    684\u001b[0m     )\n\u001b[1;32m    685\u001b[0m \u001b[0;34m\u001b[0m\u001b[0m\n\u001b[0;32m--> 686\u001b[0;31m     \u001b[0;32mreturn\u001b[0m \u001b[0m_read\u001b[0m\u001b[0;34m(\u001b[0m\u001b[0mfilepath_or_buffer\u001b[0m\u001b[0;34m,\u001b[0m \u001b[0mkwds\u001b[0m\u001b[0;34m)\u001b[0m\u001b[0;34m\u001b[0m\u001b[0;34m\u001b[0m\u001b[0m\n\u001b[0m\u001b[1;32m    687\u001b[0m \u001b[0;34m\u001b[0m\u001b[0m\n\u001b[1;32m    688\u001b[0m \u001b[0;34m\u001b[0m\u001b[0m\n",
      "\u001b[0;32m~/anaconda3/lib/python3.7/site-packages/pandas/io/parsers.py\u001b[0m in \u001b[0;36m_read\u001b[0;34m(filepath_or_buffer, kwds)\u001b[0m\n\u001b[1;32m    450\u001b[0m \u001b[0;34m\u001b[0m\u001b[0m\n\u001b[1;32m    451\u001b[0m     \u001b[0;31m# Create the parser.\u001b[0m\u001b[0;34m\u001b[0m\u001b[0;34m\u001b[0m\u001b[0;34m\u001b[0m\u001b[0m\n\u001b[0;32m--> 452\u001b[0;31m     \u001b[0mparser\u001b[0m \u001b[0;34m=\u001b[0m \u001b[0mTextFileReader\u001b[0m\u001b[0;34m(\u001b[0m\u001b[0mfp_or_buf\u001b[0m\u001b[0;34m,\u001b[0m \u001b[0;34m**\u001b[0m\u001b[0mkwds\u001b[0m\u001b[0;34m)\u001b[0m\u001b[0;34m\u001b[0m\u001b[0;34m\u001b[0m\u001b[0m\n\u001b[0m\u001b[1;32m    453\u001b[0m \u001b[0;34m\u001b[0m\u001b[0m\n\u001b[1;32m    454\u001b[0m     \u001b[0;32mif\u001b[0m \u001b[0mchunksize\u001b[0m \u001b[0;32mor\u001b[0m \u001b[0miterator\u001b[0m\u001b[0;34m:\u001b[0m\u001b[0;34m\u001b[0m\u001b[0;34m\u001b[0m\u001b[0m\n",
      "\u001b[0;32m~/anaconda3/lib/python3.7/site-packages/pandas/io/parsers.py\u001b[0m in \u001b[0;36m__init__\u001b[0;34m(self, f, engine, **kwds)\u001b[0m\n\u001b[1;32m    934\u001b[0m             \u001b[0mself\u001b[0m\u001b[0;34m.\u001b[0m\u001b[0moptions\u001b[0m\u001b[0;34m[\u001b[0m\u001b[0;34m\"has_index_names\"\u001b[0m\u001b[0;34m]\u001b[0m \u001b[0;34m=\u001b[0m \u001b[0mkwds\u001b[0m\u001b[0;34m[\u001b[0m\u001b[0;34m\"has_index_names\"\u001b[0m\u001b[0;34m]\u001b[0m\u001b[0;34m\u001b[0m\u001b[0;34m\u001b[0m\u001b[0m\n\u001b[1;32m    935\u001b[0m \u001b[0;34m\u001b[0m\u001b[0m\n\u001b[0;32m--> 936\u001b[0;31m         \u001b[0mself\u001b[0m\u001b[0;34m.\u001b[0m\u001b[0m_make_engine\u001b[0m\u001b[0;34m(\u001b[0m\u001b[0mself\u001b[0m\u001b[0;34m.\u001b[0m\u001b[0mengine\u001b[0m\u001b[0;34m)\u001b[0m\u001b[0;34m\u001b[0m\u001b[0;34m\u001b[0m\u001b[0m\n\u001b[0m\u001b[1;32m    937\u001b[0m \u001b[0;34m\u001b[0m\u001b[0m\n\u001b[1;32m    938\u001b[0m     \u001b[0;32mdef\u001b[0m \u001b[0mclose\u001b[0m\u001b[0;34m(\u001b[0m\u001b[0mself\u001b[0m\u001b[0;34m)\u001b[0m\u001b[0;34m:\u001b[0m\u001b[0;34m\u001b[0m\u001b[0;34m\u001b[0m\u001b[0m\n",
      "\u001b[0;32m~/anaconda3/lib/python3.7/site-packages/pandas/io/parsers.py\u001b[0m in \u001b[0;36m_make_engine\u001b[0;34m(self, engine)\u001b[0m\n\u001b[1;32m   1166\u001b[0m     \u001b[0;32mdef\u001b[0m \u001b[0m_make_engine\u001b[0m\u001b[0;34m(\u001b[0m\u001b[0mself\u001b[0m\u001b[0;34m,\u001b[0m \u001b[0mengine\u001b[0m\u001b[0;34m=\u001b[0m\u001b[0;34m\"c\"\u001b[0m\u001b[0;34m)\u001b[0m\u001b[0;34m:\u001b[0m\u001b[0;34m\u001b[0m\u001b[0;34m\u001b[0m\u001b[0m\n\u001b[1;32m   1167\u001b[0m         \u001b[0;32mif\u001b[0m \u001b[0mengine\u001b[0m \u001b[0;34m==\u001b[0m \u001b[0;34m\"c\"\u001b[0m\u001b[0;34m:\u001b[0m\u001b[0;34m\u001b[0m\u001b[0;34m\u001b[0m\u001b[0m\n\u001b[0;32m-> 1168\u001b[0;31m             \u001b[0mself\u001b[0m\u001b[0;34m.\u001b[0m\u001b[0m_engine\u001b[0m \u001b[0;34m=\u001b[0m \u001b[0mCParserWrapper\u001b[0m\u001b[0;34m(\u001b[0m\u001b[0mself\u001b[0m\u001b[0;34m.\u001b[0m\u001b[0mf\u001b[0m\u001b[0;34m,\u001b[0m \u001b[0;34m**\u001b[0m\u001b[0mself\u001b[0m\u001b[0;34m.\u001b[0m\u001b[0moptions\u001b[0m\u001b[0;34m)\u001b[0m\u001b[0;34m\u001b[0m\u001b[0;34m\u001b[0m\u001b[0m\n\u001b[0m\u001b[1;32m   1169\u001b[0m         \u001b[0;32melse\u001b[0m\u001b[0;34m:\u001b[0m\u001b[0;34m\u001b[0m\u001b[0;34m\u001b[0m\u001b[0m\n\u001b[1;32m   1170\u001b[0m             \u001b[0;32mif\u001b[0m \u001b[0mengine\u001b[0m \u001b[0;34m==\u001b[0m \u001b[0;34m\"python\"\u001b[0m\u001b[0;34m:\u001b[0m\u001b[0;34m\u001b[0m\u001b[0;34m\u001b[0m\u001b[0m\n",
      "\u001b[0;32m~/anaconda3/lib/python3.7/site-packages/pandas/io/parsers.py\u001b[0m in \u001b[0;36m__init__\u001b[0;34m(self, src, **kwds)\u001b[0m\n\u001b[1;32m   1996\u001b[0m         \u001b[0mkwds\u001b[0m\u001b[0;34m[\u001b[0m\u001b[0;34m\"usecols\"\u001b[0m\u001b[0;34m]\u001b[0m \u001b[0;34m=\u001b[0m \u001b[0mself\u001b[0m\u001b[0;34m.\u001b[0m\u001b[0musecols\u001b[0m\u001b[0;34m\u001b[0m\u001b[0;34m\u001b[0m\u001b[0m\n\u001b[1;32m   1997\u001b[0m \u001b[0;34m\u001b[0m\u001b[0m\n\u001b[0;32m-> 1998\u001b[0;31m         \u001b[0mself\u001b[0m\u001b[0;34m.\u001b[0m\u001b[0m_reader\u001b[0m \u001b[0;34m=\u001b[0m \u001b[0mparsers\u001b[0m\u001b[0;34m.\u001b[0m\u001b[0mTextReader\u001b[0m\u001b[0;34m(\u001b[0m\u001b[0msrc\u001b[0m\u001b[0;34m,\u001b[0m \u001b[0;34m**\u001b[0m\u001b[0mkwds\u001b[0m\u001b[0;34m)\u001b[0m\u001b[0;34m\u001b[0m\u001b[0;34m\u001b[0m\u001b[0m\n\u001b[0m\u001b[1;32m   1999\u001b[0m         \u001b[0mself\u001b[0m\u001b[0;34m.\u001b[0m\u001b[0munnamed_cols\u001b[0m \u001b[0;34m=\u001b[0m \u001b[0mself\u001b[0m\u001b[0;34m.\u001b[0m\u001b[0m_reader\u001b[0m\u001b[0;34m.\u001b[0m\u001b[0munnamed_cols\u001b[0m\u001b[0;34m\u001b[0m\u001b[0;34m\u001b[0m\u001b[0m\n\u001b[1;32m   2000\u001b[0m \u001b[0;34m\u001b[0m\u001b[0m\n",
      "\u001b[0;32mpandas/_libs/parsers.pyx\u001b[0m in \u001b[0;36mpandas._libs.parsers.TextReader.__cinit__\u001b[0;34m()\u001b[0m\n",
      "\u001b[0;32mpandas/_libs/parsers.pyx\u001b[0m in \u001b[0;36mpandas._libs.parsers.TextReader._setup_parser_source\u001b[0;34m()\u001b[0m\n",
      "\u001b[0;31mFileNotFoundError\u001b[0m: [Errno 2] No such file or directory: './exp_4.txt'"
     ]
    }
   ],
   "source": [
    "list_b = pd.read_csv(\"./exp_4.txt\", header=None, delimiter=\"\\t\")"
   ]
  },
  {
   "cell_type": "code",
   "execution_count": 13,
   "metadata": {},
   "outputs": [],
   "source": [
    "for i in range(0,10):\n",
    "    Train, Test = train_test_txt(list_b)\n",
    "    np.savetxt(f\"./breath_sets/Train/Train_{i}.txt\",Train, '%s')\n",
    "    np.savetxt(f\"./breath_sets/Test/Test_{i}.txt\",Test, '%s')"
   ]
  },
  {
   "cell_type": "code",
   "execution_count": 8,
   "metadata": {},
   "outputs": [],
   "source": [
    "Train, Test = train_test_txt(list_b)"
   ]
  },
  {
   "cell_type": "code",
   "execution_count": 10,
   "metadata": {},
   "outputs": [
    {
     "data": {
      "text/plain": [
       "213"
      ]
     },
     "execution_count": 10,
     "metadata": {},
     "output_type": "execute_result"
    }
   ],
   "source": [
    "len(Train)"
   ]
  },
  {
   "cell_type": "code",
   "execution_count": 11,
   "metadata": {},
   "outputs": [
    {
     "data": {
      "text/plain": [
       "28"
      ]
     },
     "execution_count": 11,
     "metadata": {},
     "output_type": "execute_result"
    }
   ],
   "source": [
    "len(Test)"
   ]
  },
  {
   "cell_type": "code",
   "execution_count": 14,
   "metadata": {},
   "outputs": [
    {
     "data": {
      "text/plain": [
       "269"
      ]
     },
     "execution_count": 14,
     "metadata": {},
     "output_type": "execute_result"
    }
   ],
   "source": [
    "213+28+22+6"
   ]
  },
  {
   "cell_type": "markdown",
   "metadata": {},
   "source": [
    "### Breath_exp_5"
   ]
  },
  {
   "cell_type": "code",
   "execution_count": 82,
   "metadata": {},
   "outputs": [],
   "source": [
    "list_ = np.unique(pd.read_csv(\"./breath_csv_2/Breath_3.csv\").iloc[:,73].values)"
   ]
  },
  {
   "cell_type": "code",
   "execution_count": 85,
   "metadata": {},
   "outputs": [],
   "source": [
    "for i in range(0,10):\n",
    "    Train, Test = train_test_txt(list_)\n",
    "#     print(len(Train))\n",
    "    np.savetxt(f\"./breath_sets_wo_after/Train/Train_{i}.txt\",Train, '%s')\n",
    "    np.savetxt(f\"./breath_sets_wo_after/Test/Test_{i}.txt\",Test, '%s')"
   ]
  },
  {
   "cell_type": "code",
   "execution_count": null,
   "metadata": {},
   "outputs": [],
   "source": []
  }
 ],
 "metadata": {
  "kernelspec": {
   "display_name": "Python 3",
   "language": "python",
   "name": "python3"
  },
  "language_info": {
   "codemirror_mode": {
    "name": "ipython",
    "version": 3
   },
   "file_extension": ".py",
   "mimetype": "text/x-python",
   "name": "python",
   "nbconvert_exporter": "python",
   "pygments_lexer": "ipython3",
   "version": "3.7.3"
  }
 },
 "nbformat": 4,
 "nbformat_minor": 2
}
