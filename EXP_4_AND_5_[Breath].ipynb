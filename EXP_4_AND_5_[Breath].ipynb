{
 "cells": [
  {
   "cell_type": "code",
   "execution_count": 1,
   "metadata": {},
   "outputs": [],
   "source": [
    "import pandas as pd\n",
    "import numpy as np\n",
    "import os\n",
    "from sklearn.utils import shuffle\n",
    "import sklearn \n",
    "from sklearn import svm, tree, linear_model, neighbors, naive_bayes, ensemble, discriminant_analysis, gaussian_process\n",
    "from xgboost import XGBClassifier\n",
    "from sklearn import feature_selection\n",
    "from sklearn import model_selection\n",
    "from sklearn import metrics\n",
    "from sklearn.preprocessing import StandardScaler\n",
    "from tqdm.auto import tqdm\n",
    "import random\n",
    "import warnings\n",
    "warnings.filterwarnings('ignore')\n",
    "\n",
    "\n"
   ]
  },
  {
   "cell_type": "code",
   "execution_count": 31,
   "metadata": {},
   "outputs": [],
   "source": [
    "# Total = np.unique(pd.read_csv(\"./188_wheeze.txt\", header=None)[0].values)\n",
    "Total = np.unique(breath_dataframe.iloc[:,73].values)\n",
    "name = []\n",
    "for i in Total:\n",
    "    name.append(i[:4])\n",
    "unique = []\n",
    "before_after = []\n",
    "for i in Total:\n",
    "    if np.sum((np.array(name, dtype = int) == int(i[:4]))) == 1:\n",
    "        unique.append(i)\n",
    "    else:\n",
    "        before_after.append(i) \n",
    "\n",
    "Asthmatic_Female = []\n",
    "Asthmatic_Male = []\n",
    "Healthy_Male = []\n",
    "Healthy_Female = []\n",
    "NAsthma = []\n",
    "for file in unique:\n",
    "    if file.split(\"_\")[2] == 'Asthma' or file.split(\"_\")[2] == 'asthma' :\n",
    "        if file.find(\"_M_\")!=-1:\n",
    "            Asthmatic_Male.append(file)\n",
    "        if file.find(\"_F_\")!=-1:\n",
    "            Asthmatic_Female.append(file)\n",
    "    if file.split(\"_\")[2] == 'NAsthma':\n",
    "        NAsthma.append(file)\n",
    "    if file.find(\"_C_\")!=-1:\n",
    "        if file.find(\"_M_\")!=-1:\n",
    "            Healthy_Male.append(file)\n",
    "        if file.find(\"_F_\")!=-1:\n",
    "            Healthy_Female.append(file)"
   ]
  },
  {
   "cell_type": "code",
   "execution_count": 32,
   "metadata": {},
   "outputs": [
    {
     "name": "stdout",
     "output_type": "stream",
     "text": [
      "Total = 275\n",
      "Asthmatic_male = 46\n",
      "Asthmatic_female = 28\n",
      "Healthy_Male = 55\n",
      "Healthy_female = 51\n",
      "Before_after = 84\n",
      "NAsthma = 10\n"
     ]
    }
   ],
   "source": [
    "print(f\"Total = {len(Total)}\")\n",
    "print(f\"Asthmatic_male = {len(Asthmatic_Male)}\")\n",
    "print(f\"Asthmatic_female = {len(Asthmatic_Female)}\")\n",
    "print(f\"Healthy_Male = {len(Healthy_Male)}\")\n",
    "print(f\"Healthy_female = {len(Healthy_Female)}\")\n",
    "print(f\"Before_after = {len(before_after)}\")\n",
    "print(f\"NAsthma = {len(NAsthma)}\")"
   ]
  },
  {
   "cell_type": "code",
   "execution_count": 22,
   "metadata": {},
   "outputs": [],
   "source": [
    "#Machine Learning Algorithm (MLA) Selection and Initialization\n",
    "def MLA_selection(sound_dataframe, sound, path):    \n",
    "    MLA = [\n",
    "        #Ensemble Methods\n",
    "#         ensemble.AdaBoostClassifier(),\n",
    "#         ensemble.BaggingClassifier(),\n",
    "#         ensemble.ExtraTreesClassifier(),\n",
    "#         ensemble.GradientBoostingClassifier(),\n",
    "        ensemble.RandomForestClassifier(),\n",
    "\n",
    "        #Gaussian Processes\n",
    "#         gaussian_process.GaussianProcessClassifier(),\n",
    "\n",
    "        #GLM\n",
    "#         linear_model.LogisticRegressionCV(),\n",
    "#         linear_model.PassiveAggressiveClassifier(),\n",
    "#         linear_model.RidgeClassifierCV(),\n",
    "#         linear_model.SGDClassifier(),\n",
    "#         linear_model.Perceptron(),\n",
    "\n",
    "        #Navies Bayes\n",
    "#         naive_bayes.BernoulliNB(),\n",
    "#         naive_bayes.GaussianNB(),\n",
    "\n",
    "        #Nearest Neighbor\n",
    "#         neighbors.KNeighborsClassifier(),\n",
    "\n",
    "        #SVM\n",
    "        svm.SVC(probability=True),\n",
    "#         svm.NuSVC(probability=True),\n",
    "        svm.LinearSVC(),\n",
    "\n",
    "        #Trees    \n",
    "#         tree.DecisionTreeClassifier(),\n",
    "# #         tree.ExtraTreeClassifier(),\n",
    "\n",
    "        #Discriminant Analysis\n",
    "#         discriminant_analysis.LinearDiscriminantAnalysis(),\n",
    "#         discriminant_analysis.QuadraticDiscriminantAnalysis(),\n",
    "\n",
    "\n",
    "        XGBClassifier(max_depth = 8,\n",
    "                     subsample = 0.8,\n",
    "                     learning_rate = 0.01,\n",
    "                     n_estimators = 450,\n",
    "                     min_child_weight = 1)\n",
    "#         XGBClassifier()\n",
    "        ]\n",
    "\n",
    "\n",
    "    MLA_columns = ['MLA Name', 'MLA Parameters','MLA Train Accuracy','MLA Train Accuracy Mean', 'MLA Test Accuracy', 'MLA Test Accuracy Mean','MLA Test Accuracy Std' ]\n",
    "    MLA_compare = pd.DataFrame(columns = MLA_columns)\n",
    "    row_index = 0\n",
    "    for alg in MLA:\n",
    "        MLA_name = alg.__class__.__name__\n",
    "        MLA_compare.loc[row_index, 'MLA Name'] = MLA_name\n",
    "        MLA_compare.loc[row_index, 'MLA Parameters'] = str(alg.get_params())\n",
    "        test = []\n",
    "        train = []\n",
    "        for i in tqdm(range(0,10)):\n",
    "            train_csv, test_csv = pd.read_csv(path+'/train'+sound+str(i)+'.csv'), pd.read_csv(path+'./test'+sound+str(i)+'.csv')\n",
    "            X_train = train_csv.iloc[:,:sound_dataframe.shape[1]-2]\n",
    "            y_train = train_csv.iloc[:,sound_dataframe.shape[1]-2]\n",
    "            X_test = test_csv.iloc[:,:sound_dataframe.shape[1]-2]\n",
    "            y_test = test_csv.iloc[:,sound_dataframe.shape[1]-2]\n",
    "            #Scaling\n",
    "            scaler = StandardScaler()\n",
    "            X_train = scaler.fit_transform(X_train)\n",
    "            X_test = scaler.transform(X_test)\n",
    "            X_train = pd.DataFrame(X_train)\n",
    "            X_test = pd.DataFrame(X_test)\n",
    "\n",
    "            alg.fit(X_train,y_train)\n",
    "            test.append(metrics.accuracy_score(y_test,alg.predict(X_test)))\n",
    "\n",
    "            train.append(metrics.accuracy_score(y_train,alg.predict(X_train)))\n",
    "            \n",
    "#             if alg.__class__.__name__ == 'XGBClassifier':\n",
    "#                 filename = './CMN/XGB_model'+ str(i) + '.model'\n",
    "#                 pickle.dump(alg, open(filename, 'wb'))\n",
    "#                 train_csv.to_csv('./CMN/Train_XGB'+str(i)+'.csv', index=False)\n",
    "                \n",
    "        \n",
    "        MLA_compare.loc[row_index, 'MLA Train Accuracy'] = train\n",
    "        MLA_compare.loc[row_index, 'MLA Train Accuracy Mean'] = np.mean(train)\n",
    "        MLA_compare.loc[row_index, 'MLA Test Accuracy'] = test\n",
    "        MLA_compare.loc[row_index, 'MLA Test Accuracy Mean'] = np.mean(test)\n",
    "        MLA_compare.loc[row_index, 'MLA Test Accuracy Std'] = np.std(test)\n",
    "\n",
    "\n",
    "        row_index+=1\n",
    "\n",
    "    \n",
    "    MLA_compare.sort_values(by = ['MLA Test Accuracy Mean'], ascending = False, inplace = True)\n",
    "    \n",
    "    return MLA_compare"
   ]
  },
  {
   "cell_type": "code",
   "execution_count": 5,
   "metadata": {},
   "outputs": [],
   "source": [
    "def make_legit_sets(sound_dataframe, sound, path):\n",
    "    for i in range(0,10):\n",
    "        Train = np.loadtxt(f\"./{path}/Train/Train_{i}.txt\", dtype= 'str')\n",
    "        Test = np.loadtxt(f\"./{path}/Test/Test_{i}.txt\", dtype= 'str')\n",
    "\n",
    "\n",
    "        test_dataframe = pd.DataFrame()\n",
    "        for j, line in enumerate(Test):\n",
    "            A = sound_dataframe[(sound_dataframe[str(sound_dataframe.shape[1]-1)] == (Test[j]))]\n",
    "            test_dataframe = pd.DataFrame.append(test_dataframe,A)\n",
    "\n",
    "        train_dataframe = pd.DataFrame()\n",
    "        for j, line in enumerate(Train):\n",
    "            A = sound_dataframe[(sound_dataframe[str(sound_dataframe.shape[1]-1)] == (Train[j]))]\n",
    "            train_dataframe = pd.DataFrame.append(train_dataframe,A)\n",
    "#################################################\n",
    "        train_dataframe.to_csv('./breathe_set_csv_exp_5/train'+sound+str(i)+'.csv', index=False)\n",
    "        test_dataframe.to_csv('./breathe_set_csv_exp_5/test'+sound+str(i)+'.csv', index=False)\n",
    "    return None"
   ]
  },
  {
   "cell_type": "code",
   "execution_count": 6,
   "metadata": {},
   "outputs": [],
   "source": [
    "Wheeze_dataframe = pd.read_csv(\"./breath_csv/Wheeze.csv\")\n",
    "Wheeze_dataframe_1 = pd.read_csv(\"./breath_csv/Wheeze_1.csv\")\n",
    "Wheeze_dataframe_2 = pd.read_csv(\"./breath_csv/Wheeze_2.csv\")\n",
    "Wheeze_dataframe_3 = pd.read_csv(\"./breath_csv/Wheeze_3.csv\")"
   ]
  },
  {
   "cell_type": "code",
   "execution_count": 9,
   "metadata": {},
   "outputs": [],
   "source": [
    "make_legit_sets(Wheeze_dataframe, 'Wheeze', \"Wheeze_sets\")\n",
    "make_legit_sets(Wheeze_dataframe_1, 'Wheeze_1', \"Wheeze_sets\")\n",
    "make_legit_sets(Wheeze_dataframe_2, 'Wheeze_2', \"Wheeze_sets\")\n",
    "make_legit_sets(Wheeze_dataframe_3, 'Wheeze_3', \"Wheeze_sets\")"
   ]
  },
  {
   "cell_type": "code",
   "execution_count": 75,
   "metadata": {
    "collapsed": true
   },
   "outputs": [
    {
     "data": {
      "application/vnd.jupyter.widget-view+json": {
       "model_id": "3af85520337448d3aa3f945c0d97e0c3",
       "version_major": 2,
       "version_minor": 0
      },
      "text/plain": [
       "  0%|          | 0/10 [00:00<?, ?it/s]"
      ]
     },
     "metadata": {},
     "output_type": "display_data"
    },
    {
     "data": {
      "application/vnd.jupyter.widget-view+json": {
       "model_id": "c8b4dc46a1894c26b29303e12f31f546",
       "version_major": 2,
       "version_minor": 0
      },
      "text/plain": [
       "  0%|          | 0/10 [00:00<?, ?it/s]"
      ]
     },
     "metadata": {},
     "output_type": "display_data"
    },
    {
     "data": {
      "application/vnd.jupyter.widget-view+json": {
       "model_id": "bda9c1ff88d74ce088b59da1610a74fe",
       "version_major": 2,
       "version_minor": 0
      },
      "text/plain": [
       "  0%|          | 0/10 [00:00<?, ?it/s]"
      ]
     },
     "metadata": {},
     "output_type": "display_data"
    },
    {
     "data": {
      "application/vnd.jupyter.widget-view+json": {
       "model_id": "3621c5b3c3944427a5c5edaaf67b43b0",
       "version_major": 2,
       "version_minor": 0
      },
      "text/plain": [
       "  0%|          | 0/10 [00:00<?, ?it/s]"
      ]
     },
     "metadata": {},
     "output_type": "display_data"
    },
    {
     "name": "stdout",
     "output_type": "stream",
     "text": [
      "[06:19:37] WARNING: ../src/learner.cc:1061: Starting in XGBoost 1.3.0, the default evaluation metric used with the objective 'binary:logistic' was changed from 'error' to 'logloss'. Explicitly set eval_metric if you'd like to restore the old behavior.\n",
      "[06:19:38] WARNING: ../src/learner.cc:1061: Starting in XGBoost 1.3.0, the default evaluation metric used with the objective 'binary:logistic' was changed from 'error' to 'logloss'. Explicitly set eval_metric if you'd like to restore the old behavior.\n",
      "[06:19:38] WARNING: ../src/learner.cc:1061: Starting in XGBoost 1.3.0, the default evaluation metric used with the objective 'binary:logistic' was changed from 'error' to 'logloss'. Explicitly set eval_metric if you'd like to restore the old behavior.\n",
      "[06:19:38] WARNING: ../src/learner.cc:1061: Starting in XGBoost 1.3.0, the default evaluation metric used with the objective 'binary:logistic' was changed from 'error' to 'logloss'. Explicitly set eval_metric if you'd like to restore the old behavior.\n",
      "[06:19:39] WARNING: ../src/learner.cc:1061: Starting in XGBoost 1.3.0, the default evaluation metric used with the objective 'binary:logistic' was changed from 'error' to 'logloss'. Explicitly set eval_metric if you'd like to restore the old behavior.\n",
      "[06:19:39] WARNING: ../src/learner.cc:1061: Starting in XGBoost 1.3.0, the default evaluation metric used with the objective 'binary:logistic' was changed from 'error' to 'logloss'. Explicitly set eval_metric if you'd like to restore the old behavior.\n",
      "[06:19:40] WARNING: ../src/learner.cc:1061: Starting in XGBoost 1.3.0, the default evaluation metric used with the objective 'binary:logistic' was changed from 'error' to 'logloss'. Explicitly set eval_metric if you'd like to restore the old behavior.\n",
      "[06:19:40] WARNING: ../src/learner.cc:1061: Starting in XGBoost 1.3.0, the default evaluation metric used with the objective 'binary:logistic' was changed from 'error' to 'logloss'. Explicitly set eval_metric if you'd like to restore the old behavior.\n",
      "[06:19:41] WARNING: ../src/learner.cc:1061: Starting in XGBoost 1.3.0, the default evaluation metric used with the objective 'binary:logistic' was changed from 'error' to 'logloss'. Explicitly set eval_metric if you'd like to restore the old behavior.\n",
      "[06:19:42] WARNING: ../src/learner.cc:1061: Starting in XGBoost 1.3.0, the default evaluation metric used with the objective 'binary:logistic' was changed from 'error' to 'logloss'. Explicitly set eval_metric if you'd like to restore the old behavior.\n"
     ]
    },
    {
     "data": {
      "application/vnd.jupyter.widget-view+json": {
       "model_id": "6b757286522b4efea147496c6ac53f18",
       "version_major": 2,
       "version_minor": 0
      },
      "text/plain": [
       "  0%|          | 0/10 [00:00<?, ?it/s]"
      ]
     },
     "metadata": {},
     "output_type": "display_data"
    },
    {
     "data": {
      "application/vnd.jupyter.widget-view+json": {
       "model_id": "865cf8b451e64d19aa97371a179cda50",
       "version_major": 2,
       "version_minor": 0
      },
      "text/plain": [
       "  0%|          | 0/10 [00:00<?, ?it/s]"
      ]
     },
     "metadata": {},
     "output_type": "display_data"
    },
    {
     "data": {
      "application/vnd.jupyter.widget-view+json": {
       "model_id": "ba0105acfc2b4263bc23bb1c35254143",
       "version_major": 2,
       "version_minor": 0
      },
      "text/plain": [
       "  0%|          | 0/10 [00:00<?, ?it/s]"
      ]
     },
     "metadata": {},
     "output_type": "display_data"
    },
    {
     "data": {
      "application/vnd.jupyter.widget-view+json": {
       "model_id": "960dd701a6624e72b0dc521bb926e35f",
       "version_major": 2,
       "version_minor": 0
      },
      "text/plain": [
       "  0%|          | 0/10 [00:00<?, ?it/s]"
      ]
     },
     "metadata": {},
     "output_type": "display_data"
    },
    {
     "name": "stdout",
     "output_type": "stream",
     "text": [
      "[06:20:01] WARNING: ../src/learner.cc:1061: Starting in XGBoost 1.3.0, the default evaluation metric used with the objective 'binary:logistic' was changed from 'error' to 'logloss'. Explicitly set eval_metric if you'd like to restore the old behavior.\n",
      "[06:20:02] WARNING: ../src/learner.cc:1061: Starting in XGBoost 1.3.0, the default evaluation metric used with the objective 'binary:logistic' was changed from 'error' to 'logloss'. Explicitly set eval_metric if you'd like to restore the old behavior.\n",
      "[06:20:03] WARNING: ../src/learner.cc:1061: Starting in XGBoost 1.3.0, the default evaluation metric used with the objective 'binary:logistic' was changed from 'error' to 'logloss'. Explicitly set eval_metric if you'd like to restore the old behavior.\n",
      "[06:20:03] WARNING: ../src/learner.cc:1061: Starting in XGBoost 1.3.0, the default evaluation metric used with the objective 'binary:logistic' was changed from 'error' to 'logloss'. Explicitly set eval_metric if you'd like to restore the old behavior.\n",
      "[06:20:04] WARNING: ../src/learner.cc:1061: Starting in XGBoost 1.3.0, the default evaluation metric used with the objective 'binary:logistic' was changed from 'error' to 'logloss'. Explicitly set eval_metric if you'd like to restore the old behavior.\n",
      "[06:20:04] WARNING: ../src/learner.cc:1061: Starting in XGBoost 1.3.0, the default evaluation metric used with the objective 'binary:logistic' was changed from 'error' to 'logloss'. Explicitly set eval_metric if you'd like to restore the old behavior.\n",
      "[06:20:05] WARNING: ../src/learner.cc:1061: Starting in XGBoost 1.3.0, the default evaluation metric used with the objective 'binary:logistic' was changed from 'error' to 'logloss'. Explicitly set eval_metric if you'd like to restore the old behavior.\n",
      "[06:20:06] WARNING: ../src/learner.cc:1061: Starting in XGBoost 1.3.0, the default evaluation metric used with the objective 'binary:logistic' was changed from 'error' to 'logloss'. Explicitly set eval_metric if you'd like to restore the old behavior.\n",
      "[06:20:07] WARNING: ../src/learner.cc:1061: Starting in XGBoost 1.3.0, the default evaluation metric used with the objective 'binary:logistic' was changed from 'error' to 'logloss'. Explicitly set eval_metric if you'd like to restore the old behavior.\n",
      "[06:20:09] WARNING: ../src/learner.cc:1061: Starting in XGBoost 1.3.0, the default evaluation metric used with the objective 'binary:logistic' was changed from 'error' to 'logloss'. Explicitly set eval_metric if you'd like to restore the old behavior.\n"
     ]
    },
    {
     "data": {
      "application/vnd.jupyter.widget-view+json": {
       "model_id": "0098d7b9527b4e5587a020880323a136",
       "version_major": 2,
       "version_minor": 0
      },
      "text/plain": [
       "  0%|          | 0/10 [00:00<?, ?it/s]"
      ]
     },
     "metadata": {},
     "output_type": "display_data"
    },
    {
     "data": {
      "application/vnd.jupyter.widget-view+json": {
       "model_id": "bd321a0919504cde84a80ae5ec3a7b18",
       "version_major": 2,
       "version_minor": 0
      },
      "text/plain": [
       "  0%|          | 0/10 [00:00<?, ?it/s]"
      ]
     },
     "metadata": {},
     "output_type": "display_data"
    },
    {
     "data": {
      "application/vnd.jupyter.widget-view+json": {
       "model_id": "a3b53cfbaae143f79efee39f008237af",
       "version_major": 2,
       "version_minor": 0
      },
      "text/plain": [
       "  0%|          | 0/10 [00:00<?, ?it/s]"
      ]
     },
     "metadata": {},
     "output_type": "display_data"
    },
    {
     "data": {
      "application/vnd.jupyter.widget-view+json": {
       "model_id": "467d8e08b7634c5cb391abc11db09a9d",
       "version_major": 2,
       "version_minor": 0
      },
      "text/plain": [
       "  0%|          | 0/10 [00:00<?, ?it/s]"
      ]
     },
     "metadata": {},
     "output_type": "display_data"
    },
    {
     "name": "stdout",
     "output_type": "stream",
     "text": [
      "[06:20:28] WARNING: ../src/learner.cc:1061: Starting in XGBoost 1.3.0, the default evaluation metric used with the objective 'binary:logistic' was changed from 'error' to 'logloss'. Explicitly set eval_metric if you'd like to restore the old behavior.\n",
      "[06:20:29] WARNING: ../src/learner.cc:1061: Starting in XGBoost 1.3.0, the default evaluation metric used with the objective 'binary:logistic' was changed from 'error' to 'logloss'. Explicitly set eval_metric if you'd like to restore the old behavior.\n",
      "[06:20:29] WARNING: ../src/learner.cc:1061: Starting in XGBoost 1.3.0, the default evaluation metric used with the objective 'binary:logistic' was changed from 'error' to 'logloss'. Explicitly set eval_metric if you'd like to restore the old behavior.\n",
      "[06:20:30] WARNING: ../src/learner.cc:1061: Starting in XGBoost 1.3.0, the default evaluation metric used with the objective 'binary:logistic' was changed from 'error' to 'logloss'. Explicitly set eval_metric if you'd like to restore the old behavior.\n",
      "[06:20:30] WARNING: ../src/learner.cc:1061: Starting in XGBoost 1.3.0, the default evaluation metric used with the objective 'binary:logistic' was changed from 'error' to 'logloss'. Explicitly set eval_metric if you'd like to restore the old behavior.\n",
      "[06:20:31] WARNING: ../src/learner.cc:1061: Starting in XGBoost 1.3.0, the default evaluation metric used with the objective 'binary:logistic' was changed from 'error' to 'logloss'. Explicitly set eval_metric if you'd like to restore the old behavior.\n",
      "[06:20:31] WARNING: ../src/learner.cc:1061: Starting in XGBoost 1.3.0, the default evaluation metric used with the objective 'binary:logistic' was changed from 'error' to 'logloss'. Explicitly set eval_metric if you'd like to restore the old behavior.\n",
      "[06:20:32] WARNING: ../src/learner.cc:1061: Starting in XGBoost 1.3.0, the default evaluation metric used with the objective 'binary:logistic' was changed from 'error' to 'logloss'. Explicitly set eval_metric if you'd like to restore the old behavior.\n",
      "[06:20:32] WARNING: ../src/learner.cc:1061: Starting in XGBoost 1.3.0, the default evaluation metric used with the objective 'binary:logistic' was changed from 'error' to 'logloss'. Explicitly set eval_metric if you'd like to restore the old behavior.\n",
      "[06:20:33] WARNING: ../src/learner.cc:1061: Starting in XGBoost 1.3.0, the default evaluation metric used with the objective 'binary:logistic' was changed from 'error' to 'logloss'. Explicitly set eval_metric if you'd like to restore the old behavior.\n"
     ]
    },
    {
     "data": {
      "application/vnd.jupyter.widget-view+json": {
       "model_id": "c03574a6de864539b2d763ca721ca36f",
       "version_major": 2,
       "version_minor": 0
      },
      "text/plain": [
       "  0%|          | 0/10 [00:00<?, ?it/s]"
      ]
     },
     "metadata": {},
     "output_type": "display_data"
    },
    {
     "data": {
      "application/vnd.jupyter.widget-view+json": {
       "model_id": "4c74ca754c7f4d6dbffd74fed124e9d9",
       "version_major": 2,
       "version_minor": 0
      },
      "text/plain": [
       "  0%|          | 0/10 [00:00<?, ?it/s]"
      ]
     },
     "metadata": {},
     "output_type": "display_data"
    },
    {
     "data": {
      "application/vnd.jupyter.widget-view+json": {
       "model_id": "fdeb7b7d3f6c4201bcfeff1371adf395",
       "version_major": 2,
       "version_minor": 0
      },
      "text/plain": [
       "  0%|          | 0/10 [00:00<?, ?it/s]"
      ]
     },
     "metadata": {},
     "output_type": "display_data"
    },
    {
     "data": {
      "application/vnd.jupyter.widget-view+json": {
       "model_id": "add0d460306b452c98de1bc18177fa3a",
       "version_major": 2,
       "version_minor": 0
      },
      "text/plain": [
       "  0%|          | 0/10 [00:00<?, ?it/s]"
      ]
     },
     "metadata": {},
     "output_type": "display_data"
    },
    {
     "name": "stdout",
     "output_type": "stream",
     "text": [
      "[06:20:53] WARNING: ../src/learner.cc:1061: Starting in XGBoost 1.3.0, the default evaluation metric used with the objective 'binary:logistic' was changed from 'error' to 'logloss'. Explicitly set eval_metric if you'd like to restore the old behavior.\n",
      "[06:20:53] WARNING: ../src/learner.cc:1061: Starting in XGBoost 1.3.0, the default evaluation metric used with the objective 'binary:logistic' was changed from 'error' to 'logloss'. Explicitly set eval_metric if you'd like to restore the old behavior.\n",
      "[06:20:54] WARNING: ../src/learner.cc:1061: Starting in XGBoost 1.3.0, the default evaluation metric used with the objective 'binary:logistic' was changed from 'error' to 'logloss'. Explicitly set eval_metric if you'd like to restore the old behavior.\n",
      "[06:20:54] WARNING: ../src/learner.cc:1061: Starting in XGBoost 1.3.0, the default evaluation metric used with the objective 'binary:logistic' was changed from 'error' to 'logloss'. Explicitly set eval_metric if you'd like to restore the old behavior.\n",
      "[06:20:55] WARNING: ../src/learner.cc:1061: Starting in XGBoost 1.3.0, the default evaluation metric used with the objective 'binary:logistic' was changed from 'error' to 'logloss'. Explicitly set eval_metric if you'd like to restore the old behavior.\n",
      "[06:20:55] WARNING: ../src/learner.cc:1061: Starting in XGBoost 1.3.0, the default evaluation metric used with the objective 'binary:logistic' was changed from 'error' to 'logloss'. Explicitly set eval_metric if you'd like to restore the old behavior.\n",
      "[06:20:56] WARNING: ../src/learner.cc:1061: Starting in XGBoost 1.3.0, the default evaluation metric used with the objective 'binary:logistic' was changed from 'error' to 'logloss'. Explicitly set eval_metric if you'd like to restore the old behavior.\n",
      "[06:20:57] WARNING: ../src/learner.cc:1061: Starting in XGBoost 1.3.0, the default evaluation metric used with the objective 'binary:logistic' was changed from 'error' to 'logloss'. Explicitly set eval_metric if you'd like to restore the old behavior.\n",
      "[06:20:58] WARNING: ../src/learner.cc:1061: Starting in XGBoost 1.3.0, the default evaluation metric used with the objective 'binary:logistic' was changed from 'error' to 'logloss'. Explicitly set eval_metric if you'd like to restore the old behavior.\n",
      "[06:20:58] WARNING: ../src/learner.cc:1061: Starting in XGBoost 1.3.0, the default evaluation metric used with the objective 'binary:logistic' was changed from 'error' to 'logloss'. Explicitly set eval_metric if you'd like to restore the old behavior.\n"
     ]
    }
   ],
   "source": [
    "MLA_Wheeze = MLA_selection(Wheeze_dataframe, 'Wheeze', \"./breathe_set_csv_exp_4/\")\n",
    "MLA_Wheeze_1 = MLA_selection(Wheeze_dataframe_1, 'Wheeze_1', \"./breathe_set_csv_exp_4/\")\n",
    "MLA_Wheeze_2 = MLA_selection(Wheeze_dataframe_2, 'Wheeze_2', \"./breathe_set_csv_exp_4/\")\n",
    "MLA_Wheeze_3 = MLA_selection(Wheeze_dataframe_3, 'Wheeze_3', \"./breathe_set_csv_exp_4/\")"
   ]
  },
  {
   "cell_type": "code",
   "execution_count": 76,
   "metadata": {
    "collapsed": true
   },
   "outputs": [
    {
     "data": {
      "text/html": [
       "<div>\n",
       "<style scoped>\n",
       "    .dataframe tbody tr th:only-of-type {\n",
       "        vertical-align: middle;\n",
       "    }\n",
       "\n",
       "    .dataframe tbody tr th {\n",
       "        vertical-align: top;\n",
       "    }\n",
       "\n",
       "    .dataframe thead th {\n",
       "        text-align: right;\n",
       "    }\n",
       "</style>\n",
       "<table border=\"1\" class=\"dataframe\">\n",
       "  <thead>\n",
       "    <tr style=\"text-align: right;\">\n",
       "      <th></th>\n",
       "      <th>MLA Name</th>\n",
       "      <th>MLA Parameters</th>\n",
       "      <th>MLA Train Accuracy</th>\n",
       "      <th>MLA Train Accuracy Mean</th>\n",
       "      <th>MLA Test Accuracy</th>\n",
       "      <th>MLA Test Accuracy Mean</th>\n",
       "      <th>MLA Test Accuracy Std</th>\n",
       "    </tr>\n",
       "  </thead>\n",
       "  <tbody>\n",
       "    <tr>\n",
       "      <th>3</th>\n",
       "      <td>XGBClassifier</td>\n",
       "      <td>{'objective': 'binary:logistic', 'use_label_en...</td>\n",
       "      <td>[1.0, 1.0, 1.0, 1.0, 1.0, 1.0, 1.0, 1.0, 1.0, ...</td>\n",
       "      <td>1</td>\n",
       "      <td>[0.9061224489795918, 0.8445378151260504, 0.890...</td>\n",
       "      <td>0.862794</td>\n",
       "      <td>0.0401354</td>\n",
       "    </tr>\n",
       "    <tr>\n",
       "      <th>0</th>\n",
       "      <td>RandomForestClassifier</td>\n",
       "      <td>{'bootstrap': True, 'ccp_alpha': 0.0, 'class_w...</td>\n",
       "      <td>[1.0, 1.0, 1.0, 1.0, 1.0, 1.0, 1.0, 1.0, 1.0, ...</td>\n",
       "      <td>1</td>\n",
       "      <td>[0.9142857142857143, 0.8697478991596639, 0.898...</td>\n",
       "      <td>0.857496</td>\n",
       "      <td>0.0493695</td>\n",
       "    </tr>\n",
       "    <tr>\n",
       "      <th>1</th>\n",
       "      <td>SVC</td>\n",
       "      <td>{'C': 1.0, 'break_ties': False, 'cache_size': ...</td>\n",
       "      <td>[0.9721577726218097, 0.97, 0.9664586583463338,...</td>\n",
       "      <td>0.972642</td>\n",
       "      <td>[0.8979591836734694, 0.8151260504201681, 0.843...</td>\n",
       "      <td>0.815662</td>\n",
       "      <td>0.0482381</td>\n",
       "    </tr>\n",
       "    <tr>\n",
       "      <th>2</th>\n",
       "      <td>LinearSVC</td>\n",
       "      <td>{'C': 1.0, 'class_weight': None, 'dual': True,...</td>\n",
       "      <td>[0.8894044856921887, 0.9023076923076923, 0.883...</td>\n",
       "      <td>0.898692</td>\n",
       "      <td>[0.8938775510204081, 0.7521008403361344, 0.839...</td>\n",
       "      <td>0.807796</td>\n",
       "      <td>0.0517178</td>\n",
       "    </tr>\n",
       "  </tbody>\n",
       "</table>\n",
       "</div>"
      ],
      "text/plain": [
       "                 MLA Name                                     MLA Parameters  \\\n",
       "3           XGBClassifier  {'objective': 'binary:logistic', 'use_label_en...   \n",
       "0  RandomForestClassifier  {'bootstrap': True, 'ccp_alpha': 0.0, 'class_w...   \n",
       "1                     SVC  {'C': 1.0, 'break_ties': False, 'cache_size': ...   \n",
       "2               LinearSVC  {'C': 1.0, 'class_weight': None, 'dual': True,...   \n",
       "\n",
       "                                  MLA Train Accuracy MLA Train Accuracy Mean  \\\n",
       "3  [1.0, 1.0, 1.0, 1.0, 1.0, 1.0, 1.0, 1.0, 1.0, ...                       1   \n",
       "0  [1.0, 1.0, 1.0, 1.0, 1.0, 1.0, 1.0, 1.0, 1.0, ...                       1   \n",
       "1  [0.9721577726218097, 0.97, 0.9664586583463338,...                0.972642   \n",
       "2  [0.8894044856921887, 0.9023076923076923, 0.883...                0.898692   \n",
       "\n",
       "                                   MLA Test Accuracy MLA Test Accuracy Mean  \\\n",
       "3  [0.9061224489795918, 0.8445378151260504, 0.890...               0.862794   \n",
       "0  [0.9142857142857143, 0.8697478991596639, 0.898...               0.857496   \n",
       "1  [0.8979591836734694, 0.8151260504201681, 0.843...               0.815662   \n",
       "2  [0.8938775510204081, 0.7521008403361344, 0.839...               0.807796   \n",
       "\n",
       "  MLA Test Accuracy Std  \n",
       "3             0.0401354  \n",
       "0             0.0493695  \n",
       "1             0.0482381  \n",
       "2             0.0517178  "
      ]
     },
     "execution_count": 76,
     "metadata": {},
     "output_type": "execute_result"
    }
   ],
   "source": [
    "MLA_Wheeze"
   ]
  },
  {
   "cell_type": "code",
   "execution_count": 77,
   "metadata": {
    "collapsed": true
   },
   "outputs": [
    {
     "data": {
      "text/html": [
       "<div>\n",
       "<style scoped>\n",
       "    .dataframe tbody tr th:only-of-type {\n",
       "        vertical-align: middle;\n",
       "    }\n",
       "\n",
       "    .dataframe tbody tr th {\n",
       "        vertical-align: top;\n",
       "    }\n",
       "\n",
       "    .dataframe thead th {\n",
       "        text-align: right;\n",
       "    }\n",
       "</style>\n",
       "<table border=\"1\" class=\"dataframe\">\n",
       "  <thead>\n",
       "    <tr style=\"text-align: right;\">\n",
       "      <th></th>\n",
       "      <th>MLA Name</th>\n",
       "      <th>MLA Parameters</th>\n",
       "      <th>MLA Train Accuracy</th>\n",
       "      <th>MLA Train Accuracy Mean</th>\n",
       "      <th>MLA Test Accuracy</th>\n",
       "      <th>MLA Test Accuracy Mean</th>\n",
       "      <th>MLA Test Accuracy Std</th>\n",
       "    </tr>\n",
       "  </thead>\n",
       "  <tbody>\n",
       "    <tr>\n",
       "      <th>0</th>\n",
       "      <td>RandomForestClassifier</td>\n",
       "      <td>{'bootstrap': True, 'ccp_alpha': 0.0, 'class_w...</td>\n",
       "      <td>[1.0, 1.0, 1.0, 1.0, 1.0, 1.0, 1.0, 1.0, 1.0, ...</td>\n",
       "      <td>1</td>\n",
       "      <td>[0.8571428571428571, 0.7647058823529411, 0.828...</td>\n",
       "      <td>0.784965</td>\n",
       "      <td>0.045702</td>\n",
       "    </tr>\n",
       "    <tr>\n",
       "      <th>3</th>\n",
       "      <td>XGBClassifier</td>\n",
       "      <td>{'objective': 'binary:logistic', 'use_label_en...</td>\n",
       "      <td>[1.0, 1.0, 1.0, 1.0, 1.0, 1.0, 1.0, 1.0, 1.0, ...</td>\n",
       "      <td>1</td>\n",
       "      <td>[0.8285714285714286, 0.7815126050420168, 0.824...</td>\n",
       "      <td>0.78456</td>\n",
       "      <td>0.0395398</td>\n",
       "    </tr>\n",
       "    <tr>\n",
       "      <th>2</th>\n",
       "      <td>LinearSVC</td>\n",
       "      <td>{'C': 1.0, 'class_weight': None, 'dual': True,...</td>\n",
       "      <td>[0.8507347254447022, 0.8584615384615385, 0.851...</td>\n",
       "      <td>0.861377</td>\n",
       "      <td>[0.8244897959183674, 0.7521008403361344, 0.859...</td>\n",
       "      <td>0.782321</td>\n",
       "      <td>0.0444023</td>\n",
       "    </tr>\n",
       "    <tr>\n",
       "      <th>1</th>\n",
       "      <td>SVC</td>\n",
       "      <td>{'C': 1.0, 'break_ties': False, 'cache_size': ...</td>\n",
       "      <td>[0.9303944315545244, 0.9276923076923077, 0.926...</td>\n",
       "      <td>0.932318</td>\n",
       "      <td>[0.8081632653061225, 0.7563025210084033, 0.816...</td>\n",
       "      <td>0.779208</td>\n",
       "      <td>0.0401786</td>\n",
       "    </tr>\n",
       "  </tbody>\n",
       "</table>\n",
       "</div>"
      ],
      "text/plain": [
       "                 MLA Name                                     MLA Parameters  \\\n",
       "0  RandomForestClassifier  {'bootstrap': True, 'ccp_alpha': 0.0, 'class_w...   \n",
       "3           XGBClassifier  {'objective': 'binary:logistic', 'use_label_en...   \n",
       "2               LinearSVC  {'C': 1.0, 'class_weight': None, 'dual': True,...   \n",
       "1                     SVC  {'C': 1.0, 'break_ties': False, 'cache_size': ...   \n",
       "\n",
       "                                  MLA Train Accuracy MLA Train Accuracy Mean  \\\n",
       "0  [1.0, 1.0, 1.0, 1.0, 1.0, 1.0, 1.0, 1.0, 1.0, ...                       1   \n",
       "3  [1.0, 1.0, 1.0, 1.0, 1.0, 1.0, 1.0, 1.0, 1.0, ...                       1   \n",
       "2  [0.8507347254447022, 0.8584615384615385, 0.851...                0.861377   \n",
       "1  [0.9303944315545244, 0.9276923076923077, 0.926...                0.932318   \n",
       "\n",
       "                                   MLA Test Accuracy MLA Test Accuracy Mean  \\\n",
       "0  [0.8571428571428571, 0.7647058823529411, 0.828...               0.784965   \n",
       "3  [0.8285714285714286, 0.7815126050420168, 0.824...                0.78456   \n",
       "2  [0.8244897959183674, 0.7521008403361344, 0.859...               0.782321   \n",
       "1  [0.8081632653061225, 0.7563025210084033, 0.816...               0.779208   \n",
       "\n",
       "  MLA Test Accuracy Std  \n",
       "0              0.045702  \n",
       "3             0.0395398  \n",
       "2             0.0444023  \n",
       "1             0.0401786  "
      ]
     },
     "execution_count": 77,
     "metadata": {},
     "output_type": "execute_result"
    }
   ],
   "source": [
    "MLA_Wheeze_1"
   ]
  },
  {
   "cell_type": "code",
   "execution_count": 78,
   "metadata": {
    "collapsed": true
   },
   "outputs": [
    {
     "data": {
      "text/html": [
       "<div>\n",
       "<style scoped>\n",
       "    .dataframe tbody tr th:only-of-type {\n",
       "        vertical-align: middle;\n",
       "    }\n",
       "\n",
       "    .dataframe tbody tr th {\n",
       "        vertical-align: top;\n",
       "    }\n",
       "\n",
       "    .dataframe thead th {\n",
       "        text-align: right;\n",
       "    }\n",
       "</style>\n",
       "<table border=\"1\" class=\"dataframe\">\n",
       "  <thead>\n",
       "    <tr style=\"text-align: right;\">\n",
       "      <th></th>\n",
       "      <th>MLA Name</th>\n",
       "      <th>MLA Parameters</th>\n",
       "      <th>MLA Train Accuracy</th>\n",
       "      <th>MLA Train Accuracy Mean</th>\n",
       "      <th>MLA Test Accuracy</th>\n",
       "      <th>MLA Test Accuracy Mean</th>\n",
       "      <th>MLA Test Accuracy Std</th>\n",
       "    </tr>\n",
       "  </thead>\n",
       "  <tbody>\n",
       "    <tr>\n",
       "      <th>3</th>\n",
       "      <td>XGBClassifier</td>\n",
       "      <td>{'objective': 'binary:logistic', 'use_label_en...</td>\n",
       "      <td>[1.0, 1.0, 1.0, 1.0, 1.0, 1.0, 1.0, 1.0, 1.0, ...</td>\n",
       "      <td>1</td>\n",
       "      <td>[0.9346938775510204, 0.8361344537815126, 0.875...</td>\n",
       "      <td>0.851052</td>\n",
       "      <td>0.0435679</td>\n",
       "    </tr>\n",
       "    <tr>\n",
       "      <th>0</th>\n",
       "      <td>RandomForestClassifier</td>\n",
       "      <td>{'bootstrap': True, 'ccp_alpha': 0.0, 'class_w...</td>\n",
       "      <td>[1.0, 1.0, 1.0, 1.0, 1.0, 1.0, 1.0, 1.0, 1.0, ...</td>\n",
       "      <td>1</td>\n",
       "      <td>[0.9346938775510204, 0.8529411764705882, 0.875...</td>\n",
       "      <td>0.845398</td>\n",
       "      <td>0.0509733</td>\n",
       "    </tr>\n",
       "    <tr>\n",
       "      <th>1</th>\n",
       "      <td>SVC</td>\n",
       "      <td>{'C': 1.0, 'break_ties': False, 'cache_size': ...</td>\n",
       "      <td>[0.9621036349574633, 0.9607692307692308, 0.961...</td>\n",
       "      <td>0.966538</td>\n",
       "      <td>[0.926530612244898, 0.8529411764705882, 0.8164...</td>\n",
       "      <td>0.837902</td>\n",
       "      <td>0.0519563</td>\n",
       "    </tr>\n",
       "    <tr>\n",
       "      <th>2</th>\n",
       "      <td>LinearSVC</td>\n",
       "      <td>{'C': 1.0, 'class_weight': None, 'dual': True,...</td>\n",
       "      <td>[0.888631090487239, 0.8923076923076924, 0.8923...</td>\n",
       "      <td>0.891199</td>\n",
       "      <td>[0.889795918367347, 0.7605042016806722, 0.8125...</td>\n",
       "      <td>0.806633</td>\n",
       "      <td>0.0477326</td>\n",
       "    </tr>\n",
       "  </tbody>\n",
       "</table>\n",
       "</div>"
      ],
      "text/plain": [
       "                 MLA Name                                     MLA Parameters  \\\n",
       "3           XGBClassifier  {'objective': 'binary:logistic', 'use_label_en...   \n",
       "0  RandomForestClassifier  {'bootstrap': True, 'ccp_alpha': 0.0, 'class_w...   \n",
       "1                     SVC  {'C': 1.0, 'break_ties': False, 'cache_size': ...   \n",
       "2               LinearSVC  {'C': 1.0, 'class_weight': None, 'dual': True,...   \n",
       "\n",
       "                                  MLA Train Accuracy MLA Train Accuracy Mean  \\\n",
       "3  [1.0, 1.0, 1.0, 1.0, 1.0, 1.0, 1.0, 1.0, 1.0, ...                       1   \n",
       "0  [1.0, 1.0, 1.0, 1.0, 1.0, 1.0, 1.0, 1.0, 1.0, ...                       1   \n",
       "1  [0.9621036349574633, 0.9607692307692308, 0.961...                0.966538   \n",
       "2  [0.888631090487239, 0.8923076923076924, 0.8923...                0.891199   \n",
       "\n",
       "                                   MLA Test Accuracy MLA Test Accuracy Mean  \\\n",
       "3  [0.9346938775510204, 0.8361344537815126, 0.875...               0.851052   \n",
       "0  [0.9346938775510204, 0.8529411764705882, 0.875...               0.845398   \n",
       "1  [0.926530612244898, 0.8529411764705882, 0.8164...               0.837902   \n",
       "2  [0.889795918367347, 0.7605042016806722, 0.8125...               0.806633   \n",
       "\n",
       "  MLA Test Accuracy Std  \n",
       "3             0.0435679  \n",
       "0             0.0509733  \n",
       "1             0.0519563  \n",
       "2             0.0477326  "
      ]
     },
     "execution_count": 78,
     "metadata": {},
     "output_type": "execute_result"
    }
   ],
   "source": [
    "MLA_Wheeze_2"
   ]
  },
  {
   "cell_type": "code",
   "execution_count": 79,
   "metadata": {
    "collapsed": true
   },
   "outputs": [
    {
     "data": {
      "text/html": [
       "<div>\n",
       "<style scoped>\n",
       "    .dataframe tbody tr th:only-of-type {\n",
       "        vertical-align: middle;\n",
       "    }\n",
       "\n",
       "    .dataframe tbody tr th {\n",
       "        vertical-align: top;\n",
       "    }\n",
       "\n",
       "    .dataframe thead th {\n",
       "        text-align: right;\n",
       "    }\n",
       "</style>\n",
       "<table border=\"1\" class=\"dataframe\">\n",
       "  <thead>\n",
       "    <tr style=\"text-align: right;\">\n",
       "      <th></th>\n",
       "      <th>MLA Name</th>\n",
       "      <th>MLA Parameters</th>\n",
       "      <th>MLA Train Accuracy</th>\n",
       "      <th>MLA Train Accuracy Mean</th>\n",
       "      <th>MLA Test Accuracy</th>\n",
       "      <th>MLA Test Accuracy Mean</th>\n",
       "      <th>MLA Test Accuracy Std</th>\n",
       "    </tr>\n",
       "  </thead>\n",
       "  <tbody>\n",
       "    <tr>\n",
       "      <th>2</th>\n",
       "      <td>LinearSVC</td>\n",
       "      <td>{'C': 1.0, 'class_weight': None, 'dual': True,...</td>\n",
       "      <td>[0.8646558391337974, 0.8784615384615385, 0.867...</td>\n",
       "      <td>0.872846</td>\n",
       "      <td>[0.8857142857142857, 0.8025210084033614, 0.828...</td>\n",
       "      <td>0.803741</td>\n",
       "      <td>0.0384212</td>\n",
       "    </tr>\n",
       "    <tr>\n",
       "      <th>1</th>\n",
       "      <td>SVC</td>\n",
       "      <td>{'C': 1.0, 'break_ties': False, 'cache_size': ...</td>\n",
       "      <td>[0.9450889404485692, 0.946923076923077, 0.9446...</td>\n",
       "      <td>0.946774</td>\n",
       "      <td>[0.889795918367347, 0.7983193277310925, 0.7812...</td>\n",
       "      <td>0.798646</td>\n",
       "      <td>0.0367506</td>\n",
       "    </tr>\n",
       "    <tr>\n",
       "      <th>3</th>\n",
       "      <td>XGBClassifier</td>\n",
       "      <td>{'objective': 'binary:logistic', 'use_label_en...</td>\n",
       "      <td>[1.0, 1.0, 1.0, 1.0, 1.0, 1.0, 1.0, 1.0, 1.0, ...</td>\n",
       "      <td>1</td>\n",
       "      <td>[0.8734693877551021, 0.7773109243697479, 0.824...</td>\n",
       "      <td>0.794951</td>\n",
       "      <td>0.0451413</td>\n",
       "    </tr>\n",
       "    <tr>\n",
       "      <th>0</th>\n",
       "      <td>RandomForestClassifier</td>\n",
       "      <td>{'bootstrap': True, 'ccp_alpha': 0.0, 'class_w...</td>\n",
       "      <td>[1.0, 1.0, 1.0, 1.0, 1.0, 1.0, 1.0, 1.0, 1.0, ...</td>\n",
       "      <td>1</td>\n",
       "      <td>[0.8408163265306122, 0.773109243697479, 0.8320...</td>\n",
       "      <td>0.792802</td>\n",
       "      <td>0.0358028</td>\n",
       "    </tr>\n",
       "  </tbody>\n",
       "</table>\n",
       "</div>"
      ],
      "text/plain": [
       "                 MLA Name                                     MLA Parameters  \\\n",
       "2               LinearSVC  {'C': 1.0, 'class_weight': None, 'dual': True,...   \n",
       "1                     SVC  {'C': 1.0, 'break_ties': False, 'cache_size': ...   \n",
       "3           XGBClassifier  {'objective': 'binary:logistic', 'use_label_en...   \n",
       "0  RandomForestClassifier  {'bootstrap': True, 'ccp_alpha': 0.0, 'class_w...   \n",
       "\n",
       "                                  MLA Train Accuracy MLA Train Accuracy Mean  \\\n",
       "2  [0.8646558391337974, 0.8784615384615385, 0.867...                0.872846   \n",
       "1  [0.9450889404485692, 0.946923076923077, 0.9446...                0.946774   \n",
       "3  [1.0, 1.0, 1.0, 1.0, 1.0, 1.0, 1.0, 1.0, 1.0, ...                       1   \n",
       "0  [1.0, 1.0, 1.0, 1.0, 1.0, 1.0, 1.0, 1.0, 1.0, ...                       1   \n",
       "\n",
       "                                   MLA Test Accuracy MLA Test Accuracy Mean  \\\n",
       "2  [0.8857142857142857, 0.8025210084033614, 0.828...               0.803741   \n",
       "1  [0.889795918367347, 0.7983193277310925, 0.7812...               0.798646   \n",
       "3  [0.8734693877551021, 0.7773109243697479, 0.824...               0.794951   \n",
       "0  [0.8408163265306122, 0.773109243697479, 0.8320...               0.792802   \n",
       "\n",
       "  MLA Test Accuracy Std  \n",
       "2             0.0384212  \n",
       "1             0.0367506  \n",
       "3             0.0451413  \n",
       "0             0.0358028  "
      ]
     },
     "execution_count": 79,
     "metadata": {},
     "output_type": "execute_result"
    }
   ],
   "source": [
    "MLA_Wheeze_3"
   ]
  },
  {
   "cell_type": "code",
   "execution_count": 60,
   "metadata": {},
   "outputs": [],
   "source": [
    "Wheeze_dataframe_0 = pd.read_csv(\"./breath_csv/Wheeze_0.csv\")\n",
    "Wheeze_dataframe_5 = pd.read_csv(\"./breath_csv/Wheeze_5.csv\")\n",
    "Wheeze_dataframe_10 = pd.read_csv(\"./breath_csv/Wheeze_10.csv\")\n",
    "Wheeze_dataframe_15 = pd.read_csv(\"./breath_csv/Wheeze_15.csv\")\n",
    "Wheeze_dataframe_20 = pd.read_csv(\"./breath_csv/Wheeze_20.csv\")\n",
    "Wheeze_dataframe_25 = pd.read_csv(\"./breath_csv/Wheeze_25.csv\")\n",
    "Wheeze_dataframe_30 = pd.read_csv(\"./breath_csv/Wheeze_30.csv\")\n",
    "Wheeze_dataframe_35 = pd.read_csv(\"./breath_csv/Wheeze_35.csv\")\n",
    "Wheeze_dataframe_40 = pd.read_csv(\"./breath_csv/Wheeze_40.csv\")\n",
    "Wheeze_dataframe_45 = pd.read_csv(\"./breath_csv/Wheeze_45.csv\")\n",
    "Wheeze_dataframe_50 = pd.read_csv(\"./breath_csv/Wheeze_50.csv\")"
   ]
  },
  {
   "cell_type": "code",
   "execution_count": 61,
   "metadata": {},
   "outputs": [],
   "source": [
    "make_legit_sets(Wheeze_dataframe_0, 'Wheeze_0', \"Wheeze_sets\")\n",
    "make_legit_sets(Wheeze_dataframe_5, 'Wheeze_5', \"Wheeze_sets\")\n",
    "make_legit_sets(Wheeze_dataframe_10, 'Wheeze_10', \"Wheeze_sets\")\n",
    "make_legit_sets(Wheeze_dataframe_15, 'Wheeze_15', \"Wheeze_sets\")\n",
    "make_legit_sets(Wheeze_dataframe_20, 'Wheeze_20', \"Wheeze_sets\")\n",
    "make_legit_sets(Wheeze_dataframe_25, 'Wheeze_25', \"Wheeze_sets\")\n",
    "make_legit_sets(Wheeze_dataframe_30, 'Wheeze_30', \"Wheeze_sets\")\n",
    "make_legit_sets(Wheeze_dataframe_35, 'Wheeze_35', \"Wheeze_sets\")\n",
    "make_legit_sets(Wheeze_dataframe_40, 'Wheeze_40', \"Wheeze_sets\")\n",
    "make_legit_sets(Wheeze_dataframe_45, 'Wheeze_45', \"Wheeze_sets\")\n",
    "make_legit_sets(Wheeze_dataframe_50, 'Wheeze_50', \"Wheeze_sets\")"
   ]
  },
  {
   "cell_type": "code",
   "execution_count": 62,
   "metadata": {
    "collapsed": true
   },
   "outputs": [
    {
     "data": {
      "application/vnd.jupyter.widget-view+json": {
       "model_id": "8595634726344f86b2fbbf331a65c8c1",
       "version_major": 2,
       "version_minor": 0
      },
      "text/plain": [
       "  0%|          | 0/10 [00:00<?, ?it/s]"
      ]
     },
     "metadata": {},
     "output_type": "display_data"
    },
    {
     "data": {
      "application/vnd.jupyter.widget-view+json": {
       "model_id": "442eef1869e94218854258d1400d3dc5",
       "version_major": 2,
       "version_minor": 0
      },
      "text/plain": [
       "  0%|          | 0/10 [00:00<?, ?it/s]"
      ]
     },
     "metadata": {},
     "output_type": "display_data"
    },
    {
     "data": {
      "application/vnd.jupyter.widget-view+json": {
       "model_id": "b7024063c2344246a104cda3aae194ad",
       "version_major": 2,
       "version_minor": 0
      },
      "text/plain": [
       "  0%|          | 0/10 [00:00<?, ?it/s]"
      ]
     },
     "metadata": {},
     "output_type": "display_data"
    },
    {
     "data": {
      "application/vnd.jupyter.widget-view+json": {
       "model_id": "88f48bed442d490c862db2eac69beb68",
       "version_major": 2,
       "version_minor": 0
      },
      "text/plain": [
       "  0%|          | 0/10 [00:00<?, ?it/s]"
      ]
     },
     "metadata": {},
     "output_type": "display_data"
    },
    {
     "name": "stdout",
     "output_type": "stream",
     "text": [
      "[05:50:03] WARNING: ../src/learner.cc:1061: Starting in XGBoost 1.3.0, the default evaluation metric used with the objective 'binary:logistic' was changed from 'error' to 'logloss'. Explicitly set eval_metric if you'd like to restore the old behavior.\n",
      "[05:50:08] WARNING: ../src/learner.cc:1061: Starting in XGBoost 1.3.0, the default evaluation metric used with the objective 'binary:logistic' was changed from 'error' to 'logloss'. Explicitly set eval_metric if you'd like to restore the old behavior.\n",
      "[05:50:18] WARNING: ../src/learner.cc:1061: Starting in XGBoost 1.3.0, the default evaluation metric used with the objective 'binary:logistic' was changed from 'error' to 'logloss'. Explicitly set eval_metric if you'd like to restore the old behavior.\n",
      "[05:50:23] WARNING: ../src/learner.cc:1061: Starting in XGBoost 1.3.0, the default evaluation metric used with the objective 'binary:logistic' was changed from 'error' to 'logloss'. Explicitly set eval_metric if you'd like to restore the old behavior.\n",
      "[05:50:26] WARNING: ../src/learner.cc:1061: Starting in XGBoost 1.3.0, the default evaluation metric used with the objective 'binary:logistic' was changed from 'error' to 'logloss'. Explicitly set eval_metric if you'd like to restore the old behavior.\n",
      "[05:50:29] WARNING: ../src/learner.cc:1061: Starting in XGBoost 1.3.0, the default evaluation metric used with the objective 'binary:logistic' was changed from 'error' to 'logloss'. Explicitly set eval_metric if you'd like to restore the old behavior.\n",
      "[05:50:32] WARNING: ../src/learner.cc:1061: Starting in XGBoost 1.3.0, the default evaluation metric used with the objective 'binary:logistic' was changed from 'error' to 'logloss'. Explicitly set eval_metric if you'd like to restore the old behavior.\n",
      "[05:50:35] WARNING: ../src/learner.cc:1061: Starting in XGBoost 1.3.0, the default evaluation metric used with the objective 'binary:logistic' was changed from 'error' to 'logloss'. Explicitly set eval_metric if you'd like to restore the old behavior.\n",
      "[05:50:38] WARNING: ../src/learner.cc:1061: Starting in XGBoost 1.3.0, the default evaluation metric used with the objective 'binary:logistic' was changed from 'error' to 'logloss'. Explicitly set eval_metric if you'd like to restore the old behavior.\n",
      "[05:50:41] WARNING: ../src/learner.cc:1061: Starting in XGBoost 1.3.0, the default evaluation metric used with the objective 'binary:logistic' was changed from 'error' to 'logloss'. Explicitly set eval_metric if you'd like to restore the old behavior.\n"
     ]
    },
    {
     "data": {
      "application/vnd.jupyter.widget-view+json": {
       "model_id": "c9c63427c0674213a93bd6f333e169f2",
       "version_major": 2,
       "version_minor": 0
      },
      "text/plain": [
       "  0%|          | 0/10 [00:00<?, ?it/s]"
      ]
     },
     "metadata": {},
     "output_type": "display_data"
    },
    {
     "data": {
      "application/vnd.jupyter.widget-view+json": {
       "model_id": "1fdc830641fb41eba4bb8e92364bc4f8",
       "version_major": 2,
       "version_minor": 0
      },
      "text/plain": [
       "  0%|          | 0/10 [00:00<?, ?it/s]"
      ]
     },
     "metadata": {},
     "output_type": "display_data"
    },
    {
     "data": {
      "application/vnd.jupyter.widget-view+json": {
       "model_id": "9f189eb4d41b423e8b4e2bfa2b23f5ab",
       "version_major": 2,
       "version_minor": 0
      },
      "text/plain": [
       "  0%|          | 0/10 [00:00<?, ?it/s]"
      ]
     },
     "metadata": {},
     "output_type": "display_data"
    },
    {
     "data": {
      "application/vnd.jupyter.widget-view+json": {
       "model_id": "bfe589591e5441fc9aaf0a7f8a2e9f12",
       "version_major": 2,
       "version_minor": 0
      },
      "text/plain": [
       "  0%|          | 0/10 [00:00<?, ?it/s]"
      ]
     },
     "metadata": {},
     "output_type": "display_data"
    },
    {
     "name": "stdout",
     "output_type": "stream",
     "text": [
      "[05:51:02] WARNING: ../src/learner.cc:1061: Starting in XGBoost 1.3.0, the default evaluation metric used with the objective 'binary:logistic' was changed from 'error' to 'logloss'. Explicitly set eval_metric if you'd like to restore the old behavior.\n",
      "[05:51:05] WARNING: ../src/learner.cc:1061: Starting in XGBoost 1.3.0, the default evaluation metric used with the objective 'binary:logistic' was changed from 'error' to 'logloss'. Explicitly set eval_metric if you'd like to restore the old behavior.\n",
      "[05:51:08] WARNING: ../src/learner.cc:1061: Starting in XGBoost 1.3.0, the default evaluation metric used with the objective 'binary:logistic' was changed from 'error' to 'logloss'. Explicitly set eval_metric if you'd like to restore the old behavior.\n",
      "[05:51:12] WARNING: ../src/learner.cc:1061: Starting in XGBoost 1.3.0, the default evaluation metric used with the objective 'binary:logistic' was changed from 'error' to 'logloss'. Explicitly set eval_metric if you'd like to restore the old behavior.\n",
      "[05:51:15] WARNING: ../src/learner.cc:1061: Starting in XGBoost 1.3.0, the default evaluation metric used with the objective 'binary:logistic' was changed from 'error' to 'logloss'. Explicitly set eval_metric if you'd like to restore the old behavior.\n",
      "[05:51:18] WARNING: ../src/learner.cc:1061: Starting in XGBoost 1.3.0, the default evaluation metric used with the objective 'binary:logistic' was changed from 'error' to 'logloss'. Explicitly set eval_metric if you'd like to restore the old behavior.\n",
      "[05:51:21] WARNING: ../src/learner.cc:1061: Starting in XGBoost 1.3.0, the default evaluation metric used with the objective 'binary:logistic' was changed from 'error' to 'logloss'. Explicitly set eval_metric if you'd like to restore the old behavior.\n",
      "[05:51:24] WARNING: ../src/learner.cc:1061: Starting in XGBoost 1.3.0, the default evaluation metric used with the objective 'binary:logistic' was changed from 'error' to 'logloss'. Explicitly set eval_metric if you'd like to restore the old behavior.\n",
      "[05:51:27] WARNING: ../src/learner.cc:1061: Starting in XGBoost 1.3.0, the default evaluation metric used with the objective 'binary:logistic' was changed from 'error' to 'logloss'. Explicitly set eval_metric if you'd like to restore the old behavior.\n",
      "[05:51:31] WARNING: ../src/learner.cc:1061: Starting in XGBoost 1.3.0, the default evaluation metric used with the objective 'binary:logistic' was changed from 'error' to 'logloss'. Explicitly set eval_metric if you'd like to restore the old behavior.\n"
     ]
    },
    {
     "data": {
      "application/vnd.jupyter.widget-view+json": {
       "model_id": "de6100e5d1cc4d8dbc982b6fcb6f9d12",
       "version_major": 2,
       "version_minor": 0
      },
      "text/plain": [
       "  0%|          | 0/10 [00:00<?, ?it/s]"
      ]
     },
     "metadata": {},
     "output_type": "display_data"
    },
    {
     "data": {
      "application/vnd.jupyter.widget-view+json": {
       "model_id": "9353da4ab9ba4a51a79b2027cc6e152f",
       "version_major": 2,
       "version_minor": 0
      },
      "text/plain": [
       "  0%|          | 0/10 [00:00<?, ?it/s]"
      ]
     },
     "metadata": {},
     "output_type": "display_data"
    },
    {
     "data": {
      "application/vnd.jupyter.widget-view+json": {
       "model_id": "ca31a2bdbd174b3699318f88a7554413",
       "version_major": 2,
       "version_minor": 0
      },
      "text/plain": [
       "  0%|          | 0/10 [00:00<?, ?it/s]"
      ]
     },
     "metadata": {},
     "output_type": "display_data"
    },
    {
     "data": {
      "application/vnd.jupyter.widget-view+json": {
       "model_id": "c4f197fd500c4097ac0c7f819fe8c383",
       "version_major": 2,
       "version_minor": 0
      },
      "text/plain": [
       "  0%|          | 0/10 [00:00<?, ?it/s]"
      ]
     },
     "metadata": {},
     "output_type": "display_data"
    },
    {
     "name": "stdout",
     "output_type": "stream",
     "text": [
      "[05:51:52] WARNING: ../src/learner.cc:1061: Starting in XGBoost 1.3.0, the default evaluation metric used with the objective 'binary:logistic' was changed from 'error' to 'logloss'. Explicitly set eval_metric if you'd like to restore the old behavior.\n",
      "[05:51:56] WARNING: ../src/learner.cc:1061: Starting in XGBoost 1.3.0, the default evaluation metric used with the objective 'binary:logistic' was changed from 'error' to 'logloss'. Explicitly set eval_metric if you'd like to restore the old behavior.\n",
      "[05:51:59] WARNING: ../src/learner.cc:1061: Starting in XGBoost 1.3.0, the default evaluation metric used with the objective 'binary:logistic' was changed from 'error' to 'logloss'. Explicitly set eval_metric if you'd like to restore the old behavior.\n",
      "[05:52:06] WARNING: ../src/learner.cc:1061: Starting in XGBoost 1.3.0, the default evaluation metric used with the objective 'binary:logistic' was changed from 'error' to 'logloss'. Explicitly set eval_metric if you'd like to restore the old behavior.\n",
      "[05:52:10] WARNING: ../src/learner.cc:1061: Starting in XGBoost 1.3.0, the default evaluation metric used with the objective 'binary:logistic' was changed from 'error' to 'logloss'. Explicitly set eval_metric if you'd like to restore the old behavior.\n",
      "[05:52:14] WARNING: ../src/learner.cc:1061: Starting in XGBoost 1.3.0, the default evaluation metric used with the objective 'binary:logistic' was changed from 'error' to 'logloss'. Explicitly set eval_metric if you'd like to restore the old behavior.\n",
      "[05:52:19] WARNING: ../src/learner.cc:1061: Starting in XGBoost 1.3.0, the default evaluation metric used with the objective 'binary:logistic' was changed from 'error' to 'logloss'. Explicitly set eval_metric if you'd like to restore the old behavior.\n",
      "[05:52:23] WARNING: ../src/learner.cc:1061: Starting in XGBoost 1.3.0, the default evaluation metric used with the objective 'binary:logistic' was changed from 'error' to 'logloss'. Explicitly set eval_metric if you'd like to restore the old behavior.\n",
      "[05:52:26] WARNING: ../src/learner.cc:1061: Starting in XGBoost 1.3.0, the default evaluation metric used with the objective 'binary:logistic' was changed from 'error' to 'logloss'. Explicitly set eval_metric if you'd like to restore the old behavior.\n",
      "[05:52:30] WARNING: ../src/learner.cc:1061: Starting in XGBoost 1.3.0, the default evaluation metric used with the objective 'binary:logistic' was changed from 'error' to 'logloss'. Explicitly set eval_metric if you'd like to restore the old behavior.\n"
     ]
    },
    {
     "data": {
      "application/vnd.jupyter.widget-view+json": {
       "model_id": "db8a1f61018947afb2cbbdac51f4e681",
       "version_major": 2,
       "version_minor": 0
      },
      "text/plain": [
       "  0%|          | 0/10 [00:00<?, ?it/s]"
      ]
     },
     "metadata": {},
     "output_type": "display_data"
    },
    {
     "data": {
      "application/vnd.jupyter.widget-view+json": {
       "model_id": "7321f8a29e2f42fa8e03196d2ad7f54b",
       "version_major": 2,
       "version_minor": 0
      },
      "text/plain": [
       "  0%|          | 0/10 [00:00<?, ?it/s]"
      ]
     },
     "metadata": {},
     "output_type": "display_data"
    },
    {
     "data": {
      "application/vnd.jupyter.widget-view+json": {
       "model_id": "9b81402078dd4a3d858b4d1f75387ac4",
       "version_major": 2,
       "version_minor": 0
      },
      "text/plain": [
       "  0%|          | 0/10 [00:00<?, ?it/s]"
      ]
     },
     "metadata": {},
     "output_type": "display_data"
    },
    {
     "data": {
      "application/vnd.jupyter.widget-view+json": {
       "model_id": "53f9c04ac0264883a8ba0af3a7185f47",
       "version_major": 2,
       "version_minor": 0
      },
      "text/plain": [
       "  0%|          | 0/10 [00:00<?, ?it/s]"
      ]
     },
     "metadata": {},
     "output_type": "display_data"
    },
    {
     "name": "stdout",
     "output_type": "stream",
     "text": [
      "[05:52:51] WARNING: ../src/learner.cc:1061: Starting in XGBoost 1.3.0, the default evaluation metric used with the objective 'binary:logistic' was changed from 'error' to 'logloss'. Explicitly set eval_metric if you'd like to restore the old behavior.\n",
      "[05:52:54] WARNING: ../src/learner.cc:1061: Starting in XGBoost 1.3.0, the default evaluation metric used with the objective 'binary:logistic' was changed from 'error' to 'logloss'. Explicitly set eval_metric if you'd like to restore the old behavior.\n",
      "[05:52:58] WARNING: ../src/learner.cc:1061: Starting in XGBoost 1.3.0, the default evaluation metric used with the objective 'binary:logistic' was changed from 'error' to 'logloss'. Explicitly set eval_metric if you'd like to restore the old behavior.\n",
      "[05:53:01] WARNING: ../src/learner.cc:1061: Starting in XGBoost 1.3.0, the default evaluation metric used with the objective 'binary:logistic' was changed from 'error' to 'logloss'. Explicitly set eval_metric if you'd like to restore the old behavior.\n",
      "[05:53:04] WARNING: ../src/learner.cc:1061: Starting in XGBoost 1.3.0, the default evaluation metric used with the objective 'binary:logistic' was changed from 'error' to 'logloss'. Explicitly set eval_metric if you'd like to restore the old behavior.\n",
      "[05:53:07] WARNING: ../src/learner.cc:1061: Starting in XGBoost 1.3.0, the default evaluation metric used with the objective 'binary:logistic' was changed from 'error' to 'logloss'. Explicitly set eval_metric if you'd like to restore the old behavior.\n",
      "[05:53:11] WARNING: ../src/learner.cc:1061: Starting in XGBoost 1.3.0, the default evaluation metric used with the objective 'binary:logistic' was changed from 'error' to 'logloss'. Explicitly set eval_metric if you'd like to restore the old behavior.\n",
      "[05:53:14] WARNING: ../src/learner.cc:1061: Starting in XGBoost 1.3.0, the default evaluation metric used with the objective 'binary:logistic' was changed from 'error' to 'logloss'. Explicitly set eval_metric if you'd like to restore the old behavior.\n",
      "[05:53:17] WARNING: ../src/learner.cc:1061: Starting in XGBoost 1.3.0, the default evaluation metric used with the objective 'binary:logistic' was changed from 'error' to 'logloss'. Explicitly set eval_metric if you'd like to restore the old behavior.\n",
      "[05:53:21] WARNING: ../src/learner.cc:1061: Starting in XGBoost 1.3.0, the default evaluation metric used with the objective 'binary:logistic' was changed from 'error' to 'logloss'. Explicitly set eval_metric if you'd like to restore the old behavior.\n"
     ]
    },
    {
     "data": {
      "application/vnd.jupyter.widget-view+json": {
       "model_id": "3390637acb504270bbc1a8066af5322b",
       "version_major": 2,
       "version_minor": 0
      },
      "text/plain": [
       "  0%|          | 0/10 [00:00<?, ?it/s]"
      ]
     },
     "metadata": {},
     "output_type": "display_data"
    },
    {
     "data": {
      "application/vnd.jupyter.widget-view+json": {
       "model_id": "1a17a2ae95454b798eb528fac6d3d31b",
       "version_major": 2,
       "version_minor": 0
      },
      "text/plain": [
       "  0%|          | 0/10 [00:00<?, ?it/s]"
      ]
     },
     "metadata": {},
     "output_type": "display_data"
    },
    {
     "data": {
      "application/vnd.jupyter.widget-view+json": {
       "model_id": "53756aa235384bc89c923160db070da8",
       "version_major": 2,
       "version_minor": 0
      },
      "text/plain": [
       "  0%|          | 0/10 [00:00<?, ?it/s]"
      ]
     },
     "metadata": {},
     "output_type": "display_data"
    },
    {
     "data": {
      "application/vnd.jupyter.widget-view+json": {
       "model_id": "439141e3ce9d404181070bbd1871075e",
       "version_major": 2,
       "version_minor": 0
      },
      "text/plain": [
       "  0%|          | 0/10 [00:00<?, ?it/s]"
      ]
     },
     "metadata": {},
     "output_type": "display_data"
    },
    {
     "name": "stdout",
     "output_type": "stream",
     "text": [
      "[05:53:42] WARNING: ../src/learner.cc:1061: Starting in XGBoost 1.3.0, the default evaluation metric used with the objective 'binary:logistic' was changed from 'error' to 'logloss'. Explicitly set eval_metric if you'd like to restore the old behavior.\n",
      "[05:53:46] WARNING: ../src/learner.cc:1061: Starting in XGBoost 1.3.0, the default evaluation metric used with the objective 'binary:logistic' was changed from 'error' to 'logloss'. Explicitly set eval_metric if you'd like to restore the old behavior.\n",
      "[05:53:49] WARNING: ../src/learner.cc:1061: Starting in XGBoost 1.3.0, the default evaluation metric used with the objective 'binary:logistic' was changed from 'error' to 'logloss'. Explicitly set eval_metric if you'd like to restore the old behavior.\n",
      "[05:53:52] WARNING: ../src/learner.cc:1061: Starting in XGBoost 1.3.0, the default evaluation metric used with the objective 'binary:logistic' was changed from 'error' to 'logloss'. Explicitly set eval_metric if you'd like to restore the old behavior.\n",
      "[05:53:56] WARNING: ../src/learner.cc:1061: Starting in XGBoost 1.3.0, the default evaluation metric used with the objective 'binary:logistic' was changed from 'error' to 'logloss'. Explicitly set eval_metric if you'd like to restore the old behavior.\n",
      "[05:53:59] WARNING: ../src/learner.cc:1061: Starting in XGBoost 1.3.0, the default evaluation metric used with the objective 'binary:logistic' was changed from 'error' to 'logloss'. Explicitly set eval_metric if you'd like to restore the old behavior.\n",
      "[05:54:02] WARNING: ../src/learner.cc:1061: Starting in XGBoost 1.3.0, the default evaluation metric used with the objective 'binary:logistic' was changed from 'error' to 'logloss'. Explicitly set eval_metric if you'd like to restore the old behavior.\n",
      "[05:54:05] WARNING: ../src/learner.cc:1061: Starting in XGBoost 1.3.0, the default evaluation metric used with the objective 'binary:logistic' was changed from 'error' to 'logloss'. Explicitly set eval_metric if you'd like to restore the old behavior.\n",
      "[05:54:08] WARNING: ../src/learner.cc:1061: Starting in XGBoost 1.3.0, the default evaluation metric used with the objective 'binary:logistic' was changed from 'error' to 'logloss'. Explicitly set eval_metric if you'd like to restore the old behavior.\n",
      "[05:54:12] WARNING: ../src/learner.cc:1061: Starting in XGBoost 1.3.0, the default evaluation metric used with the objective 'binary:logistic' was changed from 'error' to 'logloss'. Explicitly set eval_metric if you'd like to restore the old behavior.\n"
     ]
    },
    {
     "data": {
      "application/vnd.jupyter.widget-view+json": {
       "model_id": "175cd028dc0b448da09040758fc49d25",
       "version_major": 2,
       "version_minor": 0
      },
      "text/plain": [
       "  0%|          | 0/10 [00:00<?, ?it/s]"
      ]
     },
     "metadata": {},
     "output_type": "display_data"
    },
    {
     "data": {
      "application/vnd.jupyter.widget-view+json": {
       "model_id": "4b324a8099f345a3940e046ef814af88",
       "version_major": 2,
       "version_minor": 0
      },
      "text/plain": [
       "  0%|          | 0/10 [00:00<?, ?it/s]"
      ]
     },
     "metadata": {},
     "output_type": "display_data"
    },
    {
     "data": {
      "application/vnd.jupyter.widget-view+json": {
       "model_id": "820a4d9dc04c4b95b3faf42e1f2ed98e",
       "version_major": 2,
       "version_minor": 0
      },
      "text/plain": [
       "  0%|          | 0/10 [00:00<?, ?it/s]"
      ]
     },
     "metadata": {},
     "output_type": "display_data"
    },
    {
     "data": {
      "application/vnd.jupyter.widget-view+json": {
       "model_id": "ce99113b79724d8fb628a3e0e43a7694",
       "version_major": 2,
       "version_minor": 0
      },
      "text/plain": [
       "  0%|          | 0/10 [00:00<?, ?it/s]"
      ]
     },
     "metadata": {},
     "output_type": "display_data"
    },
    {
     "name": "stdout",
     "output_type": "stream",
     "text": [
      "[05:54:33] WARNING: ../src/learner.cc:1061: Starting in XGBoost 1.3.0, the default evaluation metric used with the objective 'binary:logistic' was changed from 'error' to 'logloss'. Explicitly set eval_metric if you'd like to restore the old behavior.\n",
      "[05:54:36] WARNING: ../src/learner.cc:1061: Starting in XGBoost 1.3.0, the default evaluation metric used with the objective 'binary:logistic' was changed from 'error' to 'logloss'. Explicitly set eval_metric if you'd like to restore the old behavior.\n",
      "[05:54:39] WARNING: ../src/learner.cc:1061: Starting in XGBoost 1.3.0, the default evaluation metric used with the objective 'binary:logistic' was changed from 'error' to 'logloss'. Explicitly set eval_metric if you'd like to restore the old behavior.\n",
      "[05:54:43] WARNING: ../src/learner.cc:1061: Starting in XGBoost 1.3.0, the default evaluation metric used with the objective 'binary:logistic' was changed from 'error' to 'logloss'. Explicitly set eval_metric if you'd like to restore the old behavior.\n",
      "[05:54:46] WARNING: ../src/learner.cc:1061: Starting in XGBoost 1.3.0, the default evaluation metric used with the objective 'binary:logistic' was changed from 'error' to 'logloss'. Explicitly set eval_metric if you'd like to restore the old behavior.\n",
      "[05:54:50] WARNING: ../src/learner.cc:1061: Starting in XGBoost 1.3.0, the default evaluation metric used with the objective 'binary:logistic' was changed from 'error' to 'logloss'. Explicitly set eval_metric if you'd like to restore the old behavior.\n",
      "[05:54:54] WARNING: ../src/learner.cc:1061: Starting in XGBoost 1.3.0, the default evaluation metric used with the objective 'binary:logistic' was changed from 'error' to 'logloss'. Explicitly set eval_metric if you'd like to restore the old behavior.\n",
      "[05:54:57] WARNING: ../src/learner.cc:1061: Starting in XGBoost 1.3.0, the default evaluation metric used with the objective 'binary:logistic' was changed from 'error' to 'logloss'. Explicitly set eval_metric if you'd like to restore the old behavior.\n",
      "[05:55:00] WARNING: ../src/learner.cc:1061: Starting in XGBoost 1.3.0, the default evaluation metric used with the objective 'binary:logistic' was changed from 'error' to 'logloss'. Explicitly set eval_metric if you'd like to restore the old behavior.\n",
      "[05:55:04] WARNING: ../src/learner.cc:1061: Starting in XGBoost 1.3.0, the default evaluation metric used with the objective 'binary:logistic' was changed from 'error' to 'logloss'. Explicitly set eval_metric if you'd like to restore the old behavior.\n"
     ]
    },
    {
     "data": {
      "application/vnd.jupyter.widget-view+json": {
       "model_id": "6440face4d604a03bade7f2c667c1d16",
       "version_major": 2,
       "version_minor": 0
      },
      "text/plain": [
       "  0%|          | 0/10 [00:00<?, ?it/s]"
      ]
     },
     "metadata": {},
     "output_type": "display_data"
    },
    {
     "data": {
      "application/vnd.jupyter.widget-view+json": {
       "model_id": "32a4b7074a80477397555b32f486c71f",
       "version_major": 2,
       "version_minor": 0
      },
      "text/plain": [
       "  0%|          | 0/10 [00:00<?, ?it/s]"
      ]
     },
     "metadata": {},
     "output_type": "display_data"
    },
    {
     "data": {
      "application/vnd.jupyter.widget-view+json": {
       "model_id": "f242ebbc86eb43a695a31e9b5a60a4a2",
       "version_major": 2,
       "version_minor": 0
      },
      "text/plain": [
       "  0%|          | 0/10 [00:00<?, ?it/s]"
      ]
     },
     "metadata": {},
     "output_type": "display_data"
    },
    {
     "data": {
      "application/vnd.jupyter.widget-view+json": {
       "model_id": "4a1fe7017c774e178bbe4c84e1a37992",
       "version_major": 2,
       "version_minor": 0
      },
      "text/plain": [
       "  0%|          | 0/10 [00:00<?, ?it/s]"
      ]
     },
     "metadata": {},
     "output_type": "display_data"
    },
    {
     "name": "stdout",
     "output_type": "stream",
     "text": [
      "[05:55:24] WARNING: ../src/learner.cc:1061: Starting in XGBoost 1.3.0, the default evaluation metric used with the objective 'binary:logistic' was changed from 'error' to 'logloss'. Explicitly set eval_metric if you'd like to restore the old behavior.\n",
      "[05:55:27] WARNING: ../src/learner.cc:1061: Starting in XGBoost 1.3.0, the default evaluation metric used with the objective 'binary:logistic' was changed from 'error' to 'logloss'. Explicitly set eval_metric if you'd like to restore the old behavior.\n",
      "[05:55:30] WARNING: ../src/learner.cc:1061: Starting in XGBoost 1.3.0, the default evaluation metric used with the objective 'binary:logistic' was changed from 'error' to 'logloss'. Explicitly set eval_metric if you'd like to restore the old behavior.\n",
      "[05:55:33] WARNING: ../src/learner.cc:1061: Starting in XGBoost 1.3.0, the default evaluation metric used with the objective 'binary:logistic' was changed from 'error' to 'logloss'. Explicitly set eval_metric if you'd like to restore the old behavior.\n",
      "[05:55:36] WARNING: ../src/learner.cc:1061: Starting in XGBoost 1.3.0, the default evaluation metric used with the objective 'binary:logistic' was changed from 'error' to 'logloss'. Explicitly set eval_metric if you'd like to restore the old behavior.\n",
      "[05:55:39] WARNING: ../src/learner.cc:1061: Starting in XGBoost 1.3.0, the default evaluation metric used with the objective 'binary:logistic' was changed from 'error' to 'logloss'. Explicitly set eval_metric if you'd like to restore the old behavior.\n",
      "[05:55:42] WARNING: ../src/learner.cc:1061: Starting in XGBoost 1.3.0, the default evaluation metric used with the objective 'binary:logistic' was changed from 'error' to 'logloss'. Explicitly set eval_metric if you'd like to restore the old behavior.\n",
      "[05:55:45] WARNING: ../src/learner.cc:1061: Starting in XGBoost 1.3.0, the default evaluation metric used with the objective 'binary:logistic' was changed from 'error' to 'logloss'. Explicitly set eval_metric if you'd like to restore the old behavior.\n",
      "[05:55:48] WARNING: ../src/learner.cc:1061: Starting in XGBoost 1.3.0, the default evaluation metric used with the objective 'binary:logistic' was changed from 'error' to 'logloss'. Explicitly set eval_metric if you'd like to restore the old behavior.\n",
      "[05:55:51] WARNING: ../src/learner.cc:1061: Starting in XGBoost 1.3.0, the default evaluation metric used with the objective 'binary:logistic' was changed from 'error' to 'logloss'. Explicitly set eval_metric if you'd like to restore the old behavior.\n"
     ]
    },
    {
     "data": {
      "application/vnd.jupyter.widget-view+json": {
       "model_id": "8481d75a71574abd8f2f1c18f7032419",
       "version_major": 2,
       "version_minor": 0
      },
      "text/plain": [
       "  0%|          | 0/10 [00:00<?, ?it/s]"
      ]
     },
     "metadata": {},
     "output_type": "display_data"
    },
    {
     "data": {
      "application/vnd.jupyter.widget-view+json": {
       "model_id": "f1c069b9dcb84e759976688137adbdce",
       "version_major": 2,
       "version_minor": 0
      },
      "text/plain": [
       "  0%|          | 0/10 [00:00<?, ?it/s]"
      ]
     },
     "metadata": {},
     "output_type": "display_data"
    },
    {
     "data": {
      "application/vnd.jupyter.widget-view+json": {
       "model_id": "4df8751eddb34092ac4336341d53f2a6",
       "version_major": 2,
       "version_minor": 0
      },
      "text/plain": [
       "  0%|          | 0/10 [00:00<?, ?it/s]"
      ]
     },
     "metadata": {},
     "output_type": "display_data"
    },
    {
     "data": {
      "application/vnd.jupyter.widget-view+json": {
       "model_id": "11b51fb7fe8341e8b5d513f60bf7eda6",
       "version_major": 2,
       "version_minor": 0
      },
      "text/plain": [
       "  0%|          | 0/10 [00:00<?, ?it/s]"
      ]
     },
     "metadata": {},
     "output_type": "display_data"
    },
    {
     "name": "stdout",
     "output_type": "stream",
     "text": [
      "[05:56:13] WARNING: ../src/learner.cc:1061: Starting in XGBoost 1.3.0, the default evaluation metric used with the objective 'binary:logistic' was changed from 'error' to 'logloss'. Explicitly set eval_metric if you'd like to restore the old behavior.\n",
      "[05:56:16] WARNING: ../src/learner.cc:1061: Starting in XGBoost 1.3.0, the default evaluation metric used with the objective 'binary:logistic' was changed from 'error' to 'logloss'. Explicitly set eval_metric if you'd like to restore the old behavior.\n",
      "[05:56:19] WARNING: ../src/learner.cc:1061: Starting in XGBoost 1.3.0, the default evaluation metric used with the objective 'binary:logistic' was changed from 'error' to 'logloss'. Explicitly set eval_metric if you'd like to restore the old behavior.\n",
      "[05:56:23] WARNING: ../src/learner.cc:1061: Starting in XGBoost 1.3.0, the default evaluation metric used with the objective 'binary:logistic' was changed from 'error' to 'logloss'. Explicitly set eval_metric if you'd like to restore the old behavior.\n",
      "[05:56:27] WARNING: ../src/learner.cc:1061: Starting in XGBoost 1.3.0, the default evaluation metric used with the objective 'binary:logistic' was changed from 'error' to 'logloss'. Explicitly set eval_metric if you'd like to restore the old behavior.\n",
      "[05:56:30] WARNING: ../src/learner.cc:1061: Starting in XGBoost 1.3.0, the default evaluation metric used with the objective 'binary:logistic' was changed from 'error' to 'logloss'. Explicitly set eval_metric if you'd like to restore the old behavior.\n",
      "[05:56:33] WARNING: ../src/learner.cc:1061: Starting in XGBoost 1.3.0, the default evaluation metric used with the objective 'binary:logistic' was changed from 'error' to 'logloss'. Explicitly set eval_metric if you'd like to restore the old behavior.\n",
      "[05:56:36] WARNING: ../src/learner.cc:1061: Starting in XGBoost 1.3.0, the default evaluation metric used with the objective 'binary:logistic' was changed from 'error' to 'logloss'. Explicitly set eval_metric if you'd like to restore the old behavior.\n",
      "[05:56:39] WARNING: ../src/learner.cc:1061: Starting in XGBoost 1.3.0, the default evaluation metric used with the objective 'binary:logistic' was changed from 'error' to 'logloss'. Explicitly set eval_metric if you'd like to restore the old behavior.\n",
      "[05:56:42] WARNING: ../src/learner.cc:1061: Starting in XGBoost 1.3.0, the default evaluation metric used with the objective 'binary:logistic' was changed from 'error' to 'logloss'. Explicitly set eval_metric if you'd like to restore the old behavior.\n"
     ]
    },
    {
     "data": {
      "application/vnd.jupyter.widget-view+json": {
       "model_id": "f0356af4abd74236a943c35758d59b14",
       "version_major": 2,
       "version_minor": 0
      },
      "text/plain": [
       "  0%|          | 0/10 [00:00<?, ?it/s]"
      ]
     },
     "metadata": {},
     "output_type": "display_data"
    },
    {
     "data": {
      "application/vnd.jupyter.widget-view+json": {
       "model_id": "5fe894448d884476b67a3eee0905464c",
       "version_major": 2,
       "version_minor": 0
      },
      "text/plain": [
       "  0%|          | 0/10 [00:00<?, ?it/s]"
      ]
     },
     "metadata": {},
     "output_type": "display_data"
    },
    {
     "data": {
      "application/vnd.jupyter.widget-view+json": {
       "model_id": "4057de1066964055aba67ceea2b75c3a",
       "version_major": 2,
       "version_minor": 0
      },
      "text/plain": [
       "  0%|          | 0/10 [00:00<?, ?it/s]"
      ]
     },
     "metadata": {},
     "output_type": "display_data"
    },
    {
     "data": {
      "application/vnd.jupyter.widget-view+json": {
       "model_id": "94893f0f20934c7c8ae163121abaff70",
       "version_major": 2,
       "version_minor": 0
      },
      "text/plain": [
       "  0%|          | 0/10 [00:00<?, ?it/s]"
      ]
     },
     "metadata": {},
     "output_type": "display_data"
    },
    {
     "name": "stdout",
     "output_type": "stream",
     "text": [
      "[05:57:03] WARNING: ../src/learner.cc:1061: Starting in XGBoost 1.3.0, the default evaluation metric used with the objective 'binary:logistic' was changed from 'error' to 'logloss'. Explicitly set eval_metric if you'd like to restore the old behavior.\n",
      "[05:57:07] WARNING: ../src/learner.cc:1061: Starting in XGBoost 1.3.0, the default evaluation metric used with the objective 'binary:logistic' was changed from 'error' to 'logloss'. Explicitly set eval_metric if you'd like to restore the old behavior.\n",
      "[05:57:10] WARNING: ../src/learner.cc:1061: Starting in XGBoost 1.3.0, the default evaluation metric used with the objective 'binary:logistic' was changed from 'error' to 'logloss'. Explicitly set eval_metric if you'd like to restore the old behavior.\n",
      "[05:57:13] WARNING: ../src/learner.cc:1061: Starting in XGBoost 1.3.0, the default evaluation metric used with the objective 'binary:logistic' was changed from 'error' to 'logloss'. Explicitly set eval_metric if you'd like to restore the old behavior.\n",
      "[05:57:17] WARNING: ../src/learner.cc:1061: Starting in XGBoost 1.3.0, the default evaluation metric used with the objective 'binary:logistic' was changed from 'error' to 'logloss'. Explicitly set eval_metric if you'd like to restore the old behavior.\n",
      "[05:57:21] WARNING: ../src/learner.cc:1061: Starting in XGBoost 1.3.0, the default evaluation metric used with the objective 'binary:logistic' was changed from 'error' to 'logloss'. Explicitly set eval_metric if you'd like to restore the old behavior.\n",
      "[05:57:24] WARNING: ../src/learner.cc:1061: Starting in XGBoost 1.3.0, the default evaluation metric used with the objective 'binary:logistic' was changed from 'error' to 'logloss'. Explicitly set eval_metric if you'd like to restore the old behavior.\n",
      "[05:57:28] WARNING: ../src/learner.cc:1061: Starting in XGBoost 1.3.0, the default evaluation metric used with the objective 'binary:logistic' was changed from 'error' to 'logloss'. Explicitly set eval_metric if you'd like to restore the old behavior.\n",
      "[05:57:31] WARNING: ../src/learner.cc:1061: Starting in XGBoost 1.3.0, the default evaluation metric used with the objective 'binary:logistic' was changed from 'error' to 'logloss'. Explicitly set eval_metric if you'd like to restore the old behavior.\n",
      "[05:57:34] WARNING: ../src/learner.cc:1061: Starting in XGBoost 1.3.0, the default evaluation metric used with the objective 'binary:logistic' was changed from 'error' to 'logloss'. Explicitly set eval_metric if you'd like to restore the old behavior.\n"
     ]
    },
    {
     "data": {
      "application/vnd.jupyter.widget-view+json": {
       "model_id": "93af11ae50fa4296b0cd972aab6d08aa",
       "version_major": 2,
       "version_minor": 0
      },
      "text/plain": [
       "  0%|          | 0/10 [00:00<?, ?it/s]"
      ]
     },
     "metadata": {},
     "output_type": "display_data"
    },
    {
     "data": {
      "application/vnd.jupyter.widget-view+json": {
       "model_id": "40ef289323f64432afecc80b53425024",
       "version_major": 2,
       "version_minor": 0
      },
      "text/plain": [
       "  0%|          | 0/10 [00:00<?, ?it/s]"
      ]
     },
     "metadata": {},
     "output_type": "display_data"
    },
    {
     "data": {
      "application/vnd.jupyter.widget-view+json": {
       "model_id": "29c00ab4bc92451f8e2e4a557fec948a",
       "version_major": 2,
       "version_minor": 0
      },
      "text/plain": [
       "  0%|          | 0/10 [00:00<?, ?it/s]"
      ]
     },
     "metadata": {},
     "output_type": "display_data"
    },
    {
     "data": {
      "application/vnd.jupyter.widget-view+json": {
       "model_id": "9f83fcf2b2dc48dbbd73a220262ea1db",
       "version_major": 2,
       "version_minor": 0
      },
      "text/plain": [
       "  0%|          | 0/10 [00:00<?, ?it/s]"
      ]
     },
     "metadata": {},
     "output_type": "display_data"
    },
    {
     "name": "stdout",
     "output_type": "stream",
     "text": [
      "[05:57:56] WARNING: ../src/learner.cc:1061: Starting in XGBoost 1.3.0, the default evaluation metric used with the objective 'binary:logistic' was changed from 'error' to 'logloss'. Explicitly set eval_metric if you'd like to restore the old behavior.\n",
      "[05:57:59] WARNING: ../src/learner.cc:1061: Starting in XGBoost 1.3.0, the default evaluation metric used with the objective 'binary:logistic' was changed from 'error' to 'logloss'. Explicitly set eval_metric if you'd like to restore the old behavior.\n",
      "[05:58:03] WARNING: ../src/learner.cc:1061: Starting in XGBoost 1.3.0, the default evaluation metric used with the objective 'binary:logistic' was changed from 'error' to 'logloss'. Explicitly set eval_metric if you'd like to restore the old behavior.\n",
      "[05:58:06] WARNING: ../src/learner.cc:1061: Starting in XGBoost 1.3.0, the default evaluation metric used with the objective 'binary:logistic' was changed from 'error' to 'logloss'. Explicitly set eval_metric if you'd like to restore the old behavior.\n",
      "[05:58:10] WARNING: ../src/learner.cc:1061: Starting in XGBoost 1.3.0, the default evaluation metric used with the objective 'binary:logistic' was changed from 'error' to 'logloss'. Explicitly set eval_metric if you'd like to restore the old behavior.\n",
      "[05:58:15] WARNING: ../src/learner.cc:1061: Starting in XGBoost 1.3.0, the default evaluation metric used with the objective 'binary:logistic' was changed from 'error' to 'logloss'. Explicitly set eval_metric if you'd like to restore the old behavior.\n",
      "[05:58:19] WARNING: ../src/learner.cc:1061: Starting in XGBoost 1.3.0, the default evaluation metric used with the objective 'binary:logistic' was changed from 'error' to 'logloss'. Explicitly set eval_metric if you'd like to restore the old behavior.\n",
      "[05:58:23] WARNING: ../src/learner.cc:1061: Starting in XGBoost 1.3.0, the default evaluation metric used with the objective 'binary:logistic' was changed from 'error' to 'logloss'. Explicitly set eval_metric if you'd like to restore the old behavior.\n",
      "[05:58:28] WARNING: ../src/learner.cc:1061: Starting in XGBoost 1.3.0, the default evaluation metric used with the objective 'binary:logistic' was changed from 'error' to 'logloss'. Explicitly set eval_metric if you'd like to restore the old behavior.\n",
      "[05:58:32] WARNING: ../src/learner.cc:1061: Starting in XGBoost 1.3.0, the default evaluation metric used with the objective 'binary:logistic' was changed from 'error' to 'logloss'. Explicitly set eval_metric if you'd like to restore the old behavior.\n"
     ]
    },
    {
     "data": {
      "application/vnd.jupyter.widget-view+json": {
       "model_id": "d31265d9b4434969875d079500365d8e",
       "version_major": 2,
       "version_minor": 0
      },
      "text/plain": [
       "  0%|          | 0/10 [00:00<?, ?it/s]"
      ]
     },
     "metadata": {},
     "output_type": "display_data"
    },
    {
     "data": {
      "application/vnd.jupyter.widget-view+json": {
       "model_id": "576c97871dc54b5181bcf7e24fd208ed",
       "version_major": 2,
       "version_minor": 0
      },
      "text/plain": [
       "  0%|          | 0/10 [00:00<?, ?it/s]"
      ]
     },
     "metadata": {},
     "output_type": "display_data"
    },
    {
     "data": {
      "application/vnd.jupyter.widget-view+json": {
       "model_id": "3bedb7739f85491c9b5b1c0649e6b549",
       "version_major": 2,
       "version_minor": 0
      },
      "text/plain": [
       "  0%|          | 0/10 [00:00<?, ?it/s]"
      ]
     },
     "metadata": {},
     "output_type": "display_data"
    },
    {
     "data": {
      "application/vnd.jupyter.widget-view+json": {
       "model_id": "cb1f396269834698808436f1bbf6e307",
       "version_major": 2,
       "version_minor": 0
      },
      "text/plain": [
       "  0%|          | 0/10 [00:00<?, ?it/s]"
      ]
     },
     "metadata": {},
     "output_type": "display_data"
    },
    {
     "name": "stdout",
     "output_type": "stream",
     "text": [
      "[05:58:55] WARNING: ../src/learner.cc:1061: Starting in XGBoost 1.3.0, the default evaluation metric used with the objective 'binary:logistic' was changed from 'error' to 'logloss'. Explicitly set eval_metric if you'd like to restore the old behavior.\n",
      "[05:58:58] WARNING: ../src/learner.cc:1061: Starting in XGBoost 1.3.0, the default evaluation metric used with the objective 'binary:logistic' was changed from 'error' to 'logloss'. Explicitly set eval_metric if you'd like to restore the old behavior.\n",
      "[05:59:02] WARNING: ../src/learner.cc:1061: Starting in XGBoost 1.3.0, the default evaluation metric used with the objective 'binary:logistic' was changed from 'error' to 'logloss'. Explicitly set eval_metric if you'd like to restore the old behavior.\n",
      "[05:59:05] WARNING: ../src/learner.cc:1061: Starting in XGBoost 1.3.0, the default evaluation metric used with the objective 'binary:logistic' was changed from 'error' to 'logloss'. Explicitly set eval_metric if you'd like to restore the old behavior.\n",
      "[05:59:08] WARNING: ../src/learner.cc:1061: Starting in XGBoost 1.3.0, the default evaluation metric used with the objective 'binary:logistic' was changed from 'error' to 'logloss'. Explicitly set eval_metric if you'd like to restore the old behavior.\n",
      "[05:59:11] WARNING: ../src/learner.cc:1061: Starting in XGBoost 1.3.0, the default evaluation metric used with the objective 'binary:logistic' was changed from 'error' to 'logloss'. Explicitly set eval_metric if you'd like to restore the old behavior.\n",
      "[05:59:15] WARNING: ../src/learner.cc:1061: Starting in XGBoost 1.3.0, the default evaluation metric used with the objective 'binary:logistic' was changed from 'error' to 'logloss'. Explicitly set eval_metric if you'd like to restore the old behavior.\n",
      "[05:59:18] WARNING: ../src/learner.cc:1061: Starting in XGBoost 1.3.0, the default evaluation metric used with the objective 'binary:logistic' was changed from 'error' to 'logloss'. Explicitly set eval_metric if you'd like to restore the old behavior.\n",
      "[05:59:21] WARNING: ../src/learner.cc:1061: Starting in XGBoost 1.3.0, the default evaluation metric used with the objective 'binary:logistic' was changed from 'error' to 'logloss'. Explicitly set eval_metric if you'd like to restore the old behavior.\n",
      "[05:59:28] WARNING: ../src/learner.cc:1061: Starting in XGBoost 1.3.0, the default evaluation metric used with the objective 'binary:logistic' was changed from 'error' to 'logloss'. Explicitly set eval_metric if you'd like to restore the old behavior.\n"
     ]
    }
   ],
   "source": [
    "MLA_wheeze_0 = MLA_selection(Wheeze_dataframe_0, 'Wheeze_0', \"./breathe_set_csv_exp_4/\")\n",
    "MLA_wheeze_5 = MLA_selection(Wheeze_dataframe_5, 'Wheeze_5', \"./breathe_set_csv_exp_4/\")\n",
    "MLA_wheeze_10 = MLA_selection(Wheeze_dataframe_10, 'Wheeze_10', \"./breathe_set_csv_exp_4/\")\n",
    "MLA_wheeze_15 = MLA_selection(Wheeze_dataframe_15, 'Wheeze_15', \"./breathe_set_csv_exp_4/\")\n",
    "MLA_wheeze_20 = MLA_selection(Wheeze_dataframe_20, 'Wheeze_20', \"./breathe_set_csv_exp_4/\")\n",
    "MLA_wheeze_25 = MLA_selection(Wheeze_dataframe_25, 'Wheeze_25', \"./breathe_set_csv_exp_4/\")\n",
    "MLA_wheeze_30 = MLA_selection(Wheeze_dataframe_30, 'Wheeze_30', \"./breathe_set_csv_exp_4/\")\n",
    "MLA_wheeze_35 = MLA_selection(Wheeze_dataframe_35, 'Wheeze_35', \"./breathe_set_csv_exp_4/\")\n",
    "MLA_wheeze_40 = MLA_selection(Wheeze_dataframe_40, 'Wheeze_40', \"./breathe_set_csv_exp_4/\")\n",
    "MLA_wheeze_45 = MLA_selection(Wheeze_dataframe_45, 'Wheeze_45', \"./breathe_set_csv_exp_4/\")\n",
    "MLA_wheeze_50 = MLA_selection(Wheeze_dataframe_50, 'Wheeze_50', \"./breathe_set_csv_exp_4/\")"
   ]
  },
  {
   "cell_type": "code",
   "execution_count": 63,
   "metadata": {
    "collapsed": true
   },
   "outputs": [
    {
     "data": {
      "text/html": [
       "<div>\n",
       "<style scoped>\n",
       "    .dataframe tbody tr th:only-of-type {\n",
       "        vertical-align: middle;\n",
       "    }\n",
       "\n",
       "    .dataframe tbody tr th {\n",
       "        vertical-align: top;\n",
       "    }\n",
       "\n",
       "    .dataframe thead th {\n",
       "        text-align: right;\n",
       "    }\n",
       "</style>\n",
       "<table border=\"1\" class=\"dataframe\">\n",
       "  <thead>\n",
       "    <tr style=\"text-align: right;\">\n",
       "      <th></th>\n",
       "      <th>MLA Name</th>\n",
       "      <th>MLA Parameters</th>\n",
       "      <th>MLA Train Accuracy</th>\n",
       "      <th>MLA Train Accuracy Mean</th>\n",
       "      <th>MLA Test Accuracy</th>\n",
       "      <th>MLA Test Accuracy Mean</th>\n",
       "      <th>MLA Test Accuracy Std</th>\n",
       "    </tr>\n",
       "  </thead>\n",
       "  <tbody>\n",
       "    <tr>\n",
       "      <th>0</th>\n",
       "      <td>RandomForestClassifier</td>\n",
       "      <td>{'bootstrap': True, 'ccp_alpha': 0.0, 'class_w...</td>\n",
       "      <td>[1.0, 1.0, 1.0, 1.0, 1.0, 1.0, 1.0, 1.0, 1.0, ...</td>\n",
       "      <td>1</td>\n",
       "      <td>[0.8979591836734694, 0.8067226890756303, 0.878...</td>\n",
       "      <td>0.825883</td>\n",
       "      <td>0.0498517</td>\n",
       "    </tr>\n",
       "    <tr>\n",
       "      <th>3</th>\n",
       "      <td>XGBClassifier</td>\n",
       "      <td>{'objective': 'binary:logistic', 'use_label_en...</td>\n",
       "      <td>[1.0, 1.0, 1.0, 1.0, 1.0, 1.0, 1.0, 1.0, 1.0, ...</td>\n",
       "      <td>1</td>\n",
       "      <td>[0.8979591836734694, 0.7941176470588235, 0.867...</td>\n",
       "      <td>0.824202</td>\n",
       "      <td>0.0438369</td>\n",
       "    </tr>\n",
       "    <tr>\n",
       "      <th>1</th>\n",
       "      <td>SVC</td>\n",
       "      <td>{'C': 1.0, 'break_ties': False, 'cache_size': ...</td>\n",
       "      <td>[0.9450889404485692, 0.9461538461538461, 0.944...</td>\n",
       "      <td>0.95146</td>\n",
       "      <td>[0.8857142857142857, 0.8025210084033614, 0.820...</td>\n",
       "      <td>0.811478</td>\n",
       "      <td>0.0490403</td>\n",
       "    </tr>\n",
       "    <tr>\n",
       "      <th>2</th>\n",
       "      <td>LinearSVC</td>\n",
       "      <td>{'C': 1.0, 'class_weight': None, 'dual': True,...</td>\n",
       "      <td>[0.877030162412993, 0.8838461538461538, 0.8728...</td>\n",
       "      <td>0.885553</td>\n",
       "      <td>[0.9061224489795918, 0.7773109243697479, 0.859...</td>\n",
       "      <td>0.797247</td>\n",
       "      <td>0.0590706</td>\n",
       "    </tr>\n",
       "  </tbody>\n",
       "</table>\n",
       "</div>"
      ],
      "text/plain": [
       "                 MLA Name                                     MLA Parameters  \\\n",
       "0  RandomForestClassifier  {'bootstrap': True, 'ccp_alpha': 0.0, 'class_w...   \n",
       "3           XGBClassifier  {'objective': 'binary:logistic', 'use_label_en...   \n",
       "1                     SVC  {'C': 1.0, 'break_ties': False, 'cache_size': ...   \n",
       "2               LinearSVC  {'C': 1.0, 'class_weight': None, 'dual': True,...   \n",
       "\n",
       "                                  MLA Train Accuracy MLA Train Accuracy Mean  \\\n",
       "0  [1.0, 1.0, 1.0, 1.0, 1.0, 1.0, 1.0, 1.0, 1.0, ...                       1   \n",
       "3  [1.0, 1.0, 1.0, 1.0, 1.0, 1.0, 1.0, 1.0, 1.0, ...                       1   \n",
       "1  [0.9450889404485692, 0.9461538461538461, 0.944...                 0.95146   \n",
       "2  [0.877030162412993, 0.8838461538461538, 0.8728...                0.885553   \n",
       "\n",
       "                                   MLA Test Accuracy MLA Test Accuracy Mean  \\\n",
       "0  [0.8979591836734694, 0.8067226890756303, 0.878...               0.825883   \n",
       "3  [0.8979591836734694, 0.7941176470588235, 0.867...               0.824202   \n",
       "1  [0.8857142857142857, 0.8025210084033614, 0.820...               0.811478   \n",
       "2  [0.9061224489795918, 0.7773109243697479, 0.859...               0.797247   \n",
       "\n",
       "  MLA Test Accuracy Std  \n",
       "0             0.0498517  \n",
       "3             0.0438369  \n",
       "1             0.0490403  \n",
       "2             0.0590706  "
      ]
     },
     "execution_count": 63,
     "metadata": {},
     "output_type": "execute_result"
    }
   ],
   "source": [
    "MLA_wheeze_0"
   ]
  },
  {
   "cell_type": "code",
   "execution_count": 64,
   "metadata": {
    "collapsed": true
   },
   "outputs": [
    {
     "data": {
      "text/html": [
       "<div>\n",
       "<style scoped>\n",
       "    .dataframe tbody tr th:only-of-type {\n",
       "        vertical-align: middle;\n",
       "    }\n",
       "\n",
       "    .dataframe tbody tr th {\n",
       "        vertical-align: top;\n",
       "    }\n",
       "\n",
       "    .dataframe thead th {\n",
       "        text-align: right;\n",
       "    }\n",
       "</style>\n",
       "<table border=\"1\" class=\"dataframe\">\n",
       "  <thead>\n",
       "    <tr style=\"text-align: right;\">\n",
       "      <th></th>\n",
       "      <th>MLA Name</th>\n",
       "      <th>MLA Parameters</th>\n",
       "      <th>MLA Train Accuracy</th>\n",
       "      <th>MLA Train Accuracy Mean</th>\n",
       "      <th>MLA Test Accuracy</th>\n",
       "      <th>MLA Test Accuracy Mean</th>\n",
       "      <th>MLA Test Accuracy Std</th>\n",
       "    </tr>\n",
       "  </thead>\n",
       "  <tbody>\n",
       "    <tr>\n",
       "      <th>3</th>\n",
       "      <td>XGBClassifier</td>\n",
       "      <td>{'objective': 'binary:logistic', 'use_label_en...</td>\n",
       "      <td>[1.0, 1.0, 1.0, 1.0, 1.0, 1.0, 1.0, 1.0, 1.0, ...</td>\n",
       "      <td>1</td>\n",
       "      <td>[0.9061224489795918, 0.7899159663865546, 0.851...</td>\n",
       "      <td>0.8227</td>\n",
       "      <td>0.052671</td>\n",
       "    </tr>\n",
       "    <tr>\n",
       "      <th>0</th>\n",
       "      <td>RandomForestClassifier</td>\n",
       "      <td>{'bootstrap': True, 'ccp_alpha': 0.0, 'class_w...</td>\n",
       "      <td>[1.0, 1.0, 1.0, 1.0, 1.0, 1.0, 1.0, 1.0, 1.0, ...</td>\n",
       "      <td>1</td>\n",
       "      <td>[0.9061224489795918, 0.8025210084033614, 0.859...</td>\n",
       "      <td>0.822147</td>\n",
       "      <td>0.0534777</td>\n",
       "    </tr>\n",
       "    <tr>\n",
       "      <th>1</th>\n",
       "      <td>SVC</td>\n",
       "      <td>{'C': 1.0, 'break_ties': False, 'cache_size': ...</td>\n",
       "      <td>[0.9466357308584686, 0.9484615384615385, 0.948...</td>\n",
       "      <td>0.951981</td>\n",
       "      <td>[0.8816326530612245, 0.8277310924369747, 0.824...</td>\n",
       "      <td>0.811212</td>\n",
       "      <td>0.0552687</td>\n",
       "    </tr>\n",
       "    <tr>\n",
       "      <th>2</th>\n",
       "      <td>LinearSVC</td>\n",
       "      <td>{'C': 1.0, 'class_weight': None, 'dual': True,...</td>\n",
       "      <td>[0.8847641144624904, 0.89, 0.8806552262090483,...</td>\n",
       "      <td>0.893351</td>\n",
       "      <td>[0.9102040816326531, 0.8109243697478992, 0.851...</td>\n",
       "      <td>0.808739</td>\n",
       "      <td>0.0588626</td>\n",
       "    </tr>\n",
       "  </tbody>\n",
       "</table>\n",
       "</div>"
      ],
      "text/plain": [
       "                 MLA Name                                     MLA Parameters  \\\n",
       "3           XGBClassifier  {'objective': 'binary:logistic', 'use_label_en...   \n",
       "0  RandomForestClassifier  {'bootstrap': True, 'ccp_alpha': 0.0, 'class_w...   \n",
       "1                     SVC  {'C': 1.0, 'break_ties': False, 'cache_size': ...   \n",
       "2               LinearSVC  {'C': 1.0, 'class_weight': None, 'dual': True,...   \n",
       "\n",
       "                                  MLA Train Accuracy MLA Train Accuracy Mean  \\\n",
       "3  [1.0, 1.0, 1.0, 1.0, 1.0, 1.0, 1.0, 1.0, 1.0, ...                       1   \n",
       "0  [1.0, 1.0, 1.0, 1.0, 1.0, 1.0, 1.0, 1.0, 1.0, ...                       1   \n",
       "1  [0.9466357308584686, 0.9484615384615385, 0.948...                0.951981   \n",
       "2  [0.8847641144624904, 0.89, 0.8806552262090483,...                0.893351   \n",
       "\n",
       "                                   MLA Test Accuracy MLA Test Accuracy Mean  \\\n",
       "3  [0.9061224489795918, 0.7899159663865546, 0.851...                 0.8227   \n",
       "0  [0.9061224489795918, 0.8025210084033614, 0.859...               0.822147   \n",
       "1  [0.8816326530612245, 0.8277310924369747, 0.824...               0.811212   \n",
       "2  [0.9102040816326531, 0.8109243697478992, 0.851...               0.808739   \n",
       "\n",
       "  MLA Test Accuracy Std  \n",
       "3              0.052671  \n",
       "0             0.0534777  \n",
       "1             0.0552687  \n",
       "2             0.0588626  "
      ]
     },
     "execution_count": 64,
     "metadata": {},
     "output_type": "execute_result"
    }
   ],
   "source": [
    "MLA_wheeze_5"
   ]
  },
  {
   "cell_type": "code",
   "execution_count": 65,
   "metadata": {
    "collapsed": true
   },
   "outputs": [
    {
     "data": {
      "text/html": [
       "<div>\n",
       "<style scoped>\n",
       "    .dataframe tbody tr th:only-of-type {\n",
       "        vertical-align: middle;\n",
       "    }\n",
       "\n",
       "    .dataframe tbody tr th {\n",
       "        vertical-align: top;\n",
       "    }\n",
       "\n",
       "    .dataframe thead th {\n",
       "        text-align: right;\n",
       "    }\n",
       "</style>\n",
       "<table border=\"1\" class=\"dataframe\">\n",
       "  <thead>\n",
       "    <tr style=\"text-align: right;\">\n",
       "      <th></th>\n",
       "      <th>MLA Name</th>\n",
       "      <th>MLA Parameters</th>\n",
       "      <th>MLA Train Accuracy</th>\n",
       "      <th>MLA Train Accuracy Mean</th>\n",
       "      <th>MLA Test Accuracy</th>\n",
       "      <th>MLA Test Accuracy Mean</th>\n",
       "      <th>MLA Test Accuracy Std</th>\n",
       "    </tr>\n",
       "  </thead>\n",
       "  <tbody>\n",
       "    <tr>\n",
       "      <th>3</th>\n",
       "      <td>XGBClassifier</td>\n",
       "      <td>{'objective': 'binary:logistic', 'use_label_en...</td>\n",
       "      <td>[1.0, 1.0, 1.0, 0.9992125984251968, 1.0, 1.0, ...</td>\n",
       "      <td>0.999845</td>\n",
       "      <td>[0.9183673469387755, 0.8067226890756303, 0.847...</td>\n",
       "      <td>0.826877</td>\n",
       "      <td>0.0522997</td>\n",
       "    </tr>\n",
       "    <tr>\n",
       "      <th>1</th>\n",
       "      <td>SVC</td>\n",
       "      <td>{'C': 1.0, 'break_ties': False, 'cache_size': ...</td>\n",
       "      <td>[0.945862335653519, 0.9476923076923077, 0.9492...</td>\n",
       "      <td>0.951909</td>\n",
       "      <td>[0.9061224489795918, 0.8613445378151261, 0.859...</td>\n",
       "      <td>0.825491</td>\n",
       "      <td>0.0520221</td>\n",
       "    </tr>\n",
       "    <tr>\n",
       "      <th>0</th>\n",
       "      <td>RandomForestClassifier</td>\n",
       "      <td>{'bootstrap': True, 'ccp_alpha': 0.0, 'class_w...</td>\n",
       "      <td>[1.0, 1.0, 1.0, 1.0, 1.0, 1.0, 1.0, 1.0, 1.0, ...</td>\n",
       "      <td>1</td>\n",
       "      <td>[0.9224489795918367, 0.7983193277310925, 0.875...</td>\n",
       "      <td>0.82279</td>\n",
       "      <td>0.0623617</td>\n",
       "    </tr>\n",
       "    <tr>\n",
       "      <th>2</th>\n",
       "      <td>LinearSVC</td>\n",
       "      <td>{'C': 1.0, 'class_weight': None, 'dual': True,...</td>\n",
       "      <td>[0.8863109048723898, 0.8838461538461538, 0.876...</td>\n",
       "      <td>0.888271</td>\n",
       "      <td>[0.8857142857142857, 0.7352941176470589, 0.859...</td>\n",
       "      <td>0.79629</td>\n",
       "      <td>0.0592915</td>\n",
       "    </tr>\n",
       "  </tbody>\n",
       "</table>\n",
       "</div>"
      ],
      "text/plain": [
       "                 MLA Name                                     MLA Parameters  \\\n",
       "3           XGBClassifier  {'objective': 'binary:logistic', 'use_label_en...   \n",
       "1                     SVC  {'C': 1.0, 'break_ties': False, 'cache_size': ...   \n",
       "0  RandomForestClassifier  {'bootstrap': True, 'ccp_alpha': 0.0, 'class_w...   \n",
       "2               LinearSVC  {'C': 1.0, 'class_weight': None, 'dual': True,...   \n",
       "\n",
       "                                  MLA Train Accuracy MLA Train Accuracy Mean  \\\n",
       "3  [1.0, 1.0, 1.0, 0.9992125984251968, 1.0, 1.0, ...                0.999845   \n",
       "1  [0.945862335653519, 0.9476923076923077, 0.9492...                0.951909   \n",
       "0  [1.0, 1.0, 1.0, 1.0, 1.0, 1.0, 1.0, 1.0, 1.0, ...                       1   \n",
       "2  [0.8863109048723898, 0.8838461538461538, 0.876...                0.888271   \n",
       "\n",
       "                                   MLA Test Accuracy MLA Test Accuracy Mean  \\\n",
       "3  [0.9183673469387755, 0.8067226890756303, 0.847...               0.826877   \n",
       "1  [0.9061224489795918, 0.8613445378151261, 0.859...               0.825491   \n",
       "0  [0.9224489795918367, 0.7983193277310925, 0.875...                0.82279   \n",
       "2  [0.8857142857142857, 0.7352941176470589, 0.859...                0.79629   \n",
       "\n",
       "  MLA Test Accuracy Std  \n",
       "3             0.0522997  \n",
       "1             0.0520221  \n",
       "0             0.0623617  \n",
       "2             0.0592915  "
      ]
     },
     "execution_count": 65,
     "metadata": {},
     "output_type": "execute_result"
    }
   ],
   "source": [
    "MLA_wheeze_10"
   ]
  },
  {
   "cell_type": "code",
   "execution_count": 66,
   "metadata": {
    "collapsed": true
   },
   "outputs": [
    {
     "data": {
      "text/html": [
       "<div>\n",
       "<style scoped>\n",
       "    .dataframe tbody tr th:only-of-type {\n",
       "        vertical-align: middle;\n",
       "    }\n",
       "\n",
       "    .dataframe tbody tr th {\n",
       "        vertical-align: top;\n",
       "    }\n",
       "\n",
       "    .dataframe thead th {\n",
       "        text-align: right;\n",
       "    }\n",
       "</style>\n",
       "<table border=\"1\" class=\"dataframe\">\n",
       "  <thead>\n",
       "    <tr style=\"text-align: right;\">\n",
       "      <th></th>\n",
       "      <th>MLA Name</th>\n",
       "      <th>MLA Parameters</th>\n",
       "      <th>MLA Train Accuracy</th>\n",
       "      <th>MLA Train Accuracy Mean</th>\n",
       "      <th>MLA Test Accuracy</th>\n",
       "      <th>MLA Test Accuracy Mean</th>\n",
       "      <th>MLA Test Accuracy Std</th>\n",
       "    </tr>\n",
       "  </thead>\n",
       "  <tbody>\n",
       "    <tr>\n",
       "      <th>3</th>\n",
       "      <td>XGBClassifier</td>\n",
       "      <td>{'objective': 'binary:logistic', 'use_label_en...</td>\n",
       "      <td>[1.0, 1.0, 1.0, 0.9992125984251968, 1.0, 1.0, ...</td>\n",
       "      <td>0.999921</td>\n",
       "      <td>[0.9346938775510204, 0.8319327731092437, 0.875...</td>\n",
       "      <td>0.842104</td>\n",
       "      <td>0.0498777</td>\n",
       "    </tr>\n",
       "    <tr>\n",
       "      <th>0</th>\n",
       "      <td>RandomForestClassifier</td>\n",
       "      <td>{'bootstrap': True, 'ccp_alpha': 0.0, 'class_w...</td>\n",
       "      <td>[1.0, 1.0, 1.0, 1.0, 1.0, 1.0, 1.0, 1.0, 1.0, ...</td>\n",
       "      <td>1</td>\n",
       "      <td>[0.9224489795918367, 0.8151260504201681, 0.855...</td>\n",
       "      <td>0.838738</td>\n",
       "      <td>0.0476872</td>\n",
       "    </tr>\n",
       "    <tr>\n",
       "      <th>1</th>\n",
       "      <td>SVC</td>\n",
       "      <td>{'C': 1.0, 'break_ties': False, 'cache_size': ...</td>\n",
       "      <td>[0.9559164733178654, 0.95, 0.9492979719188768,...</td>\n",
       "      <td>0.957191</td>\n",
       "      <td>[0.9061224489795918, 0.8613445378151261, 0.859...</td>\n",
       "      <td>0.824198</td>\n",
       "      <td>0.0567637</td>\n",
       "    </tr>\n",
       "    <tr>\n",
       "      <th>2</th>\n",
       "      <td>LinearSVC</td>\n",
       "      <td>{'C': 1.0, 'class_weight': None, 'dual': True,...</td>\n",
       "      <td>[0.8847641144624904, 0.8923076923076924, 0.882...</td>\n",
       "      <td>0.892286</td>\n",
       "      <td>[0.889795918367347, 0.7563025210084033, 0.8398...</td>\n",
       "      <td>0.808507</td>\n",
       "      <td>0.0559755</td>\n",
       "    </tr>\n",
       "  </tbody>\n",
       "</table>\n",
       "</div>"
      ],
      "text/plain": [
       "                 MLA Name                                     MLA Parameters  \\\n",
       "3           XGBClassifier  {'objective': 'binary:logistic', 'use_label_en...   \n",
       "0  RandomForestClassifier  {'bootstrap': True, 'ccp_alpha': 0.0, 'class_w...   \n",
       "1                     SVC  {'C': 1.0, 'break_ties': False, 'cache_size': ...   \n",
       "2               LinearSVC  {'C': 1.0, 'class_weight': None, 'dual': True,...   \n",
       "\n",
       "                                  MLA Train Accuracy MLA Train Accuracy Mean  \\\n",
       "3  [1.0, 1.0, 1.0, 0.9992125984251968, 1.0, 1.0, ...                0.999921   \n",
       "0  [1.0, 1.0, 1.0, 1.0, 1.0, 1.0, 1.0, 1.0, 1.0, ...                       1   \n",
       "1  [0.9559164733178654, 0.95, 0.9492979719188768,...                0.957191   \n",
       "2  [0.8847641144624904, 0.8923076923076924, 0.882...                0.892286   \n",
       "\n",
       "                                   MLA Test Accuracy MLA Test Accuracy Mean  \\\n",
       "3  [0.9346938775510204, 0.8319327731092437, 0.875...               0.842104   \n",
       "0  [0.9224489795918367, 0.8151260504201681, 0.855...               0.838738   \n",
       "1  [0.9061224489795918, 0.8613445378151261, 0.859...               0.824198   \n",
       "2  [0.889795918367347, 0.7563025210084033, 0.8398...               0.808507   \n",
       "\n",
       "  MLA Test Accuracy Std  \n",
       "3             0.0498777  \n",
       "0             0.0476872  \n",
       "1             0.0567637  \n",
       "2             0.0559755  "
      ]
     },
     "execution_count": 66,
     "metadata": {},
     "output_type": "execute_result"
    }
   ],
   "source": [
    "MLA_wheeze_15"
   ]
  },
  {
   "cell_type": "code",
   "execution_count": 67,
   "metadata": {
    "collapsed": true
   },
   "outputs": [
    {
     "data": {
      "text/html": [
       "<div>\n",
       "<style scoped>\n",
       "    .dataframe tbody tr th:only-of-type {\n",
       "        vertical-align: middle;\n",
       "    }\n",
       "\n",
       "    .dataframe tbody tr th {\n",
       "        vertical-align: top;\n",
       "    }\n",
       "\n",
       "    .dataframe thead th {\n",
       "        text-align: right;\n",
       "    }\n",
       "</style>\n",
       "<table border=\"1\" class=\"dataframe\">\n",
       "  <thead>\n",
       "    <tr style=\"text-align: right;\">\n",
       "      <th></th>\n",
       "      <th>MLA Name</th>\n",
       "      <th>MLA Parameters</th>\n",
       "      <th>MLA Train Accuracy</th>\n",
       "      <th>MLA Train Accuracy Mean</th>\n",
       "      <th>MLA Test Accuracy</th>\n",
       "      <th>MLA Test Accuracy Mean</th>\n",
       "      <th>MLA Test Accuracy Std</th>\n",
       "    </tr>\n",
       "  </thead>\n",
       "  <tbody>\n",
       "    <tr>\n",
       "      <th>3</th>\n",
       "      <td>XGBClassifier</td>\n",
       "      <td>{'objective': 'binary:logistic', 'use_label_en...</td>\n",
       "      <td>[1.0, 1.0, 1.0, 0.9992125984251968, 1.0, 1.0, ...</td>\n",
       "      <td>0.999921</td>\n",
       "      <td>[0.9306122448979591, 0.8487394957983193, 0.875...</td>\n",
       "      <td>0.845931</td>\n",
       "      <td>0.0498238</td>\n",
       "    </tr>\n",
       "    <tr>\n",
       "      <th>0</th>\n",
       "      <td>RandomForestClassifier</td>\n",
       "      <td>{'bootstrap': True, 'ccp_alpha': 0.0, 'class_w...</td>\n",
       "      <td>[1.0, 1.0, 1.0, 1.0, 1.0, 1.0, 1.0, 1.0, 1.0, ...</td>\n",
       "      <td>1</td>\n",
       "      <td>[0.9306122448979591, 0.8529411764705882, 0.875...</td>\n",
       "      <td>0.845395</td>\n",
       "      <td>0.0520998</td>\n",
       "    </tr>\n",
       "    <tr>\n",
       "      <th>1</th>\n",
       "      <td>SVC</td>\n",
       "      <td>{'C': 1.0, 'break_ties': False, 'cache_size': ...</td>\n",
       "      <td>[0.9551430781129157, 0.9507692307692308, 0.956...</td>\n",
       "      <td>0.960132</td>\n",
       "      <td>[0.9224489795918367, 0.8697478991596639, 0.863...</td>\n",
       "      <td>0.834722</td>\n",
       "      <td>0.0555252</td>\n",
       "    </tr>\n",
       "    <tr>\n",
       "      <th>2</th>\n",
       "      <td>LinearSVC</td>\n",
       "      <td>{'C': 1.0, 'class_weight': None, 'dual': True,...</td>\n",
       "      <td>[0.8824439288476411, 0.8953846153846153, 0.884...</td>\n",
       "      <td>0.889604</td>\n",
       "      <td>[0.9061224489795918, 0.7647058823529411, 0.843...</td>\n",
       "      <td>0.817977</td>\n",
       "      <td>0.0452526</td>\n",
       "    </tr>\n",
       "  </tbody>\n",
       "</table>\n",
       "</div>"
      ],
      "text/plain": [
       "                 MLA Name                                     MLA Parameters  \\\n",
       "3           XGBClassifier  {'objective': 'binary:logistic', 'use_label_en...   \n",
       "0  RandomForestClassifier  {'bootstrap': True, 'ccp_alpha': 0.0, 'class_w...   \n",
       "1                     SVC  {'C': 1.0, 'break_ties': False, 'cache_size': ...   \n",
       "2               LinearSVC  {'C': 1.0, 'class_weight': None, 'dual': True,...   \n",
       "\n",
       "                                  MLA Train Accuracy MLA Train Accuracy Mean  \\\n",
       "3  [1.0, 1.0, 1.0, 0.9992125984251968, 1.0, 1.0, ...                0.999921   \n",
       "0  [1.0, 1.0, 1.0, 1.0, 1.0, 1.0, 1.0, 1.0, 1.0, ...                       1   \n",
       "1  [0.9551430781129157, 0.9507692307692308, 0.956...                0.960132   \n",
       "2  [0.8824439288476411, 0.8953846153846153, 0.884...                0.889604   \n",
       "\n",
       "                                   MLA Test Accuracy MLA Test Accuracy Mean  \\\n",
       "3  [0.9306122448979591, 0.8487394957983193, 0.875...               0.845931   \n",
       "0  [0.9306122448979591, 0.8529411764705882, 0.875...               0.845395   \n",
       "1  [0.9224489795918367, 0.8697478991596639, 0.863...               0.834722   \n",
       "2  [0.9061224489795918, 0.7647058823529411, 0.843...               0.817977   \n",
       "\n",
       "  MLA Test Accuracy Std  \n",
       "3             0.0498238  \n",
       "0             0.0520998  \n",
       "1             0.0555252  \n",
       "2             0.0452526  "
      ]
     },
     "execution_count": 67,
     "metadata": {},
     "output_type": "execute_result"
    }
   ],
   "source": [
    "MLA_wheeze_20"
   ]
  },
  {
   "cell_type": "code",
   "execution_count": 68,
   "metadata": {
    "collapsed": true
   },
   "outputs": [
    {
     "data": {
      "text/html": [
       "<div>\n",
       "<style scoped>\n",
       "    .dataframe tbody tr th:only-of-type {\n",
       "        vertical-align: middle;\n",
       "    }\n",
       "\n",
       "    .dataframe tbody tr th {\n",
       "        vertical-align: top;\n",
       "    }\n",
       "\n",
       "    .dataframe thead th {\n",
       "        text-align: right;\n",
       "    }\n",
       "</style>\n",
       "<table border=\"1\" class=\"dataframe\">\n",
       "  <thead>\n",
       "    <tr style=\"text-align: right;\">\n",
       "      <th></th>\n",
       "      <th>MLA Name</th>\n",
       "      <th>MLA Parameters</th>\n",
       "      <th>MLA Train Accuracy</th>\n",
       "      <th>MLA Train Accuracy Mean</th>\n",
       "      <th>MLA Test Accuracy</th>\n",
       "      <th>MLA Test Accuracy Mean</th>\n",
       "      <th>MLA Test Accuracy Std</th>\n",
       "    </tr>\n",
       "  </thead>\n",
       "  <tbody>\n",
       "    <tr>\n",
       "      <th>3</th>\n",
       "      <td>XGBClassifier</td>\n",
       "      <td>{'objective': 'binary:logistic', 'use_label_en...</td>\n",
       "      <td>[1.0, 1.0, 1.0, 1.0, 1.0, 1.0, 1.0, 1.0, 1.0, ...</td>\n",
       "      <td>1</td>\n",
       "      <td>[0.9306122448979591, 0.8403361344537815, 0.867...</td>\n",
       "      <td>0.844822</td>\n",
       "      <td>0.0493536</td>\n",
       "    </tr>\n",
       "    <tr>\n",
       "      <th>0</th>\n",
       "      <td>RandomForestClassifier</td>\n",
       "      <td>{'bootstrap': True, 'ccp_alpha': 0.0, 'class_w...</td>\n",
       "      <td>[1.0, 1.0, 1.0, 1.0, 1.0, 1.0, 1.0, 1.0, 1.0, ...</td>\n",
       "      <td>1</td>\n",
       "      <td>[0.9346938775510204, 0.8445378151260504, 0.859...</td>\n",
       "      <td>0.842665</td>\n",
       "      <td>0.0478151</td>\n",
       "    </tr>\n",
       "    <tr>\n",
       "      <th>1</th>\n",
       "      <td>SVC</td>\n",
       "      <td>{'C': 1.0, 'break_ties': False, 'cache_size': ...</td>\n",
       "      <td>[0.9621036349574633, 0.9607692307692308, 0.961...</td>\n",
       "      <td>0.966538</td>\n",
       "      <td>[0.926530612244898, 0.8529411764705882, 0.8164...</td>\n",
       "      <td>0.837902</td>\n",
       "      <td>0.0519563</td>\n",
       "    </tr>\n",
       "    <tr>\n",
       "      <th>2</th>\n",
       "      <td>LinearSVC</td>\n",
       "      <td>{'C': 1.0, 'class_weight': None, 'dual': True,...</td>\n",
       "      <td>[0.8870843000773395, 0.8915384615384615, 0.892...</td>\n",
       "      <td>0.891205</td>\n",
       "      <td>[0.8857142857142857, 0.7563025210084033, 0.812...</td>\n",
       "      <td>0.804974</td>\n",
       "      <td>0.0477323</td>\n",
       "    </tr>\n",
       "  </tbody>\n",
       "</table>\n",
       "</div>"
      ],
      "text/plain": [
       "                 MLA Name                                     MLA Parameters  \\\n",
       "3           XGBClassifier  {'objective': 'binary:logistic', 'use_label_en...   \n",
       "0  RandomForestClassifier  {'bootstrap': True, 'ccp_alpha': 0.0, 'class_w...   \n",
       "1                     SVC  {'C': 1.0, 'break_ties': False, 'cache_size': ...   \n",
       "2               LinearSVC  {'C': 1.0, 'class_weight': None, 'dual': True,...   \n",
       "\n",
       "                                  MLA Train Accuracy MLA Train Accuracy Mean  \\\n",
       "3  [1.0, 1.0, 1.0, 1.0, 1.0, 1.0, 1.0, 1.0, 1.0, ...                       1   \n",
       "0  [1.0, 1.0, 1.0, 1.0, 1.0, 1.0, 1.0, 1.0, 1.0, ...                       1   \n",
       "1  [0.9621036349574633, 0.9607692307692308, 0.961...                0.966538   \n",
       "2  [0.8870843000773395, 0.8915384615384615, 0.892...                0.891205   \n",
       "\n",
       "                                   MLA Test Accuracy MLA Test Accuracy Mean  \\\n",
       "3  [0.9306122448979591, 0.8403361344537815, 0.867...               0.844822   \n",
       "0  [0.9346938775510204, 0.8445378151260504, 0.859...               0.842665   \n",
       "1  [0.926530612244898, 0.8529411764705882, 0.8164...               0.837902   \n",
       "2  [0.8857142857142857, 0.7563025210084033, 0.812...               0.804974   \n",
       "\n",
       "  MLA Test Accuracy Std  \n",
       "3             0.0493536  \n",
       "0             0.0478151  \n",
       "1             0.0519563  \n",
       "2             0.0477323  "
      ]
     },
     "execution_count": 68,
     "metadata": {},
     "output_type": "execute_result"
    }
   ],
   "source": [
    "MLA_wheeze_25"
   ]
  },
  {
   "cell_type": "code",
   "execution_count": 69,
   "metadata": {
    "collapsed": true
   },
   "outputs": [
    {
     "data": {
      "text/html": [
       "<div>\n",
       "<style scoped>\n",
       "    .dataframe tbody tr th:only-of-type {\n",
       "        vertical-align: middle;\n",
       "    }\n",
       "\n",
       "    .dataframe tbody tr th {\n",
       "        vertical-align: top;\n",
       "    }\n",
       "\n",
       "    .dataframe thead th {\n",
       "        text-align: right;\n",
       "    }\n",
       "</style>\n",
       "<table border=\"1\" class=\"dataframe\">\n",
       "  <thead>\n",
       "    <tr style=\"text-align: right;\">\n",
       "      <th></th>\n",
       "      <th>MLA Name</th>\n",
       "      <th>MLA Parameters</th>\n",
       "      <th>MLA Train Accuracy</th>\n",
       "      <th>MLA Train Accuracy Mean</th>\n",
       "      <th>MLA Test Accuracy</th>\n",
       "      <th>MLA Test Accuracy Mean</th>\n",
       "      <th>MLA Test Accuracy Std</th>\n",
       "    </tr>\n",
       "  </thead>\n",
       "  <tbody>\n",
       "    <tr>\n",
       "      <th>0</th>\n",
       "      <td>RandomForestClassifier</td>\n",
       "      <td>{'bootstrap': True, 'ccp_alpha': 0.0, 'class_w...</td>\n",
       "      <td>[1.0, 1.0, 1.0, 1.0, 1.0, 1.0, 1.0, 1.0, 1.0, ...</td>\n",
       "      <td>1</td>\n",
       "      <td>[0.9387755102040817, 0.8445378151260504, 0.835...</td>\n",
       "      <td>0.84747</td>\n",
       "      <td>0.0465912</td>\n",
       "    </tr>\n",
       "    <tr>\n",
       "      <th>3</th>\n",
       "      <td>XGBClassifier</td>\n",
       "      <td>{'objective': 'binary:logistic', 'use_label_en...</td>\n",
       "      <td>[1.0, 1.0, 1.0, 1.0, 1.0, 1.0, 1.0, 1.0, 1.0, ...</td>\n",
       "      <td>1</td>\n",
       "      <td>[0.9183673469387755, 0.819327731092437, 0.8476...</td>\n",
       "      <td>0.832815</td>\n",
       "      <td>0.0461284</td>\n",
       "    </tr>\n",
       "    <tr>\n",
       "      <th>1</th>\n",
       "      <td>SVC</td>\n",
       "      <td>{'C': 1.0, 'break_ties': False, 'cache_size': ...</td>\n",
       "      <td>[0.9597834493426141, 0.96, 0.9648985959438378,...</td>\n",
       "      <td>0.96709</td>\n",
       "      <td>[0.926530612244898, 0.8151260504201681, 0.8398...</td>\n",
       "      <td>0.829502</td>\n",
       "      <td>0.047383</td>\n",
       "    </tr>\n",
       "    <tr>\n",
       "      <th>2</th>\n",
       "      <td>LinearSVC</td>\n",
       "      <td>{'C': 1.0, 'class_weight': None, 'dual': True,...</td>\n",
       "      <td>[0.8870843000773395, 0.8923076923076924, 0.886...</td>\n",
       "      <td>0.893852</td>\n",
       "      <td>[0.9020408163265307, 0.7815126050420168, 0.789...</td>\n",
       "      <td>0.819318</td>\n",
       "      <td>0.0364086</td>\n",
       "    </tr>\n",
       "  </tbody>\n",
       "</table>\n",
       "</div>"
      ],
      "text/plain": [
       "                 MLA Name                                     MLA Parameters  \\\n",
       "0  RandomForestClassifier  {'bootstrap': True, 'ccp_alpha': 0.0, 'class_w...   \n",
       "3           XGBClassifier  {'objective': 'binary:logistic', 'use_label_en...   \n",
       "1                     SVC  {'C': 1.0, 'break_ties': False, 'cache_size': ...   \n",
       "2               LinearSVC  {'C': 1.0, 'class_weight': None, 'dual': True,...   \n",
       "\n",
       "                                  MLA Train Accuracy MLA Train Accuracy Mean  \\\n",
       "0  [1.0, 1.0, 1.0, 1.0, 1.0, 1.0, 1.0, 1.0, 1.0, ...                       1   \n",
       "3  [1.0, 1.0, 1.0, 1.0, 1.0, 1.0, 1.0, 1.0, 1.0, ...                       1   \n",
       "1  [0.9597834493426141, 0.96, 0.9648985959438378,...                 0.96709   \n",
       "2  [0.8870843000773395, 0.8923076923076924, 0.886...                0.893852   \n",
       "\n",
       "                                   MLA Test Accuracy MLA Test Accuracy Mean  \\\n",
       "0  [0.9387755102040817, 0.8445378151260504, 0.835...                0.84747   \n",
       "3  [0.9183673469387755, 0.819327731092437, 0.8476...               0.832815   \n",
       "1  [0.926530612244898, 0.8151260504201681, 0.8398...               0.829502   \n",
       "2  [0.9020408163265307, 0.7815126050420168, 0.789...               0.819318   \n",
       "\n",
       "  MLA Test Accuracy Std  \n",
       "0             0.0465912  \n",
       "3             0.0461284  \n",
       "1              0.047383  \n",
       "2             0.0364086  "
      ]
     },
     "execution_count": 69,
     "metadata": {},
     "output_type": "execute_result"
    }
   ],
   "source": [
    "MLA_wheeze_30"
   ]
  },
  {
   "cell_type": "code",
   "execution_count": 70,
   "metadata": {
    "collapsed": true
   },
   "outputs": [
    {
     "data": {
      "text/html": [
       "<div>\n",
       "<style scoped>\n",
       "    .dataframe tbody tr th:only-of-type {\n",
       "        vertical-align: middle;\n",
       "    }\n",
       "\n",
       "    .dataframe tbody tr th {\n",
       "        vertical-align: top;\n",
       "    }\n",
       "\n",
       "    .dataframe thead th {\n",
       "        text-align: right;\n",
       "    }\n",
       "</style>\n",
       "<table border=\"1\" class=\"dataframe\">\n",
       "  <thead>\n",
       "    <tr style=\"text-align: right;\">\n",
       "      <th></th>\n",
       "      <th>MLA Name</th>\n",
       "      <th>MLA Parameters</th>\n",
       "      <th>MLA Train Accuracy</th>\n",
       "      <th>MLA Train Accuracy Mean</th>\n",
       "      <th>MLA Test Accuracy</th>\n",
       "      <th>MLA Test Accuracy Mean</th>\n",
       "      <th>MLA Test Accuracy Std</th>\n",
       "    </tr>\n",
       "  </thead>\n",
       "  <tbody>\n",
       "    <tr>\n",
       "      <th>3</th>\n",
       "      <td>XGBClassifier</td>\n",
       "      <td>{'objective': 'binary:logistic', 'use_label_en...</td>\n",
       "      <td>[1.0, 1.0, 1.0, 1.0, 1.0, 1.0, 1.0, 1.0, 1.0, ...</td>\n",
       "      <td>1</td>\n",
       "      <td>[0.9061224489795918, 0.8487394957983193, 0.820...</td>\n",
       "      <td>0.825188</td>\n",
       "      <td>0.0448311</td>\n",
       "    </tr>\n",
       "    <tr>\n",
       "      <th>1</th>\n",
       "      <td>SVC</td>\n",
       "      <td>{'C': 1.0, 'break_ties': False, 'cache_size': ...</td>\n",
       "      <td>[0.9597834493426141, 0.9646153846153847, 0.965...</td>\n",
       "      <td>0.965704</td>\n",
       "      <td>[0.9061224489795918, 0.8277310924369747, 0.824...</td>\n",
       "      <td>0.823919</td>\n",
       "      <td>0.0418663</td>\n",
       "    </tr>\n",
       "    <tr>\n",
       "      <th>0</th>\n",
       "      <td>RandomForestClassifier</td>\n",
       "      <td>{'bootstrap': True, 'ccp_alpha': 0.0, 'class_w...</td>\n",
       "      <td>[1.0, 1.0, 1.0, 1.0, 1.0, 1.0, 1.0, 1.0, 1.0, ...</td>\n",
       "      <td>1</td>\n",
       "      <td>[0.9142857142857143, 0.8277310924369747, 0.816...</td>\n",
       "      <td>0.821434</td>\n",
       "      <td>0.0490248</td>\n",
       "    </tr>\n",
       "    <tr>\n",
       "      <th>2</th>\n",
       "      <td>LinearSVC</td>\n",
       "      <td>{'C': 1.0, 'class_weight': None, 'dual': True,...</td>\n",
       "      <td>[0.888631090487239, 0.8869230769230769, 0.8822...</td>\n",
       "      <td>0.889634</td>\n",
       "      <td>[0.8857142857142857, 0.7815126050420168, 0.777...</td>\n",
       "      <td>0.805244</td>\n",
       "      <td>0.0354808</td>\n",
       "    </tr>\n",
       "  </tbody>\n",
       "</table>\n",
       "</div>"
      ],
      "text/plain": [
       "                 MLA Name                                     MLA Parameters  \\\n",
       "3           XGBClassifier  {'objective': 'binary:logistic', 'use_label_en...   \n",
       "1                     SVC  {'C': 1.0, 'break_ties': False, 'cache_size': ...   \n",
       "0  RandomForestClassifier  {'bootstrap': True, 'ccp_alpha': 0.0, 'class_w...   \n",
       "2               LinearSVC  {'C': 1.0, 'class_weight': None, 'dual': True,...   \n",
       "\n",
       "                                  MLA Train Accuracy MLA Train Accuracy Mean  \\\n",
       "3  [1.0, 1.0, 1.0, 1.0, 1.0, 1.0, 1.0, 1.0, 1.0, ...                       1   \n",
       "1  [0.9597834493426141, 0.9646153846153847, 0.965...                0.965704   \n",
       "0  [1.0, 1.0, 1.0, 1.0, 1.0, 1.0, 1.0, 1.0, 1.0, ...                       1   \n",
       "2  [0.888631090487239, 0.8869230769230769, 0.8822...                0.889634   \n",
       "\n",
       "                                   MLA Test Accuracy MLA Test Accuracy Mean  \\\n",
       "3  [0.9061224489795918, 0.8487394957983193, 0.820...               0.825188   \n",
       "1  [0.9061224489795918, 0.8277310924369747, 0.824...               0.823919   \n",
       "0  [0.9142857142857143, 0.8277310924369747, 0.816...               0.821434   \n",
       "2  [0.8857142857142857, 0.7815126050420168, 0.777...               0.805244   \n",
       "\n",
       "  MLA Test Accuracy Std  \n",
       "3             0.0448311  \n",
       "1             0.0418663  \n",
       "0             0.0490248  \n",
       "2             0.0354808  "
      ]
     },
     "execution_count": 70,
     "metadata": {},
     "output_type": "execute_result"
    }
   ],
   "source": [
    "MLA_wheeze_35"
   ]
  },
  {
   "cell_type": "code",
   "execution_count": 71,
   "metadata": {
    "collapsed": true
   },
   "outputs": [
    {
     "data": {
      "text/html": [
       "<div>\n",
       "<style scoped>\n",
       "    .dataframe tbody tr th:only-of-type {\n",
       "        vertical-align: middle;\n",
       "    }\n",
       "\n",
       "    .dataframe tbody tr th {\n",
       "        vertical-align: top;\n",
       "    }\n",
       "\n",
       "    .dataframe thead th {\n",
       "        text-align: right;\n",
       "    }\n",
       "</style>\n",
       "<table border=\"1\" class=\"dataframe\">\n",
       "  <thead>\n",
       "    <tr style=\"text-align: right;\">\n",
       "      <th></th>\n",
       "      <th>MLA Name</th>\n",
       "      <th>MLA Parameters</th>\n",
       "      <th>MLA Train Accuracy</th>\n",
       "      <th>MLA Train Accuracy Mean</th>\n",
       "      <th>MLA Test Accuracy</th>\n",
       "      <th>MLA Test Accuracy Mean</th>\n",
       "      <th>MLA Test Accuracy Std</th>\n",
       "    </tr>\n",
       "  </thead>\n",
       "  <tbody>\n",
       "    <tr>\n",
       "      <th>0</th>\n",
       "      <td>RandomForestClassifier</td>\n",
       "      <td>{'bootstrap': True, 'ccp_alpha': 0.0, 'class_w...</td>\n",
       "      <td>[1.0, 1.0, 1.0, 1.0, 1.0, 1.0, 1.0, 1.0, 1.0, ...</td>\n",
       "      <td>1</td>\n",
       "      <td>[0.9020408163265307, 0.8571428571428571, 0.820...</td>\n",
       "      <td>0.821839</td>\n",
       "      <td>0.0467198</td>\n",
       "    </tr>\n",
       "    <tr>\n",
       "      <th>1</th>\n",
       "      <td>SVC</td>\n",
       "      <td>{'C': 1.0, 'break_ties': False, 'cache_size': ...</td>\n",
       "      <td>[0.9613302397525135, 0.9607692307692308, 0.957...</td>\n",
       "      <td>0.963138</td>\n",
       "      <td>[0.9020408163265307, 0.8151260504201681, 0.820...</td>\n",
       "      <td>0.817164</td>\n",
       "      <td>0.044771</td>\n",
       "    </tr>\n",
       "    <tr>\n",
       "      <th>3</th>\n",
       "      <td>XGBClassifier</td>\n",
       "      <td>{'objective': 'binary:logistic', 'use_label_en...</td>\n",
       "      <td>[0.9992266047950503, 1.0, 0.999219968798752, 1...</td>\n",
       "      <td>0.999615</td>\n",
       "      <td>[0.8979591836734694, 0.8403361344537815, 0.816...</td>\n",
       "      <td>0.814955</td>\n",
       "      <td>0.0507342</td>\n",
       "    </tr>\n",
       "    <tr>\n",
       "      <th>2</th>\n",
       "      <td>LinearSVC</td>\n",
       "      <td>{'C': 1.0, 'class_weight': None, 'dual': True,...</td>\n",
       "      <td>[0.8747099767981439, 0.8838461538461538, 0.875...</td>\n",
       "      <td>0.886102</td>\n",
       "      <td>[0.8816326530612245, 0.7815126050420168, 0.761...</td>\n",
       "      <td>0.786197</td>\n",
       "      <td>0.0406657</td>\n",
       "    </tr>\n",
       "  </tbody>\n",
       "</table>\n",
       "</div>"
      ],
      "text/plain": [
       "                 MLA Name                                     MLA Parameters  \\\n",
       "0  RandomForestClassifier  {'bootstrap': True, 'ccp_alpha': 0.0, 'class_w...   \n",
       "1                     SVC  {'C': 1.0, 'break_ties': False, 'cache_size': ...   \n",
       "3           XGBClassifier  {'objective': 'binary:logistic', 'use_label_en...   \n",
       "2               LinearSVC  {'C': 1.0, 'class_weight': None, 'dual': True,...   \n",
       "\n",
       "                                  MLA Train Accuracy MLA Train Accuracy Mean  \\\n",
       "0  [1.0, 1.0, 1.0, 1.0, 1.0, 1.0, 1.0, 1.0, 1.0, ...                       1   \n",
       "1  [0.9613302397525135, 0.9607692307692308, 0.957...                0.963138   \n",
       "3  [0.9992266047950503, 1.0, 0.999219968798752, 1...                0.999615   \n",
       "2  [0.8747099767981439, 0.8838461538461538, 0.875...                0.886102   \n",
       "\n",
       "                                   MLA Test Accuracy MLA Test Accuracy Mean  \\\n",
       "0  [0.9020408163265307, 0.8571428571428571, 0.820...               0.821839   \n",
       "1  [0.9020408163265307, 0.8151260504201681, 0.820...               0.817164   \n",
       "3  [0.8979591836734694, 0.8403361344537815, 0.816...               0.814955   \n",
       "2  [0.8816326530612245, 0.7815126050420168, 0.761...               0.786197   \n",
       "\n",
       "  MLA Test Accuracy Std  \n",
       "0             0.0467198  \n",
       "1              0.044771  \n",
       "3             0.0507342  \n",
       "2             0.0406657  "
      ]
     },
     "execution_count": 71,
     "metadata": {},
     "output_type": "execute_result"
    }
   ],
   "source": [
    "MLA_wheeze_40"
   ]
  },
  {
   "cell_type": "code",
   "execution_count": 72,
   "metadata": {
    "collapsed": true
   },
   "outputs": [
    {
     "data": {
      "text/html": [
       "<div>\n",
       "<style scoped>\n",
       "    .dataframe tbody tr th:only-of-type {\n",
       "        vertical-align: middle;\n",
       "    }\n",
       "\n",
       "    .dataframe tbody tr th {\n",
       "        vertical-align: top;\n",
       "    }\n",
       "\n",
       "    .dataframe thead th {\n",
       "        text-align: right;\n",
       "    }\n",
       "</style>\n",
       "<table border=\"1\" class=\"dataframe\">\n",
       "  <thead>\n",
       "    <tr style=\"text-align: right;\">\n",
       "      <th></th>\n",
       "      <th>MLA Name</th>\n",
       "      <th>MLA Parameters</th>\n",
       "      <th>MLA Train Accuracy</th>\n",
       "      <th>MLA Train Accuracy Mean</th>\n",
       "      <th>MLA Test Accuracy</th>\n",
       "      <th>MLA Test Accuracy Mean</th>\n",
       "      <th>MLA Test Accuracy Std</th>\n",
       "    </tr>\n",
       "  </thead>\n",
       "  <tbody>\n",
       "    <tr>\n",
       "      <th>0</th>\n",
       "      <td>RandomForestClassifier</td>\n",
       "      <td>{'bootstrap': True, 'ccp_alpha': 0.0, 'class_w...</td>\n",
       "      <td>[1.0, 1.0, 1.0, 1.0, 1.0, 1.0, 1.0, 1.0, 1.0, ...</td>\n",
       "      <td>1</td>\n",
       "      <td>[0.9020408163265307, 0.8361344537815126, 0.808...</td>\n",
       "      <td>0.819029</td>\n",
       "      <td>0.040269</td>\n",
       "    </tr>\n",
       "    <tr>\n",
       "      <th>3</th>\n",
       "      <td>XGBClassifier</td>\n",
       "      <td>{'objective': 'binary:logistic', 'use_label_en...</td>\n",
       "      <td>[1.0, 1.0, 0.999219968798752, 0.99921259842519...</td>\n",
       "      <td>0.999766</td>\n",
       "      <td>[0.8816326530612245, 0.8361344537815126, 0.820...</td>\n",
       "      <td>0.805194</td>\n",
       "      <td>0.0512598</td>\n",
       "    </tr>\n",
       "    <tr>\n",
       "      <th>2</th>\n",
       "      <td>LinearSVC</td>\n",
       "      <td>{'C': 1.0, 'class_weight': None, 'dual': True,...</td>\n",
       "      <td>[0.8669760247486465, 0.8738461538461538, 0.870...</td>\n",
       "      <td>0.876507</td>\n",
       "      <td>[0.889795918367347, 0.773109243697479, 0.76171...</td>\n",
       "      <td>0.794319</td>\n",
       "      <td>0.041029</td>\n",
       "    </tr>\n",
       "    <tr>\n",
       "      <th>1</th>\n",
       "      <td>SVC</td>\n",
       "      <td>{'C': 1.0, 'break_ties': False, 'cache_size': ...</td>\n",
       "      <td>[0.9566898685228151, 0.9592307692307692, 0.955...</td>\n",
       "      <td>0.962747</td>\n",
       "      <td>[0.889795918367347, 0.7941176470588235, 0.8046...</td>\n",
       "      <td>0.792668</td>\n",
       "      <td>0.0481288</td>\n",
       "    </tr>\n",
       "  </tbody>\n",
       "</table>\n",
       "</div>"
      ],
      "text/plain": [
       "                 MLA Name                                     MLA Parameters  \\\n",
       "0  RandomForestClassifier  {'bootstrap': True, 'ccp_alpha': 0.0, 'class_w...   \n",
       "3           XGBClassifier  {'objective': 'binary:logistic', 'use_label_en...   \n",
       "2               LinearSVC  {'C': 1.0, 'class_weight': None, 'dual': True,...   \n",
       "1                     SVC  {'C': 1.0, 'break_ties': False, 'cache_size': ...   \n",
       "\n",
       "                                  MLA Train Accuracy MLA Train Accuracy Mean  \\\n",
       "0  [1.0, 1.0, 1.0, 1.0, 1.0, 1.0, 1.0, 1.0, 1.0, ...                       1   \n",
       "3  [1.0, 1.0, 0.999219968798752, 0.99921259842519...                0.999766   \n",
       "2  [0.8669760247486465, 0.8738461538461538, 0.870...                0.876507   \n",
       "1  [0.9566898685228151, 0.9592307692307692, 0.955...                0.962747   \n",
       "\n",
       "                                   MLA Test Accuracy MLA Test Accuracy Mean  \\\n",
       "0  [0.9020408163265307, 0.8361344537815126, 0.808...               0.819029   \n",
       "3  [0.8816326530612245, 0.8361344537815126, 0.820...               0.805194   \n",
       "2  [0.889795918367347, 0.773109243697479, 0.76171...               0.794319   \n",
       "1  [0.889795918367347, 0.7941176470588235, 0.8046...               0.792668   \n",
       "\n",
       "  MLA Test Accuracy Std  \n",
       "0              0.040269  \n",
       "3             0.0512598  \n",
       "2              0.041029  \n",
       "1             0.0481288  "
      ]
     },
     "execution_count": 72,
     "metadata": {},
     "output_type": "execute_result"
    }
   ],
   "source": [
    "MLA_wheeze_45"
   ]
  },
  {
   "cell_type": "code",
   "execution_count": 73,
   "metadata": {
    "collapsed": true
   },
   "outputs": [
    {
     "data": {
      "text/html": [
       "<div>\n",
       "<style scoped>\n",
       "    .dataframe tbody tr th:only-of-type {\n",
       "        vertical-align: middle;\n",
       "    }\n",
       "\n",
       "    .dataframe tbody tr th {\n",
       "        vertical-align: top;\n",
       "    }\n",
       "\n",
       "    .dataframe thead th {\n",
       "        text-align: right;\n",
       "    }\n",
       "</style>\n",
       "<table border=\"1\" class=\"dataframe\">\n",
       "  <thead>\n",
       "    <tr style=\"text-align: right;\">\n",
       "      <th></th>\n",
       "      <th>MLA Name</th>\n",
       "      <th>MLA Parameters</th>\n",
       "      <th>MLA Train Accuracy</th>\n",
       "      <th>MLA Train Accuracy Mean</th>\n",
       "      <th>MLA Test Accuracy</th>\n",
       "      <th>MLA Test Accuracy Mean</th>\n",
       "      <th>MLA Test Accuracy Std</th>\n",
       "    </tr>\n",
       "  </thead>\n",
       "  <tbody>\n",
       "    <tr>\n",
       "      <th>0</th>\n",
       "      <td>RandomForestClassifier</td>\n",
       "      <td>{'bootstrap': True, 'ccp_alpha': 0.0, 'class_w...</td>\n",
       "      <td>[1.0, 1.0, 1.0, 1.0, 1.0, 1.0, 1.0, 1.0, 1.0, ...</td>\n",
       "      <td>1</td>\n",
       "      <td>[0.8734693877551021, 0.8319327731092437, 0.785...</td>\n",
       "      <td>0.80965</td>\n",
       "      <td>0.0375153</td>\n",
       "    </tr>\n",
       "    <tr>\n",
       "      <th>3</th>\n",
       "      <td>XGBClassifier</td>\n",
       "      <td>{'objective': 'binary:logistic', 'use_label_en...</td>\n",
       "      <td>[1.0, 0.9992307692307693, 0.999219968798752, 0...</td>\n",
       "      <td>0.999538</td>\n",
       "      <td>[0.889795918367347, 0.8277310924369747, 0.8320...</td>\n",
       "      <td>0.804897</td>\n",
       "      <td>0.0535399</td>\n",
       "    </tr>\n",
       "    <tr>\n",
       "      <th>2</th>\n",
       "      <td>LinearSVC</td>\n",
       "      <td>{'C': 1.0, 'class_weight': None, 'dual': True,...</td>\n",
       "      <td>[0.8739365815931941, 0.8853846153846154, 0.872...</td>\n",
       "      <td>0.882987</td>\n",
       "      <td>[0.8734693877551021, 0.7563025210084033, 0.777...</td>\n",
       "      <td>0.797445</td>\n",
       "      <td>0.0407303</td>\n",
       "    </tr>\n",
       "    <tr>\n",
       "      <th>1</th>\n",
       "      <td>SVC</td>\n",
       "      <td>{'C': 1.0, 'break_ties': False, 'cache_size': ...</td>\n",
       "      <td>[0.9566898685228151, 0.96, 0.9609984399375975,...</td>\n",
       "      <td>0.963401</td>\n",
       "      <td>[0.8734693877551021, 0.8109243697478992, 0.796...</td>\n",
       "      <td>0.79547</td>\n",
       "      <td>0.0406523</td>\n",
       "    </tr>\n",
       "  </tbody>\n",
       "</table>\n",
       "</div>"
      ],
      "text/plain": [
       "                 MLA Name                                     MLA Parameters  \\\n",
       "0  RandomForestClassifier  {'bootstrap': True, 'ccp_alpha': 0.0, 'class_w...   \n",
       "3           XGBClassifier  {'objective': 'binary:logistic', 'use_label_en...   \n",
       "2               LinearSVC  {'C': 1.0, 'class_weight': None, 'dual': True,...   \n",
       "1                     SVC  {'C': 1.0, 'break_ties': False, 'cache_size': ...   \n",
       "\n",
       "                                  MLA Train Accuracy MLA Train Accuracy Mean  \\\n",
       "0  [1.0, 1.0, 1.0, 1.0, 1.0, 1.0, 1.0, 1.0, 1.0, ...                       1   \n",
       "3  [1.0, 0.9992307692307693, 0.999219968798752, 0...                0.999538   \n",
       "2  [0.8739365815931941, 0.8853846153846154, 0.872...                0.882987   \n",
       "1  [0.9566898685228151, 0.96, 0.9609984399375975,...                0.963401   \n",
       "\n",
       "                                   MLA Test Accuracy MLA Test Accuracy Mean  \\\n",
       "0  [0.8734693877551021, 0.8319327731092437, 0.785...                0.80965   \n",
       "3  [0.889795918367347, 0.8277310924369747, 0.8320...               0.804897   \n",
       "2  [0.8734693877551021, 0.7563025210084033, 0.777...               0.797445   \n",
       "1  [0.8734693877551021, 0.8109243697478992, 0.796...                0.79547   \n",
       "\n",
       "  MLA Test Accuracy Std  \n",
       "0             0.0375153  \n",
       "3             0.0535399  \n",
       "2             0.0407303  \n",
       "1             0.0406523  "
      ]
     },
     "execution_count": 73,
     "metadata": {},
     "output_type": "execute_result"
    }
   ],
   "source": [
    "MLA_wheeze_50"
   ]
  },
  {
   "cell_type": "code",
   "execution_count": 6,
   "metadata": {},
   "outputs": [],
   "source": [
    "breath_dataframe = pd.read_csv(\"./breath_csv_2//Breath.csv\")\n",
    "breath_dataframe_1 = pd.read_csv(\"./breath_csv_2//Breath_1.csv\")\n",
    "breath_dataframe_2 = pd.read_csv(\"./breath_csv_2//Breath_2.csv\")\n",
    "breath_dataframe_3 = pd.read_csv(\"./breath_csv_2//Breath_3.csv\")"
   ]
  },
  {
   "cell_type": "code",
   "execution_count": 16,
   "metadata": {},
   "outputs": [],
   "source": [
    "make_legit_sets(breath_dataframe, 'breath', \"breath_sets\")\n",
    "make_legit_sets(breath_dataframe_1, 'breath_1', \"breath_sets\")\n",
    "make_legit_sets(breath_dataframe_2, 'breath_2', \"breath_sets\")\n",
    "make_legit_sets(breath_dataframe_3, 'breath_3', \"breath_sets\")"
   ]
  },
  {
   "cell_type": "code",
   "execution_count": 23,
   "metadata": {
    "collapsed": true
   },
   "outputs": [
    {
     "data": {
      "application/vnd.jupyter.widget-view+json": {
       "model_id": "be17d6e187de47c7a2a4c4862e5fac59",
       "version_major": 2,
       "version_minor": 0
      },
      "text/plain": [
       "  0%|          | 0/10 [00:00<?, ?it/s]"
      ]
     },
     "metadata": {},
     "output_type": "display_data"
    },
    {
     "data": {
      "application/vnd.jupyter.widget-view+json": {
       "model_id": "4058d609cd5149ad998741c90eb74e90",
       "version_major": 2,
       "version_minor": 0
      },
      "text/plain": [
       "  0%|          | 0/10 [00:00<?, ?it/s]"
      ]
     },
     "metadata": {},
     "output_type": "display_data"
    },
    {
     "data": {
      "application/vnd.jupyter.widget-view+json": {
       "model_id": "a8d685840af947d1947ce597869528f5",
       "version_major": 2,
       "version_minor": 0
      },
      "text/plain": [
       "  0%|          | 0/10 [00:00<?, ?it/s]"
      ]
     },
     "metadata": {},
     "output_type": "display_data"
    },
    {
     "data": {
      "application/vnd.jupyter.widget-view+json": {
       "model_id": "013d6f7b9652456c8b88775990bb04eb",
       "version_major": 2,
       "version_minor": 0
      },
      "text/plain": [
       "  0%|          | 0/10 [00:00<?, ?it/s]"
      ]
     },
     "metadata": {},
     "output_type": "display_data"
    },
    {
     "name": "stdout",
     "output_type": "stream",
     "text": [
      "[13:49:13] WARNING: ../src/learner.cc:1061: Starting in XGBoost 1.3.0, the default evaluation metric used with the objective 'binary:logistic' was changed from 'error' to 'logloss'. Explicitly set eval_metric if you'd like to restore the old behavior.\n",
      "[13:49:19] WARNING: ../src/learner.cc:1061: Starting in XGBoost 1.3.0, the default evaluation metric used with the objective 'binary:logistic' was changed from 'error' to 'logloss'. Explicitly set eval_metric if you'd like to restore the old behavior.\n",
      "[13:49:24] WARNING: ../src/learner.cc:1061: Starting in XGBoost 1.3.0, the default evaluation metric used with the objective 'binary:logistic' was changed from 'error' to 'logloss'. Explicitly set eval_metric if you'd like to restore the old behavior.\n",
      "[13:49:31] WARNING: ../src/learner.cc:1061: Starting in XGBoost 1.3.0, the default evaluation metric used with the objective 'binary:logistic' was changed from 'error' to 'logloss'. Explicitly set eval_metric if you'd like to restore the old behavior.\n",
      "[13:49:59] WARNING: ../src/learner.cc:1061: Starting in XGBoost 1.3.0, the default evaluation metric used with the objective 'binary:logistic' was changed from 'error' to 'logloss'. Explicitly set eval_metric if you'd like to restore the old behavior.\n",
      "[13:50:05] WARNING: ../src/learner.cc:1061: Starting in XGBoost 1.3.0, the default evaluation metric used with the objective 'binary:logistic' was changed from 'error' to 'logloss'. Explicitly set eval_metric if you'd like to restore the old behavior.\n",
      "[13:50:11] WARNING: ../src/learner.cc:1061: Starting in XGBoost 1.3.0, the default evaluation metric used with the objective 'binary:logistic' was changed from 'error' to 'logloss'. Explicitly set eval_metric if you'd like to restore the old behavior.\n",
      "[13:50:16] WARNING: ../src/learner.cc:1061: Starting in XGBoost 1.3.0, the default evaluation metric used with the objective 'binary:logistic' was changed from 'error' to 'logloss'. Explicitly set eval_metric if you'd like to restore the old behavior.\n",
      "[13:50:22] WARNING: ../src/learner.cc:1061: Starting in XGBoost 1.3.0, the default evaluation metric used with the objective 'binary:logistic' was changed from 'error' to 'logloss'. Explicitly set eval_metric if you'd like to restore the old behavior.\n",
      "[13:50:29] WARNING: ../src/learner.cc:1061: Starting in XGBoost 1.3.0, the default evaluation metric used with the objective 'binary:logistic' was changed from 'error' to 'logloss'. Explicitly set eval_metric if you'd like to restore the old behavior.\n"
     ]
    },
    {
     "data": {
      "application/vnd.jupyter.widget-view+json": {
       "model_id": "762b8262229843c2aa9b5e540c48baef",
       "version_major": 2,
       "version_minor": 0
      },
      "text/plain": [
       "  0%|          | 0/10 [00:00<?, ?it/s]"
      ]
     },
     "metadata": {},
     "output_type": "display_data"
    },
    {
     "data": {
      "application/vnd.jupyter.widget-view+json": {
       "model_id": "5987434b273c4bf3892260d5cb1332eb",
       "version_major": 2,
       "version_minor": 0
      },
      "text/plain": [
       "  0%|          | 0/10 [00:00<?, ?it/s]"
      ]
     },
     "metadata": {},
     "output_type": "display_data"
    },
    {
     "data": {
      "application/vnd.jupyter.widget-view+json": {
       "model_id": "589880e54204446db6e702bf9405641e",
       "version_major": 2,
       "version_minor": 0
      },
      "text/plain": [
       "  0%|          | 0/10 [00:00<?, ?it/s]"
      ]
     },
     "metadata": {},
     "output_type": "display_data"
    },
    {
     "data": {
      "application/vnd.jupyter.widget-view+json": {
       "model_id": "9c77dc5dd22a40358b4569df42ea83a1",
       "version_major": 2,
       "version_minor": 0
      },
      "text/plain": [
       "  0%|          | 0/10 [00:00<?, ?it/s]"
      ]
     },
     "metadata": {},
     "output_type": "display_data"
    },
    {
     "name": "stdout",
     "output_type": "stream",
     "text": [
      "[13:51:15] WARNING: ../src/learner.cc:1061: Starting in XGBoost 1.3.0, the default evaluation metric used with the objective 'binary:logistic' was changed from 'error' to 'logloss'. Explicitly set eval_metric if you'd like to restore the old behavior.\n",
      "[13:51:21] WARNING: ../src/learner.cc:1061: Starting in XGBoost 1.3.0, the default evaluation metric used with the objective 'binary:logistic' was changed from 'error' to 'logloss'. Explicitly set eval_metric if you'd like to restore the old behavior.\n",
      "[13:51:26] WARNING: ../src/learner.cc:1061: Starting in XGBoost 1.3.0, the default evaluation metric used with the objective 'binary:logistic' was changed from 'error' to 'logloss'. Explicitly set eval_metric if you'd like to restore the old behavior.\n",
      "[13:51:31] WARNING: ../src/learner.cc:1061: Starting in XGBoost 1.3.0, the default evaluation metric used with the objective 'binary:logistic' was changed from 'error' to 'logloss'. Explicitly set eval_metric if you'd like to restore the old behavior.\n",
      "[13:51:37] WARNING: ../src/learner.cc:1061: Starting in XGBoost 1.3.0, the default evaluation metric used with the objective 'binary:logistic' was changed from 'error' to 'logloss'. Explicitly set eval_metric if you'd like to restore the old behavior.\n",
      "[13:51:42] WARNING: ../src/learner.cc:1061: Starting in XGBoost 1.3.0, the default evaluation metric used with the objective 'binary:logistic' was changed from 'error' to 'logloss'. Explicitly set eval_metric if you'd like to restore the old behavior.\n",
      "[13:51:48] WARNING: ../src/learner.cc:1061: Starting in XGBoost 1.3.0, the default evaluation metric used with the objective 'binary:logistic' was changed from 'error' to 'logloss'. Explicitly set eval_metric if you'd like to restore the old behavior.\n",
      "[13:51:53] WARNING: ../src/learner.cc:1061: Starting in XGBoost 1.3.0, the default evaluation metric used with the objective 'binary:logistic' was changed from 'error' to 'logloss'. Explicitly set eval_metric if you'd like to restore the old behavior.\n",
      "[13:51:59] WARNING: ../src/learner.cc:1061: Starting in XGBoost 1.3.0, the default evaluation metric used with the objective 'binary:logistic' was changed from 'error' to 'logloss'. Explicitly set eval_metric if you'd like to restore the old behavior.\n",
      "[13:52:04] WARNING: ../src/learner.cc:1061: Starting in XGBoost 1.3.0, the default evaluation metric used with the objective 'binary:logistic' was changed from 'error' to 'logloss'. Explicitly set eval_metric if you'd like to restore the old behavior.\n"
     ]
    },
    {
     "data": {
      "application/vnd.jupyter.widget-view+json": {
       "model_id": "fec18d9ad1a34554afe7cc356710de4a",
       "version_major": 2,
       "version_minor": 0
      },
      "text/plain": [
       "  0%|          | 0/10 [00:00<?, ?it/s]"
      ]
     },
     "metadata": {},
     "output_type": "display_data"
    },
    {
     "data": {
      "application/vnd.jupyter.widget-view+json": {
       "model_id": "5ffc24f4f257478b8620f44a61536b55",
       "version_major": 2,
       "version_minor": 0
      },
      "text/plain": [
       "  0%|          | 0/10 [00:00<?, ?it/s]"
      ]
     },
     "metadata": {},
     "output_type": "display_data"
    },
    {
     "data": {
      "application/vnd.jupyter.widget-view+json": {
       "model_id": "c1f1ed44cf264c5da3555c012a69eda1",
       "version_major": 2,
       "version_minor": 0
      },
      "text/plain": [
       "  0%|          | 0/10 [00:00<?, ?it/s]"
      ]
     },
     "metadata": {},
     "output_type": "display_data"
    },
    {
     "data": {
      "application/vnd.jupyter.widget-view+json": {
       "model_id": "a61e5386ba954a519b650767c036fdc7",
       "version_major": 2,
       "version_minor": 0
      },
      "text/plain": [
       "  0%|          | 0/10 [00:00<?, ?it/s]"
      ]
     },
     "metadata": {},
     "output_type": "display_data"
    },
    {
     "name": "stdout",
     "output_type": "stream",
     "text": [
      "[13:52:45] WARNING: ../src/learner.cc:1061: Starting in XGBoost 1.3.0, the default evaluation metric used with the objective 'binary:logistic' was changed from 'error' to 'logloss'. Explicitly set eval_metric if you'd like to restore the old behavior.\n",
      "[13:52:51] WARNING: ../src/learner.cc:1061: Starting in XGBoost 1.3.0, the default evaluation metric used with the objective 'binary:logistic' was changed from 'error' to 'logloss'. Explicitly set eval_metric if you'd like to restore the old behavior.\n",
      "[13:52:57] WARNING: ../src/learner.cc:1061: Starting in XGBoost 1.3.0, the default evaluation metric used with the objective 'binary:logistic' was changed from 'error' to 'logloss'. Explicitly set eval_metric if you'd like to restore the old behavior.\n",
      "[13:53:03] WARNING: ../src/learner.cc:1061: Starting in XGBoost 1.3.0, the default evaluation metric used with the objective 'binary:logistic' was changed from 'error' to 'logloss'. Explicitly set eval_metric if you'd like to restore the old behavior.\n",
      "[13:53:09] WARNING: ../src/learner.cc:1061: Starting in XGBoost 1.3.0, the default evaluation metric used with the objective 'binary:logistic' was changed from 'error' to 'logloss'. Explicitly set eval_metric if you'd like to restore the old behavior.\n",
      "[13:53:14] WARNING: ../src/learner.cc:1061: Starting in XGBoost 1.3.0, the default evaluation metric used with the objective 'binary:logistic' was changed from 'error' to 'logloss'. Explicitly set eval_metric if you'd like to restore the old behavior.\n",
      "[13:53:22] WARNING: ../src/learner.cc:1061: Starting in XGBoost 1.3.0, the default evaluation metric used with the objective 'binary:logistic' was changed from 'error' to 'logloss'. Explicitly set eval_metric if you'd like to restore the old behavior.\n",
      "[13:53:29] WARNING: ../src/learner.cc:1061: Starting in XGBoost 1.3.0, the default evaluation metric used with the objective 'binary:logistic' was changed from 'error' to 'logloss'. Explicitly set eval_metric if you'd like to restore the old behavior.\n",
      "[13:53:35] WARNING: ../src/learner.cc:1061: Starting in XGBoost 1.3.0, the default evaluation metric used with the objective 'binary:logistic' was changed from 'error' to 'logloss'. Explicitly set eval_metric if you'd like to restore the old behavior.\n",
      "[13:53:41] WARNING: ../src/learner.cc:1061: Starting in XGBoost 1.3.0, the default evaluation metric used with the objective 'binary:logistic' was changed from 'error' to 'logloss'. Explicitly set eval_metric if you'd like to restore the old behavior.\n"
     ]
    },
    {
     "data": {
      "application/vnd.jupyter.widget-view+json": {
       "model_id": "815bb4e0a95842eb8d2b971ec200fe5b",
       "version_major": 2,
       "version_minor": 0
      },
      "text/plain": [
       "  0%|          | 0/10 [00:00<?, ?it/s]"
      ]
     },
     "metadata": {},
     "output_type": "display_data"
    },
    {
     "data": {
      "application/vnd.jupyter.widget-view+json": {
       "model_id": "0c30de2ba36a4d999e01c40c5b7f5f98",
       "version_major": 2,
       "version_minor": 0
      },
      "text/plain": [
       "  0%|          | 0/10 [00:00<?, ?it/s]"
      ]
     },
     "metadata": {},
     "output_type": "display_data"
    },
    {
     "data": {
      "application/vnd.jupyter.widget-view+json": {
       "model_id": "71d892dd9d674f40bc3ce4c6ec25748d",
       "version_major": 2,
       "version_minor": 0
      },
      "text/plain": [
       "  0%|          | 0/10 [00:00<?, ?it/s]"
      ]
     },
     "metadata": {},
     "output_type": "display_data"
    },
    {
     "data": {
      "application/vnd.jupyter.widget-view+json": {
       "model_id": "974599d5de184bd8a01847d2e0a63bf8",
       "version_major": 2,
       "version_minor": 0
      },
      "text/plain": [
       "  0%|          | 0/10 [00:00<?, ?it/s]"
      ]
     },
     "metadata": {},
     "output_type": "display_data"
    },
    {
     "name": "stdout",
     "output_type": "stream",
     "text": [
      "[13:54:24] WARNING: ../src/learner.cc:1061: Starting in XGBoost 1.3.0, the default evaluation metric used with the objective 'binary:logistic' was changed from 'error' to 'logloss'. Explicitly set eval_metric if you'd like to restore the old behavior.\n",
      "[13:54:30] WARNING: ../src/learner.cc:1061: Starting in XGBoost 1.3.0, the default evaluation metric used with the objective 'binary:logistic' was changed from 'error' to 'logloss'. Explicitly set eval_metric if you'd like to restore the old behavior.\n",
      "[13:54:36] WARNING: ../src/learner.cc:1061: Starting in XGBoost 1.3.0, the default evaluation metric used with the objective 'binary:logistic' was changed from 'error' to 'logloss'. Explicitly set eval_metric if you'd like to restore the old behavior.\n",
      "[13:54:41] WARNING: ../src/learner.cc:1061: Starting in XGBoost 1.3.0, the default evaluation metric used with the objective 'binary:logistic' was changed from 'error' to 'logloss'. Explicitly set eval_metric if you'd like to restore the old behavior.\n",
      "[13:54:47] WARNING: ../src/learner.cc:1061: Starting in XGBoost 1.3.0, the default evaluation metric used with the objective 'binary:logistic' was changed from 'error' to 'logloss'. Explicitly set eval_metric if you'd like to restore the old behavior.\n",
      "[13:54:53] WARNING: ../src/learner.cc:1061: Starting in XGBoost 1.3.0, the default evaluation metric used with the objective 'binary:logistic' was changed from 'error' to 'logloss'. Explicitly set eval_metric if you'd like to restore the old behavior.\n",
      "[13:54:59] WARNING: ../src/learner.cc:1061: Starting in XGBoost 1.3.0, the default evaluation metric used with the objective 'binary:logistic' was changed from 'error' to 'logloss'. Explicitly set eval_metric if you'd like to restore the old behavior.\n",
      "[13:55:06] WARNING: ../src/learner.cc:1061: Starting in XGBoost 1.3.0, the default evaluation metric used with the objective 'binary:logistic' was changed from 'error' to 'logloss'. Explicitly set eval_metric if you'd like to restore the old behavior.\n",
      "[13:55:16] WARNING: ../src/learner.cc:1061: Starting in XGBoost 1.3.0, the default evaluation metric used with the objective 'binary:logistic' was changed from 'error' to 'logloss'. Explicitly set eval_metric if you'd like to restore the old behavior.\n",
      "[13:55:25] WARNING: ../src/learner.cc:1061: Starting in XGBoost 1.3.0, the default evaluation metric used with the objective 'binary:logistic' was changed from 'error' to 'logloss'. Explicitly set eval_metric if you'd like to restore the old behavior.\n"
     ]
    }
   ],
   "source": [
    "MLA_breath = MLA_selection(breath_dataframe, 'breath', \"./breathe_set_csv_exp_5/\")\n",
    "MLA_breath_1 = MLA_selection(breath_dataframe_1, 'breath_1', \"./breathe_set_csv_exp_5/\")\n",
    "MLA_breath_2 = MLA_selection(breath_dataframe_2, 'breath_2', \"./breathe_set_csv_exp_5/\")\n",
    "MLA_breath_3 = MLA_selection(breath_dataframe_3, 'breath_3', \"./breathe_set_csv_exp_5/\")"
   ]
  },
  {
   "cell_type": "code",
   "execution_count": 18,
   "metadata": {},
   "outputs": [
    {
     "data": {
      "text/html": [
       "<div>\n",
       "<style scoped>\n",
       "    .dataframe tbody tr th:only-of-type {\n",
       "        vertical-align: middle;\n",
       "    }\n",
       "\n",
       "    .dataframe tbody tr th {\n",
       "        vertical-align: top;\n",
       "    }\n",
       "\n",
       "    .dataframe thead th {\n",
       "        text-align: right;\n",
       "    }\n",
       "</style>\n",
       "<table border=\"1\" class=\"dataframe\">\n",
       "  <thead>\n",
       "    <tr style=\"text-align: right;\">\n",
       "      <th></th>\n",
       "      <th>MLA Name</th>\n",
       "      <th>MLA Parameters</th>\n",
       "      <th>MLA Train Accuracy</th>\n",
       "      <th>MLA Train Accuracy Mean</th>\n",
       "      <th>MLA Test Accuracy</th>\n",
       "      <th>MLA Test Accuracy Mean</th>\n",
       "      <th>MLA Test Accuracy Std</th>\n",
       "    </tr>\n",
       "  </thead>\n",
       "  <tbody>\n",
       "    <tr>\n",
       "      <th>3</th>\n",
       "      <td>XGBClassifier</td>\n",
       "      <td>{'objective': 'binary:logistic', 'use_label_en...</td>\n",
       "      <td>[1.0, 1.0, 1.0, 1.0, 1.0, 1.0, 1.0, 1.0, 1.0, ...</td>\n",
       "      <td>1</td>\n",
       "      <td>[0.7868217054263565, 0.6887966804979253, 0.833...</td>\n",
       "      <td>0.752402</td>\n",
       "      <td>0.0624844</td>\n",
       "    </tr>\n",
       "    <tr>\n",
       "      <th>0</th>\n",
       "      <td>RandomForestClassifier</td>\n",
       "      <td>{'bootstrap': True, 'ccp_alpha': 0.0, 'class_w...</td>\n",
       "      <td>[1.0, 1.0, 1.0, 1.0, 1.0, 1.0, 1.0, 1.0, 1.0, ...</td>\n",
       "      <td>1</td>\n",
       "      <td>[0.8449612403100775, 0.7012448132780082, 0.829...</td>\n",
       "      <td>0.749282</td>\n",
       "      <td>0.0696579</td>\n",
       "    </tr>\n",
       "    <tr>\n",
       "      <th>2</th>\n",
       "      <td>LinearSVC</td>\n",
       "      <td>{'C': 1.0, 'class_weight': None, 'dual': True,...</td>\n",
       "      <td>[0.8207954000958313, 0.8393536121673004, 0.838...</td>\n",
       "      <td>0.840507</td>\n",
       "      <td>[0.7984496124031008, 0.7012448132780082, 0.755...</td>\n",
       "      <td>0.725006</td>\n",
       "      <td>0.0537489</td>\n",
       "    </tr>\n",
       "    <tr>\n",
       "      <th>1</th>\n",
       "      <td>SVC</td>\n",
       "      <td>{'C': 1.0, 'break_ties': False, 'cache_size': ...</td>\n",
       "      <td>[0.9573550551030187, 0.9591254752851711, 0.955...</td>\n",
       "      <td>0.958557</td>\n",
       "      <td>[0.7713178294573644, 0.6597510373443983, 0.748...</td>\n",
       "      <td>0.721273</td>\n",
       "      <td>0.066679</td>\n",
       "    </tr>\n",
       "  </tbody>\n",
       "</table>\n",
       "</div>"
      ],
      "text/plain": [
       "                 MLA Name                                     MLA Parameters  \\\n",
       "3           XGBClassifier  {'objective': 'binary:logistic', 'use_label_en...   \n",
       "0  RandomForestClassifier  {'bootstrap': True, 'ccp_alpha': 0.0, 'class_w...   \n",
       "2               LinearSVC  {'C': 1.0, 'class_weight': None, 'dual': True,...   \n",
       "1                     SVC  {'C': 1.0, 'break_ties': False, 'cache_size': ...   \n",
       "\n",
       "                                  MLA Train Accuracy MLA Train Accuracy Mean  \\\n",
       "3  [1.0, 1.0, 1.0, 1.0, 1.0, 1.0, 1.0, 1.0, 1.0, ...                       1   \n",
       "0  [1.0, 1.0, 1.0, 1.0, 1.0, 1.0, 1.0, 1.0, 1.0, ...                       1   \n",
       "2  [0.8207954000958313, 0.8393536121673004, 0.838...                0.840507   \n",
       "1  [0.9573550551030187, 0.9591254752851711, 0.955...                0.958557   \n",
       "\n",
       "                                   MLA Test Accuracy MLA Test Accuracy Mean  \\\n",
       "3  [0.7868217054263565, 0.6887966804979253, 0.833...               0.752402   \n",
       "0  [0.8449612403100775, 0.7012448132780082, 0.829...               0.749282   \n",
       "2  [0.7984496124031008, 0.7012448132780082, 0.755...               0.725006   \n",
       "1  [0.7713178294573644, 0.6597510373443983, 0.748...               0.721273   \n",
       "\n",
       "  MLA Test Accuracy Std  \n",
       "3             0.0624844  \n",
       "0             0.0696579  \n",
       "2             0.0537489  \n",
       "1              0.066679  "
      ]
     },
     "execution_count": 18,
     "metadata": {},
     "output_type": "execute_result"
    }
   ],
   "source": [
    "MLA_breath"
   ]
  },
  {
   "cell_type": "code",
   "execution_count": 19,
   "metadata": {},
   "outputs": [
    {
     "data": {
      "text/html": [
       "<div>\n",
       "<style scoped>\n",
       "    .dataframe tbody tr th:only-of-type {\n",
       "        vertical-align: middle;\n",
       "    }\n",
       "\n",
       "    .dataframe tbody tr th {\n",
       "        vertical-align: top;\n",
       "    }\n",
       "\n",
       "    .dataframe thead th {\n",
       "        text-align: right;\n",
       "    }\n",
       "</style>\n",
       "<table border=\"1\" class=\"dataframe\">\n",
       "  <thead>\n",
       "    <tr style=\"text-align: right;\">\n",
       "      <th></th>\n",
       "      <th>MLA Name</th>\n",
       "      <th>MLA Parameters</th>\n",
       "      <th>MLA Train Accuracy</th>\n",
       "      <th>MLA Train Accuracy Mean</th>\n",
       "      <th>MLA Test Accuracy</th>\n",
       "      <th>MLA Test Accuracy Mean</th>\n",
       "      <th>MLA Test Accuracy Std</th>\n",
       "    </tr>\n",
       "  </thead>\n",
       "  <tbody>\n",
       "    <tr>\n",
       "      <th>0</th>\n",
       "      <td>RandomForestClassifier</td>\n",
       "      <td>{'bootstrap': True, 'ccp_alpha': 0.0, 'class_w...</td>\n",
       "      <td>[1.0, 1.0, 1.0, 1.0, 1.0, 1.0, 1.0, 1.0, 1.0, ...</td>\n",
       "      <td>1</td>\n",
       "      <td>[0.7906976744186046, 0.6804979253112033, 0.802...</td>\n",
       "      <td>0.72422</td>\n",
       "      <td>0.0479949</td>\n",
       "    </tr>\n",
       "    <tr>\n",
       "      <th>1</th>\n",
       "      <td>SVC</td>\n",
       "      <td>{'C': 1.0, 'break_ties': False, 'cache_size': ...</td>\n",
       "      <td>[0.9118351701006229, 0.9115969581749049, 0.906...</td>\n",
       "      <td>0.91234</td>\n",
       "      <td>[0.7713178294573644, 0.6929460580912863, 0.775...</td>\n",
       "      <td>0.723674</td>\n",
       "      <td>0.0505467</td>\n",
       "    </tr>\n",
       "    <tr>\n",
       "      <th>3</th>\n",
       "      <td>XGBClassifier</td>\n",
       "      <td>{'objective': 'binary:logistic', 'use_label_en...</td>\n",
       "      <td>[1.0, 1.0, 1.0, 1.0, 1.0, 1.0, 1.0, 1.0, 1.0, ...</td>\n",
       "      <td>1</td>\n",
       "      <td>[0.7868217054263565, 0.6804979253112033, 0.779...</td>\n",
       "      <td>0.71679</td>\n",
       "      <td>0.0567339</td>\n",
       "    </tr>\n",
       "    <tr>\n",
       "      <th>2</th>\n",
       "      <td>LinearSVC</td>\n",
       "      <td>{'C': 1.0, 'class_weight': None, 'dual': True,...</td>\n",
       "      <td>[0.7834211787254433, 0.7984790874524715, 0.791...</td>\n",
       "      <td>0.791539</td>\n",
       "      <td>[0.7441860465116279, 0.6390041493775933, 0.717...</td>\n",
       "      <td>0.690223</td>\n",
       "      <td>0.0403104</td>\n",
       "    </tr>\n",
       "  </tbody>\n",
       "</table>\n",
       "</div>"
      ],
      "text/plain": [
       "                 MLA Name                                     MLA Parameters  \\\n",
       "0  RandomForestClassifier  {'bootstrap': True, 'ccp_alpha': 0.0, 'class_w...   \n",
       "1                     SVC  {'C': 1.0, 'break_ties': False, 'cache_size': ...   \n",
       "3           XGBClassifier  {'objective': 'binary:logistic', 'use_label_en...   \n",
       "2               LinearSVC  {'C': 1.0, 'class_weight': None, 'dual': True,...   \n",
       "\n",
       "                                  MLA Train Accuracy MLA Train Accuracy Mean  \\\n",
       "0  [1.0, 1.0, 1.0, 1.0, 1.0, 1.0, 1.0, 1.0, 1.0, ...                       1   \n",
       "1  [0.9118351701006229, 0.9115969581749049, 0.906...                 0.91234   \n",
       "3  [1.0, 1.0, 1.0, 1.0, 1.0, 1.0, 1.0, 1.0, 1.0, ...                       1   \n",
       "2  [0.7834211787254433, 0.7984790874524715, 0.791...                0.791539   \n",
       "\n",
       "                                   MLA Test Accuracy MLA Test Accuracy Mean  \\\n",
       "0  [0.7906976744186046, 0.6804979253112033, 0.802...                0.72422   \n",
       "1  [0.7713178294573644, 0.6929460580912863, 0.775...               0.723674   \n",
       "3  [0.7868217054263565, 0.6804979253112033, 0.779...                0.71679   \n",
       "2  [0.7441860465116279, 0.6390041493775933, 0.717...               0.690223   \n",
       "\n",
       "  MLA Test Accuracy Std  \n",
       "0             0.0479949  \n",
       "1             0.0505467  \n",
       "3             0.0567339  \n",
       "2             0.0403104  "
      ]
     },
     "execution_count": 19,
     "metadata": {},
     "output_type": "execute_result"
    }
   ],
   "source": [
    "MLA_breath_1"
   ]
  },
  {
   "cell_type": "code",
   "execution_count": 20,
   "metadata": {},
   "outputs": [
    {
     "data": {
      "text/html": [
       "<div>\n",
       "<style scoped>\n",
       "    .dataframe tbody tr th:only-of-type {\n",
       "        vertical-align: middle;\n",
       "    }\n",
       "\n",
       "    .dataframe tbody tr th {\n",
       "        vertical-align: top;\n",
       "    }\n",
       "\n",
       "    .dataframe thead th {\n",
       "        text-align: right;\n",
       "    }\n",
       "</style>\n",
       "<table border=\"1\" class=\"dataframe\">\n",
       "  <thead>\n",
       "    <tr style=\"text-align: right;\">\n",
       "      <th></th>\n",
       "      <th>MLA Name</th>\n",
       "      <th>MLA Parameters</th>\n",
       "      <th>MLA Train Accuracy</th>\n",
       "      <th>MLA Train Accuracy Mean</th>\n",
       "      <th>MLA Test Accuracy</th>\n",
       "      <th>MLA Test Accuracy Mean</th>\n",
       "      <th>MLA Test Accuracy Std</th>\n",
       "    </tr>\n",
       "  </thead>\n",
       "  <tbody>\n",
       "    <tr>\n",
       "      <th>3</th>\n",
       "      <td>XGBClassifier</td>\n",
       "      <td>{'objective': 'binary:logistic', 'use_label_en...</td>\n",
       "      <td>[1.0, 1.0, 1.0, 1.0, 1.0, 1.0, 1.0, 1.0, 1.0, ...</td>\n",
       "      <td>1</td>\n",
       "      <td>[0.7751937984496124, 0.7012448132780082, 0.794...</td>\n",
       "      <td>0.729605</td>\n",
       "      <td>0.0694217</td>\n",
       "    </tr>\n",
       "    <tr>\n",
       "      <th>0</th>\n",
       "      <td>RandomForestClassifier</td>\n",
       "      <td>{'bootstrap': True, 'ccp_alpha': 0.0, 'class_w...</td>\n",
       "      <td>[1.0, 1.0, 1.0, 1.0, 1.0, 1.0, 1.0, 1.0, 1.0, ...</td>\n",
       "      <td>1</td>\n",
       "      <td>[0.7713178294573644, 0.6929460580912863, 0.771...</td>\n",
       "      <td>0.726234</td>\n",
       "      <td>0.0601997</td>\n",
       "    </tr>\n",
       "    <tr>\n",
       "      <th>2</th>\n",
       "      <td>LinearSVC</td>\n",
       "      <td>{'C': 1.0, 'class_weight': None, 'dual': True,...</td>\n",
       "      <td>[0.8241494968854816, 0.8365019011406845, 0.830...</td>\n",
       "      <td>0.835535</td>\n",
       "      <td>[0.7829457364341085, 0.6970954356846473, 0.713...</td>\n",
       "      <td>0.702954</td>\n",
       "      <td>0.0574302</td>\n",
       "    </tr>\n",
       "    <tr>\n",
       "      <th>1</th>\n",
       "      <td>SVC</td>\n",
       "      <td>{'C': 1.0, 'break_ties': False, 'cache_size': ...</td>\n",
       "      <td>[0.9405845711547676, 0.9434410646387833, 0.938...</td>\n",
       "      <td>0.941855</td>\n",
       "      <td>[0.7286821705426356, 0.6473029045643154, 0.705...</td>\n",
       "      <td>0.697697</td>\n",
       "      <td>0.0643201</td>\n",
       "    </tr>\n",
       "  </tbody>\n",
       "</table>\n",
       "</div>"
      ],
      "text/plain": [
       "                 MLA Name                                     MLA Parameters  \\\n",
       "3           XGBClassifier  {'objective': 'binary:logistic', 'use_label_en...   \n",
       "0  RandomForestClassifier  {'bootstrap': True, 'ccp_alpha': 0.0, 'class_w...   \n",
       "2               LinearSVC  {'C': 1.0, 'class_weight': None, 'dual': True,...   \n",
       "1                     SVC  {'C': 1.0, 'break_ties': False, 'cache_size': ...   \n",
       "\n",
       "                                  MLA Train Accuracy MLA Train Accuracy Mean  \\\n",
       "3  [1.0, 1.0, 1.0, 1.0, 1.0, 1.0, 1.0, 1.0, 1.0, ...                       1   \n",
       "0  [1.0, 1.0, 1.0, 1.0, 1.0, 1.0, 1.0, 1.0, 1.0, ...                       1   \n",
       "2  [0.8241494968854816, 0.8365019011406845, 0.830...                0.835535   \n",
       "1  [0.9405845711547676, 0.9434410646387833, 0.938...                0.941855   \n",
       "\n",
       "                                   MLA Test Accuracy MLA Test Accuracy Mean  \\\n",
       "3  [0.7751937984496124, 0.7012448132780082, 0.794...               0.729605   \n",
       "0  [0.7713178294573644, 0.6929460580912863, 0.771...               0.726234   \n",
       "2  [0.7829457364341085, 0.6970954356846473, 0.713...               0.702954   \n",
       "1  [0.7286821705426356, 0.6473029045643154, 0.705...               0.697697   \n",
       "\n",
       "  MLA Test Accuracy Std  \n",
       "3             0.0694217  \n",
       "0             0.0601997  \n",
       "2             0.0574302  \n",
       "1             0.0643201  "
      ]
     },
     "execution_count": 20,
     "metadata": {},
     "output_type": "execute_result"
    }
   ],
   "source": [
    "MLA_breath_2"
   ]
  },
  {
   "cell_type": "code",
   "execution_count": 21,
   "metadata": {},
   "outputs": [
    {
     "data": {
      "text/html": [
       "<div>\n",
       "<style scoped>\n",
       "    .dataframe tbody tr th:only-of-type {\n",
       "        vertical-align: middle;\n",
       "    }\n",
       "\n",
       "    .dataframe tbody tr th {\n",
       "        vertical-align: top;\n",
       "    }\n",
       "\n",
       "    .dataframe thead th {\n",
       "        text-align: right;\n",
       "    }\n",
       "</style>\n",
       "<table border=\"1\" class=\"dataframe\">\n",
       "  <thead>\n",
       "    <tr style=\"text-align: right;\">\n",
       "      <th></th>\n",
       "      <th>MLA Name</th>\n",
       "      <th>MLA Parameters</th>\n",
       "      <th>MLA Train Accuracy</th>\n",
       "      <th>MLA Train Accuracy Mean</th>\n",
       "      <th>MLA Test Accuracy</th>\n",
       "      <th>MLA Test Accuracy Mean</th>\n",
       "      <th>MLA Test Accuracy Std</th>\n",
       "    </tr>\n",
       "  </thead>\n",
       "  <tbody>\n",
       "    <tr>\n",
       "      <th>2</th>\n",
       "      <td>LinearSVC</td>\n",
       "      <td>{'C': 1.0, 'class_weight': None, 'dual': True,...</td>\n",
       "      <td>[0.8207954000958313, 0.8388783269961977, 0.829...</td>\n",
       "      <td>0.83122</td>\n",
       "      <td>[0.8488372093023255, 0.7136929460580913, 0.767...</td>\n",
       "      <td>0.763883</td>\n",
       "      <td>0.0457585</td>\n",
       "    </tr>\n",
       "    <tr>\n",
       "      <th>1</th>\n",
       "      <td>SVC</td>\n",
       "      <td>{'C': 1.0, 'break_ties': False, 'cache_size': ...</td>\n",
       "      <td>[0.9175850503114519, 0.9206273764258555, 0.921...</td>\n",
       "      <td>0.922433</td>\n",
       "      <td>[0.8023255813953488, 0.6804979253112033, 0.732...</td>\n",
       "      <td>0.74148</td>\n",
       "      <td>0.0546907</td>\n",
       "    </tr>\n",
       "    <tr>\n",
       "      <th>0</th>\n",
       "      <td>RandomForestClassifier</td>\n",
       "      <td>{'bootstrap': True, 'ccp_alpha': 0.0, 'class_w...</td>\n",
       "      <td>[1.0, 1.0, 1.0, 1.0, 1.0, 1.0, 1.0, 1.0, 1.0, ...</td>\n",
       "      <td>1</td>\n",
       "      <td>[0.8178294573643411, 0.7012448132780082, 0.779...</td>\n",
       "      <td>0.737633</td>\n",
       "      <td>0.0543026</td>\n",
       "    </tr>\n",
       "    <tr>\n",
       "      <th>3</th>\n",
       "      <td>XGBClassifier</td>\n",
       "      <td>{'objective': 'binary:logistic', 'use_label_en...</td>\n",
       "      <td>[1.0, 1.0, 1.0, 1.0, 1.0, 1.0, 1.0, 1.0, 1.0, ...</td>\n",
       "      <td>1</td>\n",
       "      <td>[0.813953488372093, 0.6804979253112033, 0.7596...</td>\n",
       "      <td>0.735487</td>\n",
       "      <td>0.0573737</td>\n",
       "    </tr>\n",
       "  </tbody>\n",
       "</table>\n",
       "</div>"
      ],
      "text/plain": [
       "                 MLA Name                                     MLA Parameters  \\\n",
       "2               LinearSVC  {'C': 1.0, 'class_weight': None, 'dual': True,...   \n",
       "1                     SVC  {'C': 1.0, 'break_ties': False, 'cache_size': ...   \n",
       "0  RandomForestClassifier  {'bootstrap': True, 'ccp_alpha': 0.0, 'class_w...   \n",
       "3           XGBClassifier  {'objective': 'binary:logistic', 'use_label_en...   \n",
       "\n",
       "                                  MLA Train Accuracy MLA Train Accuracy Mean  \\\n",
       "2  [0.8207954000958313, 0.8388783269961977, 0.829...                 0.83122   \n",
       "1  [0.9175850503114519, 0.9206273764258555, 0.921...                0.922433   \n",
       "0  [1.0, 1.0, 1.0, 1.0, 1.0, 1.0, 1.0, 1.0, 1.0, ...                       1   \n",
       "3  [1.0, 1.0, 1.0, 1.0, 1.0, 1.0, 1.0, 1.0, 1.0, ...                       1   \n",
       "\n",
       "                                   MLA Test Accuracy MLA Test Accuracy Mean  \\\n",
       "2  [0.8488372093023255, 0.7136929460580913, 0.767...               0.763883   \n",
       "1  [0.8023255813953488, 0.6804979253112033, 0.732...                0.74148   \n",
       "0  [0.8178294573643411, 0.7012448132780082, 0.779...               0.737633   \n",
       "3  [0.813953488372093, 0.6804979253112033, 0.7596...               0.735487   \n",
       "\n",
       "  MLA Test Accuracy Std  \n",
       "2             0.0457585  \n",
       "1             0.0546907  \n",
       "0             0.0543026  \n",
       "3             0.0573737  "
      ]
     },
     "execution_count": 21,
     "metadata": {},
     "output_type": "execute_result"
    }
   ],
   "source": [
    "MLA_breath_3"
   ]
  },
  {
   "cell_type": "code",
   "execution_count": 24,
   "metadata": {},
   "outputs": [
    {
     "data": {
      "text/html": [
       "<div>\n",
       "<style scoped>\n",
       "    .dataframe tbody tr th:only-of-type {\n",
       "        vertical-align: middle;\n",
       "    }\n",
       "\n",
       "    .dataframe tbody tr th {\n",
       "        vertical-align: top;\n",
       "    }\n",
       "\n",
       "    .dataframe thead th {\n",
       "        text-align: right;\n",
       "    }\n",
       "</style>\n",
       "<table border=\"1\" class=\"dataframe\">\n",
       "  <thead>\n",
       "    <tr style=\"text-align: right;\">\n",
       "      <th></th>\n",
       "      <th>MLA Name</th>\n",
       "      <th>MLA Parameters</th>\n",
       "      <th>MLA Train Accuracy</th>\n",
       "      <th>MLA Train Accuracy Mean</th>\n",
       "      <th>MLA Test Accuracy</th>\n",
       "      <th>MLA Test Accuracy Mean</th>\n",
       "      <th>MLA Test Accuracy Std</th>\n",
       "    </tr>\n",
       "  </thead>\n",
       "  <tbody>\n",
       "    <tr>\n",
       "      <th>3</th>\n",
       "      <td>XGBClassifier</td>\n",
       "      <td>{'objective': 'binary:logistic', 'use_label_en...</td>\n",
       "      <td>[1.0, 1.0, 1.0, 1.0, 1.0, 1.0, 1.0, 1.0, 1.0, ...</td>\n",
       "      <td>1</td>\n",
       "      <td>[0.8372093023255814, 0.6929460580912863, 0.837...</td>\n",
       "      <td>0.758418</td>\n",
       "      <td>0.0660955</td>\n",
       "    </tr>\n",
       "    <tr>\n",
       "      <th>0</th>\n",
       "      <td>RandomForestClassifier</td>\n",
       "      <td>{'bootstrap': True, 'ccp_alpha': 0.0, 'class_w...</td>\n",
       "      <td>[1.0, 1.0, 1.0, 1.0, 1.0, 1.0, 1.0, 1.0, 1.0, ...</td>\n",
       "      <td>1</td>\n",
       "      <td>[0.8178294573643411, 0.7053941908713693, 0.829...</td>\n",
       "      <td>0.753876</td>\n",
       "      <td>0.0615511</td>\n",
       "    </tr>\n",
       "    <tr>\n",
       "      <th>2</th>\n",
       "      <td>LinearSVC</td>\n",
       "      <td>{'C': 1.0, 'class_weight': None, 'dual': True,...</td>\n",
       "      <td>[0.8203162434115956, 0.8393536121673004, 0.838...</td>\n",
       "      <td>0.840175</td>\n",
       "      <td>[0.7984496124031008, 0.7012448132780082, 0.755...</td>\n",
       "      <td>0.725388</td>\n",
       "      <td>0.0530934</td>\n",
       "    </tr>\n",
       "    <tr>\n",
       "      <th>1</th>\n",
       "      <td>SVC</td>\n",
       "      <td>{'C': 1.0, 'break_ties': False, 'cache_size': ...</td>\n",
       "      <td>[0.9573550551030187, 0.9591254752851711, 0.955...</td>\n",
       "      <td>0.958557</td>\n",
       "      <td>[0.7713178294573644, 0.6597510373443983, 0.748...</td>\n",
       "      <td>0.721273</td>\n",
       "      <td>0.066679</td>\n",
       "    </tr>\n",
       "  </tbody>\n",
       "</table>\n",
       "</div>"
      ],
      "text/plain": [
       "                 MLA Name                                     MLA Parameters  \\\n",
       "3           XGBClassifier  {'objective': 'binary:logistic', 'use_label_en...   \n",
       "0  RandomForestClassifier  {'bootstrap': True, 'ccp_alpha': 0.0, 'class_w...   \n",
       "2               LinearSVC  {'C': 1.0, 'class_weight': None, 'dual': True,...   \n",
       "1                     SVC  {'C': 1.0, 'break_ties': False, 'cache_size': ...   \n",
       "\n",
       "                                  MLA Train Accuracy MLA Train Accuracy Mean  \\\n",
       "3  [1.0, 1.0, 1.0, 1.0, 1.0, 1.0, 1.0, 1.0, 1.0, ...                       1   \n",
       "0  [1.0, 1.0, 1.0, 1.0, 1.0, 1.0, 1.0, 1.0, 1.0, ...                       1   \n",
       "2  [0.8203162434115956, 0.8393536121673004, 0.838...                0.840175   \n",
       "1  [0.9573550551030187, 0.9591254752851711, 0.955...                0.958557   \n",
       "\n",
       "                                   MLA Test Accuracy MLA Test Accuracy Mean  \\\n",
       "3  [0.8372093023255814, 0.6929460580912863, 0.837...               0.758418   \n",
       "0  [0.8178294573643411, 0.7053941908713693, 0.829...               0.753876   \n",
       "2  [0.7984496124031008, 0.7012448132780082, 0.755...               0.725388   \n",
       "1  [0.7713178294573644, 0.6597510373443983, 0.748...               0.721273   \n",
       "\n",
       "  MLA Test Accuracy Std  \n",
       "3             0.0660955  \n",
       "0             0.0615511  \n",
       "2             0.0530934  \n",
       "1              0.066679  "
      ]
     },
     "execution_count": 24,
     "metadata": {},
     "output_type": "execute_result"
    }
   ],
   "source": [
    "MLA_breath"
   ]
  },
  {
   "cell_type": "code",
   "execution_count": 25,
   "metadata": {},
   "outputs": [
    {
     "data": {
      "text/html": [
       "<div>\n",
       "<style scoped>\n",
       "    .dataframe tbody tr th:only-of-type {\n",
       "        vertical-align: middle;\n",
       "    }\n",
       "\n",
       "    .dataframe tbody tr th {\n",
       "        vertical-align: top;\n",
       "    }\n",
       "\n",
       "    .dataframe thead th {\n",
       "        text-align: right;\n",
       "    }\n",
       "</style>\n",
       "<table border=\"1\" class=\"dataframe\">\n",
       "  <thead>\n",
       "    <tr style=\"text-align: right;\">\n",
       "      <th></th>\n",
       "      <th>MLA Name</th>\n",
       "      <th>MLA Parameters</th>\n",
       "      <th>MLA Train Accuracy</th>\n",
       "      <th>MLA Train Accuracy Mean</th>\n",
       "      <th>MLA Test Accuracy</th>\n",
       "      <th>MLA Test Accuracy Mean</th>\n",
       "      <th>MLA Test Accuracy Std</th>\n",
       "    </tr>\n",
       "  </thead>\n",
       "  <tbody>\n",
       "    <tr>\n",
       "      <th>0</th>\n",
       "      <td>RandomForestClassifier</td>\n",
       "      <td>{'bootstrap': True, 'ccp_alpha': 0.0, 'class_w...</td>\n",
       "      <td>[1.0, 1.0, 1.0, 1.0, 1.0, 1.0, 1.0, 1.0, 1.0, ...</td>\n",
       "      <td>1</td>\n",
       "      <td>[0.7945736434108527, 0.6929460580912863, 0.786...</td>\n",
       "      <td>0.724995</td>\n",
       "      <td>0.0413475</td>\n",
       "    </tr>\n",
       "    <tr>\n",
       "      <th>1</th>\n",
       "      <td>SVC</td>\n",
       "      <td>{'C': 1.0, 'break_ties': False, 'cache_size': ...</td>\n",
       "      <td>[0.9118351701006229, 0.9115969581749049, 0.906...</td>\n",
       "      <td>0.91234</td>\n",
       "      <td>[0.7713178294573644, 0.6929460580912863, 0.775...</td>\n",
       "      <td>0.723674</td>\n",
       "      <td>0.0505467</td>\n",
       "    </tr>\n",
       "    <tr>\n",
       "      <th>3</th>\n",
       "      <td>XGBClassifier</td>\n",
       "      <td>{'objective': 'binary:logistic', 'use_label_en...</td>\n",
       "      <td>[0.9990416866315285, 0.9990494296577946, 1.0, ...</td>\n",
       "      <td>0.999186</td>\n",
       "      <td>[0.7790697674418605, 0.6887966804979253, 0.806...</td>\n",
       "      <td>0.720204</td>\n",
       "      <td>0.0481873</td>\n",
       "    </tr>\n",
       "    <tr>\n",
       "      <th>2</th>\n",
       "      <td>LinearSVC</td>\n",
       "      <td>{'C': 1.0, 'class_weight': None, 'dual': True,...</td>\n",
       "      <td>[0.7834211787254433, 0.7994296577946768, 0.790...</td>\n",
       "      <td>0.791682</td>\n",
       "      <td>[0.7403100775193798, 0.6514522821576764, 0.709...</td>\n",
       "      <td>0.688689</td>\n",
       "      <td>0.0389528</td>\n",
       "    </tr>\n",
       "  </tbody>\n",
       "</table>\n",
       "</div>"
      ],
      "text/plain": [
       "                 MLA Name                                     MLA Parameters  \\\n",
       "0  RandomForestClassifier  {'bootstrap': True, 'ccp_alpha': 0.0, 'class_w...   \n",
       "1                     SVC  {'C': 1.0, 'break_ties': False, 'cache_size': ...   \n",
       "3           XGBClassifier  {'objective': 'binary:logistic', 'use_label_en...   \n",
       "2               LinearSVC  {'C': 1.0, 'class_weight': None, 'dual': True,...   \n",
       "\n",
       "                                  MLA Train Accuracy MLA Train Accuracy Mean  \\\n",
       "0  [1.0, 1.0, 1.0, 1.0, 1.0, 1.0, 1.0, 1.0, 1.0, ...                       1   \n",
       "1  [0.9118351701006229, 0.9115969581749049, 0.906...                 0.91234   \n",
       "3  [0.9990416866315285, 0.9990494296577946, 1.0, ...                0.999186   \n",
       "2  [0.7834211787254433, 0.7994296577946768, 0.790...                0.791682   \n",
       "\n",
       "                                   MLA Test Accuracy MLA Test Accuracy Mean  \\\n",
       "0  [0.7945736434108527, 0.6929460580912863, 0.786...               0.724995   \n",
       "1  [0.7713178294573644, 0.6929460580912863, 0.775...               0.723674   \n",
       "3  [0.7790697674418605, 0.6887966804979253, 0.806...               0.720204   \n",
       "2  [0.7403100775193798, 0.6514522821576764, 0.709...               0.688689   \n",
       "\n",
       "  MLA Test Accuracy Std  \n",
       "0             0.0413475  \n",
       "1             0.0505467  \n",
       "3             0.0481873  \n",
       "2             0.0389528  "
      ]
     },
     "execution_count": 25,
     "metadata": {},
     "output_type": "execute_result"
    }
   ],
   "source": [
    "MLA_breath_1"
   ]
  },
  {
   "cell_type": "code",
   "execution_count": 26,
   "metadata": {},
   "outputs": [
    {
     "data": {
      "text/html": [
       "<div>\n",
       "<style scoped>\n",
       "    .dataframe tbody tr th:only-of-type {\n",
       "        vertical-align: middle;\n",
       "    }\n",
       "\n",
       "    .dataframe tbody tr th {\n",
       "        vertical-align: top;\n",
       "    }\n",
       "\n",
       "    .dataframe thead th {\n",
       "        text-align: right;\n",
       "    }\n",
       "</style>\n",
       "<table border=\"1\" class=\"dataframe\">\n",
       "  <thead>\n",
       "    <tr style=\"text-align: right;\">\n",
       "      <th></th>\n",
       "      <th>MLA Name</th>\n",
       "      <th>MLA Parameters</th>\n",
       "      <th>MLA Train Accuracy</th>\n",
       "      <th>MLA Train Accuracy Mean</th>\n",
       "      <th>MLA Test Accuracy</th>\n",
       "      <th>MLA Test Accuracy Mean</th>\n",
       "      <th>MLA Test Accuracy Std</th>\n",
       "    </tr>\n",
       "  </thead>\n",
       "  <tbody>\n",
       "    <tr>\n",
       "      <th>3</th>\n",
       "      <td>XGBClassifier</td>\n",
       "      <td>{'objective': 'binary:logistic', 'use_label_en...</td>\n",
       "      <td>[0.9995208433157643, 1.0, 1.0, 1.0, 1.0, 1.0, ...</td>\n",
       "      <td>0.999952</td>\n",
       "      <td>[0.7829457364341085, 0.6763485477178424, 0.821...</td>\n",
       "      <td>0.736441</td>\n",
       "      <td>0.0651527</td>\n",
       "    </tr>\n",
       "    <tr>\n",
       "      <th>0</th>\n",
       "      <td>RandomForestClassifier</td>\n",
       "      <td>{'bootstrap': True, 'ccp_alpha': 0.0, 'class_w...</td>\n",
       "      <td>[1.0, 1.0, 1.0, 1.0, 1.0, 1.0, 1.0, 1.0, 1.0, ...</td>\n",
       "      <td>1</td>\n",
       "      <td>[0.7403100775193798, 0.6929460580912863, 0.802...</td>\n",
       "      <td>0.725029</td>\n",
       "      <td>0.058946</td>\n",
       "    </tr>\n",
       "    <tr>\n",
       "      <th>2</th>\n",
       "      <td>LinearSVC</td>\n",
       "      <td>{'C': 1.0, 'class_weight': None, 'dual': True,...</td>\n",
       "      <td>[0.8251078102539531, 0.8350760456273765, 0.831...</td>\n",
       "      <td>0.83501</td>\n",
       "      <td>[0.7829457364341085, 0.6970954356846473, 0.709...</td>\n",
       "      <td>0.702585</td>\n",
       "      <td>0.0573989</td>\n",
       "    </tr>\n",
       "    <tr>\n",
       "      <th>1</th>\n",
       "      <td>SVC</td>\n",
       "      <td>{'C': 1.0, 'break_ties': False, 'cache_size': ...</td>\n",
       "      <td>[0.9405845711547676, 0.9434410646387833, 0.938...</td>\n",
       "      <td>0.941855</td>\n",
       "      <td>[0.7286821705426356, 0.6473029045643154, 0.705...</td>\n",
       "      <td>0.697697</td>\n",
       "      <td>0.0643201</td>\n",
       "    </tr>\n",
       "  </tbody>\n",
       "</table>\n",
       "</div>"
      ],
      "text/plain": [
       "                 MLA Name                                     MLA Parameters  \\\n",
       "3           XGBClassifier  {'objective': 'binary:logistic', 'use_label_en...   \n",
       "0  RandomForestClassifier  {'bootstrap': True, 'ccp_alpha': 0.0, 'class_w...   \n",
       "2               LinearSVC  {'C': 1.0, 'class_weight': None, 'dual': True,...   \n",
       "1                     SVC  {'C': 1.0, 'break_ties': False, 'cache_size': ...   \n",
       "\n",
       "                                  MLA Train Accuracy MLA Train Accuracy Mean  \\\n",
       "3  [0.9995208433157643, 1.0, 1.0, 1.0, 1.0, 1.0, ...                0.999952   \n",
       "0  [1.0, 1.0, 1.0, 1.0, 1.0, 1.0, 1.0, 1.0, 1.0, ...                       1   \n",
       "2  [0.8251078102539531, 0.8350760456273765, 0.831...                 0.83501   \n",
       "1  [0.9405845711547676, 0.9434410646387833, 0.938...                0.941855   \n",
       "\n",
       "                                   MLA Test Accuracy MLA Test Accuracy Mean  \\\n",
       "3  [0.7829457364341085, 0.6763485477178424, 0.821...               0.736441   \n",
       "0  [0.7403100775193798, 0.6929460580912863, 0.802...               0.725029   \n",
       "2  [0.7829457364341085, 0.6970954356846473, 0.709...               0.702585   \n",
       "1  [0.7286821705426356, 0.6473029045643154, 0.705...               0.697697   \n",
       "\n",
       "  MLA Test Accuracy Std  \n",
       "3             0.0651527  \n",
       "0              0.058946  \n",
       "2             0.0573989  \n",
       "1             0.0643201  "
      ]
     },
     "execution_count": 26,
     "metadata": {},
     "output_type": "execute_result"
    }
   ],
   "source": [
    "MLA_breath_2"
   ]
  },
  {
   "cell_type": "code",
   "execution_count": 27,
   "metadata": {},
   "outputs": [
    {
     "data": {
      "text/html": [
       "<div>\n",
       "<style scoped>\n",
       "    .dataframe tbody tr th:only-of-type {\n",
       "        vertical-align: middle;\n",
       "    }\n",
       "\n",
       "    .dataframe tbody tr th {\n",
       "        vertical-align: top;\n",
       "    }\n",
       "\n",
       "    .dataframe thead th {\n",
       "        text-align: right;\n",
       "    }\n",
       "</style>\n",
       "<table border=\"1\" class=\"dataframe\">\n",
       "  <thead>\n",
       "    <tr style=\"text-align: right;\">\n",
       "      <th></th>\n",
       "      <th>MLA Name</th>\n",
       "      <th>MLA Parameters</th>\n",
       "      <th>MLA Train Accuracy</th>\n",
       "      <th>MLA Train Accuracy Mean</th>\n",
       "      <th>MLA Test Accuracy</th>\n",
       "      <th>MLA Test Accuracy Mean</th>\n",
       "      <th>MLA Test Accuracy Std</th>\n",
       "    </tr>\n",
       "  </thead>\n",
       "  <tbody>\n",
       "    <tr>\n",
       "      <th>2</th>\n",
       "      <td>LinearSVC</td>\n",
       "      <td>{'C': 1.0, 'class_weight': None, 'dual': True,...</td>\n",
       "      <td>[0.8212745567800671, 0.839828897338403, 0.8298...</td>\n",
       "      <td>0.831176</td>\n",
       "      <td>[0.8372093023255814, 0.7136929460580913, 0.767...</td>\n",
       "      <td>0.762629</td>\n",
       "      <td>0.0429664</td>\n",
       "    </tr>\n",
       "    <tr>\n",
       "      <th>1</th>\n",
       "      <td>SVC</td>\n",
       "      <td>{'C': 1.0, 'break_ties': False, 'cache_size': ...</td>\n",
       "      <td>[0.9175850503114519, 0.9206273764258555, 0.921...</td>\n",
       "      <td>0.922433</td>\n",
       "      <td>[0.8023255813953488, 0.6804979253112033, 0.732...</td>\n",
       "      <td>0.74148</td>\n",
       "      <td>0.0546907</td>\n",
       "    </tr>\n",
       "    <tr>\n",
       "      <th>3</th>\n",
       "      <td>XGBClassifier</td>\n",
       "      <td>{'objective': 'binary:logistic', 'use_label_en...</td>\n",
       "      <td>[1.0, 0.9995247148288974, 0.9995208433157643, ...</td>\n",
       "      <td>0.99957</td>\n",
       "      <td>[0.8255813953488372, 0.6929460580912863, 0.779...</td>\n",
       "      <td>0.741081</td>\n",
       "      <td>0.0562128</td>\n",
       "    </tr>\n",
       "    <tr>\n",
       "      <th>0</th>\n",
       "      <td>RandomForestClassifier</td>\n",
       "      <td>{'bootstrap': True, 'ccp_alpha': 0.0, 'class_w...</td>\n",
       "      <td>[1.0, 1.0, 1.0, 1.0, 1.0, 1.0, 1.0, 1.0, 1.0, ...</td>\n",
       "      <td>1</td>\n",
       "      <td>[0.8178294573643411, 0.7095435684647303, 0.786...</td>\n",
       "      <td>0.737031</td>\n",
       "      <td>0.063709</td>\n",
       "    </tr>\n",
       "  </tbody>\n",
       "</table>\n",
       "</div>"
      ],
      "text/plain": [
       "                 MLA Name                                     MLA Parameters  \\\n",
       "2               LinearSVC  {'C': 1.0, 'class_weight': None, 'dual': True,...   \n",
       "1                     SVC  {'C': 1.0, 'break_ties': False, 'cache_size': ...   \n",
       "3           XGBClassifier  {'objective': 'binary:logistic', 'use_label_en...   \n",
       "0  RandomForestClassifier  {'bootstrap': True, 'ccp_alpha': 0.0, 'class_w...   \n",
       "\n",
       "                                  MLA Train Accuracy MLA Train Accuracy Mean  \\\n",
       "2  [0.8212745567800671, 0.839828897338403, 0.8298...                0.831176   \n",
       "1  [0.9175850503114519, 0.9206273764258555, 0.921...                0.922433   \n",
       "3  [1.0, 0.9995247148288974, 0.9995208433157643, ...                 0.99957   \n",
       "0  [1.0, 1.0, 1.0, 1.0, 1.0, 1.0, 1.0, 1.0, 1.0, ...                       1   \n",
       "\n",
       "                                   MLA Test Accuracy MLA Test Accuracy Mean  \\\n",
       "2  [0.8372093023255814, 0.7136929460580913, 0.767...               0.762629   \n",
       "1  [0.8023255813953488, 0.6804979253112033, 0.732...                0.74148   \n",
       "3  [0.8255813953488372, 0.6929460580912863, 0.779...               0.741081   \n",
       "0  [0.8178294573643411, 0.7095435684647303, 0.786...               0.737031   \n",
       "\n",
       "  MLA Test Accuracy Std  \n",
       "2             0.0429664  \n",
       "1             0.0546907  \n",
       "3             0.0562128  \n",
       "0              0.063709  "
      ]
     },
     "execution_count": 27,
     "metadata": {},
     "output_type": "execute_result"
    }
   ],
   "source": [
    "MLA_breath_3"
   ]
  },
  {
   "cell_type": "code",
   "execution_count": 30,
   "metadata": {},
   "outputs": [
    {
     "data": {
      "text/plain": [
       "array(['4001_C_Na_M_Na_Na_Y.json', '4004_P_Asthma_m_54_Y.json',\n",
       "       '4011_P_Asthma_F_after_TBD_Y.json',\n",
       "       '4027_P_Asthma_F_after_Mod_Y.json',\n",
       "       '4027_P_Asthma_F_before_Mod_Y.json', '4032_C_Na_M_Na_Na_N.json',\n",
       "       '4033_C_Na_M_Na_Na_N.json', '4038_C_Na_F_Na_Na_Y.json',\n",
       "       '4040_C_Na_F_Na_Na_Y.json', '4043_C_Na_F_Na_Na_N.json',\n",
       "       '4054_P_Asthma_F_after_Mod_Y.json',\n",
       "       '4054_P_Asthma_F_before_Mod_Y.json',\n",
       "       '4060_P_Asthma_F_after_TBD_N.json', '4064_C_Na_M_Na_Na_Y.json',\n",
       "       '4065_P_Asthma_M_after_Sev_Y.json',\n",
       "       '4065_P_Asthma_M_before_Sev_Y.json',\n",
       "       '4067_P_Asthma_M_before_Mil_Y.json', '4068_C_Na_F_Na_Na_Y.json',\n",
       "       '4069_C_Na_M_Na_Na_Y.json', '4070_C_Na_F_Na_Na_Y.json',\n",
       "       '4071_C_Na_M_Na_Na_Y.json', '4074_C_Na_F_Na_Na_N.json',\n",
       "       '4076_C_Na_M_Na_Na_N.json', '4082_P_Asthma_M_before_Mod_Y.json',\n",
       "       '4083_C_Na_M_Na_Na_Y.json', '4084_P_NAsthma_F_before_TBD_Y.json',\n",
       "       '4089_P_Asthma_F_after_Mod_Y.json',\n",
       "       '4089_P_Asthma_F_before_Mod_Y.json',\n",
       "       '4093_P_Asthma_F_after_Mod_Y.json',\n",
       "       '4093_P_Asthma_F_before_Mod_Y.json',\n",
       "       '4094_P_Asthma_F_after_Mil_Y.json',\n",
       "       '4094_P_Asthma_F_before_Mil_Y.json',\n",
       "       '4098_P_Asthma_M_after_TBD_Y.json',\n",
       "       '4100_P_Asthma_F_after_Sev_Y.json',\n",
       "       '4106_P_Asthma_M_before_Mil_Y.json',\n",
       "       '4111_P_Asthma_M_after_Mil_Y.json',\n",
       "       '4111_P_Asthma_M_before_Mil_Y.json',\n",
       "       '4113_P_Asthma_M_after_TBD_Y.json', '4117_C_Na_F_Na_Na_N.json',\n",
       "       '4121_C_Na_M_Na_Na_N.json', '4123_P_Asthma_F_After_Mild_Y.json',\n",
       "       '4124_C_Na_M_Na_Na_Y.json', '4126_C_Na_F_Na_Na_N.json',\n",
       "       '4127_P_Asthma_M_after_TBD_Y.json',\n",
       "       '4129_P_Asthma_M_after_TBD_Y.json', '4132_C_Na_M_Na_Na_Y.json',\n",
       "       '4137_C_Na_M_Na_Na_N.json', '4143_P_Asthma_F_after_TBD_Y.json',\n",
       "       '4145_C_Na_M_Na_Na_N.json', '4148_C_Na_F_Na_Na_N.json',\n",
       "       '4153_P_Asthma_M_after_TBD_Y.json',\n",
       "       '4157_P_Asthma_F_after_TBD_Y.json',\n",
       "       '4157_P_Asthma_F_before_TBD_Y.json',\n",
       "       '4159_P_Asthma_M_after_Mod_Y.json',\n",
       "       '4159_P_Asthma_M_before_Mod_Y.json', '4164_C_Na_F_Na_Na_Y.json',\n",
       "       '4173_P_Asthma_F_after_Mil_Y.json',\n",
       "       '4180_P_Asthma_M_after_Mil_Y.json',\n",
       "       '4180_P_Asthma_M_before_Mil_Y.json', '4182_C_Na_M_Na_Na_Y.json',\n",
       "       '4183_P_Asthma_F_before_Mod_Y.json', '4185_C_Na_M_Na_Na_Y.json',\n",
       "       '4186_P_Asthma_M_after_Sev_Y.json', '4189_C_Na_M_Na_Na_N.json',\n",
       "       '4191_C_Na_M_Na_Na_Y.json', '4202_P_Asthma_F_after_Mil_Y.json',\n",
       "       '4204_C_Na_M_Na_Na_N.json', '4213_P_Asthma_M_after_Sev_Y.json',\n",
       "       '4220_C_Na_F_Na_Na_N.json', '4229_C_Na_M_Na_Na_Y.json',\n",
       "       '4231_C_Na_F_Na_Na_N.json', '4234_C_Na_F_Na_Na_Y.json',\n",
       "       '4236_P_Asthma_M_before_Sev_Y.json', '4244_C_Na_M_Na_Na_Y.json',\n",
       "       '4262_P_NAsthma_F_before_TBD_N.json', '4263_C_Na_F_Na_Na_N.json',\n",
       "       '4264_C_Na_M_Na_Na_Y.json', '4268_P_Asthma_F_after_Sev_Y.json',\n",
       "       '4275_C_Na_F_Na_Na_N.json', '4279_P_Asthma_F_after_TBD_Y.json',\n",
       "       '4281_P_Asthma_F_after_Sev_Y.json',\n",
       "       '4281_P_Asthma_F_before_Sev_Y.json',\n",
       "       '4283_P_Asthma_M_after_TBD_Y.json',\n",
       "       '4286_P_Asthma_M_after_Sev_Y.json', '4287_C_Na_F_Na_Na_N.json',\n",
       "       '4288_C_Na_M_Na_Na_Y.json', '4289_P_Asthma_F_after_TBD_Y.json',\n",
       "       '4290_C_Na_M_Na_Na_Y.json', '4291_P_NAsthma_M_before_TBD_N.json',\n",
       "       '4292_C_Na_F_Na_Na_N.json', '4299_C_Na_M_Na_Na_Y.json',\n",
       "       '4300_P_Asthma_F_before_TBD_N.json',\n",
       "       '4303_P_Asthma_F_after_TBD_N.json', '4309_C_Na_M_Na_Na_Y.json',\n",
       "       '4312_P_Asthma_F_after_TBD_Y.json', '4322_C_Na_M_Na_Na_N.json',\n",
       "       '4323_P_Asthma_M_after_Mod_Y.json',\n",
       "       '4323_P_Asthma_M_before_Mod_Y.json', '4324_C_Na_F_Na_Na_N.json',\n",
       "       '4328_C_Na_F_Na_Na_Y.json', '4333_P_Asthma_M_before_Mil_Y.json',\n",
       "       '4335_C_Na_M_Na_Na_Y.json', '4336_C_Na_M_Na_Na_Y.json',\n",
       "       '4338_P_Asthma_F_after_TBD_N.json', '4342_C_Na_F_Na_Na_N.json',\n",
       "       '4346_C_Na_F_Na_Na_N.json', '4356_C_Na_F_Na_Na_N.json',\n",
       "       '4357_C_Na_F_Na_Na_N.json', '4364_P_Asthma_M_before_TBD_Y.json',\n",
       "       '4368_P_Asthma_F_after_68_TBD_Y.json',\n",
       "       '4369_P_Asthma_F_after_TBD_Y.json',\n",
       "       '4370_P_Asthma_F_after_Sev_Y.json',\n",
       "       '4370_P_Asthma_F_before_Sev_Y.json',\n",
       "       '4372_P_Asthma_M_after_Mod_Y.json',\n",
       "       '4372_P_Asthma_M_before_Mod_Y.json',\n",
       "       '4383_P_Asthma_M_after_Sev_Y.json',\n",
       "       '4394_P_Asthma_M_after_TBD_Y.json', '4396_C_Na_F_Na_Na_N.json',\n",
       "       '4403_C_Na_M_Na_Na_Y.json', '4409_P_Asthma_M_after_TBD_Y.json',\n",
       "       '4412_C_Na_F_Na_Na_Y.json', '4413_P_Asthma_F_after_TBD_Y.json',\n",
       "       '4413_P_Asthma_F_before_TBD_Y.json',\n",
       "       '4417_P_Asthma_M_after_Mil_Y.json',\n",
       "       '4417_P_Asthma_M_before_Mil_Y.json', '4418_C_Na_F_Na_Na_N.json',\n",
       "       '4423_C_Na_M_Na_Na_Y.json', '4436_C_Na_M_Na_Na_Y.json',\n",
       "       '4437_P_Asthma_M_After_Sev_Y.json',\n",
       "       '4440_P_Asthma_M_after_Sev_Y.json',\n",
       "       '4441_P_Asthma_F_after_Sev_Y.json',\n",
       "       '4441_P_Asthma_F_before_Sev_Y.json',\n",
       "       '4443_P_Asthma_M_after_TBD_N.json',\n",
       "       '4443_P_Asthma_M_before_TBD_N.json',\n",
       "       '4444_P_Asthma_M_before_Mil_Y.json', '4446_C_Na_F_Na_Na_N.json',\n",
       "       '4459_C_Na_F_Na_Na_Y.json', '4460_P_Asthma_F_after_TBD_Y.json',\n",
       "       '4470_P_Asthma_M_before_TBD_N.json',\n",
       "       '4477_P_Asthma_M_after_Mod_Y.json',\n",
       "       '4477_P_Asthma_M_before_Mod_Y.json',\n",
       "       '4482_P_Asthma_M_after_TBD_Y.json',\n",
       "       '4495_P_Asthma_M_after_TBD_Y.json',\n",
       "       '4495_P_Asthma_M_before_TBD_Y.json', '4496_C_Na_F_Na_Na_Y.json',\n",
       "       '4500_C_Na_M_Na_Na_Y.json', '4505_P_NAsthma_F_before_TBD_Y.json',\n",
       "       '4506_C_Na_M_Na_Na_Y.json', '4509_P_Asthma_F_after_Mil_Y.json',\n",
       "       '4509_P_Asthma_F_before_Mil_Y.json', '4513_C_Na_F_Na_Na_Y.json',\n",
       "       '4521_C_Na_F_Na_Na_N.json', '4526_P_NAsthma_F_after_TBD_Y.json',\n",
       "       '4532_P_Asthma_M_after_TBD_N.json', '4534_C_Na_F_Na_Na_Y.json',\n",
       "       '4538_P_Asthma_F_after_TBD_Y.json',\n",
       "       '4539_P_Asthma_F_before_TBD_Y.json',\n",
       "       '4545_P_Asthma_F_after_TBD_Y.json',\n",
       "       '4545_P_Asthma_F_before_TBD_Y.json',\n",
       "       '4546_P_Asthma_M_after_TBD_Y.json',\n",
       "       '4546_P_Asthma_M_before_TBD_Y.json',\n",
       "       '4549_P_Asthma_M_after_TBD_Y.json',\n",
       "       '4551_P_Asthma_M_after_TBD_N.json',\n",
       "       '4570_P_Asthma_M_after_TBD_Y.json',\n",
       "       '4587_P_Asthma_M_after_TBD_Y.json', '4592_C_Na_F_Na_Na_N.json',\n",
       "       '4594_C_Na_M_Na_Na_Y.json', '4597_C_Na_M_Na_Na_Y.json',\n",
       "       '4600_P_Asthma_M_after_TBD_Y.json', '4603_C_Na_F_Na_Na_Y.json',\n",
       "       '4606_C_Na_M_Na_Na_N.json', '4611_C_Na_M_Na_Na_Y.json',\n",
       "       '4620_P_Asthma_M_after_Sev_Y.json',\n",
       "       '4620_P_Asthma_M_before_Sev_Y.json',\n",
       "       '4623_P_Asthma_M_after_TBD_Y.json', '4632_C_Na_M_Na_Na_Y.json',\n",
       "       '4643_P_Asthma_M_after_TBD_Y.json', '4644_C_Na_F_Na_Na_Y.json',\n",
       "       '4655_C_Na_F_Na_Na_Y.json', '4658_P_Asthma_M_after_Mod_Y.json',\n",
       "       '4658_P_Asthma_M_before_Mod_Y.json', '4662_C_Na_M_Na_Na_Y.json',\n",
       "       '4667_P_NAsthma_M_before_TBD_Y.json',\n",
       "       '4671_P_Asthma_F_before_Mil_Y.json',\n",
       "       '4679_P_Asthma_F_after_Sev_Y.json',\n",
       "       '4679_P_Asthma_F_before_Sev_Y.json',\n",
       "       '4680_P_Asthma_F_after_Sev_Y.json',\n",
       "       '4680_P_Asthma_F_before_Sev_Y.json',\n",
       "       '4692_P_Asthma_M_after_TBD_N.json',\n",
       "       '4694_P_Asthma_M_before_TBD_N.json', '4703_C_Na_F_Na_Na_Y.json',\n",
       "       '4705_C_Na_F_Na_Na_N.json', '4719_P_Asthma_M_after_Mil_Y.json',\n",
       "       '4719_P_Asthma_M_before_Mil_Y.json',\n",
       "       '4724_P_Asthma_M_after_TBD_Y.json',\n",
       "       '4727_P_Asthma_F_after_Mil_Y.json',\n",
       "       '4727_P_Asthma_F_before_Mil_Y.json', '4728_C_Na_F_Na_Na_Y.json',\n",
       "       '4729_P_NAsthma_M_After_Na_Y.json', '4734_C_Na_F_Na_Na_Y.json',\n",
       "       '4739_P_NAsthma_M_After_Na_Y.json',\n",
       "       '4743_P_Asthma_M_before_Mil_Y.json', '4753_C_Na_M_Na_Na_N.json',\n",
       "       '4756_P_Asthma_M_after_TBD_Y.json',\n",
       "       '4761_P_Asthma_M_after_Sev_Y.json',\n",
       "       '4761_P_Asthma_M_before_Sev_Y.json', '4763_C_Na_M_Na_Na_N.json',\n",
       "       '4764_P_Asthma_F_after_TBD_Y.json',\n",
       "       '4764_P_Asthma_F_before_TBD_Y.json',\n",
       "       '4769_P_asthma_M_after_Mod_Y.json',\n",
       "       '4769_P_asthma_M_before_Mod_Y.json', '4773_C_Na_F_Na_Na_Y.json',\n",
       "       '4774_P_Asthma_M_after_Mil_Y.json', '4777_C_Na_M_Na_Na_N.json',\n",
       "       '4779_C_Na_M_Na_Na_Y.json', '4782_C_Na_M_Na_Na_N.json',\n",
       "       '4783_C_Na_F_Na_Na_Y.json', '4791_P_Asthma_F_after_Mod_Y.json',\n",
       "       '4791_P_Asthma_F_before_Mod_Y.json',\n",
       "       '4794_P_Asthma_F_after_Mod_Y.json',\n",
       "       '4794_P_Asthma_F_before_Mod_Y.json',\n",
       "       '4802_P_Asthma_F_after_Mod_Y.json',\n",
       "       '4803_P_Asthma_M_after_Sev_Y.json',\n",
       "       '4803_P_Asthma_M_before_Sev_Y.json',\n",
       "       '4805_P_Asthma_M_after_Mil_Y.json',\n",
       "       '4805_P_Asthma_M_before_Mil_Y.json', '4815_C_Na_M_Na_Na_Y.json',\n",
       "       '4822_P_Asthma_M_after_Sev_Y.json',\n",
       "       '4830_P_Asthma_M_after_TBD_Y.json',\n",
       "       '4837_P_Asthma_F_before_Mod_Y.json',\n",
       "       '4839_P_NAsthma_F_before_TBD_Y.json',\n",
       "       '4840_P_Asthma_M_before_Mod_Y.json', '4845_C_Na_M_Na_Na_Y.json',\n",
       "       '4846_P_Asthma_F_after_TBD_Y.json',\n",
       "       '4847_P_Asthma_M_after_Mil_Y.json',\n",
       "       '4847_P_Asthma_M_before_Mil_Y.json',\n",
       "       '4852_P_Asthma_F_before_TBD_Y.json',\n",
       "       '4854_P_Asthma_F_before_Mod_Y.json',\n",
       "       '4856_P_Asthma_M_after_Sev_Y.json',\n",
       "       '4866_P_Asthma_F_after_TBD_Y.json',\n",
       "       '4868_P_Asthma_F_after_Sev_Y.json',\n",
       "       '4868_P_Asthma_F_before_Sev_Y.json',\n",
       "       '4876_P_Asthma_M_after_Sev_Y.json', '4877_C_Na_M_Na_Na_Y.json',\n",
       "       '4878_C_Na_F_Na_Na_Y.json', '4880_C_Na_F_Na_Na_Y.json',\n",
       "       '4881_C_Na_M_Na_Na_Y.json', '4882_C_Na_M_Na_Na_Y.json',\n",
       "       '4883_C_Na_F_Na_Na_N.json', '4887_C_Na_M_Na_Na_Y.json',\n",
       "       '4890_C_Na_F_Na_Na_Y.json', '4905_C_Na_M_Na_Na_Y.json',\n",
       "       '4910_P_Asthma_F_after_TBD_N.json', '4911_C_Na_M_Na_Na_N.json',\n",
       "       '4922_P_Asthma_M_after_Mil_Y.json',\n",
       "       '4922_P_Asthma_M_before_Mil_Y.json',\n",
       "       '4940_P_Asthma_M_after_Mod_Y.json',\n",
       "       '4947_P_Asthma_M_after_Mod_Y.json',\n",
       "       '4947_P_Asthma_M_before_Mod_Y.json', '4950_C_Na_M_Na_Na_Y.json',\n",
       "       '4952_C_Na_M_Na_Na_Y.json', '4956_C_Na_M_Na_Na_N.json',\n",
       "       '4958_P_NAsthma_F_after_TBD_Y.json', '4964_C_Na_F_Na_Na_Y.json',\n",
       "       '4965_C_Na_F_Na_Na_Y.json', '4971_P_Asthma_M_after_Mod_Y.json',\n",
       "       '4971_P_Asthma_M_before_Mod_Y.json',\n",
       "       '4977_P_Asthma_M_after_TBD_Y.json', '4978_C_Na_F_Na_Na_Y.json',\n",
       "       '4983_P_Asthma_F_after_TBD_Y.json',\n",
       "       '4983_P_Asthma_F_before_TBD_Y.json', '4986_C_Na_F_Na_Na_Y.json',\n",
       "       '4988_C_Na_F_Na_Na_Y.json', '4991_P_Asthma_M_after_Sev_Y.json',\n",
       "       '4997_P_Asthma_M_before_Mod_Y.json'], dtype=object)"
      ]
     },
     "execution_count": 30,
     "metadata": {},
     "output_type": "execute_result"
    }
   ],
   "source": []
  },
  {
   "cell_type": "code",
   "execution_count": null,
   "metadata": {},
   "outputs": [],
   "source": []
  }
 ],
 "metadata": {
  "kernelspec": {
   "display_name": "Python 3",
   "language": "python",
   "name": "python3"
  },
  "language_info": {
   "codemirror_mode": {
    "name": "ipython",
    "version": 3
   },
   "file_extension": ".py",
   "mimetype": "text/x-python",
   "name": "python",
   "nbconvert_exporter": "python",
   "pygments_lexer": "ipython3",
   "version": "3.7.3"
  }
 },
 "nbformat": 4,
 "nbformat_minor": 2
}
