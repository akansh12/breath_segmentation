{
 "cells": [
  {
   "cell_type": "code",
   "execution_count": 1,
   "metadata": {},
   "outputs": [],
   "source": [
    "import pandas as pd\n",
    "import numpy as np\n",
    "import os\n",
    "from sklearn.utils import shuffle\n",
    "import sklearn \n",
    "from sklearn import svm, tree, linear_model, neighbors, naive_bayes, ensemble, discriminant_analysis, gaussian_process\n",
    "from xgboost import XGBClassifier\n",
    "\n",
    "from sklearn import metrics\n",
    "from sklearn.preprocessing import StandardScaler\n",
    "\n",
    "import random\n",
    "import warnings\n",
    "warnings.filterwarnings('ignore')\n",
    "\n",
    "from sklearn.model_selection import KFold\n",
    "from sklearn.model_selection import cross_validate\n",
    "from sklearn.model_selection import train_test_split\n",
    "\n",
    "import matplotlib.pyplot as plt\n",
    "\n"
   ]
  },
  {
   "cell_type": "code",
   "execution_count": 2,
   "metadata": {},
   "outputs": [],
   "source": [
    "from sklearn.metrics import roc_curve\n",
    "from sklearn.metrics import roc_auc_score\n",
    "\n"
   ]
  },
  {
   "cell_type": "code",
   "execution_count": 3,
   "metadata": {},
   "outputs": [],
   "source": [
    "from tqdm.auto import tqdm"
   ]
  },
  {
   "cell_type": "code",
   "execution_count": 4,
   "metadata": {},
   "outputs": [],
   "source": [
    "Data = pd.read_csv(\"./breath_csv_2/Breath.csv\")"
   ]
  },
  {
   "cell_type": "code",
   "execution_count": 6,
   "metadata": {},
   "outputs": [],
   "source": [
    "unique = np.unique(Data.iloc[:,73])\n",
    "asthmatic = np.array([i for i in unique if i.find(\"sthma\") != -1])\n",
    "B = pd.DataFrame()\n",
    "for i in asthmatic:\n",
    "    B = B.append(Data[Data.iloc[:,73] == i])\n",
    "B.iloc[:,72] = 1\n",
    "B.reset_index(inplace=True,drop=True )"
   ]
  },
  {
   "cell_type": "code",
   "execution_count": 7,
   "metadata": {},
   "outputs": [
    {
     "data": {
      "text/html": [
       "<div>\n",
       "<style scoped>\n",
       "    .dataframe tbody tr th:only-of-type {\n",
       "        vertical-align: middle;\n",
       "    }\n",
       "\n",
       "    .dataframe tbody tr th {\n",
       "        vertical-align: top;\n",
       "    }\n",
       "\n",
       "    .dataframe thead th {\n",
       "        text-align: right;\n",
       "    }\n",
       "</style>\n",
       "<table border=\"1\" class=\"dataframe\">\n",
       "  <thead>\n",
       "    <tr style=\"text-align: right;\">\n",
       "      <th></th>\n",
       "      <th>0</th>\n",
       "      <th>1</th>\n",
       "      <th>2</th>\n",
       "      <th>3</th>\n",
       "      <th>4</th>\n",
       "      <th>5</th>\n",
       "      <th>6</th>\n",
       "      <th>7</th>\n",
       "      <th>8</th>\n",
       "      <th>9</th>\n",
       "      <th>...</th>\n",
       "      <th>64</th>\n",
       "      <th>65</th>\n",
       "      <th>66</th>\n",
       "      <th>67</th>\n",
       "      <th>68</th>\n",
       "      <th>69</th>\n",
       "      <th>70</th>\n",
       "      <th>71</th>\n",
       "      <th>72</th>\n",
       "      <th>73</th>\n",
       "    </tr>\n",
       "  </thead>\n",
       "  <tbody>\n",
       "    <tr>\n",
       "      <th>0</th>\n",
       "      <td>-0.992360</td>\n",
       "      <td>-17.386529</td>\n",
       "      <td>-3.713637</td>\n",
       "      <td>-3.191119</td>\n",
       "      <td>5.859474</td>\n",
       "      <td>0.345634</td>\n",
       "      <td>-10.617331</td>\n",
       "      <td>-1.752087</td>\n",
       "      <td>2.475118</td>\n",
       "      <td>2.693879</td>\n",
       "      <td>...</td>\n",
       "      <td>11.000591</td>\n",
       "      <td>11.910034</td>\n",
       "      <td>13.120485</td>\n",
       "      <td>9.530460</td>\n",
       "      <td>8.976875</td>\n",
       "      <td>8.839848</td>\n",
       "      <td>13.681052</td>\n",
       "      <td>9.747090</td>\n",
       "      <td>1</td>\n",
       "      <td>4012_P_Asthma_F_after_Mil_Y.json</td>\n",
       "    </tr>\n",
       "    <tr>\n",
       "      <th>1</th>\n",
       "      <td>-1.523400</td>\n",
       "      <td>-18.528801</td>\n",
       "      <td>-3.163837</td>\n",
       "      <td>-6.871339</td>\n",
       "      <td>5.111507</td>\n",
       "      <td>-0.585330</td>\n",
       "      <td>-8.495219</td>\n",
       "      <td>0.488026</td>\n",
       "      <td>0.083253</td>\n",
       "      <td>-0.440658</td>\n",
       "      <td>...</td>\n",
       "      <td>9.600833</td>\n",
       "      <td>11.383878</td>\n",
       "      <td>11.788427</td>\n",
       "      <td>11.197872</td>\n",
       "      <td>8.518983</td>\n",
       "      <td>7.830064</td>\n",
       "      <td>10.458960</td>\n",
       "      <td>9.223463</td>\n",
       "      <td>1</td>\n",
       "      <td>4012_P_Asthma_F_after_Mil_Y.json</td>\n",
       "    </tr>\n",
       "    <tr>\n",
       "      <th>2</th>\n",
       "      <td>-1.411141</td>\n",
       "      <td>-20.331110</td>\n",
       "      <td>-1.113288</td>\n",
       "      <td>-6.023631</td>\n",
       "      <td>4.993796</td>\n",
       "      <td>0.388513</td>\n",
       "      <td>-7.779792</td>\n",
       "      <td>-0.079205</td>\n",
       "      <td>2.259564</td>\n",
       "      <td>1.239153</td>\n",
       "      <td>...</td>\n",
       "      <td>9.406953</td>\n",
       "      <td>10.682132</td>\n",
       "      <td>11.434059</td>\n",
       "      <td>8.112442</td>\n",
       "      <td>7.457294</td>\n",
       "      <td>7.759565</td>\n",
       "      <td>8.713331</td>\n",
       "      <td>7.292228</td>\n",
       "      <td>1</td>\n",
       "      <td>4012_P_Asthma_F_after_Mil_Y.json</td>\n",
       "    </tr>\n",
       "    <tr>\n",
       "      <th>3</th>\n",
       "      <td>-2.155340</td>\n",
       "      <td>-24.558919</td>\n",
       "      <td>-3.045152</td>\n",
       "      <td>-6.510205</td>\n",
       "      <td>6.475217</td>\n",
       "      <td>-3.859762</td>\n",
       "      <td>-8.772067</td>\n",
       "      <td>-1.342511</td>\n",
       "      <td>-0.905882</td>\n",
       "      <td>-0.410696</td>\n",
       "      <td>...</td>\n",
       "      <td>8.981799</td>\n",
       "      <td>13.038493</td>\n",
       "      <td>11.325451</td>\n",
       "      <td>9.754742</td>\n",
       "      <td>8.704969</td>\n",
       "      <td>8.122480</td>\n",
       "      <td>11.141158</td>\n",
       "      <td>8.056709</td>\n",
       "      <td>1</td>\n",
       "      <td>4012_P_Asthma_F_after_Mil_Y.json</td>\n",
       "    </tr>\n",
       "    <tr>\n",
       "      <th>4</th>\n",
       "      <td>-2.007399</td>\n",
       "      <td>-22.700796</td>\n",
       "      <td>-4.947997</td>\n",
       "      <td>-6.363454</td>\n",
       "      <td>6.387438</td>\n",
       "      <td>-2.575076</td>\n",
       "      <td>-7.979208</td>\n",
       "      <td>3.622297</td>\n",
       "      <td>1.294504</td>\n",
       "      <td>2.566039</td>\n",
       "      <td>...</td>\n",
       "      <td>9.235723</td>\n",
       "      <td>12.688381</td>\n",
       "      <td>10.722323</td>\n",
       "      <td>8.588885</td>\n",
       "      <td>8.292685</td>\n",
       "      <td>7.478709</td>\n",
       "      <td>12.817434</td>\n",
       "      <td>8.821254</td>\n",
       "      <td>1</td>\n",
       "      <td>4012_P_Asthma_F_after_Mil_Y.json</td>\n",
       "    </tr>\n",
       "    <tr>\n",
       "      <th>...</th>\n",
       "      <td>...</td>\n",
       "      <td>...</td>\n",
       "      <td>...</td>\n",
       "      <td>...</td>\n",
       "      <td>...</td>\n",
       "      <td>...</td>\n",
       "      <td>...</td>\n",
       "      <td>...</td>\n",
       "      <td>...</td>\n",
       "      <td>...</td>\n",
       "      <td>...</td>\n",
       "      <td>...</td>\n",
       "      <td>...</td>\n",
       "      <td>...</td>\n",
       "      <td>...</td>\n",
       "      <td>...</td>\n",
       "      <td>...</td>\n",
       "      <td>...</td>\n",
       "      <td>...</td>\n",
       "      <td>...</td>\n",
       "      <td>...</td>\n",
       "    </tr>\n",
       "    <tr>\n",
       "      <th>1473</th>\n",
       "      <td>-3.898049</td>\n",
       "      <td>-7.233605</td>\n",
       "      <td>-1.025047</td>\n",
       "      <td>-5.777293</td>\n",
       "      <td>-0.724047</td>\n",
       "      <td>-5.892306</td>\n",
       "      <td>4.370627</td>\n",
       "      <td>0.144697</td>\n",
       "      <td>10.008242</td>\n",
       "      <td>-2.132467</td>\n",
       "      <td>...</td>\n",
       "      <td>10.162204</td>\n",
       "      <td>11.357441</td>\n",
       "      <td>11.456590</td>\n",
       "      <td>11.242080</td>\n",
       "      <td>15.842389</td>\n",
       "      <td>9.685064</td>\n",
       "      <td>10.915464</td>\n",
       "      <td>12.693437</td>\n",
       "      <td>1</td>\n",
       "      <td>4992_P_Asthma_F_before_Sev_Y.json</td>\n",
       "    </tr>\n",
       "    <tr>\n",
       "      <th>1474</th>\n",
       "      <td>-4.285375</td>\n",
       "      <td>-8.433305</td>\n",
       "      <td>0.270769</td>\n",
       "      <td>-8.100339</td>\n",
       "      <td>3.341875</td>\n",
       "      <td>-9.133463</td>\n",
       "      <td>5.029009</td>\n",
       "      <td>-1.403047</td>\n",
       "      <td>8.877016</td>\n",
       "      <td>0.170385</td>\n",
       "      <td>...</td>\n",
       "      <td>10.009282</td>\n",
       "      <td>12.645159</td>\n",
       "      <td>10.762908</td>\n",
       "      <td>9.100924</td>\n",
       "      <td>12.699652</td>\n",
       "      <td>9.542287</td>\n",
       "      <td>8.789426</td>\n",
       "      <td>9.129319</td>\n",
       "      <td>1</td>\n",
       "      <td>4992_P_Asthma_F_before_Sev_Y.json</td>\n",
       "    </tr>\n",
       "    <tr>\n",
       "      <th>1475</th>\n",
       "      <td>-3.811823</td>\n",
       "      <td>-9.903934</td>\n",
       "      <td>-3.772771</td>\n",
       "      <td>-7.583742</td>\n",
       "      <td>-4.782840</td>\n",
       "      <td>-12.172118</td>\n",
       "      <td>3.788461</td>\n",
       "      <td>0.497483</td>\n",
       "      <td>5.728714</td>\n",
       "      <td>-1.118452</td>\n",
       "      <td>...</td>\n",
       "      <td>10.430437</td>\n",
       "      <td>18.370319</td>\n",
       "      <td>11.829051</td>\n",
       "      <td>12.468859</td>\n",
       "      <td>15.646574</td>\n",
       "      <td>10.682694</td>\n",
       "      <td>10.980994</td>\n",
       "      <td>12.933565</td>\n",
       "      <td>1</td>\n",
       "      <td>4992_P_Asthma_F_before_Sev_Y.json</td>\n",
       "    </tr>\n",
       "    <tr>\n",
       "      <th>1476</th>\n",
       "      <td>-3.923348</td>\n",
       "      <td>-7.312954</td>\n",
       "      <td>-0.023111</td>\n",
       "      <td>-11.368536</td>\n",
       "      <td>-4.578872</td>\n",
       "      <td>-10.603922</td>\n",
       "      <td>2.769039</td>\n",
       "      <td>-6.529305</td>\n",
       "      <td>8.070058</td>\n",
       "      <td>-1.383550</td>\n",
       "      <td>...</td>\n",
       "      <td>13.333003</td>\n",
       "      <td>15.144048</td>\n",
       "      <td>11.818425</td>\n",
       "      <td>13.294185</td>\n",
       "      <td>14.625092</td>\n",
       "      <td>10.264452</td>\n",
       "      <td>10.587764</td>\n",
       "      <td>10.356953</td>\n",
       "      <td>1</td>\n",
       "      <td>4992_P_Asthma_F_before_Sev_Y.json</td>\n",
       "    </tr>\n",
       "    <tr>\n",
       "      <th>1477</th>\n",
       "      <td>-4.325741</td>\n",
       "      <td>-9.400474</td>\n",
       "      <td>-0.250290</td>\n",
       "      <td>-9.928882</td>\n",
       "      <td>0.053183</td>\n",
       "      <td>-8.941279</td>\n",
       "      <td>3.830175</td>\n",
       "      <td>-1.425070</td>\n",
       "      <td>9.682014</td>\n",
       "      <td>1.396199</td>\n",
       "      <td>...</td>\n",
       "      <td>7.569943</td>\n",
       "      <td>13.178951</td>\n",
       "      <td>8.696331</td>\n",
       "      <td>8.755033</td>\n",
       "      <td>13.049641</td>\n",
       "      <td>8.728568</td>\n",
       "      <td>8.655873</td>\n",
       "      <td>11.864223</td>\n",
       "      <td>1</td>\n",
       "      <td>4992_P_Asthma_F_before_Sev_Y.json</td>\n",
       "    </tr>\n",
       "  </tbody>\n",
       "</table>\n",
       "<p>1478 rows × 74 columns</p>\n",
       "</div>"
      ],
      "text/plain": [
       "             0          1         2          3         4          5  \\\n",
       "0    -0.992360 -17.386529 -3.713637  -3.191119  5.859474   0.345634   \n",
       "1    -1.523400 -18.528801 -3.163837  -6.871339  5.111507  -0.585330   \n",
       "2    -1.411141 -20.331110 -1.113288  -6.023631  4.993796   0.388513   \n",
       "3    -2.155340 -24.558919 -3.045152  -6.510205  6.475217  -3.859762   \n",
       "4    -2.007399 -22.700796 -4.947997  -6.363454  6.387438  -2.575076   \n",
       "...        ...        ...       ...        ...       ...        ...   \n",
       "1473 -3.898049  -7.233605 -1.025047  -5.777293 -0.724047  -5.892306   \n",
       "1474 -4.285375  -8.433305  0.270769  -8.100339  3.341875  -9.133463   \n",
       "1475 -3.811823  -9.903934 -3.772771  -7.583742 -4.782840 -12.172118   \n",
       "1476 -3.923348  -7.312954 -0.023111 -11.368536 -4.578872 -10.603922   \n",
       "1477 -4.325741  -9.400474 -0.250290  -9.928882  0.053183  -8.941279   \n",
       "\n",
       "              6         7          8         9  ...         64         65  \\\n",
       "0    -10.617331 -1.752087   2.475118  2.693879  ...  11.000591  11.910034   \n",
       "1     -8.495219  0.488026   0.083253 -0.440658  ...   9.600833  11.383878   \n",
       "2     -7.779792 -0.079205   2.259564  1.239153  ...   9.406953  10.682132   \n",
       "3     -8.772067 -1.342511  -0.905882 -0.410696  ...   8.981799  13.038493   \n",
       "4     -7.979208  3.622297   1.294504  2.566039  ...   9.235723  12.688381   \n",
       "...         ...       ...        ...       ...  ...        ...        ...   \n",
       "1473   4.370627  0.144697  10.008242 -2.132467  ...  10.162204  11.357441   \n",
       "1474   5.029009 -1.403047   8.877016  0.170385  ...  10.009282  12.645159   \n",
       "1475   3.788461  0.497483   5.728714 -1.118452  ...  10.430437  18.370319   \n",
       "1476   2.769039 -6.529305   8.070058 -1.383550  ...  13.333003  15.144048   \n",
       "1477   3.830175 -1.425070   9.682014  1.396199  ...   7.569943  13.178951   \n",
       "\n",
       "             66         67         68         69         70         71  72  \\\n",
       "0     13.120485   9.530460   8.976875   8.839848  13.681052   9.747090   1   \n",
       "1     11.788427  11.197872   8.518983   7.830064  10.458960   9.223463   1   \n",
       "2     11.434059   8.112442   7.457294   7.759565   8.713331   7.292228   1   \n",
       "3     11.325451   9.754742   8.704969   8.122480  11.141158   8.056709   1   \n",
       "4     10.722323   8.588885   8.292685   7.478709  12.817434   8.821254   1   \n",
       "...         ...        ...        ...        ...        ...        ...  ..   \n",
       "1473  11.456590  11.242080  15.842389   9.685064  10.915464  12.693437   1   \n",
       "1474  10.762908   9.100924  12.699652   9.542287   8.789426   9.129319   1   \n",
       "1475  11.829051  12.468859  15.646574  10.682694  10.980994  12.933565   1   \n",
       "1476  11.818425  13.294185  14.625092  10.264452  10.587764  10.356953   1   \n",
       "1477   8.696331   8.755033  13.049641   8.728568   8.655873  11.864223   1   \n",
       "\n",
       "                                     73  \n",
       "0      4012_P_Asthma_F_after_Mil_Y.json  \n",
       "1      4012_P_Asthma_F_after_Mil_Y.json  \n",
       "2      4012_P_Asthma_F_after_Mil_Y.json  \n",
       "3      4012_P_Asthma_F_after_Mil_Y.json  \n",
       "4      4012_P_Asthma_F_after_Mil_Y.json  \n",
       "...                                 ...  \n",
       "1473  4992_P_Asthma_F_before_Sev_Y.json  \n",
       "1474  4992_P_Asthma_F_before_Sev_Y.json  \n",
       "1475  4992_P_Asthma_F_before_Sev_Y.json  \n",
       "1476  4992_P_Asthma_F_before_Sev_Y.json  \n",
       "1477  4992_P_Asthma_F_before_Sev_Y.json  \n",
       "\n",
       "[1478 rows x 74 columns]"
      ]
     },
     "execution_count": 7,
     "metadata": {},
     "output_type": "execute_result"
    }
   ],
   "source": [
    "B"
   ]
  },
  {
   "cell_type": "code",
   "execution_count": null,
   "metadata": {},
   "outputs": [],
   "source": []
  },
  {
   "cell_type": "markdown",
   "metadata": {},
   "source": [
    "### Experiment 1 Asthmatic "
   ]
  },
  {
   "cell_type": "markdown",
   "metadata": {},
   "source": [
    "#### 1.1 Before patients only"
   ]
  },
  {
   "cell_type": "code",
   "execution_count": 20,
   "metadata": {},
   "outputs": [],
   "source": [
    "C = pd.DataFrame()\n",
    "before = [i for i in unique if i.find(\"efore\") != -1]\n",
    "for i in before:\n",
    "    C = C.append(B[B.iloc[:,73] == i])\n",
    "male = [i for i in before if i.find(\"_M_\")!=-1]\n",
    "female = [i for i in before if i.find(\"_F_\")!=-1]"
   ]
  },
  {
   "cell_type": "code",
   "execution_count": 23,
   "metadata": {},
   "outputs": [],
   "source": [
    "D = pd.DataFrame()\n",
    "for i in female:\n",
    "    D = D.append(C[C.iloc[:,73] == i])\n",
    "D.iloc[:,72] = 0\n",
    "for i in male:\n",
    "    D= D.append(C[C.iloc[:,73] == i])\n",
    "    "
   ]
  },
  {
   "cell_type": "code",
   "execution_count": 29,
   "metadata": {},
   "outputs": [],
   "source": [
    "D.reset_index(drop=True, inplace=True)"
   ]
  },
  {
   "cell_type": "code",
   "execution_count": 30,
   "metadata": {},
   "outputs": [
    {
     "data": {
      "text/html": [
       "<div>\n",
       "<style scoped>\n",
       "    .dataframe tbody tr th:only-of-type {\n",
       "        vertical-align: middle;\n",
       "    }\n",
       "\n",
       "    .dataframe tbody tr th {\n",
       "        vertical-align: top;\n",
       "    }\n",
       "\n",
       "    .dataframe thead th {\n",
       "        text-align: right;\n",
       "    }\n",
       "</style>\n",
       "<table border=\"1\" class=\"dataframe\">\n",
       "  <thead>\n",
       "    <tr style=\"text-align: right;\">\n",
       "      <th></th>\n",
       "      <th>0</th>\n",
       "      <th>1</th>\n",
       "      <th>2</th>\n",
       "      <th>3</th>\n",
       "      <th>4</th>\n",
       "      <th>5</th>\n",
       "      <th>6</th>\n",
       "      <th>7</th>\n",
       "      <th>8</th>\n",
       "      <th>9</th>\n",
       "      <th>...</th>\n",
       "      <th>64</th>\n",
       "      <th>65</th>\n",
       "      <th>66</th>\n",
       "      <th>67</th>\n",
       "      <th>68</th>\n",
       "      <th>69</th>\n",
       "      <th>70</th>\n",
       "      <th>71</th>\n",
       "      <th>72</th>\n",
       "      <th>73</th>\n",
       "    </tr>\n",
       "  </thead>\n",
       "  <tbody>\n",
       "    <tr>\n",
       "      <th>1</th>\n",
       "      <td>-0.813140</td>\n",
       "      <td>-17.706572</td>\n",
       "      <td>-3.744230</td>\n",
       "      <td>-6.099452</td>\n",
       "      <td>6.050704</td>\n",
       "      <td>-1.579853</td>\n",
       "      <td>-9.543046</td>\n",
       "      <td>-2.005879</td>\n",
       "      <td>1.278881</td>\n",
       "      <td>2.499644</td>\n",
       "      <td>...</td>\n",
       "      <td>11.071443</td>\n",
       "      <td>17.039784</td>\n",
       "      <td>13.457822</td>\n",
       "      <td>12.112046</td>\n",
       "      <td>7.843983</td>\n",
       "      <td>8.580431</td>\n",
       "      <td>11.358987</td>\n",
       "      <td>8.953209</td>\n",
       "      <td>0</td>\n",
       "      <td>4012_P_Asthma_F_before_Mil_Y.json</td>\n",
       "    </tr>\n",
       "    <tr>\n",
       "      <th>115</th>\n",
       "      <td>-2.237005</td>\n",
       "      <td>-2.195928</td>\n",
       "      <td>-12.500357</td>\n",
       "      <td>7.147363</td>\n",
       "      <td>-9.542415</td>\n",
       "      <td>-16.041633</td>\n",
       "      <td>8.834962</td>\n",
       "      <td>-14.241280</td>\n",
       "      <td>7.799216</td>\n",
       "      <td>-5.986996</td>\n",
       "      <td>...</td>\n",
       "      <td>15.186548</td>\n",
       "      <td>18.459889</td>\n",
       "      <td>15.367375</td>\n",
       "      <td>17.146097</td>\n",
       "      <td>15.559636</td>\n",
       "      <td>12.253785</td>\n",
       "      <td>13.241594</td>\n",
       "      <td>9.830571</td>\n",
       "      <td>0</td>\n",
       "      <td>4477_P_Asthma_F_before_Mod_Y.json</td>\n",
       "    </tr>\n",
       "    <tr>\n",
       "      <th>264</th>\n",
       "      <td>-4.204104</td>\n",
       "      <td>-9.294133</td>\n",
       "      <td>1.501603</td>\n",
       "      <td>-8.387007</td>\n",
       "      <td>2.918850</td>\n",
       "      <td>-7.649338</td>\n",
       "      <td>6.928434</td>\n",
       "      <td>-7.296542</td>\n",
       "      <td>7.012939</td>\n",
       "      <td>-0.580156</td>\n",
       "      <td>...</td>\n",
       "      <td>8.454324</td>\n",
       "      <td>11.104448</td>\n",
       "      <td>11.931066</td>\n",
       "      <td>12.281170</td>\n",
       "      <td>10.969307</td>\n",
       "      <td>8.636217</td>\n",
       "      <td>9.102033</td>\n",
       "      <td>8.505884</td>\n",
       "      <td>0</td>\n",
       "      <td>4992_P_Asthma_F_before_Sev_Y.json</td>\n",
       "    </tr>\n",
       "    <tr>\n",
       "      <th>383</th>\n",
       "      <td>0.277610</td>\n",
       "      <td>-20.737433</td>\n",
       "      <td>1.700774</td>\n",
       "      <td>-2.918531</td>\n",
       "      <td>1.927008</td>\n",
       "      <td>-12.901967</td>\n",
       "      <td>-6.314430</td>\n",
       "      <td>-6.616913</td>\n",
       "      <td>-1.391299</td>\n",
       "      <td>1.198021</td>\n",
       "      <td>...</td>\n",
       "      <td>11.954476</td>\n",
       "      <td>16.723666</td>\n",
       "      <td>13.193205</td>\n",
       "      <td>15.212912</td>\n",
       "      <td>10.176293</td>\n",
       "      <td>10.898003</td>\n",
       "      <td>8.820803</td>\n",
       "      <td>9.376920</td>\n",
       "      <td>1</td>\n",
       "      <td>4346_P_Asthma_M_before_Sev_Y.json</td>\n",
       "    </tr>\n",
       "    <tr>\n",
       "      <th>327</th>\n",
       "      <td>0.532559</td>\n",
       "      <td>-20.872479</td>\n",
       "      <td>-0.298110</td>\n",
       "      <td>-0.090743</td>\n",
       "      <td>-1.140891</td>\n",
       "      <td>-4.516206</td>\n",
       "      <td>-3.101671</td>\n",
       "      <td>-5.929923</td>\n",
       "      <td>0.390253</td>\n",
       "      <td>0.639500</td>\n",
       "      <td>...</td>\n",
       "      <td>6.535178</td>\n",
       "      <td>12.881716</td>\n",
       "      <td>11.398566</td>\n",
       "      <td>11.289263</td>\n",
       "      <td>7.716521</td>\n",
       "      <td>7.507329</td>\n",
       "      <td>9.221777</td>\n",
       "      <td>7.867575</td>\n",
       "      <td>1</td>\n",
       "      <td>4185_P_Asthma_M_before_Mil_Y.json</td>\n",
       "    </tr>\n",
       "  </tbody>\n",
       "</table>\n",
       "<p>5 rows × 74 columns</p>\n",
       "</div>"
      ],
      "text/plain": [
       "            0          1          2         3         4          5         6  \\\n",
       "1   -0.813140 -17.706572  -3.744230 -6.099452  6.050704  -1.579853 -9.543046   \n",
       "115 -2.237005  -2.195928 -12.500357  7.147363 -9.542415 -16.041633  8.834962   \n",
       "264 -4.204104  -9.294133   1.501603 -8.387007  2.918850  -7.649338  6.928434   \n",
       "383  0.277610 -20.737433   1.700774 -2.918531  1.927008 -12.901967 -6.314430   \n",
       "327  0.532559 -20.872479  -0.298110 -0.090743 -1.140891  -4.516206 -3.101671   \n",
       "\n",
       "             7         8         9  ...         64         65         66  \\\n",
       "1    -2.005879  1.278881  2.499644  ...  11.071443  17.039784  13.457822   \n",
       "115 -14.241280  7.799216 -5.986996  ...  15.186548  18.459889  15.367375   \n",
       "264  -7.296542  7.012939 -0.580156  ...   8.454324  11.104448  11.931066   \n",
       "383  -6.616913 -1.391299  1.198021  ...  11.954476  16.723666  13.193205   \n",
       "327  -5.929923  0.390253  0.639500  ...   6.535178  12.881716  11.398566   \n",
       "\n",
       "            67         68         69         70        71  72  \\\n",
       "1    12.112046   7.843983   8.580431  11.358987  8.953209   0   \n",
       "115  17.146097  15.559636  12.253785  13.241594  9.830571   0   \n",
       "264  12.281170  10.969307   8.636217   9.102033  8.505884   0   \n",
       "383  15.212912  10.176293  10.898003   8.820803  9.376920   1   \n",
       "327  11.289263   7.716521   7.507329   9.221777  7.867575   1   \n",
       "\n",
       "                                    73  \n",
       "1    4012_P_Asthma_F_before_Mil_Y.json  \n",
       "115  4477_P_Asthma_F_before_Mod_Y.json  \n",
       "264  4992_P_Asthma_F_before_Sev_Y.json  \n",
       "383  4346_P_Asthma_M_before_Sev_Y.json  \n",
       "327  4185_P_Asthma_M_before_Mil_Y.json  \n",
       "\n",
       "[5 rows x 74 columns]"
      ]
     },
     "execution_count": 30,
     "metadata": {},
     "output_type": "execute_result"
    }
   ],
   "source": [
    "shuffle(D).head()"
   ]
  },
  {
   "cell_type": "code",
   "execution_count": 31,
   "metadata": {},
   "outputs": [],
   "source": [
    "def count(list_array, print_dist = True, ret = None):\n",
    "    Total = list_array\n",
    "    name = []\n",
    "    for i in Total:\n",
    "        name.append(i[:4])\n",
    "    unique = []\n",
    "    before_after = []\n",
    "    for i in Total:\n",
    "        if np.sum((np.array(name, dtype = int) == int(i[:4]))) == 1:\n",
    "            unique.append(i)\n",
    "        else:\n",
    "            before_after.append(i) \n",
    "\n",
    "    Asthmatic_Female = []\n",
    "    Asthmatic_Male = []\n",
    "    Healthy_Male = []\n",
    "    Healthy_Female = []\n",
    "    NAsthma = []\n",
    "    before = {\"male\" : [], \"female\" : []}\n",
    "    after = {\"male\" : [], \"female\" : []}\n",
    "    for file in unique:\n",
    "        if file.split(\"_\")[2] == 'Asthma' or file.split(\"_\")[2] == 'asthma' :\n",
    "            if file.find(\"_M_\")!=-1:\n",
    "                Asthmatic_Male.append(file)\n",
    "            if file.find(\"_F_\")!=-1:\n",
    "                Asthmatic_Female.append(file)\n",
    "        if file.split(\"_\")[2] == 'NAsthma':\n",
    "            NAsthma.append(file)\n",
    "        if file.find(\"_C_\")!=-1:\n",
    "            if file.find(\"_M_\")!=-1:\n",
    "                Healthy_Male.append(file)\n",
    "            if file.find(\"_F_\")!=-1:\n",
    "                Healthy_Female.append(file)\n",
    "\n",
    "    for file in before_after:\n",
    "            if file.find(\"efore\") != -1:\n",
    "                if file.find(\"_M_\") != -1 or file.find(\"_m_\")!=-1:\n",
    "                    before[\"male\"].append(file)\n",
    "                if file.find(\"_F_\")!=-1:\n",
    "                    before[\"female\"].append(file)\n",
    "            if file.find(\"fter\")!= -1:\n",
    "                if file.find(\"_M_\") != -1 or file.find(\"_m_\")!=-1:\n",
    "                    after[\"male\"].append(file)\n",
    "                if file.find(\"_F_\")!=-1:\n",
    "                    after[\"female\"].append(file)\n",
    "    if print_dist:\n",
    "        print(f\"Total = {len(Total)}\")\n",
    "        print(f\"Asthmatic_male = {len(Asthmatic_Male)+ len(before['male'])+len(after['male'])}\")\n",
    "        print(f\"Asthmatic_female = {len(Asthmatic_Female)+ len(before['female'])+len(after['female'])}\")\n",
    "        print(f\"Healthy_Male = {len(Healthy_Male)}\")\n",
    "        print(f\"Healthy_female = {len(Healthy_Female)}\")\n",
    "        print(f\"Asthmatic_male_unique = {len(Asthmatic_Male)}\")\n",
    "        print(f\"Asthmatic_female_unique = {len(Asthmatic_Female)}\")\n",
    "        print(f\"Before_after = {len(before_after)}\")\n",
    "        print(f\"Before_male = {len(before['male'])}\")\n",
    "        print(f\"Before_female = {len(before['female'])}\")\n",
    "        print(f\"after_male = {len(after['male'])}\")\n",
    "        print(f\"after_female = {len(after['female'])}\")\n",
    "        print(f\"NAsthma = {len(NAsthma)}\")\n",
    "        \n",
    "              \n",
    "    if ret != None:\n",
    "        D = {\"Total\": Total, \"Asthmatic_male\": Asthmatic_Male, \"Asthmatic_female\": Asthmatic_Female, \"Healthy_Male\": Healthy_Male,\n",
    "            \"Healthy_Female\": Healthy_Female, \"before_after\": before_after, \"before\": before, \"after\": after}\n",
    "        return D[ret]"
   ]
  },
  {
   "cell_type": "code",
   "execution_count": 32,
   "metadata": {},
   "outputs": [
    {
     "name": "stdout",
     "output_type": "stream",
     "text": [
      "Total = 67\n",
      "Asthmatic_male = 34\n",
      "Asthmatic_female = 27\n",
      "Healthy_Male = 0\n",
      "Healthy_female = 0\n",
      "Asthmatic_male_unique = 34\n",
      "Asthmatic_female_unique = 27\n",
      "Before_after = 0\n",
      "Before_male = 0\n",
      "Before_female = 0\n",
      "after_male = 0\n",
      "after_female = 0\n",
      "NAsthma = 6\n"
     ]
    }
   ],
   "source": [
    "count(list(np.unique(D.iloc[:,73])))"
   ]
  },
  {
   "cell_type": "code",
   "execution_count": 60,
   "metadata": {},
   "outputs": [],
   "source": [
    "male = shuffle(male)\n",
    "female = shuffle(female)\n",
    "for i in range(0,3):\n",
    "    Test = []\n",
    "    Test.append(list(np.concatenate((male[i*10:10+i*10],female[i*10:10+i*10]))))\n",
    "    Train = np.setdiff1d(before,Test)\n",
    "    np.savetxt(f\"./male_female_classification/Experiment_1/1.1/Train/train_{str(i)}.txt\", Train, '%s')\n",
    "    np.savetxt(f\"./male_female_classification/Experiment_1/1.1/Test/test_{str(i)}.txt\", Test[0], '%s')"
   ]
  },
  {
   "cell_type": "code",
   "execution_count": 138,
   "metadata": {},
   "outputs": [],
   "source": [
    "# Training and Testing\n",
    "# C = shuffle(C, random_state= 22) \n",
    "def experiment(dataframe, path, svm_c = 1, svm_gamma = 'auto', plot = True):\n",
    "    C = dataframe\n",
    "    Test_accuracy = []\n",
    "    Test_F1 = []\n",
    "    Train_accuracy = []\n",
    "    Train_F1 = []\n",
    "    AUC = []\n",
    "\n",
    "    FPR = []\n",
    "    TPR = []\n",
    "    THRESH = []\n",
    "\n",
    "    for i in tqdm(range(0,5)):\n",
    "        Train_dataframe = pd.DataFrame()\n",
    "        Test_dataframe = pd.DataFrame()\n",
    "        Train = np.loadtxt(f\"./male_female_classification/{path}/Train/train_{str(i)}.txt\", 'str')\n",
    "        Test = np.loadtxt(f\"./male_female_classification/{path}/Test/test_{str(i)}.txt\", 'str')\n",
    "\n",
    "        for j in range(0,len(Train)):\n",
    "            Train_dataframe = Train_dataframe.append(C[C.iloc[:,73] == Train[j]])\n",
    "\n",
    "        for j in range(0,len(Test)):\n",
    "            Test_dataframe = Test_dataframe.append(C[C.iloc[:,73] == Test[j]]) \n",
    "\n",
    "\n",
    "        Train_dataframe = shuffle(Train_dataframe, random_state= 42)\n",
    "\n",
    "        scaler = StandardScaler()\n",
    "        scaler.fit(C.iloc[:,:72])\n",
    "\n",
    "        X_train = pd.DataFrame(scaler.transform(Train_dataframe.iloc[:,:72]))\n",
    "        y_train = Train_dataframe.iloc[:,72]\n",
    "        X_test = pd.DataFrame(scaler.transform(Test_dataframe.iloc[:,:72]))\n",
    "        y_test = Test_dataframe.iloc[:,72]\n",
    "\n",
    "        X_train.reset_index(drop=True, inplace= True)\n",
    "        X_test.reset_index(drop=True, inplace= True)\n",
    "        y_train.reset_index(drop=True, inplace= True)\n",
    "        y_test.reset_index(drop=True, inplace= True)\n",
    "\n",
    "\n",
    "        model = svm.SVC(C = svm_c,gamma=svm_gamma, probability=True)\n",
    "        model.fit(X_train,y_train)\n",
    "\n",
    "        Train_accuracy.append(metrics.accuracy_score(y_train, model.predict(X_train)))\n",
    "        Test_accuracy.append(metrics.accuracy_score(y_test, model.predict(X_test)))\n",
    "\n",
    "        Train_F1.append(metrics.f1_score(y_train, model.predict(X_train)))\n",
    "        Test_F1.append(metrics.f1_score(y_test, model.predict(X_test))) \n",
    "\n",
    "        pred_prob = model.predict_proba(X_test)\n",
    "        fpr, tpr, thresh = roc_curve(y_test, pred_prob[:,1], pos_label=1)\n",
    "        auc_score = roc_auc_score(y_test, pred_prob[:,1])\n",
    "        FPR.append(fpr)\n",
    "        TPR.append(tpr)\n",
    "        THRESH.append(thresh)\n",
    "        AUC.append(auc_score)\n",
    "    if plot == True:\n",
    "        plt.style.use('seaborn')\n",
    "        color = ['orange', 'green', 'yellow', 'black', 'red']\n",
    "        for i in range(0, len(AUC)):\n",
    "            plt.plot(FPR[i], TPR[i], linestyle='--',color=color[i], label=f'model_{str(i)}_AUC:{AUC[i]}')\n",
    "\n",
    "        random_probs = [0 for i in range(len(y_test))]\n",
    "        p_fpr, p_tpr, _ = roc_curve(y_test, random_probs, pos_label=1)\n",
    "        plt.plot(p_fpr, p_tpr, linestyle='--', color='blue')\n",
    "        plt.title('ROC curve')\n",
    "        plt.xlabel('False Positive Rate')\n",
    "        plt.ylabel('True Positive rate')\n",
    "        plt.legend(loc='best')\n",
    "#         plt.savefig('ROC_Male_female_classification_',dpi=300)\n",
    "        plt.show();\n",
    "\n",
    "        print(f\"Mean Test Accuracy:{np.mean(Test_accuracy)*100}% with SD: {np.std(Test_accuracy)*100}%\")\n",
    "        print(f\"Mean Train Accuracy:{np.mean(Train_accuracy)*100}%\")\n",
    "        print(f\"Mean Test F1:{np.mean(Test_F1)*100}%\")\n",
    "        print(f\"Mean Test AUC:{np.mean(AUC)*100}%\")\n",
    "        \n",
    "    return Train_accuracy, Test_accuracy, FPR, TPR, THRESH, AUC, Test_F1"
   ]
  },
  {
   "cell_type": "code",
   "execution_count": 77,
   "metadata": {},
   "outputs": [
    {
     "data": {
      "application/vnd.jupyter.widget-view+json": {
       "model_id": "eedea9f1211846faa2966ed990848f46",
       "version_major": 2,
       "version_minor": 0
      },
      "text/plain": [
       "  0%|          | 0/3 [00:00<?, ?it/s]"
      ]
     },
     "metadata": {},
     "output_type": "display_data"
    },
    {
     "data": {
      "image/png": "[encoded data removed]",
      "text/plain": [
       "<Figure size 576x396 with 1 Axes>"
      ]
     },
     "metadata": {},
     "output_type": "display_data"
    },
    {
     "name": "stdout",
     "output_type": "stream",
     "text": [
      "Mean Test Accuracy:67.80425644316595% with SD: 1.1020899474133865%\n",
      "Mean Train Accuracy:99.83837220236977%\n",
      "Mean Test F1:70.01633986928105%\n",
      "Mean Test AUC:73.753444519916%\n"
     ]
    }
   ],
   "source": [
    "Train_accuracy, Test_accuracy, FPR, TPR, THRESH, AUC, Test_F1 = experiment(shuffle(D),'Experiment_1/1.1', svm_c=5)"
   ]
  },
  {
   "cell_type": "markdown",
   "metadata": {},
   "source": [
    "#### 1.2 After Patients M/F"
   ]
  },
  {
   "cell_type": "code",
   "execution_count": 78,
   "metadata": {},
   "outputs": [],
   "source": [
    "C = pd.DataFrame()\n",
    "after = [i for i in unique if i.find(\"fter\") != -1]\n",
    "for i in after:\n",
    "    C = C.append(B[B.iloc[:,73] == i])\n",
    "male = [i for i in after if i.find(\"_M_\")!=-1]\n",
    "female = [i for i in after if i.find(\"_F_\")!=-1]"
   ]
  },
  {
   "cell_type": "code",
   "execution_count": 79,
   "metadata": {},
   "outputs": [],
   "source": [
    "D = pd.DataFrame()\n",
    "for i in female:\n",
    "    D = D.append(C[C.iloc[:,73] == i])\n",
    "D.iloc[:,72] = 0\n",
    "for i in male:\n",
    "    D= D.append(C[C.iloc[:,73] == i])"
   ]
  },
  {
   "cell_type": "code",
   "execution_count": 81,
   "metadata": {},
   "outputs": [
    {
     "name": "stdout",
     "output_type": "stream",
     "text": [
      "Total = 101\n",
      "Asthmatic_male = 56\n",
      "Asthmatic_female = 41\n",
      "Healthy_Male = 0\n",
      "Healthy_female = 0\n",
      "Asthmatic_male_unique = 56\n",
      "Asthmatic_female_unique = 41\n",
      "Before_after = 0\n",
      "Before_male = 0\n",
      "Before_female = 0\n",
      "after_male = 0\n",
      "after_female = 0\n",
      "NAsthma = 4\n"
     ]
    }
   ],
   "source": [
    "count(list(np.unique(D.iloc[:,73])))"
   ]
  },
  {
   "cell_type": "code",
   "execution_count": 82,
   "metadata": {},
   "outputs": [],
   "source": [
    "male = shuffle(male)\n",
    "female = shuffle(female)\n",
    "for i in range(0,4):\n",
    "    Test = []\n",
    "    Test.append(list(np.concatenate((male[i*10:10+i*10],female[i*10:10+i*10]))))\n",
    "    Train = np.setdiff1d(after,Test)\n",
    "    np.savetxt(f\"./male_female_classification/Experiment_1/1.2/Train/train_{str(i)}.txt\", Train, '%s')\n",
    "    np.savetxt(f\"./male_female_classification/Experiment_1/1.2/Test/test_{str(i)}.txt\", Test[0], '%s')"
   ]
  },
  {
   "cell_type": "code",
   "execution_count": 86,
   "metadata": {},
   "outputs": [
    {
     "data": {
      "application/vnd.jupyter.widget-view+json": {
       "model_id": "2adedcc6ffd441d9b4686721d2e42501",
       "version_major": 2,
       "version_minor": 0
      },
      "text/plain": [
       "  0%|          | 0/4 [00:00<?, ?it/s]"
      ]
     },
     "metadata": {},
     "output_type": "display_data"
    },
    {
     "data": {
      "image/png": "[encoded data removed]",
      "text/plain": [
       "<Figure size 576x396 with 1 Axes>"
      ]
     },
     "metadata": {},
     "output_type": "display_data"
    },
    {
     "name": "stdout",
     "output_type": "stream",
     "text": [
      "Mean Test Accuracy:65.8744734151788% with SD: 3.1819117157762116%\n",
      "Mean Train Accuracy:96.62077255626129%\n",
      "Mean Test F1:69.41178635550256%\n",
      "Mean Test AUC:75.9098086213253%\n"
     ]
    }
   ],
   "source": [
    "Train_accuracy, Test_accuracy, FPR, TPR, THRESH, AUC, Test_F1 = experiment(shuffle(D),'Experiment_1/1.2')"
   ]
  },
  {
   "cell_type": "code",
   "execution_count": null,
   "metadata": {},
   "outputs": [],
   "source": []
  },
  {
   "cell_type": "markdown",
   "metadata": {},
   "source": [
    "#### 1.3 All astmatic"
   ]
  },
  {
   "cell_type": "code",
   "execution_count": 94,
   "metadata": {},
   "outputs": [],
   "source": [
    "male = [i for i in (np.unique(B.iloc[:,73])) if i.find(\"_M_\")!=-1]\n",
    "female = [i for i in (np.unique(B.iloc[:,73])) if i.find(\"_F_\")!=-1]"
   ]
  },
  {
   "cell_type": "code",
   "execution_count": 97,
   "metadata": {},
   "outputs": [],
   "source": [
    "D = pd.DataFrame()\n",
    "for i in female:\n",
    "    D = D.append(B[B.iloc[:,73] == i])\n",
    "D.iloc[:,72] = 0\n",
    "for i in male:\n",
    "    D= D.append(B[B.iloc[:,73] == i])"
   ]
  },
  {
   "cell_type": "code",
   "execution_count": 100,
   "metadata": {},
   "outputs": [
    {
     "name": "stdout",
     "output_type": "stream",
     "text": [
      "Total = 168\n",
      "Asthmatic_male = 90\n",
      "Asthmatic_female = 68\n",
      "Healthy_Male = 0\n",
      "Healthy_female = 0\n",
      "Asthmatic_male_unique = 46\n",
      "Asthmatic_female_unique = 28\n",
      "Before_after = 84\n",
      "Before_male = 22\n",
      "Before_female = 20\n",
      "after_male = 22\n",
      "after_female = 20\n",
      "NAsthma = 10\n"
     ]
    }
   ],
   "source": [
    "count(list(np.unique(D.iloc[:,73])))"
   ]
  },
  {
   "cell_type": "code",
   "execution_count": 101,
   "metadata": {},
   "outputs": [],
   "source": [
    "male = shuffle(male)\n",
    "female = shuffle(female)\n",
    "for i in range(0,4):\n",
    "    Test = []\n",
    "    Test.append(list(np.concatenate((male[i*15:15+i*15],female[i*15:15+i*15]))))\n",
    "    Train = np.setdiff1d(list(np.unique(D.iloc[:,73])),Test)\n",
    "    np.savetxt(f\"./male_female_classification/Experiment_1/1.3/Train/train_{str(i)}.txt\", Train, '%s')\n",
    "    np.savetxt(f\"./male_female_classification/Experiment_1/1.3/Test/test_{str(i)}.txt\", Test[0], '%s')"
   ]
  },
  {
   "cell_type": "code",
   "execution_count": 102,
   "metadata": {},
   "outputs": [
    {
     "data": {
      "application/vnd.jupyter.widget-view+json": {
       "model_id": "8824f5a754e044998b67497fd2611cc8",
       "version_major": 2,
       "version_minor": 0
      },
      "text/plain": [
       "  0%|          | 0/4 [00:00<?, ?it/s]"
      ]
     },
     "metadata": {},
     "output_type": "display_data"
    },
    {
     "data": {
      "image/png": "[encoded data removed]",
      "text/plain": [
       "<Figure size 576x396 with 1 Axes>"
      ]
     },
     "metadata": {},
     "output_type": "display_data"
    },
    {
     "name": "stdout",
     "output_type": "stream",
     "text": [
      "Mean Test Accuracy:72.51276853374486% with SD: 3.0402447500978735%\n",
      "Mean Train Accuracy:95.59639019536252%\n",
      "Mean Test F1:74.81885386495829%\n",
      "Mean Test AUC:80.58118786973345%\n"
     ]
    }
   ],
   "source": [
    "Train_accuracy, Test_accuracy, FPR, TPR, THRESH, AUC, Test_F1 = experiment(shuffle(D),'Experiment_1/1.3')"
   ]
  },
  {
   "cell_type": "code",
   "execution_count": null,
   "metadata": {},
   "outputs": [],
   "source": []
  },
  {
   "cell_type": "markdown",
   "metadata": {},
   "source": [
    "### Experiment_2: Healthy Controls"
   ]
  },
  {
   "cell_type": "code",
   "execution_count": 103,
   "metadata": {},
   "outputs": [],
   "source": [
    "unique = np.unique(Data.iloc[:,73])\n",
    "controls = np.array([i for i in unique if i.find(\"_C_\") != -1])\n",
    "B = pd.DataFrame()\n",
    "for i in controls:\n",
    "    B = B.append(Data[Data.iloc[:,73] == i])\n",
    "# B.iloc[:,72] = 1\n",
    "B.reset_index(inplace=True,drop=True )"
   ]
  },
  {
   "cell_type": "code",
   "execution_count": 107,
   "metadata": {},
   "outputs": [],
   "source": [
    "male = [i for i in (np.unique(B.iloc[:,73])) if i.find(\"_M_\")!=-1]\n",
    "female = [i for i in (np.unique(B.iloc[:,73])) if i.find(\"_F_\")!=-1]"
   ]
  },
  {
   "cell_type": "code",
   "execution_count": 113,
   "metadata": {},
   "outputs": [],
   "source": [
    "D = pd.DataFrame()\n",
    "for i in male:\n",
    "    D= D.append(B[B.iloc[:,73] == i])\n",
    "\n",
    "D.iloc[:,72] = 1\n",
    "\n",
    "for i in female:\n",
    "    D = D.append(B[B.iloc[:,73] == i])\n"
   ]
  },
  {
   "cell_type": "code",
   "execution_count": 116,
   "metadata": {},
   "outputs": [
    {
     "name": "stdout",
     "output_type": "stream",
     "text": [
      "Total = 106\n",
      "Asthmatic_male = 0\n",
      "Asthmatic_female = 0\n",
      "Healthy_Male = 55\n",
      "Healthy_female = 51\n",
      "Asthmatic_male_unique = 0\n",
      "Asthmatic_female_unique = 0\n",
      "Before_after = 0\n",
      "Before_male = 0\n",
      "Before_female = 0\n",
      "after_male = 0\n",
      "after_female = 0\n",
      "NAsthma = 0\n"
     ]
    }
   ],
   "source": [
    "count(list(np.unique(D.iloc[:,73])))"
   ]
  },
  {
   "cell_type": "code",
   "execution_count": 117,
   "metadata": {},
   "outputs": [],
   "source": [
    "male = shuffle(male)\n",
    "female = shuffle(female)\n",
    "for i in range(0,4):\n",
    "    Test = []\n",
    "    Test.append(list(np.concatenate((male[i*10:10+i*10],female[i*10:10+i*10]))))\n",
    "    Train = np.setdiff1d(list(np.unique(D.iloc[:,73])),Test)\n",
    "    np.savetxt(f\"./male_female_classification/Experiment_2/Train/train_{str(i)}.txt\", Train, '%s')\n",
    "    np.savetxt(f\"./male_female_classification/Experiment_2/Test/test_{str(i)}.txt\", Test[0], '%s')"
   ]
  },
  {
   "cell_type": "code",
   "execution_count": 123,
   "metadata": {},
   "outputs": [
    {
     "data": {
      "application/vnd.jupyter.widget-view+json": {
       "model_id": "2035899a332e44f6b90f8020fe581c75",
       "version_major": 2,
       "version_minor": 0
      },
      "text/plain": [
       "  0%|          | 0/4 [00:00<?, ?it/s]"
      ]
     },
     "metadata": {},
     "output_type": "display_data"
    },
    {
     "data": {
      "image/png": "[encoded data removed]",
      "text/plain": [
       "<Figure size 576x396 with 1 Axes>"
      ]
     },
     "metadata": {},
     "output_type": "display_data"
    },
    {
     "name": "stdout",
     "output_type": "stream",
     "text": [
      "Mean Test Accuracy:80.05451694980933% with SD: 5.6261606228145755%\n",
      "Mean Train Accuracy:97.75083668837901%\n",
      "Mean Test F1:80.0126297699604%\n",
      "Mean Test AUC:87.09478530763118%\n"
     ]
    }
   ],
   "source": [
    "Train_accuracy, Test_accuracy, FPR, TPR, THRESH, AUC, Test_F1 = experiment(shuffle(D),'Experiment_2/', svm_c = 1)"
   ]
  },
  {
   "cell_type": "code",
   "execution_count": null,
   "metadata": {},
   "outputs": [],
   "source": []
  },
  {
   "cell_type": "code",
   "execution_count": null,
   "metadata": {},
   "outputs": [],
   "source": []
  },
  {
   "cell_type": "markdown",
   "metadata": {},
   "source": [
    "### Experiment 3 Taking both Asthmatic and Healthy Patients"
   ]
  },
  {
   "cell_type": "code",
   "execution_count": 126,
   "metadata": {},
   "outputs": [],
   "source": [
    "unique = np.unique(Data.iloc[:,73])\n",
    "male = [i for i in unique if i.find(\"_M_\")!=-1]\n",
    "female = [i for i in unique if i.find(\"_F_\")!=-1]"
   ]
  },
  {
   "cell_type": "code",
   "execution_count": 132,
   "metadata": {},
   "outputs": [],
   "source": [
    "Data.iloc[:,72] = 0\n",
    "D = pd.DataFrame()\n",
    "for i in male:\n",
    "    D= D.append(Data[Data.iloc[:,73] == i])\n",
    "\n",
    "D.iloc[:,72] = 1\n",
    "\n",
    "for i in female:\n",
    "    D = D.append(Data[Data.iloc[:,73] == i])\n"
   ]
  },
  {
   "cell_type": "code",
   "execution_count": 146,
   "metadata": {},
   "outputs": [],
   "source": [
    "male = shuffle(male)\n",
    "female = shuffle(female)\n",
    "for i in range(0,5):\n",
    "    Test = []\n",
    "    Test.append(list(np.concatenate((male[i*20:20+i*20],female[i*20:20+i*20]))))\n",
    "    Train = np.setdiff1d(list(np.unique(D.iloc[:,73])),Test)\n",
    "    np.savetxt(f\"./male_female_classification/Experiment_3/Train/train_{str(i)}.txt\", Train, '%s')\n",
    "    np.savetxt(f\"./male_female_classification/Experiment_3/Test/test_{str(i)}.txt\", Test[0], '%s')"
   ]
  },
  {
   "cell_type": "code",
   "execution_count": 151,
   "metadata": {},
   "outputs": [
    {
     "data": {
      "application/vnd.jupyter.widget-view+json": {
       "model_id": "12c504e32b154d2382e8079c33ead2a0",
       "version_major": 2,
       "version_minor": 0
      },
      "text/plain": [
       "  0%|          | 0/5 [00:00<?, ?it/s]"
      ]
     },
     "metadata": {},
     "output_type": "display_data"
    },
    {
     "data": {
      "image/png": "[encoded data removed]",
      "text/plain": [
       "<Figure size 576x396 with 1 Axes>"
      ]
     },
     "metadata": {},
     "output_type": "display_data"
    },
    {
     "name": "stdout",
     "output_type": "stream",
     "text": [
      "Mean Test Accuracy:77.0560016072675% with SD: 4.376904389416521%\n",
      "Mean Train Accuracy:92.42242440554296%\n",
      "Mean Test F1:78.7189337838739%\n",
      "Mean Test AUC:86.87091697720275%\n"
     ]
    }
   ],
   "source": [
    "Train_accuracy, Test_accuracy, FPR, TPR, THRESH, AUC, Test_F1 = experiment(shuffle(D),'Experiment_3/', svm_c = 0.5)"
   ]
  },
  {
   "cell_type": "code",
   "execution_count": null,
   "metadata": {},
   "outputs": [],
   "source": []
  }
 ],
 "metadata": {
  "kernelspec": {
   "display_name": "Python 3",
   "language": "python",
   "name": "python3"
  },
  "language_info": {
   "codemirror_mode": {
    "name": "ipython",
    "version": 3
   },
   "file_extension": ".py",
   "mimetype": "text/x-python",
   "name": "python",
   "nbconvert_exporter": "python",
   "pygments_lexer": "ipython3",
   "version": "3.7.3"
  }
 },
 "nbformat": 4,
 "nbformat_minor": 2
}
